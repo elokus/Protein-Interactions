{
 "cells": [
  {
   "cell_type": "markdown",
   "source": [
    "# Brain Tumor Classification"
   ],
   "metadata": {
    "collapsed": false,
    "pycharm": {
     "name": "#%% md\n"
    }
   }
  },
  {
   "cell_type": "code",
   "execution_count": 1,
   "outputs": [],
   "source": [
    "import numpy as np\n",
    "import pandas as pd\n",
    "import matplotlib.pyplot as plt\n",
    "\n",
    "import tensorflow as tf\n",
    "from tensorflow import keras\n",
    "from tensorflow.keras import layers\n",
    "from tensorflow.keras.models import Sequential\n",
    "from tensorflow.keras.layers import Conv2D, MaxPooling2D, Dense, Flatten\n",
    "from tensorflow.keras.metrics import BinaryAccuracy, Precision, Recall"
   ],
   "metadata": {
    "collapsed": false,
    "pycharm": {
     "name": "#%%\n"
    }
   }
  },
  {
   "cell_type": "code",
   "execution_count": 16,
   "outputs": [
    {
     "name": "stdout",
     "output_type": "stream",
     "text": [
      "Found 253 files belonging to 2 classes.\n"
     ]
    }
   ],
   "source": [
    "data = keras.utils.image_dataset_from_directory(\"./input/\")"
   ],
   "metadata": {
    "collapsed": false,
    "pycharm": {
     "name": "#%%\n"
    }
   }
  },
  {
   "cell_type": "code",
   "execution_count": 7,
   "outputs": [],
   "source": [
    "batch = data.as_numpy_iterator().next()"
   ],
   "metadata": {
    "collapsed": false,
    "pycharm": {
     "name": "#%%\n"
    }
   }
  },
  {
   "cell_type": "code",
   "execution_count": 19,
   "outputs": [
    {
     "data": {
      "text/plain": "<Figure size 1080x720 with 15 Axes>",
      "image/png": "[encoded data removed]"
     },
     "metadata": {
      "needs_background": "light"
     },
     "output_type": "display_data"
    }
   ],
   "source": [
    "fig, ax = plt.subplots(3, 5, figsize=(15,10))\n",
    "ax = ax.flatten()\n",
    "\n",
    "for idx, img in enumerate(batch[0][:15]):\n",
    "    ax[idx].imshow(img.astype(int))\n",
    "    ax[idx].title.set_text(batch[1][idx])"
   ],
   "metadata": {
    "collapsed": false,
    "pycharm": {
     "name": "#%%\n"
    }
   }
  },
  {
   "cell_type": "code",
   "execution_count": 17,
   "outputs": [],
   "source": [
    "data = data.map(lambda x, y: (x/255, y))\n",
    "batch = data.as_numpy_iterator().next()"
   ],
   "metadata": {
    "collapsed": false,
    "pycharm": {
     "name": "#%%\n"
    }
   }
  },
  {
   "cell_type": "code",
   "execution_count": 22,
   "outputs": [
    {
     "name": "stdout",
     "output_type": "stream",
     "text": [
      "Min value 0.0\n",
      "Max value 1.0\n",
      "There are 8 batches in our data\n"
     ]
    }
   ],
   "source": [
    "print(f\"Min value {batch[0].min()}\")\n",
    "print(f\"Max value {batch[0].max()}\")\n",
    "print(f\"There are {len(data)} batches in our data\")"
   ],
   "metadata": {
    "collapsed": false,
    "pycharm": {
     "name": "#%%\n"
    }
   }
  },
  {
   "cell_type": "code",
   "execution_count": 28,
   "outputs": [],
   "source": [
    "train_size = int(len(data)*0.6)\n",
    "val_size = int(len(data)*0.2) +1\n",
    "test_size = int(len(data)*0.2) +1"
   ],
   "metadata": {
    "collapsed": false,
    "pycharm": {
     "name": "#%%\n"
    }
   }
  },
  {
   "cell_type": "code",
   "execution_count": 33,
   "outputs": [],
   "source": [
    "train = data.take(4)\n",
    "val = data.skip(4).take(2)\n",
    "test = data.skip(6).take(2)"
   ],
   "metadata": {
    "collapsed": false,
    "pycharm": {
     "name": "#%%\n"
    }
   }
  },
  {
   "cell_type": "code",
   "execution_count": 31,
   "outputs": [
    {
     "data": {
      "text/plain": "4"
     },
     "execution_count": 31,
     "metadata": {},
     "output_type": "execute_result"
    }
   ],
   "source": [],
   "metadata": {
    "collapsed": false,
    "pycharm": {
     "name": "#%%\n"
    }
   }
  },
  {
   "cell_type": "markdown",
   "source": [
    "# Define Model"
   ],
   "metadata": {
    "collapsed": false,
    "pycharm": {
     "name": "#%% md\n"
    }
   }
  },
  {
   "cell_type": "code",
   "execution_count": 77,
   "outputs": [],
   "source": [
    "data_augmentation = Sequential([\n",
    "    layers.RandomFlip(\"horizontal_and_vertical\", input_shape=(256, 256, 3)),\n",
    "    layers.RandomZoom(0.2),\n",
    "    layers.RandomContrast(0.2),\n",
    "    layers.RandomRotation(0.2)])\n",
    "\n",
    "model = Sequential([\n",
    "    data_augmentation,\n",
    "    Conv2D(16, (3,3), 1, activation=\"relu\", padding=\"same\"),\n",
    "    Conv2D(16, (3,3), 1, activation=\"relu\", padding=\"same\"),\n",
    "    MaxPooling2D(),\n",
    "    Conv2D(32, (5,5), 1, activation=\"relu\", padding=\"same\"),\n",
    "    Conv2D(32, (5,5), 1, activation=\"relu\", padding=\"same\"),\n",
    "    MaxPooling2D(),\n",
    "    Conv2D(64, (5,5), 1, activation=\"relu\", padding=\"same\"),\n",
    "    Conv2D(64, (5,5), 1, activation=\"relu\", padding=\"same\"),\n",
    "    MaxPooling2D(),\n",
    "    Conv2D(32, (3,3), 1, activation=\"relu\", padding=\"same\"),\n",
    "    Conv2D(32, (3,3), 1, activation=\"relu\", padding=\"same\"),\n",
    "    MaxPooling2D(),\n",
    "\n",
    "    Flatten(),\n",
    "    Dense(128, activation=\"relu\"),\n",
    "    Dense(1, activation=\"sigmoid\")\n",
    "])"
   ],
   "metadata": {
    "collapsed": false,
    "pycharm": {
     "name": "#%%\n"
    }
   }
  },
  {
   "cell_type": "markdown",
   "source": [
    "### Compile and fit Model"
   ],
   "metadata": {
    "collapsed": false,
    "pycharm": {
     "name": "#%% md\n"
    }
   }
  },
  {
   "cell_type": "code",
   "execution_count": 78,
   "outputs": [
    {
     "name": "stdout",
     "output_type": "stream",
     "text": [
      "Model: \"sequential_7\"\n",
      "_________________________________________________________________\n",
      " Layer (type)                Output Shape              Param #   \n",
      "=================================================================\n",
      " sequential_6 (Sequential)   (None, 256, 256, 3)       0         \n",
      "                                                                 \n",
      " conv2d_20 (Conv2D)          (None, 256, 256, 16)      448       \n",
      "                                                                 \n",
      " conv2d_21 (Conv2D)          (None, 256, 256, 16)      2320      \n",
      "                                                                 \n",
      " max_pooling2d_10 (MaxPoolin  (None, 128, 128, 16)     0         \n",
      " g2D)                                                            \n",
      "                                                                 \n",
      " conv2d_22 (Conv2D)          (None, 128, 128, 32)      12832     \n",
      "                                                                 \n",
      " conv2d_23 (Conv2D)          (None, 128, 128, 32)      25632     \n",
      "                                                                 \n",
      " max_pooling2d_11 (MaxPoolin  (None, 64, 64, 32)       0         \n",
      " g2D)                                                            \n",
      "                                                                 \n",
      " conv2d_24 (Conv2D)          (None, 64, 64, 64)        51264     \n",
      "                                                                 \n",
      " conv2d_25 (Conv2D)          (None, 64, 64, 64)        102464    \n",
      "                                                                 \n",
      " max_pooling2d_12 (MaxPoolin  (None, 32, 32, 64)       0         \n",
      " g2D)                                                            \n",
      "                                                                 \n",
      " conv2d_26 (Conv2D)          (None, 32, 32, 32)        18464     \n",
      "                                                                 \n",
      " conv2d_27 (Conv2D)          (None, 32, 32, 32)        9248      \n",
      "                                                                 \n",
      " max_pooling2d_13 (MaxPoolin  (None, 16, 16, 32)       0         \n",
      " g2D)                                                            \n",
      "                                                                 \n",
      " flatten_3 (Flatten)         (None, 8192)              0         \n",
      "                                                                 \n",
      " dense_7 (Dense)             (None, 128)               1048704   \n",
      "                                                                 \n",
      " dense_8 (Dense)             (None, 1)                 129       \n",
      "                                                                 \n",
      "=================================================================\n",
      "Total params: 1,271,505\n",
      "Trainable params: 1,271,505\n",
      "Non-trainable params: 0\n",
      "_________________________________________________________________\n"
     ]
    }
   ],
   "source": [
    "model.compile(optimizer=\"adam\", loss=keras.losses.BinaryCrossentropy(), metrics=[\"accuracy\", \"binary_accuracy\"])\n",
    "model.summary()"
   ],
   "metadata": {
    "collapsed": false,
    "pycharm": {
     "name": "#%%\n"
    }
   }
  },
  {
   "cell_type": "code",
   "execution_count": 79,
   "outputs": [
    {
     "name": "stdout",
     "output_type": "stream",
     "text": [
      "Epoch 1/15\n",
      "4/4 [==============================] - 2s 214ms/step - loss: 0.7343 - accuracy: 0.5781 - binary_accuracy: 0.5781 - val_loss: 0.6553 - val_accuracy: 0.5938 - val_binary_accuracy: 0.5938\n",
      "Epoch 2/15\n",
      "4/4 [==============================] - 1s 161ms/step - loss: 0.6743 - accuracy: 0.6016 - binary_accuracy: 0.6016 - val_loss: 0.6629 - val_accuracy: 0.6250 - val_binary_accuracy: 0.6250\n",
      "Epoch 3/15\n",
      "4/4 [==============================] - 1s 167ms/step - loss: 0.6543 - accuracy: 0.6641 - binary_accuracy: 0.6641 - val_loss: 0.6327 - val_accuracy: 0.6406 - val_binary_accuracy: 0.6406\n",
      "Epoch 4/15\n",
      "4/4 [==============================] - 1s 167ms/step - loss: 0.6613 - accuracy: 0.6328 - binary_accuracy: 0.6328 - val_loss: 0.5730 - val_accuracy: 0.6875 - val_binary_accuracy: 0.6875\n",
      "Epoch 5/15\n",
      "4/4 [==============================] - 1s 172ms/step - loss: 0.6366 - accuracy: 0.5938 - binary_accuracy: 0.5938 - val_loss: 0.6230 - val_accuracy: 0.7344 - val_binary_accuracy: 0.7344\n",
      "Epoch 6/15\n",
      "4/4 [==============================] - 1s 172ms/step - loss: 0.6457 - accuracy: 0.6562 - binary_accuracy: 0.6562 - val_loss: 0.5982 - val_accuracy: 0.6406 - val_binary_accuracy: 0.6406\n",
      "Epoch 7/15\n",
      "4/4 [==============================] - 1s 167ms/step - loss: 0.6462 - accuracy: 0.6328 - binary_accuracy: 0.6328 - val_loss: 0.6016 - val_accuracy: 0.6875 - val_binary_accuracy: 0.6875\n",
      "Epoch 8/15\n",
      "4/4 [==============================] - 1s 161ms/step - loss: 0.6410 - accuracy: 0.7188 - binary_accuracy: 0.7188 - val_loss: 0.6265 - val_accuracy: 0.7344 - val_binary_accuracy: 0.7344\n",
      "Epoch 9/15\n",
      "4/4 [==============================] - 1s 161ms/step - loss: 0.5813 - accuracy: 0.7578 - binary_accuracy: 0.7578 - val_loss: 0.5753 - val_accuracy: 0.6406 - val_binary_accuracy: 0.6406\n",
      "Epoch 10/15\n",
      "4/4 [==============================] - 1s 167ms/step - loss: 0.6078 - accuracy: 0.6797 - binary_accuracy: 0.6797 - val_loss: 0.5896 - val_accuracy: 0.7188 - val_binary_accuracy: 0.7188\n",
      "Epoch 11/15\n",
      "4/4 [==============================] - 1s 167ms/step - loss: 0.6301 - accuracy: 0.6797 - binary_accuracy: 0.6797 - val_loss: 0.6393 - val_accuracy: 0.6562 - val_binary_accuracy: 0.6562\n",
      "Epoch 12/15\n",
      "4/4 [==============================] - 1s 167ms/step - loss: 0.6513 - accuracy: 0.6016 - binary_accuracy: 0.6016 - val_loss: 0.5626 - val_accuracy: 0.8125 - val_binary_accuracy: 0.8125\n",
      "Epoch 13/15\n",
      "4/4 [==============================] - 1s 172ms/step - loss: 0.6027 - accuracy: 0.7031 - binary_accuracy: 0.7031 - val_loss: 0.5774 - val_accuracy: 0.7188 - val_binary_accuracy: 0.7188\n",
      "Epoch 14/15\n",
      "4/4 [==============================] - 1s 172ms/step - loss: 0.6319 - accuracy: 0.6875 - binary_accuracy: 0.6875 - val_loss: 0.5445 - val_accuracy: 0.7812 - val_binary_accuracy: 0.7812\n",
      "Epoch 15/15\n",
      "4/4 [==============================] - 1s 177ms/step - loss: 0.5835 - accuracy: 0.7500 - binary_accuracy: 0.7500 - val_loss: 0.5787 - val_accuracy: 0.7344 - val_binary_accuracy: 0.7344\n"
     ]
    }
   ],
   "source": [
    "history = model.fit(train, epochs=15, validation_data=val)"
   ],
   "metadata": {
    "collapsed": false,
    "pycharm": {
     "name": "#%%\n"
    }
   }
  },
  {
   "cell_type": "code",
   "execution_count": null,
   "outputs": [],
   "source": [],
   "metadata": {
    "collapsed": false,
    "pycharm": {
     "name": "#%%\n"
    }
   }
  },
  {
   "cell_type": "code",
   "execution_count": 67,
   "outputs": [],
   "source": [
    "batch = test.as_numpy_iterator().next()"
   ],
   "metadata": {
    "collapsed": false,
    "pycharm": {
     "name": "#%%\n"
    }
   }
  },
  {
   "cell_type": "code",
   "execution_count": 80,
   "outputs": [
    {
     "name": "stdout",
     "output_type": "stream",
     "text": [
      "Accuracy: 0.7090517 \n",
      "Recall: 0.7878788 \n",
      "Precision: 0.7027027\n"
     ]
    }
   ],
   "source": [
    "bin_acc = BinaryAccuracy()\n",
    "recall = Recall()\n",
    "precision = Precision()\n",
    "\n",
    "res = []\n",
    "pred = []\n",
    "yhats = []\n",
    "for batch in test.as_numpy_iterator():\n",
    "    X, y = batch\n",
    "    yhat = model.predict(X)\n",
    "    _y = 0 if yhat[0] <= 0.5 else 1\n",
    "    pred.append(_y)\n",
    "    yhats.append(yhat[0])\n",
    "    res.append(y)\n",
    "    bin_acc.update_state(y, yhat)\n",
    "    recall.update_state(y, yhat)\n",
    "    precision.update_state(y, yhat)\n",
    "\n",
    "print(\"Accuracy:\", bin_acc.result().numpy(), \"\\nRecall:\", recall.result().numpy(), \"\\nPrecision:\", precision.result().numpy())"
   ],
   "metadata": {
    "collapsed": false,
    "pycharm": {
     "name": "#%%\n"
    }
   }
  },
  {
   "cell_type": "code",
   "execution_count": 75,
   "outputs": [
    {
     "name": "stdout",
     "output_type": "stream",
     "text": [
      "[0 1 1 0 1 0 1 1 1 1 0 1 1 1 0 0 1 1 1 1 0 1 0 1 0 0 1 1 0]\n",
      "[0 1 1 0 0 1 1 1 1 0 0 1 1 1 0 0 0 1 1 1 0 1 0 1 0 0 0 1 1]\n"
     ]
    }
   ],
   "source": [
    "pred = []\n",
    "for _y in yhat:\n",
    "    pred.append(1 if _y > 0.5 else 0)\n",
    "print(np.array(pred))\n",
    "print(y)"
   ],
   "metadata": {
    "collapsed": false,
    "pycharm": {
     "name": "#%%\n"
    }
   }
  },
  {
   "cell_type": "code",
   "execution_count": 76,
   "outputs": [
    {
     "data": {
      "text/plain": "23"
     },
     "execution_count": 76,
     "metadata": {},
     "output_type": "execute_result"
    }
   ],
   "source": [
    "true = []\n",
    "for i in range(len(pred)):\n",
    "    if pred[i] == y[i]:\n",
    "        true.append(1)\n",
    "    else:\n",
    "        true.append(0)\n",
    "sum(true)"
   ],
   "metadata": {
    "collapsed": false,
    "pycharm": {
     "name": "#%%\n"
    }
   }
  },
  {
   "cell_type": "code",
   "execution_count": null,
   "outputs": [],
   "source": [
    "img, label = batch[0][15], batch[1][15]\n",
    "plt.imshow(img)\n",
    "if label==1:\n",
    "    plt.title(\"Brain with Tumor\")\n",
    "else:\n",
    "    plt.title(\"Brain with No Tumor\")\n",
    "plt.show()"
   ],
   "metadata": {
    "collapsed": false,
    "pycharm": {
     "name": "#%%\n"
    }
   }
  }
 ],
 "metadata": {
  "kernelspec": {
   "display_name": "Python 3",
   "language": "python",
   "name": "python3"
  },
  "language_info": {
   "codemirror_mode": {
    "name": "ipython",
    "version": 2
   },
   "file_extension": ".py",
   "mimetype": "text/x-python",
   "name": "python",
   "nbconvert_exporter": "python",
   "pygments_lexer": "ipython2",
   "version": "2.7.6"
  }
 },
 "nbformat": 4,
 "nbformat_minor": 0
}