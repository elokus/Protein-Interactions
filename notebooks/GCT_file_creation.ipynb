{
 "cells": [
  {
   "cell_type": "code",
   "execution_count": 1,
   "outputs": [],
   "source": [
    "import pandas as pd\n",
    "import numpy as np\n",
    "\n",
    "\n",
    "accession_number = \"NP_006658\""
   ],
   "metadata": {
    "collapsed": false,
    "pycharm": {
     "name": "#%%\n"
    }
   }
  },
  {
   "cell_type": "code",
   "execution_count": 2,
   "outputs": [],
   "source": [
    "prot_df = pd.read_excel(\"data/NIHMS778057-supplement-supp_table3.xlsx\", 1)\n",
    "prot_df = prot_df.rename(columns={\"accession_number\":\"GID\",\"geneName\":\"NAME\"})\n",
    "gct = prot_df.set_index(\"GID\", drop=True).iloc[:,9:].drop(\"Name\", axis=1)\n",
    "gct = gct.dropna(axis=0)\n",
    "pos_corr.append(*neg_corr)\n"
   ],
   "metadata": {
    "collapsed": false,
    "pycharm": {
     "name": "#%%\n"
    }
   }
  },
  {
   "cell_type": "code",
   "execution_count": 71,
   "outputs": [],
   "source": [
    "gct.to_csv(\"Proteomics_GCT_cleaned.csv\")"
   ],
   "metadata": {
    "collapsed": false,
    "pycharm": {
     "name": "#%%\n"
    }
   }
  },
  {
   "cell_type": "code",
   "execution_count": 74,
   "outputs": [
    {
     "data": {
      "text/plain": "              NAME  AO-A12D.01TCGA  C8-A131.01TCGA  AO-A12B.01TCGA  \\\nGID                                                                  \nNP_001887  CSNK2A2        0.486563        0.169071       -1.649244   \n\n           BH-A18Q.02TCGA  C8-A130.02TCGA  C8-A138.03TCGA  E2-A154.03TCGA  \\\nGID                                                                         \nNP_001887        0.539915       -0.011919       -0.124059       -0.066897   \n\n           C8-A12L.04TCGA  A2-A0EX.04TCGA  ...  AO-A12B.34TCGA  \\\nGID                                        ...                   \nNP_001887        0.952471       -0.334395  ...       -2.556956   \n\n           A2-A0SW.35TCGA  AO-A0JL.35TCGA  BH-A0BV.35TCGA  A2-A0YM.36TCGA  \\\nGID                                                                         \nNP_001887       -0.799739       -0.370417       -0.636062        0.974564   \n\n           BH-A0C7.36TCGA  A2-A0SX.36TCGA  263d3f-I.CPTAC  blcdb9-I.CPTAC  \\\nGID                                                                         \nNP_001887       -0.947152       -0.386643         0.20105        -0.07131   \n\n           c4155b-C.CPTAC  \nGID                        \nNP_001887       -0.228466  \n\n[1 rows x 84 columns]",
      "text/html": "<div>\n<style scoped>\n    .dataframe tbody tr th:only-of-type {\n        vertical-align: middle;\n    }\n\n    .dataframe tbody tr th {\n        vertical-align: top;\n    }\n\n    .dataframe thead th {\n        text-align: right;\n    }\n</style>\n<table border=\"1\" class=\"dataframe\">\n  <thead>\n    <tr style=\"text-align: right;\">\n      <th></th>\n      <th>NAME</th>\n      <th>AO-A12D.01TCGA</th>\n      <th>C8-A131.01TCGA</th>\n      <th>AO-A12B.01TCGA</th>\n      <th>BH-A18Q.02TCGA</th>\n      <th>C8-A130.02TCGA</th>\n      <th>C8-A138.03TCGA</th>\n      <th>E2-A154.03TCGA</th>\n      <th>C8-A12L.04TCGA</th>\n      <th>A2-A0EX.04TCGA</th>\n      <th>...</th>\n      <th>AO-A12B.34TCGA</th>\n      <th>A2-A0SW.35TCGA</th>\n      <th>AO-A0JL.35TCGA</th>\n      <th>BH-A0BV.35TCGA</th>\n      <th>A2-A0YM.36TCGA</th>\n      <th>BH-A0C7.36TCGA</th>\n      <th>A2-A0SX.36TCGA</th>\n      <th>263d3f-I.CPTAC</th>\n      <th>blcdb9-I.CPTAC</th>\n      <th>c4155b-C.CPTAC</th>\n    </tr>\n    <tr>\n      <th>GID</th>\n      <th></th>\n      <th></th>\n      <th></th>\n      <th></th>\n      <th></th>\n      <th></th>\n      <th></th>\n      <th></th>\n      <th></th>\n      <th></th>\n      <th></th>\n      <th></th>\n      <th></th>\n      <th></th>\n      <th></th>\n      <th></th>\n      <th></th>\n      <th></th>\n      <th></th>\n      <th></th>\n      <th></th>\n    </tr>\n  </thead>\n  <tbody>\n    <tr>\n      <th>NP_001887</th>\n      <td>CSNK2A2</td>\n      <td>0.486563</td>\n      <td>0.169071</td>\n      <td>-1.649244</td>\n      <td>0.539915</td>\n      <td>-0.011919</td>\n      <td>-0.124059</td>\n      <td>-0.066897</td>\n      <td>0.952471</td>\n      <td>-0.334395</td>\n      <td>...</td>\n      <td>-2.556956</td>\n      <td>-0.799739</td>\n      <td>-0.370417</td>\n      <td>-0.636062</td>\n      <td>0.974564</td>\n      <td>-0.947152</td>\n      <td>-0.386643</td>\n      <td>0.20105</td>\n      <td>-0.07131</td>\n      <td>-0.228466</td>\n    </tr>\n  </tbody>\n</table>\n<p>1 rows × 84 columns</p>\n</div>"
     },
     "execution_count": 74,
     "metadata": {},
     "output_type": "execute_result"
    }
   ],
   "source": [
    "gct[gct[\"NAME\"] == \"CSNK2A2\"]"
   ],
   "metadata": {
    "collapsed": false,
    "pycharm": {
     "name": "#%%\n"
    }
   }
  },
  {
   "cell_type": "code",
   "execution_count": 32,
   "outputs": [],
   "source": [
    "all_corr = pos_corr+neg_corr"
   ],
   "metadata": {
    "collapsed": false,
    "pycharm": {
     "name": "#%%\n"
    }
   }
  },
  {
   "cell_type": "code",
   "execution_count": 69,
   "outputs": [],
   "source": [
    "all_corr.append(\"PGRMC1\")\n"
   ],
   "metadata": {
    "collapsed": false,
    "pycharm": {
     "name": "#%%\n"
    }
   }
  },
  {
   "cell_type": "code",
   "execution_count": 98,
   "outputs": [
    {
     "data": {
      "text/plain": "['GOLGB1',\n 'UBR4',\n 'HUWE1',\n 'EIF3A',\n 'PRPF8',\n 'BAT2L2',\n 'TOP2B',\n 'IGF2R',\n 'ASCC3',\n 'SF3B1',\n 'SMG1',\n 'ITPR3',\n 'RRBP1',\n 'BAZ1B',\n 'SMARCA4',\n 'CUL4B',\n 'EPS15L1',\n 'GLG1',\n 'CANX',\n 'TCOF1',\n 'ATP2A2',\n 'ATP2A3',\n 'ATP2A1',\n 'CKAP4',\n 'TOP1',\n 'TOP1MT',\n 'EIF3C',\n 'EIF3CL',\n 'MARK2',\n 'ATP1A1',\n 'ATP1A2',\n 'ATP1A4',\n 'ATP4A',\n 'ESRP2',\n 'GOLGA5',\n 'RPN1',\n 'C10ORF118',\n 'SETX',\n 'ATP13A1',\n 'NFX1',\n 'NOP56',\n 'ACSL3',\n 'ATP2B1',\n 'ATP2B2',\n 'ATP2B3',\n 'HBE1',\n 'POR',\n 'ESYT2',\n 'SDCCAG1',\n 'CTAGE4',\n 'CTAGE1',\n 'CTAGE9',\n 'CNOT10',\n 'MTDH',\n 'TOR1AIP2',\n 'ATL3',\n 'ATL2',\n 'RPN2',\n 'LEMD3',\n 'SEC63',\n 'DNAJB12',\n 'NFXL1',\n 'PBXIP1',\n 'CTCF',\n 'SLC25A31',\n 'RPS4Y1',\n 'ABCC1',\n 'COPS4',\n 'TBL2',\n 'CWC22',\n 'PAK4',\n 'STIM1',\n 'GALNT2',\n 'LMAN1',\n 'GSK3B',\n 'SACM1L',\n 'SGPL1',\n 'RAB7A',\n 'SEL1L',\n 'RTN4',\n 'BCAP31',\n 'GALNT3',\n 'VAPA',\n 'VAPB',\n 'LEMD2',\n 'RAB3D',\n 'RAB6A',\n 'RAB8B',\n 'RAB35',\n 'RAB4A',\n 'RAB30',\n 'RAB6C',\n 'RAB33B',\n 'RAB15',\n 'RAB37',\n 'RAB14',\n 'RAB10',\n 'RAB1A',\n 'RAB8A',\n 'RAB12',\n 'RAB1B',\n 'RAB6B',\n 'ATP9A',\n 'ATP9B',\n 'ERMP1',\n 'TMEM57',\n 'CCDC47',\n 'PVRL4',\n 'HMOX2',\n 'TMEM214',\n 'SPINT1',\n 'SPTLC1',\n 'TM9SF2',\n 'SLC25A3',\n 'BAT5',\n 'LSR',\n 'GOLIM4',\n 'UBXN4',\n 'ADAM15',\n 'RAB2B',\n 'STT3B',\n 'PIGT',\n 'SMPD4',\n 'DDRGK1',\n 'NSDHL',\n 'TM9SF3',\n 'EMD',\n 'RPS5',\n 'NCLN',\n 'PREB',\n 'CLCC1',\n 'SLC25A1',\n 'TMEM63A',\n 'MLEC',\n 'PSMA5',\n 'STX5',\n 'ZMPSTE24',\n 'SRPRB',\n 'POLR2C',\n 'HSD17B12',\n 'IMPAD1',\n 'ATP6V0A2',\n 'ANO10',\n 'ZNF362',\n 'SEC62',\n 'RAB5A',\n 'C16ORF58',\n 'RDH11',\n 'C8ORF55',\n 'MTX1',\n 'RAB11A',\n 'TM9SF4',\n 'TMED2',\n 'ELMOD2',\n 'TMEM209',\n 'EIF1',\n 'EIF1B',\n 'MTCH2',\n 'SEC61A1',\n 'CLCN7',\n 'F11R',\n 'TECR',\n 'RTN3',\n 'AUP1',\n 'CRELD1',\n 'TRAPPC4',\n 'COX4I1',\n 'ALG5',\n 'CLPTM1',\n 'GGCX',\n 'TMEM48',\n 'TMEM87A',\n 'TMEM30A',\n 'ZFPL1',\n 'ERGIC3',\n 'AGPAT3',\n 'DUSP3',\n 'RNASEH2C',\n 'ALG1',\n 'REEP5',\n 'BCAP29',\n 'M6PR',\n 'TMEM63B',\n 'TMX1',\n 'USE1',\n 'VAMP7',\n 'ARL6IP5',\n 'C13ORF1',\n 'TMEM87B',\n 'SLC39A11',\n 'MGST3',\n 'TMEM33',\n 'SLC25A15',\n 'SEC11A',\n 'LASS2',\n 'TMEM165',\n 'KDSR',\n 'OXA1L',\n 'DHCR7',\n 'MBOAT7',\n 'HSPB11',\n 'TMX2',\n 'MAGT1',\n 'NDUFB6',\n 'SPINT2',\n 'TMEM120A',\n 'LCLAT1',\n 'C6ORF47',\n 'ALG9',\n 'C9ORF5',\n 'RER1',\n 'COX2',\n 'TMX4',\n 'SYVN1',\n 'CYB5B',\n 'SELS',\n 'GPR108',\n 'ARL6IP1',\n 'MPZL1',\n 'C6ORF89',\n 'RTN2',\n 'VAMP8',\n 'TMED1',\n 'SSR1',\n 'SLC16A3',\n 'C20ORF108',\n 'MMGT1',\n 'CD151',\n 'TMEM181',\n 'TRAM1',\n 'PTTG1IP',\n 'SURF4',\n 'C13ORF37',\n 'SLC39A7',\n 'SRD5A3',\n 'DERL1',\n 'RDH12',\n 'TMEM205',\n 'LMBRD1',\n 'YIPF5',\n 'TMEM41B',\n 'BET1',\n 'SEC61B',\n 'ELOVL1',\n 'JAGN1',\n 'VKORC1',\n 'SLC35A2',\n 'DPM3',\n 'CREB3L3',\n 'SAMD7',\n 'SCML4']"
     },
     "execution_count": 98,
     "metadata": {},
     "output_type": "execute_result"
    }
   ],
   "source": [
    "df = pd.read_csv(\"output/Correlating_Genes_0_5Pearson.csv\")\n",
    "high_corr = df[\"geneName\"].to_list()\n",
    "high_corr"
   ],
   "metadata": {
    "collapsed": false,
    "pycharm": {
     "name": "#%%\n"
    }
   }
  },
  {
   "cell_type": "code",
   "execution_count": 26,
   "outputs": [],
   "source": [
    "gct_pos = gct[gct[\"NAME\"].isin(pos_corr)]\n",
    "gct_neg = gct[gct[\"NAME\"].isin(neg_corr)]\n",
    "gct_neg.to_csv(\"output/GCT_negcor.csv\")\n",
    "gct_pos.to_csv(\"output/GCT_poscor.csv\")"
   ],
   "metadata": {
    "collapsed": false,
    "pycharm": {
     "name": "#%%\n"
    }
   }
  },
  {
   "cell_type": "code",
   "execution_count": null,
   "outputs": [],
   "source": [],
   "metadata": {
    "collapsed": false,
    "pycharm": {
     "name": "#%%\n"
    }
   }
  },
  {
   "cell_type": "code",
   "execution_count": 99,
   "outputs": [],
   "source": [
    "gct_corr = gct[gct[\"NAME\"].isin(high_corr)]\n",
    "gct_corr.to_csv(\"output/GCT_high_corr.csv\")"
   ],
   "metadata": {
    "collapsed": false,
    "pycharm": {
     "name": "#%%\n"
    }
   }
  },
  {
   "cell_type": "code",
   "execution_count": 28,
   "outputs": [],
   "source": [
    "from cmapPy.pandasGEXpress.parse_gct import parse\n",
    "from cmapPy.pandasGEXpress.write_gct import write"
   ],
   "metadata": {
    "collapsed": false,
    "pycharm": {
     "name": "#%%\n"
    }
   }
  },
  {
   "cell_type": "code",
   "execution_count": 29,
   "outputs": [],
   "source": [
    "data = parse(\"output/GenePatternResults/PosCorrProteinGSEA.gct\")\n",
    "df"
   ],
   "metadata": {
    "collapsed": false,
    "pycharm": {
     "name": "#%%\n"
    }
   }
  },
  {
   "cell_type": "code",
   "execution_count": 30,
   "outputs": [
    {
     "data": {
      "text/plain": "<cmapPy.pandasGEXpress.GCToo.GCToo at 0x2ec0c973fa0>"
     },
     "execution_count": 30,
     "metadata": {},
     "output_type": "execute_result"
    }
   ],
   "source": [
    "data"
   ],
   "metadata": {
    "collapsed": false,
    "pycharm": {
     "name": "#%%\n"
    }
   }
  },
  {
   "cell_type": "code",
   "execution_count": 42,
   "outputs": [],
   "source": [
    "subtypes = pd.read_csv(\"output/subtypes_sample.csv\").drop(\"patientID\", axis=1).set_index(\"sampleID\")\n",
    "subs = subtypes.replace([\"Her2\", \"Basal\", \"Luminal\",\"Normal\"],[0,1,2,3], inplace=True)"
   ],
   "metadata": {
    "collapsed": false,
    "pycharm": {
     "name": "#%%\n"
    }
   }
  },
  {
   "cell_type": "code",
   "execution_count": 48,
   "outputs": [],
   "source": [
    "sub_dict = subtypes.to_dict()\n",
    "subs = sub_dict[\"subtypes\"]"
   ],
   "metadata": {
    "collapsed": false,
    "pycharm": {
     "name": "#%%\n"
    }
   }
  },
  {
   "cell_type": "code",
   "execution_count": 52,
   "outputs": [],
   "source": [
    "classes = []\n",
    "for sample in gct_corr.columns[1:]:\n",
    "    if sample in subs:\n",
    "        classes.append(subs[sample])\n",
    "    else:\n",
    "        classes.append(3)\n",
    "\n",
    "class_df = pd.DataFrame(classes)"
   ],
   "metadata": {
    "collapsed": false,
    "pycharm": {
     "name": "#%%\n"
    }
   }
  },
  {
   "cell_type": "code",
   "execution_count": 56,
   "outputs": [],
   "source": [
    "class_df.T.to_csv(\"output/Classes.csv\")"
   ],
   "metadata": {
    "collapsed": false,
    "pycharm": {
     "name": "#%%\n"
    }
   }
  },
  {
   "cell_type": "code",
   "execution_count": 50,
   "outputs": [
    {
     "data": {
      "text/plain": "Index(['AO-A12D.01TCGA', 'C8-A131.01TCGA', 'AO-A12B.01TCGA', 'BH-A18Q.02TCGA',\n       'C8-A130.02TCGA', 'C8-A138.03TCGA', 'E2-A154.03TCGA', 'C8-A12L.04TCGA',\n       'A2-A0EX.04TCGA', 'AO-A12D.05TCGA', 'AN-A04A.05TCGA', 'BH-A0AV.05TCGA',\n       'C8-A12T.06TCGA', 'A8-A06Z.07TCGA', 'A2-A0CM.07TCGA', 'BH-A18U.08TCGA',\n       'A2-A0EQ.08TCGA', 'AR-A0U4.09TCGA', 'AO-A0J9.10TCGA', 'AR-A1AP.11TCGA',\n       'AN-A0FK.11TCGA', 'AO-A0J6.11TCGA', 'A7-A13F.12TCGA', 'BH-A0E1.12TCGA',\n       'A7-A0CE.13TCGA', 'A2-A0YC.13TCGA', 'AO-A0JC.14TCGA', 'A8-A08Z.14TCGA',\n       'AR-A0TX.14TCGA', 'A8-A076.15TCGA', 'AO-A126.15TCGA', 'BH-A0C1.16TCGA',\n       'A2-A0EY.16TCGA', 'AR-A1AW.17TCGA', 'AR-A1AV.17TCGA', 'C8-A135.17TCGA',\n       'A2-A0EV.18TCGA', 'AN-A0AM.18TCGA', 'D8-A142.18TCGA', 'AN-A0FL.19TCGA',\n       'BH-A0DG.19TCGA', 'AR-A0TV.20TCGA', 'C8-A12Z.20TCGA', 'AO-A0JJ.20TCGA',\n       'AO-A0JE.21TCGA', 'AN-A0AJ.21TCGA', 'A7-A0CJ.22TCGA', 'AO-A12F.22TCGA',\n       'A8-A079.23TCGA', 'A2-A0T3.24TCGA', 'A2-A0YD.24TCGA', 'AR-A0TR.25TCGA',\n       'AO-A03O.25TCGA', 'AO-A12E.26TCGA', 'A8-A06N.26TCGA', 'A2-A0YG.27TCGA',\n       'BH-A18N.27TCGA', 'AN-A0AL.28TCGA', 'A2-A0T6.29TCGA', 'E2-A158.29TCGA',\n       'E2-A15A.29TCGA', 'AO-A0JM.30TCGA', 'C8-A12V.30TCGA', 'A2-A0D2.31TCGA',\n       'C8-A12U.31TCGA', 'AR-A1AS.31TCGA', 'A8-A09G.32TCGA', 'C8-A131.32TCGA',\n       'C8-A134.32TCGA', 'A2-A0YF.33TCGA', 'BH-A0DD.33TCGA', 'BH-A0E9.33TCGA',\n       'AR-A0TT.34TCGA', 'AO-A12B.34TCGA', 'A2-A0SW.35TCGA', 'AO-A0JL.35TCGA',\n       'BH-A0BV.35TCGA', 'A2-A0YM.36TCGA', 'BH-A0C7.36TCGA', 'A2-A0SX.36TCGA',\n       '263d3f-I.CPTAC', 'blcdb9-I.CPTAC', 'c4155b-C.CPTAC'],\n      dtype='object')"
     },
     "execution_count": 50,
     "metadata": {},
     "output_type": "execute_result"
    }
   ],
   "source": [
    "gct_corr.columns[1:]"
   ],
   "metadata": {
    "collapsed": false,
    "pycharm": {
     "name": "#%%\n"
    }
   }
  },
  {
   "cell_type": "code",
   "execution_count": 61,
   "outputs": [],
   "source": [
    "gct_pgrmc1 = gct[gct[\"NAME\"]==\"PGRMC1\"].drop(\"NAME\", axis=1)"
   ],
   "metadata": {
    "collapsed": false,
    "pycharm": {
     "name": "#%%\n"
    }
   }
  },
  {
   "cell_type": "code",
   "execution_count": 62,
   "outputs": [],
   "source": [
    "gp = gct_pgrmc1.T"
   ],
   "metadata": {
    "collapsed": false,
    "pycharm": {
     "name": "#%%\n"
    }
   }
  },
  {
   "cell_type": "code",
   "execution_count": 68,
   "outputs": [],
   "source": [
    "gct_pgrmc1 = gct[gct[\"NAME\"]==\"PGRMC1\"].drop(\"NAME\", axis=1)\n",
    "gp = gct_pgrmc1.T\n",
    "upreg = gp.index[gp[\"NP_006658\"] > 0]\n",
    "dowreg = gp.index[gp[\"NP_006658\"] < 0]\n",
    "classes = []\n",
    "for sample in gct_corr.columns[1:]:\n",
    "    if sample in upreg:\n",
    "        classes.append(0)\n",
    "    elif sample in dowreg:\n",
    "        classes.append(1)\n",
    "    else:\n",
    "        print(\"not found \",sample)\n",
    "\n",
    "cls_updow = pd.DataFrame(classes)\n",
    "\n",
    "cls_updow.to_csv(\"output/cls_updown.csv\")"
   ],
   "metadata": {
    "collapsed": false,
    "pycharm": {
     "name": "#%%\n"
    }
   }
  },
  {
   "cell_type": "code",
   "execution_count": 66,
   "outputs": [
    {
     "data": {
      "text/plain": "Index(['AO-A12B.01TCGA', 'BH-A18Q.02TCGA', 'E2-A154.03TCGA', 'C8-A12L.04TCGA',\n       'A2-A0EX.04TCGA', 'BH-A0AV.05TCGA', 'C8-A12T.06TCGA', 'A8-A06Z.07TCGA',\n       'BH-A18U.08TCGA', 'A2-A0EQ.08TCGA', 'AR-A0U4.09TCGA', 'AO-A0J9.10TCGA',\n       'AN-A0FK.11TCGA', 'AO-A0J6.11TCGA', 'A7-A13F.12TCGA', 'BH-A0E1.12TCGA',\n       'A7-A0CE.13TCGA', 'A8-A08Z.14TCGA', 'AR-A0TX.14TCGA', 'A8-A076.15TCGA',\n       'BH-A0C1.16TCGA', 'AR-A1AW.17TCGA', 'AR-A1AV.17TCGA', 'A2-A0EV.18TCGA',\n       'AN-A0AM.18TCGA', 'D8-A142.18TCGA', 'AN-A0FL.19TCGA', 'AR-A0TV.20TCGA',\n       'C8-A12Z.20TCGA', 'AO-A0JJ.20TCGA', 'AN-A0AJ.21TCGA', 'A7-A0CJ.22TCGA',\n       'A8-A079.23TCGA', 'A2-A0T3.24TCGA', 'A2-A0YD.24TCGA', 'A8-A06N.26TCGA',\n       'AN-A0AL.28TCGA', 'A2-A0T6.29TCGA', 'E2-A15A.29TCGA', 'AO-A0JM.30TCGA',\n       'C8-A12V.30TCGA', 'C8-A12U.31TCGA', 'A8-A09G.32TCGA', 'C8-A131.32TCGA',\n       'C8-A134.32TCGA', 'A2-A0YF.33TCGA', 'BH-A0DD.33TCGA', 'BH-A0E9.33TCGA',\n       'AR-A0TT.34TCGA', 'AO-A12B.34TCGA', 'A2-A0SW.35TCGA', 'AO-A0JL.35TCGA',\n       'BH-A0BV.35TCGA', 'A2-A0YM.36TCGA', 'BH-A0C7.36TCGA', 'A2-A0SX.36TCGA',\n       '263d3f-I.CPTAC', 'blcdb9-I.CPTAC', 'c4155b-C.CPTAC'],\n      dtype='object')"
     },
     "execution_count": 66,
     "metadata": {},
     "output_type": "execute_result"
    }
   ],
   "source": [],
   "metadata": {
    "collapsed": false,
    "pycharm": {
     "name": "#%%\n"
    }
   }
  },
  {
   "cell_type": "code",
   "execution_count": 122,
   "outputs": [
    {
     "name": "stdout",
     "output_type": "stream",
     "text": [
      "AO-A12D.01TCGA    0.486563\n",
      "C8-A131.01TCGA    0.169071\n",
      "AO-A12B.01TCGA   -1.649244\n",
      "BH-A18Q.02TCGA    0.539915\n",
      "C8-A130.02TCGA   -0.011919\n",
      "                    ...   \n",
      "BH-A0C7.36TCGA   -0.947152\n",
      "A2-A0SX.36TCGA   -0.386643\n",
      "263d3f-I.CPTAC    0.201050\n",
      "blcdb9-I.CPTAC   -0.071310\n",
      "c4155b-C.CPTAC   -0.228466\n",
      "Name: CSNK2A2, Length: 83, dtype: float64\n"
     ]
    }
   ],
   "source": [
    "import importlib\n",
    "import helper_functions\n",
    "importlib.reload(helper_functions)\n",
    "import helper_functions as helper\n",
    "\n",
    "CSNK2_CLS_DICT = helper.get_samples_UpDown_regulating(gct.set_index(\"NAME\", drop=True), \"CSNK2A2\", save_to_csv=False, return_dict=True)"
   ],
   "metadata": {
    "collapsed": false,
    "pycharm": {
     "name": "#%%\n"
    }
   }
  },
  {
   "cell_type": "code",
   "execution_count": 93,
   "outputs": [],
   "source": [
    "CSNK2_CLS_DICT\n",
    "\n",
    "import json\n",
    "\n",
    "# Serialize data into file:\n",
    "json.dump(CSNK2_CLS_DICT, open( \"data/CSNK2_CLS.json\", 'w' ) )\n",
    "\n"
   ],
   "metadata": {
    "collapsed": false,
    "pycharm": {
     "name": "#%%\n"
    }
   }
  },
  {
   "cell_type": "code",
   "execution_count": 101,
   "outputs": [
    {
     "data": {
      "text/plain": "     geneName  AO-A12D.01TCGA  C8-A131.01TCGA  AO-A12B.01TCGA  E2-A10A.02TCGA  \\\n0        AAAS       -1.967715       -0.856806       -0.722268        0.915760   \n1        AAK1        0.348837        0.731615        0.922412       -3.234778   \n2       ABCF1       -1.672587       -0.549277       -1.016399       -1.328855   \n3        ABI1        1.037625        1.207672        1.804367       -6.996930   \n4        ABI2       -1.297460       -0.179990       -0.870430       -3.796328   \n...       ...             ...             ...             ...             ...   \n1831    ZNRF2        0.004134       -0.065296        0.086045       -2.955882   \n1832   ZRANB2        0.937447       -1.563450        2.983229       -2.842397   \n1833    ZRSR2       -0.638014       -0.922345        1.323938       -1.345713   \n1834      ZYX       -0.363426        1.329748       -0.479298       -2.422527   \n1835     ZZZ3       -0.168835        0.847208       -0.776623       -4.238754   \n\n      BH-A18Q.02TCGA  C8-A130.02TCGA  C8-A138.03TCGA  E2-A154.03TCGA  \\\n0           4.171504        1.252833       -2.613634        2.150529   \n1           0.319409        0.104248       -0.079256       -0.690370   \n2          -0.221126        0.311865       -0.043811       -0.048707   \n3           0.360444       -0.141749        0.201926       -0.248022   \n4          -0.755160        0.459321       -0.977373       -0.048143   \n...              ...             ...             ...             ...   \n1831       -1.648251       -1.568822       -1.647347        0.023001   \n1832        1.001690       -0.157578       -0.743734       -1.603135   \n1833       -1.425737        0.678005       -0.316918        0.741211   \n1834       -0.404484       -0.138536       -0.079936        0.124311   \n1835       -0.671212       -0.381677       -1.740168       -0.421928   \n\n      BH-A0BZ.03TCGA  ...  C8-A134.32TCGA  A2-A0YF.33TCGA  BH-A0DD.33TCGA  \\\n0          -0.311880  ...        0.711161        0.137948        2.419267   \n1          -4.511075  ...        0.710134       -0.230225       -0.161544   \n2          -1.556356  ...        0.441727       -1.236656       -0.176901   \n3          -7.461227  ...       -0.268380        0.626203        0.006788   \n4          -5.357977  ...        2.679823        0.881427        0.045261   \n...              ...  ...             ...             ...             ...   \n1831       -2.515285  ...       -0.960526       -0.849659       -1.483849   \n1832       -5.627897  ...        0.648892       -1.020733       -2.181894   \n1833       -0.787082  ...        0.763850       -1.557074        0.106365   \n1834       -3.316828  ...        1.512448       -0.423228       -0.780344   \n1835       -5.014893  ...        1.178179        0.168464       -1.453674   \n\n      BH-A0E9.33TCGA  AR-A0TT.34TCGA  AR-A1AQ.34TCGA  AO-A12B.34TCGA  \\\n0           2.235371       -0.696033        2.877390       -0.038773   \n1           0.708913       -0.001759       -2.222012        0.570832   \n2           0.193691        0.132752       -1.663820       -0.887491   \n3           0.282789        1.172411       -3.706673        1.532326   \n4           1.154323        1.054714       -2.896814       -0.955601   \n...              ...             ...             ...             ...   \n1831       -1.725951        0.789895       -2.251490        0.020514   \n1832       -1.905226       -0.574249       -1.851843        2.562787   \n1833       -1.732431        1.228808        0.097842        1.416576   \n1834        0.824624        0.684108       -2.045533       -0.718958   \n1835       -0.164318       -1.652322       -3.744435       -0.476366   \n\n      263d3f-I.CPTAC  blcdb9-I.CPTAC  c4155b-C.CPTAC  \n0           0.816994       -1.144616       -2.337940  \n1          -0.779213       -0.692628       -0.554810  \n2          -0.921257       -0.164086        0.233908  \n3          -0.317314        0.633994       -0.055454  \n4          -0.625928       -0.190853       -0.733718  \n...              ...             ...             ...  \n1831       -0.666804       -1.253868       -0.210552  \n1832       -1.055807       -1.609298       -1.069378  \n1833       -0.697461        1.049149       -0.395744  \n1834       -1.889579       -1.463006       -1.316741  \n1835       -1.061257        0.629624       -1.224476  \n\n[1836 rows x 84 columns]",
      "text/html": "<div>\n<style scoped>\n    .dataframe tbody tr th:only-of-type {\n        vertical-align: middle;\n    }\n\n    .dataframe tbody tr th {\n        vertical-align: top;\n    }\n\n    .dataframe thead th {\n        text-align: right;\n    }\n</style>\n<table border=\"1\" class=\"dataframe\">\n  <thead>\n    <tr style=\"text-align: right;\">\n      <th></th>\n      <th>geneName</th>\n      <th>AO-A12D.01TCGA</th>\n      <th>C8-A131.01TCGA</th>\n      <th>AO-A12B.01TCGA</th>\n      <th>E2-A10A.02TCGA</th>\n      <th>BH-A18Q.02TCGA</th>\n      <th>C8-A130.02TCGA</th>\n      <th>C8-A138.03TCGA</th>\n      <th>E2-A154.03TCGA</th>\n      <th>BH-A0BZ.03TCGA</th>\n      <th>...</th>\n      <th>C8-A134.32TCGA</th>\n      <th>A2-A0YF.33TCGA</th>\n      <th>BH-A0DD.33TCGA</th>\n      <th>BH-A0E9.33TCGA</th>\n      <th>AR-A0TT.34TCGA</th>\n      <th>AR-A1AQ.34TCGA</th>\n      <th>AO-A12B.34TCGA</th>\n      <th>263d3f-I.CPTAC</th>\n      <th>blcdb9-I.CPTAC</th>\n      <th>c4155b-C.CPTAC</th>\n    </tr>\n  </thead>\n  <tbody>\n    <tr>\n      <th>0</th>\n      <td>AAAS</td>\n      <td>-1.967715</td>\n      <td>-0.856806</td>\n      <td>-0.722268</td>\n      <td>0.915760</td>\n      <td>4.171504</td>\n      <td>1.252833</td>\n      <td>-2.613634</td>\n      <td>2.150529</td>\n      <td>-0.311880</td>\n      <td>...</td>\n      <td>0.711161</td>\n      <td>0.137948</td>\n      <td>2.419267</td>\n      <td>2.235371</td>\n      <td>-0.696033</td>\n      <td>2.877390</td>\n      <td>-0.038773</td>\n      <td>0.816994</td>\n      <td>-1.144616</td>\n      <td>-2.337940</td>\n    </tr>\n    <tr>\n      <th>1</th>\n      <td>AAK1</td>\n      <td>0.348837</td>\n      <td>0.731615</td>\n      <td>0.922412</td>\n      <td>-3.234778</td>\n      <td>0.319409</td>\n      <td>0.104248</td>\n      <td>-0.079256</td>\n      <td>-0.690370</td>\n      <td>-4.511075</td>\n      <td>...</td>\n      <td>0.710134</td>\n      <td>-0.230225</td>\n      <td>-0.161544</td>\n      <td>0.708913</td>\n      <td>-0.001759</td>\n      <td>-2.222012</td>\n      <td>0.570832</td>\n      <td>-0.779213</td>\n      <td>-0.692628</td>\n      <td>-0.554810</td>\n    </tr>\n    <tr>\n      <th>2</th>\n      <td>ABCF1</td>\n      <td>-1.672587</td>\n      <td>-0.549277</td>\n      <td>-1.016399</td>\n      <td>-1.328855</td>\n      <td>-0.221126</td>\n      <td>0.311865</td>\n      <td>-0.043811</td>\n      <td>-0.048707</td>\n      <td>-1.556356</td>\n      <td>...</td>\n      <td>0.441727</td>\n      <td>-1.236656</td>\n      <td>-0.176901</td>\n      <td>0.193691</td>\n      <td>0.132752</td>\n      <td>-1.663820</td>\n      <td>-0.887491</td>\n      <td>-0.921257</td>\n      <td>-0.164086</td>\n      <td>0.233908</td>\n    </tr>\n    <tr>\n      <th>3</th>\n      <td>ABI1</td>\n      <td>1.037625</td>\n      <td>1.207672</td>\n      <td>1.804367</td>\n      <td>-6.996930</td>\n      <td>0.360444</td>\n      <td>-0.141749</td>\n      <td>0.201926</td>\n      <td>-0.248022</td>\n      <td>-7.461227</td>\n      <td>...</td>\n      <td>-0.268380</td>\n      <td>0.626203</td>\n      <td>0.006788</td>\n      <td>0.282789</td>\n      <td>1.172411</td>\n      <td>-3.706673</td>\n      <td>1.532326</td>\n      <td>-0.317314</td>\n      <td>0.633994</td>\n      <td>-0.055454</td>\n    </tr>\n    <tr>\n      <th>4</th>\n      <td>ABI2</td>\n      <td>-1.297460</td>\n      <td>-0.179990</td>\n      <td>-0.870430</td>\n      <td>-3.796328</td>\n      <td>-0.755160</td>\n      <td>0.459321</td>\n      <td>-0.977373</td>\n      <td>-0.048143</td>\n      <td>-5.357977</td>\n      <td>...</td>\n      <td>2.679823</td>\n      <td>0.881427</td>\n      <td>0.045261</td>\n      <td>1.154323</td>\n      <td>1.054714</td>\n      <td>-2.896814</td>\n      <td>-0.955601</td>\n      <td>-0.625928</td>\n      <td>-0.190853</td>\n      <td>-0.733718</td>\n    </tr>\n    <tr>\n      <th>...</th>\n      <td>...</td>\n      <td>...</td>\n      <td>...</td>\n      <td>...</td>\n      <td>...</td>\n      <td>...</td>\n      <td>...</td>\n      <td>...</td>\n      <td>...</td>\n      <td>...</td>\n      <td>...</td>\n      <td>...</td>\n      <td>...</td>\n      <td>...</td>\n      <td>...</td>\n      <td>...</td>\n      <td>...</td>\n      <td>...</td>\n      <td>...</td>\n      <td>...</td>\n      <td>...</td>\n    </tr>\n    <tr>\n      <th>1831</th>\n      <td>ZNRF2</td>\n      <td>0.004134</td>\n      <td>-0.065296</td>\n      <td>0.086045</td>\n      <td>-2.955882</td>\n      <td>-1.648251</td>\n      <td>-1.568822</td>\n      <td>-1.647347</td>\n      <td>0.023001</td>\n      <td>-2.515285</td>\n      <td>...</td>\n      <td>-0.960526</td>\n      <td>-0.849659</td>\n      <td>-1.483849</td>\n      <td>-1.725951</td>\n      <td>0.789895</td>\n      <td>-2.251490</td>\n      <td>0.020514</td>\n      <td>-0.666804</td>\n      <td>-1.253868</td>\n      <td>-0.210552</td>\n    </tr>\n    <tr>\n      <th>1832</th>\n      <td>ZRANB2</td>\n      <td>0.937447</td>\n      <td>-1.563450</td>\n      <td>2.983229</td>\n      <td>-2.842397</td>\n      <td>1.001690</td>\n      <td>-0.157578</td>\n      <td>-0.743734</td>\n      <td>-1.603135</td>\n      <td>-5.627897</td>\n      <td>...</td>\n      <td>0.648892</td>\n      <td>-1.020733</td>\n      <td>-2.181894</td>\n      <td>-1.905226</td>\n      <td>-0.574249</td>\n      <td>-1.851843</td>\n      <td>2.562787</td>\n      <td>-1.055807</td>\n      <td>-1.609298</td>\n      <td>-1.069378</td>\n    </tr>\n    <tr>\n      <th>1833</th>\n      <td>ZRSR2</td>\n      <td>-0.638014</td>\n      <td>-0.922345</td>\n      <td>1.323938</td>\n      <td>-1.345713</td>\n      <td>-1.425737</td>\n      <td>0.678005</td>\n      <td>-0.316918</td>\n      <td>0.741211</td>\n      <td>-0.787082</td>\n      <td>...</td>\n      <td>0.763850</td>\n      <td>-1.557074</td>\n      <td>0.106365</td>\n      <td>-1.732431</td>\n      <td>1.228808</td>\n      <td>0.097842</td>\n      <td>1.416576</td>\n      <td>-0.697461</td>\n      <td>1.049149</td>\n      <td>-0.395744</td>\n    </tr>\n    <tr>\n      <th>1834</th>\n      <td>ZYX</td>\n      <td>-0.363426</td>\n      <td>1.329748</td>\n      <td>-0.479298</td>\n      <td>-2.422527</td>\n      <td>-0.404484</td>\n      <td>-0.138536</td>\n      <td>-0.079936</td>\n      <td>0.124311</td>\n      <td>-3.316828</td>\n      <td>...</td>\n      <td>1.512448</td>\n      <td>-0.423228</td>\n      <td>-0.780344</td>\n      <td>0.824624</td>\n      <td>0.684108</td>\n      <td>-2.045533</td>\n      <td>-0.718958</td>\n      <td>-1.889579</td>\n      <td>-1.463006</td>\n      <td>-1.316741</td>\n    </tr>\n    <tr>\n      <th>1835</th>\n      <td>ZZZ3</td>\n      <td>-0.168835</td>\n      <td>0.847208</td>\n      <td>-0.776623</td>\n      <td>-4.238754</td>\n      <td>-0.671212</td>\n      <td>-0.381677</td>\n      <td>-1.740168</td>\n      <td>-0.421928</td>\n      <td>-5.014893</td>\n      <td>...</td>\n      <td>1.178179</td>\n      <td>0.168464</td>\n      <td>-1.453674</td>\n      <td>-0.164318</td>\n      <td>-1.652322</td>\n      <td>-3.744435</td>\n      <td>-0.476366</td>\n      <td>-1.061257</td>\n      <td>0.629624</td>\n      <td>-1.224476</td>\n    </tr>\n  </tbody>\n</table>\n<p>1836 rows × 84 columns</p>\n</div>"
     },
     "execution_count": 101,
     "metadata": {},
     "output_type": "execute_result"
    }
   ],
   "source": [
    "phos = pd.read_csv(\"output/Phosphor_agg.csv\")\n",
    "phos"
   ],
   "metadata": {
    "collapsed": false,
    "pycharm": {
     "name": "#%%\n"
    }
   }
  },
  {
   "cell_type": "code",
   "execution_count": 117,
   "outputs": [],
   "source": [
    "df3 = gid_df\n",
    "gid_df = df3[~df3.index.duplicated(keep='first')]"
   ],
   "metadata": {
    "collapsed": false,
    "pycharm": {
     "name": "#%%\n"
    }
   }
  },
  {
   "cell_type": "code",
   "execution_count": 114,
   "outputs": [
    {
     "data": {
      "text/plain": "                GID\nNAME               \nPLEC      NP_958782\nPLEC      NP_958786\nPLEC      NP_958780\nPLEC      NP_958783\nNaN       NP_958785\n...             ...\nFKBP6     NP_003593\nOTUD6A    NP_997203\nCOX8A     NP_004065\nMIIP      NP_068752\nKIAA1737  NP_219494\n\n[12553 rows x 1 columns]",
      "text/html": "<div>\n<style scoped>\n    .dataframe tbody tr th:only-of-type {\n        vertical-align: middle;\n    }\n\n    .dataframe tbody tr th {\n        vertical-align: top;\n    }\n\n    .dataframe thead th {\n        text-align: right;\n    }\n</style>\n<table border=\"1\" class=\"dataframe\">\n  <thead>\n    <tr style=\"text-align: right;\">\n      <th></th>\n      <th>GID</th>\n    </tr>\n    <tr>\n      <th>NAME</th>\n      <th></th>\n    </tr>\n  </thead>\n  <tbody>\n    <tr>\n      <th>PLEC</th>\n      <td>NP_958782</td>\n    </tr>\n    <tr>\n      <th>PLEC</th>\n      <td>NP_958786</td>\n    </tr>\n    <tr>\n      <th>PLEC</th>\n      <td>NP_958780</td>\n    </tr>\n    <tr>\n      <th>PLEC</th>\n      <td>NP_958783</td>\n    </tr>\n    <tr>\n      <th>NaN</th>\n      <td>NP_958785</td>\n    </tr>\n    <tr>\n      <th>...</th>\n      <td>...</td>\n    </tr>\n    <tr>\n      <th>FKBP6</th>\n      <td>NP_003593</td>\n    </tr>\n    <tr>\n      <th>OTUD6A</th>\n      <td>NP_997203</td>\n    </tr>\n    <tr>\n      <th>COX8A</th>\n      <td>NP_004065</td>\n    </tr>\n    <tr>\n      <th>MIIP</th>\n      <td>NP_068752</td>\n    </tr>\n    <tr>\n      <th>KIAA1737</th>\n      <td>NP_219494</td>\n    </tr>\n  </tbody>\n</table>\n<p>12553 rows × 1 columns</p>\n</div>"
     },
     "execution_count": 114,
     "metadata": {},
     "output_type": "execute_result"
    }
   ],
   "source": [
    "gid_df = prot_df[[\"NAME\"]].reset_index()\n",
    "gid_df = gid_df.set_index(\"NAME\")\n",
    "df3 = gid_df\n",
    "gid_df = df3[~df3.index.duplicated(keep='first')]"
   ],
   "metadata": {
    "collapsed": false,
    "pycharm": {
     "name": "#%%\n"
    }
   }
  },
  {
   "cell_type": "code",
   "execution_count": 246,
   "outputs": [],
   "source": [
    "pf = phos.merge(gid_df, left_on=\"geneName\", right_index=True, how=\"left\")"
   ],
   "metadata": {
    "collapsed": false,
    "pycharm": {
     "name": "#%%\n"
    }
   }
  },
  {
   "cell_type": "code",
   "execution_count": 247,
   "outputs": [
    {
     "data": {
      "text/plain": "          AO-A12D.01TCGA  C8-A131.01TCGA  AO-A12B.01TCGA  E2-A10A.02TCGA  \\\ngeneName                                                                   \nAAAS           -1.967715       -0.856806       -0.722268        0.915760   \nAAK1            0.348837        0.731615        0.922412       -3.234778   \nABCF1          -1.672587       -0.549277       -1.016399       -1.328855   \nABI1            1.037625        1.207672        1.804367       -6.996930   \nABI2           -1.297460       -0.179990       -0.870430       -3.796328   \n...                  ...             ...             ...             ...   \nZNRF2           0.004134       -0.065296        0.086045       -2.955882   \nZRANB2          0.937447       -1.563450        2.983229       -2.842397   \nZRSR2          -0.638014       -0.922345        1.323938       -1.345713   \nZYX            -0.363426        1.329748       -0.479298       -2.422527   \nZZZ3           -0.168835        0.847208       -0.776623       -4.238754   \n\n          BH-A18Q.02TCGA  C8-A130.02TCGA  C8-A138.03TCGA  E2-A154.03TCGA  \\\ngeneName                                                                   \nAAAS            4.171504        1.252833       -2.613634        2.150529   \nAAK1            0.319409        0.104248       -0.079256       -0.690370   \nABCF1          -0.221126        0.311865       -0.043811       -0.048707   \nABI1            0.360444       -0.141749        0.201926       -0.248022   \nABI2           -0.755160        0.459321       -0.977373       -0.048143   \n...                  ...             ...             ...             ...   \nZNRF2          -1.648251       -1.568822       -1.647347        0.023001   \nZRANB2          1.001690       -0.157578       -0.743734       -1.603135   \nZRSR2          -1.425737        0.678005       -0.316918        0.741211   \nZYX            -0.404484       -0.138536       -0.079936        0.124311   \nZZZ3           -0.671212       -0.381677       -1.740168       -0.421928   \n\n          BH-A0BZ.03TCGA  A8-A09I.04TCGA  ...  C8-A134.32TCGA  A2-A0YF.33TCGA  \\\ngeneName                                  ...                                   \nAAAS           -0.311880       -0.014175  ...        0.711161        0.137948   \nAAK1           -4.511075       -4.280153  ...        0.710134       -0.230225   \nABCF1          -1.556356       -1.371745  ...        0.441727       -1.236656   \nABI1           -7.461227       -7.503650  ...       -0.268380        0.626203   \nABI2           -5.357977       -6.633352  ...        2.679823        0.881427   \n...                  ...             ...  ...             ...             ...   \nZNRF2          -2.515285       -2.968265  ...       -0.960526       -0.849659   \nZRANB2         -5.627897       -5.738848  ...        0.648892       -1.020733   \nZRSR2          -0.787082        0.163867  ...        0.763850       -1.557074   \nZYX            -3.316828       -2.963580  ...        1.512448       -0.423228   \nZZZ3           -5.014893       -5.039174  ...        1.178179        0.168464   \n\n          BH-A0DD.33TCGA  BH-A0E9.33TCGA  AR-A0TT.34TCGA  AR-A1AQ.34TCGA  \\\ngeneName                                                                   \nAAAS            2.419267        2.235371       -0.696033        2.877390   \nAAK1           -0.161544        0.708913       -0.001759       -2.222012   \nABCF1          -0.176901        0.193691        0.132752       -1.663820   \nABI1            0.006788        0.282789        1.172411       -3.706673   \nABI2            0.045261        1.154323        1.054714       -2.896814   \n...                  ...             ...             ...             ...   \nZNRF2          -1.483849       -1.725951        0.789895       -2.251490   \nZRANB2         -2.181894       -1.905226       -0.574249       -1.851843   \nZRSR2           0.106365       -1.732431        1.228808        0.097842   \nZYX            -0.780344        0.824624        0.684108       -2.045533   \nZZZ3           -1.453674       -0.164318       -1.652322       -3.744435   \n\n          AO-A12B.34TCGA  263d3f-I.CPTAC  blcdb9-I.CPTAC  c4155b-C.CPTAC  \ngeneName                                                                  \nAAAS           -0.038773        0.816994       -1.144616       -2.337940  \nAAK1            0.570832       -0.779213       -0.692628       -0.554810  \nABCF1          -0.887491       -0.921257       -0.164086        0.233908  \nABI1            1.532326       -0.317314        0.633994       -0.055454  \nABI2           -0.955601       -0.625928       -0.190853       -0.733718  \n...                  ...             ...             ...             ...  \nZNRF2           0.020514       -0.666804       -1.253868       -0.210552  \nZRANB2          2.562787       -1.055807       -1.609298       -1.069378  \nZRSR2           1.416576       -0.697461        1.049149       -0.395744  \nZYX            -0.718958       -1.889579       -1.463006       -1.316741  \nZZZ3           -0.476366       -1.061257        0.629624       -1.224476  \n\n[1836 rows x 83 columns]",
      "text/html": "<div>\n<style scoped>\n    .dataframe tbody tr th:only-of-type {\n        vertical-align: middle;\n    }\n\n    .dataframe tbody tr th {\n        vertical-align: top;\n    }\n\n    .dataframe thead th {\n        text-align: right;\n    }\n</style>\n<table border=\"1\" class=\"dataframe\">\n  <thead>\n    <tr style=\"text-align: right;\">\n      <th></th>\n      <th>AO-A12D.01TCGA</th>\n      <th>C8-A131.01TCGA</th>\n      <th>AO-A12B.01TCGA</th>\n      <th>E2-A10A.02TCGA</th>\n      <th>BH-A18Q.02TCGA</th>\n      <th>C8-A130.02TCGA</th>\n      <th>C8-A138.03TCGA</th>\n      <th>E2-A154.03TCGA</th>\n      <th>BH-A0BZ.03TCGA</th>\n      <th>A8-A09I.04TCGA</th>\n      <th>...</th>\n      <th>C8-A134.32TCGA</th>\n      <th>A2-A0YF.33TCGA</th>\n      <th>BH-A0DD.33TCGA</th>\n      <th>BH-A0E9.33TCGA</th>\n      <th>AR-A0TT.34TCGA</th>\n      <th>AR-A1AQ.34TCGA</th>\n      <th>AO-A12B.34TCGA</th>\n      <th>263d3f-I.CPTAC</th>\n      <th>blcdb9-I.CPTAC</th>\n      <th>c4155b-C.CPTAC</th>\n    </tr>\n    <tr>\n      <th>geneName</th>\n      <th></th>\n      <th></th>\n      <th></th>\n      <th></th>\n      <th></th>\n      <th></th>\n      <th></th>\n      <th></th>\n      <th></th>\n      <th></th>\n      <th></th>\n      <th></th>\n      <th></th>\n      <th></th>\n      <th></th>\n      <th></th>\n      <th></th>\n      <th></th>\n      <th></th>\n      <th></th>\n      <th></th>\n    </tr>\n  </thead>\n  <tbody>\n    <tr>\n      <th>AAAS</th>\n      <td>-1.967715</td>\n      <td>-0.856806</td>\n      <td>-0.722268</td>\n      <td>0.915760</td>\n      <td>4.171504</td>\n      <td>1.252833</td>\n      <td>-2.613634</td>\n      <td>2.150529</td>\n      <td>-0.311880</td>\n      <td>-0.014175</td>\n      <td>...</td>\n      <td>0.711161</td>\n      <td>0.137948</td>\n      <td>2.419267</td>\n      <td>2.235371</td>\n      <td>-0.696033</td>\n      <td>2.877390</td>\n      <td>-0.038773</td>\n      <td>0.816994</td>\n      <td>-1.144616</td>\n      <td>-2.337940</td>\n    </tr>\n    <tr>\n      <th>AAK1</th>\n      <td>0.348837</td>\n      <td>0.731615</td>\n      <td>0.922412</td>\n      <td>-3.234778</td>\n      <td>0.319409</td>\n      <td>0.104248</td>\n      <td>-0.079256</td>\n      <td>-0.690370</td>\n      <td>-4.511075</td>\n      <td>-4.280153</td>\n      <td>...</td>\n      <td>0.710134</td>\n      <td>-0.230225</td>\n      <td>-0.161544</td>\n      <td>0.708913</td>\n      <td>-0.001759</td>\n      <td>-2.222012</td>\n      <td>0.570832</td>\n      <td>-0.779213</td>\n      <td>-0.692628</td>\n      <td>-0.554810</td>\n    </tr>\n    <tr>\n      <th>ABCF1</th>\n      <td>-1.672587</td>\n      <td>-0.549277</td>\n      <td>-1.016399</td>\n      <td>-1.328855</td>\n      <td>-0.221126</td>\n      <td>0.311865</td>\n      <td>-0.043811</td>\n      <td>-0.048707</td>\n      <td>-1.556356</td>\n      <td>-1.371745</td>\n      <td>...</td>\n      <td>0.441727</td>\n      <td>-1.236656</td>\n      <td>-0.176901</td>\n      <td>0.193691</td>\n      <td>0.132752</td>\n      <td>-1.663820</td>\n      <td>-0.887491</td>\n      <td>-0.921257</td>\n      <td>-0.164086</td>\n      <td>0.233908</td>\n    </tr>\n    <tr>\n      <th>ABI1</th>\n      <td>1.037625</td>\n      <td>1.207672</td>\n      <td>1.804367</td>\n      <td>-6.996930</td>\n      <td>0.360444</td>\n      <td>-0.141749</td>\n      <td>0.201926</td>\n      <td>-0.248022</td>\n      <td>-7.461227</td>\n      <td>-7.503650</td>\n      <td>...</td>\n      <td>-0.268380</td>\n      <td>0.626203</td>\n      <td>0.006788</td>\n      <td>0.282789</td>\n      <td>1.172411</td>\n      <td>-3.706673</td>\n      <td>1.532326</td>\n      <td>-0.317314</td>\n      <td>0.633994</td>\n      <td>-0.055454</td>\n    </tr>\n    <tr>\n      <th>ABI2</th>\n      <td>-1.297460</td>\n      <td>-0.179990</td>\n      <td>-0.870430</td>\n      <td>-3.796328</td>\n      <td>-0.755160</td>\n      <td>0.459321</td>\n      <td>-0.977373</td>\n      <td>-0.048143</td>\n      <td>-5.357977</td>\n      <td>-6.633352</td>\n      <td>...</td>\n      <td>2.679823</td>\n      <td>0.881427</td>\n      <td>0.045261</td>\n      <td>1.154323</td>\n      <td>1.054714</td>\n      <td>-2.896814</td>\n      <td>-0.955601</td>\n      <td>-0.625928</td>\n      <td>-0.190853</td>\n      <td>-0.733718</td>\n    </tr>\n    <tr>\n      <th>...</th>\n      <td>...</td>\n      <td>...</td>\n      <td>...</td>\n      <td>...</td>\n      <td>...</td>\n      <td>...</td>\n      <td>...</td>\n      <td>...</td>\n      <td>...</td>\n      <td>...</td>\n      <td>...</td>\n      <td>...</td>\n      <td>...</td>\n      <td>...</td>\n      <td>...</td>\n      <td>...</td>\n      <td>...</td>\n      <td>...</td>\n      <td>...</td>\n      <td>...</td>\n      <td>...</td>\n    </tr>\n    <tr>\n      <th>ZNRF2</th>\n      <td>0.004134</td>\n      <td>-0.065296</td>\n      <td>0.086045</td>\n      <td>-2.955882</td>\n      <td>-1.648251</td>\n      <td>-1.568822</td>\n      <td>-1.647347</td>\n      <td>0.023001</td>\n      <td>-2.515285</td>\n      <td>-2.968265</td>\n      <td>...</td>\n      <td>-0.960526</td>\n      <td>-0.849659</td>\n      <td>-1.483849</td>\n      <td>-1.725951</td>\n      <td>0.789895</td>\n      <td>-2.251490</td>\n      <td>0.020514</td>\n      <td>-0.666804</td>\n      <td>-1.253868</td>\n      <td>-0.210552</td>\n    </tr>\n    <tr>\n      <th>ZRANB2</th>\n      <td>0.937447</td>\n      <td>-1.563450</td>\n      <td>2.983229</td>\n      <td>-2.842397</td>\n      <td>1.001690</td>\n      <td>-0.157578</td>\n      <td>-0.743734</td>\n      <td>-1.603135</td>\n      <td>-5.627897</td>\n      <td>-5.738848</td>\n      <td>...</td>\n      <td>0.648892</td>\n      <td>-1.020733</td>\n      <td>-2.181894</td>\n      <td>-1.905226</td>\n      <td>-0.574249</td>\n      <td>-1.851843</td>\n      <td>2.562787</td>\n      <td>-1.055807</td>\n      <td>-1.609298</td>\n      <td>-1.069378</td>\n    </tr>\n    <tr>\n      <th>ZRSR2</th>\n      <td>-0.638014</td>\n      <td>-0.922345</td>\n      <td>1.323938</td>\n      <td>-1.345713</td>\n      <td>-1.425737</td>\n      <td>0.678005</td>\n      <td>-0.316918</td>\n      <td>0.741211</td>\n      <td>-0.787082</td>\n      <td>0.163867</td>\n      <td>...</td>\n      <td>0.763850</td>\n      <td>-1.557074</td>\n      <td>0.106365</td>\n      <td>-1.732431</td>\n      <td>1.228808</td>\n      <td>0.097842</td>\n      <td>1.416576</td>\n      <td>-0.697461</td>\n      <td>1.049149</td>\n      <td>-0.395744</td>\n    </tr>\n    <tr>\n      <th>ZYX</th>\n      <td>-0.363426</td>\n      <td>1.329748</td>\n      <td>-0.479298</td>\n      <td>-2.422527</td>\n      <td>-0.404484</td>\n      <td>-0.138536</td>\n      <td>-0.079936</td>\n      <td>0.124311</td>\n      <td>-3.316828</td>\n      <td>-2.963580</td>\n      <td>...</td>\n      <td>1.512448</td>\n      <td>-0.423228</td>\n      <td>-0.780344</td>\n      <td>0.824624</td>\n      <td>0.684108</td>\n      <td>-2.045533</td>\n      <td>-0.718958</td>\n      <td>-1.889579</td>\n      <td>-1.463006</td>\n      <td>-1.316741</td>\n    </tr>\n    <tr>\n      <th>ZZZ3</th>\n      <td>-0.168835</td>\n      <td>0.847208</td>\n      <td>-0.776623</td>\n      <td>-4.238754</td>\n      <td>-0.671212</td>\n      <td>-0.381677</td>\n      <td>-1.740168</td>\n      <td>-0.421928</td>\n      <td>-5.014893</td>\n      <td>-5.039174</td>\n      <td>...</td>\n      <td>1.178179</td>\n      <td>0.168464</td>\n      <td>-1.453674</td>\n      <td>-0.164318</td>\n      <td>-1.652322</td>\n      <td>-3.744435</td>\n      <td>-0.476366</td>\n      <td>-1.061257</td>\n      <td>0.629624</td>\n      <td>-1.224476</td>\n    </tr>\n  </tbody>\n</table>\n<p>1836 rows × 83 columns</p>\n</div>"
     },
     "execution_count": 247,
     "metadata": {},
     "output_type": "execute_result"
    }
   ],
   "source": [
    "pf = pf.set_index(\"GID\", drop=True)\n",
    "geneName_col = pf[\"geneName\"].copy()\n",
    "pf_gene = pf.set_index(\"geneName\", drop=True)\n",
    "pf_gene"
   ],
   "metadata": {
    "collapsed": false,
    "pycharm": {
     "name": "#%%\n"
    }
   }
  },
  {
   "cell_type": "code",
   "execution_count": 248,
   "outputs": [
    {
     "data": {
      "text/plain": "          AO-A12D.01TCGA  C8-A131.01TCGA  AO-A12B.01TCGA  E2-A10A.02TCGA  \\\ngeneName                                                                   \nAAAS           -1.967715       -0.856806       -0.722268        0.915760   \nAAK1            0.348837        0.731615        0.922412       -3.234778   \nABCF1          -1.672587       -0.549277       -1.016399       -1.328855   \nABI1            1.037625        1.207672        1.804367       -6.996930   \nABI2           -1.297460       -0.179990       -0.870430       -3.796328   \n...                  ...             ...             ...             ...   \nZNRF2           0.004134       -0.065296        0.086045       -2.955882   \nZRANB2          0.937447       -1.563450        2.983229       -2.842397   \nZRSR2          -0.638014       -0.922345        1.323938       -1.345713   \nZYX            -0.363426        1.329748       -0.479298       -2.422527   \nZZZ3           -0.168835        0.847208       -0.776623       -4.238754   \n\n          BH-A18Q.02TCGA  C8-A130.02TCGA  C8-A138.03TCGA  E2-A154.03TCGA  \\\ngeneName                                                                   \nAAAS            4.171504        1.252833       -2.613634        2.150529   \nAAK1            0.319409        0.104248       -0.079256       -0.690370   \nABCF1          -0.221126        0.311865       -0.043811       -0.048707   \nABI1            0.360444       -0.141749        0.201926       -0.248022   \nABI2           -0.755160        0.459321       -0.977373       -0.048143   \n...                  ...             ...             ...             ...   \nZNRF2          -1.648251       -1.568822       -1.647347        0.023001   \nZRANB2          1.001690       -0.157578       -0.743734       -1.603135   \nZRSR2          -1.425737        0.678005       -0.316918        0.741211   \nZYX            -0.404484       -0.138536       -0.079936        0.124311   \nZZZ3           -0.671212       -0.381677       -1.740168       -0.421928   \n\n          BH-A0BZ.03TCGA  A8-A09I.04TCGA  ...  C8-A134.32TCGA  A2-A0YF.33TCGA  \\\ngeneName                                  ...                                   \nAAAS           -0.311880       -0.014175  ...        0.711161        0.137948   \nAAK1           -4.511075       -4.280153  ...        0.710134       -0.230225   \nABCF1          -1.556356       -1.371745  ...        0.441727       -1.236656   \nABI1           -7.461227       -7.503650  ...       -0.268380        0.626203   \nABI2           -5.357977       -6.633352  ...        2.679823        0.881427   \n...                  ...             ...  ...             ...             ...   \nZNRF2          -2.515285       -2.968265  ...       -0.960526       -0.849659   \nZRANB2         -5.627897       -5.738848  ...        0.648892       -1.020733   \nZRSR2          -0.787082        0.163867  ...        0.763850       -1.557074   \nZYX            -3.316828       -2.963580  ...        1.512448       -0.423228   \nZZZ3           -5.014893       -5.039174  ...        1.178179        0.168464   \n\n          BH-A0DD.33TCGA  BH-A0E9.33TCGA  AR-A0TT.34TCGA  AR-A1AQ.34TCGA  \\\ngeneName                                                                   \nAAAS            2.419267        2.235371       -0.696033        2.877390   \nAAK1           -0.161544        0.708913       -0.001759       -2.222012   \nABCF1          -0.176901        0.193691        0.132752       -1.663820   \nABI1            0.006788        0.282789        1.172411       -3.706673   \nABI2            0.045261        1.154323        1.054714       -2.896814   \n...                  ...             ...             ...             ...   \nZNRF2          -1.483849       -1.725951        0.789895       -2.251490   \nZRANB2         -2.181894       -1.905226       -0.574249       -1.851843   \nZRSR2           0.106365       -1.732431        1.228808        0.097842   \nZYX            -0.780344        0.824624        0.684108       -2.045533   \nZZZ3           -1.453674       -0.164318       -1.652322       -3.744435   \n\n          AO-A12B.34TCGA  263d3f-I.CPTAC  blcdb9-I.CPTAC  c4155b-C.CPTAC  \ngeneName                                                                  \nAAAS           -0.038773        0.816994       -1.144616       -2.337940  \nAAK1            0.570832       -0.779213       -0.692628       -0.554810  \nABCF1          -0.887491       -0.921257       -0.164086        0.233908  \nABI1            1.532326       -0.317314        0.633994       -0.055454  \nABI2           -0.955601       -0.625928       -0.190853       -0.733718  \n...                  ...             ...             ...             ...  \nZNRF2           0.020514       -0.666804       -1.253868       -0.210552  \nZRANB2          2.562787       -1.055807       -1.609298       -1.069378  \nZRSR2           1.416576       -0.697461        1.049149       -0.395744  \nZYX            -0.718958       -1.889579       -1.463006       -1.316741  \nZZZ3           -0.476366       -1.061257        0.629624       -1.224476  \n\n[1836 rows x 83 columns]",
      "text/html": "<div>\n<style scoped>\n    .dataframe tbody tr th:only-of-type {\n        vertical-align: middle;\n    }\n\n    .dataframe tbody tr th {\n        vertical-align: top;\n    }\n\n    .dataframe thead th {\n        text-align: right;\n    }\n</style>\n<table border=\"1\" class=\"dataframe\">\n  <thead>\n    <tr style=\"text-align: right;\">\n      <th></th>\n      <th>AO-A12D.01TCGA</th>\n      <th>C8-A131.01TCGA</th>\n      <th>AO-A12B.01TCGA</th>\n      <th>E2-A10A.02TCGA</th>\n      <th>BH-A18Q.02TCGA</th>\n      <th>C8-A130.02TCGA</th>\n      <th>C8-A138.03TCGA</th>\n      <th>E2-A154.03TCGA</th>\n      <th>BH-A0BZ.03TCGA</th>\n      <th>A8-A09I.04TCGA</th>\n      <th>...</th>\n      <th>C8-A134.32TCGA</th>\n      <th>A2-A0YF.33TCGA</th>\n      <th>BH-A0DD.33TCGA</th>\n      <th>BH-A0E9.33TCGA</th>\n      <th>AR-A0TT.34TCGA</th>\n      <th>AR-A1AQ.34TCGA</th>\n      <th>AO-A12B.34TCGA</th>\n      <th>263d3f-I.CPTAC</th>\n      <th>blcdb9-I.CPTAC</th>\n      <th>c4155b-C.CPTAC</th>\n    </tr>\n    <tr>\n      <th>geneName</th>\n      <th></th>\n      <th></th>\n      <th></th>\n      <th></th>\n      <th></th>\n      <th></th>\n      <th></th>\n      <th></th>\n      <th></th>\n      <th></th>\n      <th></th>\n      <th></th>\n      <th></th>\n      <th></th>\n      <th></th>\n      <th></th>\n      <th></th>\n      <th></th>\n      <th></th>\n      <th></th>\n      <th></th>\n    </tr>\n  </thead>\n  <tbody>\n    <tr>\n      <th>AAAS</th>\n      <td>-1.967715</td>\n      <td>-0.856806</td>\n      <td>-0.722268</td>\n      <td>0.915760</td>\n      <td>4.171504</td>\n      <td>1.252833</td>\n      <td>-2.613634</td>\n      <td>2.150529</td>\n      <td>-0.311880</td>\n      <td>-0.014175</td>\n      <td>...</td>\n      <td>0.711161</td>\n      <td>0.137948</td>\n      <td>2.419267</td>\n      <td>2.235371</td>\n      <td>-0.696033</td>\n      <td>2.877390</td>\n      <td>-0.038773</td>\n      <td>0.816994</td>\n      <td>-1.144616</td>\n      <td>-2.337940</td>\n    </tr>\n    <tr>\n      <th>AAK1</th>\n      <td>0.348837</td>\n      <td>0.731615</td>\n      <td>0.922412</td>\n      <td>-3.234778</td>\n      <td>0.319409</td>\n      <td>0.104248</td>\n      <td>-0.079256</td>\n      <td>-0.690370</td>\n      <td>-4.511075</td>\n      <td>-4.280153</td>\n      <td>...</td>\n      <td>0.710134</td>\n      <td>-0.230225</td>\n      <td>-0.161544</td>\n      <td>0.708913</td>\n      <td>-0.001759</td>\n      <td>-2.222012</td>\n      <td>0.570832</td>\n      <td>-0.779213</td>\n      <td>-0.692628</td>\n      <td>-0.554810</td>\n    </tr>\n    <tr>\n      <th>ABCF1</th>\n      <td>-1.672587</td>\n      <td>-0.549277</td>\n      <td>-1.016399</td>\n      <td>-1.328855</td>\n      <td>-0.221126</td>\n      <td>0.311865</td>\n      <td>-0.043811</td>\n      <td>-0.048707</td>\n      <td>-1.556356</td>\n      <td>-1.371745</td>\n      <td>...</td>\n      <td>0.441727</td>\n      <td>-1.236656</td>\n      <td>-0.176901</td>\n      <td>0.193691</td>\n      <td>0.132752</td>\n      <td>-1.663820</td>\n      <td>-0.887491</td>\n      <td>-0.921257</td>\n      <td>-0.164086</td>\n      <td>0.233908</td>\n    </tr>\n    <tr>\n      <th>ABI1</th>\n      <td>1.037625</td>\n      <td>1.207672</td>\n      <td>1.804367</td>\n      <td>-6.996930</td>\n      <td>0.360444</td>\n      <td>-0.141749</td>\n      <td>0.201926</td>\n      <td>-0.248022</td>\n      <td>-7.461227</td>\n      <td>-7.503650</td>\n      <td>...</td>\n      <td>-0.268380</td>\n      <td>0.626203</td>\n      <td>0.006788</td>\n      <td>0.282789</td>\n      <td>1.172411</td>\n      <td>-3.706673</td>\n      <td>1.532326</td>\n      <td>-0.317314</td>\n      <td>0.633994</td>\n      <td>-0.055454</td>\n    </tr>\n    <tr>\n      <th>ABI2</th>\n      <td>-1.297460</td>\n      <td>-0.179990</td>\n      <td>-0.870430</td>\n      <td>-3.796328</td>\n      <td>-0.755160</td>\n      <td>0.459321</td>\n      <td>-0.977373</td>\n      <td>-0.048143</td>\n      <td>-5.357977</td>\n      <td>-6.633352</td>\n      <td>...</td>\n      <td>2.679823</td>\n      <td>0.881427</td>\n      <td>0.045261</td>\n      <td>1.154323</td>\n      <td>1.054714</td>\n      <td>-2.896814</td>\n      <td>-0.955601</td>\n      <td>-0.625928</td>\n      <td>-0.190853</td>\n      <td>-0.733718</td>\n    </tr>\n    <tr>\n      <th>...</th>\n      <td>...</td>\n      <td>...</td>\n      <td>...</td>\n      <td>...</td>\n      <td>...</td>\n      <td>...</td>\n      <td>...</td>\n      <td>...</td>\n      <td>...</td>\n      <td>...</td>\n      <td>...</td>\n      <td>...</td>\n      <td>...</td>\n      <td>...</td>\n      <td>...</td>\n      <td>...</td>\n      <td>...</td>\n      <td>...</td>\n      <td>...</td>\n      <td>...</td>\n      <td>...</td>\n    </tr>\n    <tr>\n      <th>ZNRF2</th>\n      <td>0.004134</td>\n      <td>-0.065296</td>\n      <td>0.086045</td>\n      <td>-2.955882</td>\n      <td>-1.648251</td>\n      <td>-1.568822</td>\n      <td>-1.647347</td>\n      <td>0.023001</td>\n      <td>-2.515285</td>\n      <td>-2.968265</td>\n      <td>...</td>\n      <td>-0.960526</td>\n      <td>-0.849659</td>\n      <td>-1.483849</td>\n      <td>-1.725951</td>\n      <td>0.789895</td>\n      <td>-2.251490</td>\n      <td>0.020514</td>\n      <td>-0.666804</td>\n      <td>-1.253868</td>\n      <td>-0.210552</td>\n    </tr>\n    <tr>\n      <th>ZRANB2</th>\n      <td>0.937447</td>\n      <td>-1.563450</td>\n      <td>2.983229</td>\n      <td>-2.842397</td>\n      <td>1.001690</td>\n      <td>-0.157578</td>\n      <td>-0.743734</td>\n      <td>-1.603135</td>\n      <td>-5.627897</td>\n      <td>-5.738848</td>\n      <td>...</td>\n      <td>0.648892</td>\n      <td>-1.020733</td>\n      <td>-2.181894</td>\n      <td>-1.905226</td>\n      <td>-0.574249</td>\n      <td>-1.851843</td>\n      <td>2.562787</td>\n      <td>-1.055807</td>\n      <td>-1.609298</td>\n      <td>-1.069378</td>\n    </tr>\n    <tr>\n      <th>ZRSR2</th>\n      <td>-0.638014</td>\n      <td>-0.922345</td>\n      <td>1.323938</td>\n      <td>-1.345713</td>\n      <td>-1.425737</td>\n      <td>0.678005</td>\n      <td>-0.316918</td>\n      <td>0.741211</td>\n      <td>-0.787082</td>\n      <td>0.163867</td>\n      <td>...</td>\n      <td>0.763850</td>\n      <td>-1.557074</td>\n      <td>0.106365</td>\n      <td>-1.732431</td>\n      <td>1.228808</td>\n      <td>0.097842</td>\n      <td>1.416576</td>\n      <td>-0.697461</td>\n      <td>1.049149</td>\n      <td>-0.395744</td>\n    </tr>\n    <tr>\n      <th>ZYX</th>\n      <td>-0.363426</td>\n      <td>1.329748</td>\n      <td>-0.479298</td>\n      <td>-2.422527</td>\n      <td>-0.404484</td>\n      <td>-0.138536</td>\n      <td>-0.079936</td>\n      <td>0.124311</td>\n      <td>-3.316828</td>\n      <td>-2.963580</td>\n      <td>...</td>\n      <td>1.512448</td>\n      <td>-0.423228</td>\n      <td>-0.780344</td>\n      <td>0.824624</td>\n      <td>0.684108</td>\n      <td>-2.045533</td>\n      <td>-0.718958</td>\n      <td>-1.889579</td>\n      <td>-1.463006</td>\n      <td>-1.316741</td>\n    </tr>\n    <tr>\n      <th>ZZZ3</th>\n      <td>-0.168835</td>\n      <td>0.847208</td>\n      <td>-0.776623</td>\n      <td>-4.238754</td>\n      <td>-0.671212</td>\n      <td>-0.381677</td>\n      <td>-1.740168</td>\n      <td>-0.421928</td>\n      <td>-5.014893</td>\n      <td>-5.039174</td>\n      <td>...</td>\n      <td>1.178179</td>\n      <td>0.168464</td>\n      <td>-1.453674</td>\n      <td>-0.164318</td>\n      <td>-1.652322</td>\n      <td>-3.744435</td>\n      <td>-0.476366</td>\n      <td>-1.061257</td>\n      <td>0.629624</td>\n      <td>-1.224476</td>\n    </tr>\n  </tbody>\n</table>\n<p>1836 rows × 83 columns</p>\n</div>"
     },
     "execution_count": 248,
     "metadata": {},
     "output_type": "execute_result"
    }
   ],
   "source": [
    "pf_gene = pf.set_index(\"geneName\", drop=True)\n",
    "pf_gene"
   ],
   "metadata": {
    "collapsed": false,
    "pycharm": {
     "name": "#%%\n"
    }
   }
  },
  {
   "cell_type": "code",
   "execution_count": null,
   "outputs": [],
   "source": [
    "r, p = helper.corrcoef(pf_gene)"
   ],
   "metadata": {
    "collapsed": false,
    "pycharm": {
     "name": "#%%\n"
    }
   }
  },
  {
   "cell_type": "code",
   "execution_count": 160,
   "outputs": [],
   "source": [
    "import importlib\n",
    "import helper_functions\n",
    "importlib.reload(helper_functions)\n",
    "import helper_functions as helper\n"
   ],
   "metadata": {
    "collapsed": false,
    "pycharm": {
     "name": "#%%\n"
    }
   }
  },
  {
   "cell_type": "code",
   "execution_count": 167,
   "outputs": [],
   "source": [
    "df = helper.r_p_to_dataframe(r, p, pf_gene, target_gene=\"PGRMC1\", filter=True, min_pearson=0.8)\n",
    "df.to_csv(\"output/Pearson_above_0_8_agg_Phosphor.csv\")"
   ],
   "metadata": {
    "collapsed": false,
    "pycharm": {
     "name": "#%%\n"
    }
   }
  },
  {
   "cell_type": "code",
   "execution_count": 207,
   "outputs": [],
   "source": [
    "phos_corr_genes = df.index.to_list()\n",
    "phos_corr_genes.append(\"PGRMC1\")"
   ],
   "metadata": {
    "collapsed": false,
    "pycharm": {
     "name": "#%%\n"
    }
   }
  },
  {
   "cell_type": "code",
   "execution_count": 249,
   "outputs": [],
   "source": [
    "pf = pf[pf[\"geneName\"].isin(list(phos_corr_genes))]"
   ],
   "metadata": {
    "collapsed": false,
    "pycharm": {
     "name": "#%%\n"
    }
   }
  },
  {
   "cell_type": "code",
   "execution_count": 250,
   "outputs": [
    {
     "data": {
      "text/plain": "geneName             SEPT7\nAO-A12D.01TCGA   -0.890982\nC8-A131.01TCGA    0.033012\nAO-A12B.01TCGA   -0.429452\nE2-A10A.02TCGA   -4.483816\n                    ...   \nAR-A1AQ.34TCGA    -3.46122\nAO-A12B.34TCGA    -0.80456\n263d3f-I.CPTAC   -1.844032\nblcdb9-I.CPTAC     0.07135\nc4155b-C.CPTAC   -0.185088\nName: NP_001779, Length: 84, dtype: object"
     },
     "execution_count": 250,
     "metadata": {},
     "output_type": "execute_result"
    }
   ],
   "source": [
    "pf.loc[\"NP_001779\"]"
   ],
   "metadata": {
    "collapsed": false,
    "pycharm": {
     "name": "#%%\n"
    }
   }
  },
  {
   "cell_type": "code",
   "execution_count": 173,
   "outputs": [
    {
     "data": {
      "text/plain": "             geneName  AO-A12D.01TCGA  C8-A131.01TCGA  AO-A12B.01TCGA  \\\nGID                                                                     \nNP_055726        AAK1        0.348837        0.731615        0.922412   \nNP_001012768     ABI1        1.037625        1.207672        1.804367   \nNP_009298        ABL2       -0.089558        0.795113        0.032274   \nNP_001158287    ACIN1       -0.289193       -0.726778        0.385874   \nNP_001087        ACLY        0.246291        0.181735       -0.738049   \n...               ...             ...             ...             ...   \nNP_001017926     ZHX1        0.812765        1.555533        1.378293   \nNP_057286      ZNF580       -0.294238       -0.284600        1.015341   \nNP_001014972   ZNF638       -0.441262       -0.755976       -0.047213   \nNP_065883      ZNF687        0.270345        0.525500        1.503660   \nNP_056349        ZZZ3       -0.168835        0.847208       -0.776623   \n\n              E2-A10A.02TCGA  BH-A18Q.02TCGA  C8-A130.02TCGA  C8-A138.03TCGA  \\\nGID                                                                            \nNP_055726          -3.234778        0.319409        0.104248       -0.079256   \nNP_001012768       -6.996930        0.360444       -0.141749        0.201926   \nNP_009298          -3.741504       -0.402846        0.149830        0.405020   \nNP_001158287       -4.801382       -1.513057       -0.213603        0.133500   \nNP_001087          -5.496956       -1.688708        0.569288        0.401847   \n...                      ...             ...             ...             ...   \nNP_001017926       -5.149923        1.491220        0.443076        2.536722   \nNP_057286          -4.154874        0.237050        0.508056        0.725529   \nNP_001014972       -5.715702       -0.068401        0.185653        0.251906   \nNP_065883          -3.677292        0.078509        0.303118        0.434275   \nNP_056349          -4.238754       -0.671212       -0.381677       -1.740168   \n\n              E2-A154.03TCGA  BH-A0BZ.03TCGA  ...  C8-A134.32TCGA  \\\nGID                                           ...                   \nNP_055726          -0.690370       -4.511075  ...        0.710134   \nNP_001012768       -0.248022       -7.461227  ...       -0.268380   \nNP_009298           0.261651       -5.200286  ...       -0.123086   \nNP_001158287       -1.180792       -5.284991  ...       -0.198527   \nNP_001087          -0.701985       -6.783584  ...       -0.548591   \n...                      ...             ...  ...             ...   \nNP_001017926       -0.421928       -7.098965  ...        1.333852   \nNP_057286          -0.421928       -6.218882  ...        0.205823   \nNP_001014972       -2.355223       -8.187882  ...       -0.653970   \nNP_065883          -0.236165       -4.077807  ...        0.174988   \nNP_056349          -0.421928       -5.014893  ...        1.178179   \n\n              A2-A0YF.33TCGA  BH-A0DD.33TCGA  BH-A0E9.33TCGA  AR-A0TT.34TCGA  \\\nGID                                                                            \nNP_055726          -0.230225       -0.161544        0.708913       -0.001759   \nNP_001012768        0.626203        0.006788        0.282789        1.172411   \nNP_009298           0.190657       -0.772728        0.353347       -0.163126   \nNP_001158287        0.270646       -1.378614       -0.459689        0.165854   \nNP_001087          -0.383597       -1.324677       -0.872777       -0.944913   \n...                      ...             ...             ...             ...   \nNP_001017926        1.669293       -2.524881        0.628379       -1.122685   \nNP_057286           0.878653       -0.756635        0.068955        0.446611   \nNP_001014972       -0.680434       -0.110894       -0.363032        1.243520   \nNP_065883          -0.506008       -0.215751       -0.809599       -0.084559   \nNP_056349           0.168464       -1.453674       -0.164318       -1.652322   \n\n              AR-A1AQ.34TCGA  AO-A12B.34TCGA  263d3f-I.CPTAC  blcdb9-I.CPTAC  \\\nGID                                                                            \nNP_055726          -2.222012        0.570832       -0.779213       -0.692628   \nNP_001012768       -3.706673        1.532326       -0.317314        0.633994   \nNP_009298          -3.375357       -0.036891       -0.524419       -0.329602   \nNP_001158287       -2.793868        0.413877       -0.632400       -0.606736   \nNP_001087          -4.647350       -1.173691       -0.318336       -0.005126   \n...                      ...             ...             ...             ...   \nNP_001017926       -4.127449        1.450454       -0.433811       -0.777532   \nNP_057286          -3.561020        0.813827       -0.035270        1.195546   \nNP_001014972       -3.323659        2.221182        1.571155        1.748357   \nNP_065883          -2.488513        1.177841       -0.013299       -0.784907   \nNP_056349          -3.744435       -0.476366       -1.061257        0.629624   \n\n              c4155b-C.CPTAC  \nGID                           \nNP_055726          -0.554810  \nNP_001012768       -0.055454  \nNP_009298           0.057976  \nNP_001158287       -0.570325  \nNP_001087           0.485074  \n...                      ...  \nNP_001017926       -0.587880  \nNP_057286          -0.361020  \nNP_001014972        0.921431  \nNP_065883          -0.799403  \nNP_056349          -1.224476  \n\n[343 rows x 84 columns]",
      "text/html": "<div>\n<style scoped>\n    .dataframe tbody tr th:only-of-type {\n        vertical-align: middle;\n    }\n\n    .dataframe tbody tr th {\n        vertical-align: top;\n    }\n\n    .dataframe thead th {\n        text-align: right;\n    }\n</style>\n<table border=\"1\" class=\"dataframe\">\n  <thead>\n    <tr style=\"text-align: right;\">\n      <th></th>\n      <th>geneName</th>\n      <th>AO-A12D.01TCGA</th>\n      <th>C8-A131.01TCGA</th>\n      <th>AO-A12B.01TCGA</th>\n      <th>E2-A10A.02TCGA</th>\n      <th>BH-A18Q.02TCGA</th>\n      <th>C8-A130.02TCGA</th>\n      <th>C8-A138.03TCGA</th>\n      <th>E2-A154.03TCGA</th>\n      <th>BH-A0BZ.03TCGA</th>\n      <th>...</th>\n      <th>C8-A134.32TCGA</th>\n      <th>A2-A0YF.33TCGA</th>\n      <th>BH-A0DD.33TCGA</th>\n      <th>BH-A0E9.33TCGA</th>\n      <th>AR-A0TT.34TCGA</th>\n      <th>AR-A1AQ.34TCGA</th>\n      <th>AO-A12B.34TCGA</th>\n      <th>263d3f-I.CPTAC</th>\n      <th>blcdb9-I.CPTAC</th>\n      <th>c4155b-C.CPTAC</th>\n    </tr>\n    <tr>\n      <th>GID</th>\n      <th></th>\n      <th></th>\n      <th></th>\n      <th></th>\n      <th></th>\n      <th></th>\n      <th></th>\n      <th></th>\n      <th></th>\n      <th></th>\n      <th></th>\n      <th></th>\n      <th></th>\n      <th></th>\n      <th></th>\n      <th></th>\n      <th></th>\n      <th></th>\n      <th></th>\n      <th></th>\n      <th></th>\n    </tr>\n  </thead>\n  <tbody>\n    <tr>\n      <th>NP_055726</th>\n      <td>AAK1</td>\n      <td>0.348837</td>\n      <td>0.731615</td>\n      <td>0.922412</td>\n      <td>-3.234778</td>\n      <td>0.319409</td>\n      <td>0.104248</td>\n      <td>-0.079256</td>\n      <td>-0.690370</td>\n      <td>-4.511075</td>\n      <td>...</td>\n      <td>0.710134</td>\n      <td>-0.230225</td>\n      <td>-0.161544</td>\n      <td>0.708913</td>\n      <td>-0.001759</td>\n      <td>-2.222012</td>\n      <td>0.570832</td>\n      <td>-0.779213</td>\n      <td>-0.692628</td>\n      <td>-0.554810</td>\n    </tr>\n    <tr>\n      <th>NP_001012768</th>\n      <td>ABI1</td>\n      <td>1.037625</td>\n      <td>1.207672</td>\n      <td>1.804367</td>\n      <td>-6.996930</td>\n      <td>0.360444</td>\n      <td>-0.141749</td>\n      <td>0.201926</td>\n      <td>-0.248022</td>\n      <td>-7.461227</td>\n      <td>...</td>\n      <td>-0.268380</td>\n      <td>0.626203</td>\n      <td>0.006788</td>\n      <td>0.282789</td>\n      <td>1.172411</td>\n      <td>-3.706673</td>\n      <td>1.532326</td>\n      <td>-0.317314</td>\n      <td>0.633994</td>\n      <td>-0.055454</td>\n    </tr>\n    <tr>\n      <th>NP_009298</th>\n      <td>ABL2</td>\n      <td>-0.089558</td>\n      <td>0.795113</td>\n      <td>0.032274</td>\n      <td>-3.741504</td>\n      <td>-0.402846</td>\n      <td>0.149830</td>\n      <td>0.405020</td>\n      <td>0.261651</td>\n      <td>-5.200286</td>\n      <td>...</td>\n      <td>-0.123086</td>\n      <td>0.190657</td>\n      <td>-0.772728</td>\n      <td>0.353347</td>\n      <td>-0.163126</td>\n      <td>-3.375357</td>\n      <td>-0.036891</td>\n      <td>-0.524419</td>\n      <td>-0.329602</td>\n      <td>0.057976</td>\n    </tr>\n    <tr>\n      <th>NP_001158287</th>\n      <td>ACIN1</td>\n      <td>-0.289193</td>\n      <td>-0.726778</td>\n      <td>0.385874</td>\n      <td>-4.801382</td>\n      <td>-1.513057</td>\n      <td>-0.213603</td>\n      <td>0.133500</td>\n      <td>-1.180792</td>\n      <td>-5.284991</td>\n      <td>...</td>\n      <td>-0.198527</td>\n      <td>0.270646</td>\n      <td>-1.378614</td>\n      <td>-0.459689</td>\n      <td>0.165854</td>\n      <td>-2.793868</td>\n      <td>0.413877</td>\n      <td>-0.632400</td>\n      <td>-0.606736</td>\n      <td>-0.570325</td>\n    </tr>\n    <tr>\n      <th>NP_001087</th>\n      <td>ACLY</td>\n      <td>0.246291</td>\n      <td>0.181735</td>\n      <td>-0.738049</td>\n      <td>-5.496956</td>\n      <td>-1.688708</td>\n      <td>0.569288</td>\n      <td>0.401847</td>\n      <td>-0.701985</td>\n      <td>-6.783584</td>\n      <td>...</td>\n      <td>-0.548591</td>\n      <td>-0.383597</td>\n      <td>-1.324677</td>\n      <td>-0.872777</td>\n      <td>-0.944913</td>\n      <td>-4.647350</td>\n      <td>-1.173691</td>\n      <td>-0.318336</td>\n      <td>-0.005126</td>\n      <td>0.485074</td>\n    </tr>\n    <tr>\n      <th>...</th>\n      <td>...</td>\n      <td>...</td>\n      <td>...</td>\n      <td>...</td>\n      <td>...</td>\n      <td>...</td>\n      <td>...</td>\n      <td>...</td>\n      <td>...</td>\n      <td>...</td>\n      <td>...</td>\n      <td>...</td>\n      <td>...</td>\n      <td>...</td>\n      <td>...</td>\n      <td>...</td>\n      <td>...</td>\n      <td>...</td>\n      <td>...</td>\n      <td>...</td>\n      <td>...</td>\n    </tr>\n    <tr>\n      <th>NP_001017926</th>\n      <td>ZHX1</td>\n      <td>0.812765</td>\n      <td>1.555533</td>\n      <td>1.378293</td>\n      <td>-5.149923</td>\n      <td>1.491220</td>\n      <td>0.443076</td>\n      <td>2.536722</td>\n      <td>-0.421928</td>\n      <td>-7.098965</td>\n      <td>...</td>\n      <td>1.333852</td>\n      <td>1.669293</td>\n      <td>-2.524881</td>\n      <td>0.628379</td>\n      <td>-1.122685</td>\n      <td>-4.127449</td>\n      <td>1.450454</td>\n      <td>-0.433811</td>\n      <td>-0.777532</td>\n      <td>-0.587880</td>\n    </tr>\n    <tr>\n      <th>NP_057286</th>\n      <td>ZNF580</td>\n      <td>-0.294238</td>\n      <td>-0.284600</td>\n      <td>1.015341</td>\n      <td>-4.154874</td>\n      <td>0.237050</td>\n      <td>0.508056</td>\n      <td>0.725529</td>\n      <td>-0.421928</td>\n      <td>-6.218882</td>\n      <td>...</td>\n      <td>0.205823</td>\n      <td>0.878653</td>\n      <td>-0.756635</td>\n      <td>0.068955</td>\n      <td>0.446611</td>\n      <td>-3.561020</td>\n      <td>0.813827</td>\n      <td>-0.035270</td>\n      <td>1.195546</td>\n      <td>-0.361020</td>\n    </tr>\n    <tr>\n      <th>NP_001014972</th>\n      <td>ZNF638</td>\n      <td>-0.441262</td>\n      <td>-0.755976</td>\n      <td>-0.047213</td>\n      <td>-5.715702</td>\n      <td>-0.068401</td>\n      <td>0.185653</td>\n      <td>0.251906</td>\n      <td>-2.355223</td>\n      <td>-8.187882</td>\n      <td>...</td>\n      <td>-0.653970</td>\n      <td>-0.680434</td>\n      <td>-0.110894</td>\n      <td>-0.363032</td>\n      <td>1.243520</td>\n      <td>-3.323659</td>\n      <td>2.221182</td>\n      <td>1.571155</td>\n      <td>1.748357</td>\n      <td>0.921431</td>\n    </tr>\n    <tr>\n      <th>NP_065883</th>\n      <td>ZNF687</td>\n      <td>0.270345</td>\n      <td>0.525500</td>\n      <td>1.503660</td>\n      <td>-3.677292</td>\n      <td>0.078509</td>\n      <td>0.303118</td>\n      <td>0.434275</td>\n      <td>-0.236165</td>\n      <td>-4.077807</td>\n      <td>...</td>\n      <td>0.174988</td>\n      <td>-0.506008</td>\n      <td>-0.215751</td>\n      <td>-0.809599</td>\n      <td>-0.084559</td>\n      <td>-2.488513</td>\n      <td>1.177841</td>\n      <td>-0.013299</td>\n      <td>-0.784907</td>\n      <td>-0.799403</td>\n    </tr>\n    <tr>\n      <th>NP_056349</th>\n      <td>ZZZ3</td>\n      <td>-0.168835</td>\n      <td>0.847208</td>\n      <td>-0.776623</td>\n      <td>-4.238754</td>\n      <td>-0.671212</td>\n      <td>-0.381677</td>\n      <td>-1.740168</td>\n      <td>-0.421928</td>\n      <td>-5.014893</td>\n      <td>...</td>\n      <td>1.178179</td>\n      <td>0.168464</td>\n      <td>-1.453674</td>\n      <td>-0.164318</td>\n      <td>-1.652322</td>\n      <td>-3.744435</td>\n      <td>-0.476366</td>\n      <td>-1.061257</td>\n      <td>0.629624</td>\n      <td>-1.224476</td>\n    </tr>\n  </tbody>\n</table>\n<p>343 rows × 84 columns</p>\n</div>"
     },
     "execution_count": 173,
     "metadata": {},
     "output_type": "execute_result"
    }
   ],
   "source": [
    "pf"
   ],
   "metadata": {
    "collapsed": false,
    "pycharm": {
     "name": "#%%\n"
    }
   }
  },
  {
   "cell_type": "code",
   "execution_count": 251,
   "outputs": [
    {
     "data": {
      "text/plain": "             geneName  AO-A12D.01TCGA  C8-A131.01TCGA  AO-A12B.01TCGA  \\\nGID                                                                     \nNP_055726        AAK1        0.348837        0.731615        0.922412   \nNP_001012768     ABI1        1.037625        1.207672        1.804367   \nNP_009298        ABL2       -0.089558        0.795113        0.032274   \nNP_001158287    ACIN1       -0.289193       -0.726778        0.385874   \nNP_001087        ACLY        0.246291        0.181735       -0.738049   \n...               ...             ...             ...             ...   \nNP_001017926     ZHX1        0.812765        1.555533        1.378293   \nNP_057286      ZNF580       -0.294238       -0.284600        1.015341   \nNP_001014972   ZNF638       -0.441262       -0.755976       -0.047213   \nNP_065883      ZNF687        0.270345        0.525500        1.503660   \nNP_056349        ZZZ3       -0.168835        0.847208       -0.776623   \n\n              E2-A10A.02TCGA  BH-A18Q.02TCGA  C8-A130.02TCGA  C8-A138.03TCGA  \\\nGID                                                                            \nNP_055726          -3.234778        0.319409        0.104248       -0.079256   \nNP_001012768       -6.996930        0.360444       -0.141749        0.201926   \nNP_009298          -3.741504       -0.402846        0.149830        0.405020   \nNP_001158287       -4.801382       -1.513057       -0.213603        0.133500   \nNP_001087          -5.496956       -1.688708        0.569288        0.401847   \n...                      ...             ...             ...             ...   \nNP_001017926       -5.149923        1.491220        0.443076        2.536722   \nNP_057286          -4.154874        0.237050        0.508056        0.725529   \nNP_001014972       -5.715702       -0.068401        0.185653        0.251906   \nNP_065883          -3.677292        0.078509        0.303118        0.434275   \nNP_056349          -4.238754       -0.671212       -0.381677       -1.740168   \n\n              E2-A154.03TCGA  BH-A0BZ.03TCGA  ...  C8-A134.32TCGA  \\\nGID                                           ...                   \nNP_055726          -0.690370       -4.511075  ...        0.710134   \nNP_001012768       -0.248022       -7.461227  ...       -0.268380   \nNP_009298           0.261651       -5.200286  ...       -0.123086   \nNP_001158287       -1.180792       -5.284991  ...       -0.198527   \nNP_001087          -0.701985       -6.783584  ...       -0.548591   \n...                      ...             ...  ...             ...   \nNP_001017926       -0.421928       -7.098965  ...        1.333852   \nNP_057286          -0.421928       -6.218882  ...        0.205823   \nNP_001014972       -2.355223       -8.187882  ...       -0.653970   \nNP_065883          -0.236165       -4.077807  ...        0.174988   \nNP_056349          -0.421928       -5.014893  ...        1.178179   \n\n              A2-A0YF.33TCGA  BH-A0DD.33TCGA  BH-A0E9.33TCGA  AR-A0TT.34TCGA  \\\nGID                                                                            \nNP_055726          -0.230225       -0.161544        0.708913       -0.001759   \nNP_001012768        0.626203        0.006788        0.282789        1.172411   \nNP_009298           0.190657       -0.772728        0.353347       -0.163126   \nNP_001158287        0.270646       -1.378614       -0.459689        0.165854   \nNP_001087          -0.383597       -1.324677       -0.872777       -0.944913   \n...                      ...             ...             ...             ...   \nNP_001017926        1.669293       -2.524881        0.628379       -1.122685   \nNP_057286           0.878653       -0.756635        0.068955        0.446611   \nNP_001014972       -0.680434       -0.110894       -0.363032        1.243520   \nNP_065883          -0.506008       -0.215751       -0.809599       -0.084559   \nNP_056349           0.168464       -1.453674       -0.164318       -1.652322   \n\n              AR-A1AQ.34TCGA  AO-A12B.34TCGA  263d3f-I.CPTAC  blcdb9-I.CPTAC  \\\nGID                                                                            \nNP_055726          -2.222012        0.570832       -0.779213       -0.692628   \nNP_001012768       -3.706673        1.532326       -0.317314        0.633994   \nNP_009298          -3.375357       -0.036891       -0.524419       -0.329602   \nNP_001158287       -2.793868        0.413877       -0.632400       -0.606736   \nNP_001087          -4.647350       -1.173691       -0.318336       -0.005126   \n...                      ...             ...             ...             ...   \nNP_001017926       -4.127449        1.450454       -0.433811       -0.777532   \nNP_057286          -3.561020        0.813827       -0.035270        1.195546   \nNP_001014972       -3.323659        2.221182        1.571155        1.748357   \nNP_065883          -2.488513        1.177841       -0.013299       -0.784907   \nNP_056349          -3.744435       -0.476366       -1.061257        0.629624   \n\n              c4155b-C.CPTAC  \nGID                           \nNP_055726          -0.554810  \nNP_001012768       -0.055454  \nNP_009298           0.057976  \nNP_001158287       -0.570325  \nNP_001087           0.485074  \n...                      ...  \nNP_001017926       -0.587880  \nNP_057286          -0.361020  \nNP_001014972        0.921431  \nNP_065883          -0.799403  \nNP_056349          -1.224476  \n\n[339 rows x 84 columns]",
      "text/html": "<div>\n<style scoped>\n    .dataframe tbody tr th:only-of-type {\n        vertical-align: middle;\n    }\n\n    .dataframe tbody tr th {\n        vertical-align: top;\n    }\n\n    .dataframe thead th {\n        text-align: right;\n    }\n</style>\n<table border=\"1\" class=\"dataframe\">\n  <thead>\n    <tr style=\"text-align: right;\">\n      <th></th>\n      <th>geneName</th>\n      <th>AO-A12D.01TCGA</th>\n      <th>C8-A131.01TCGA</th>\n      <th>AO-A12B.01TCGA</th>\n      <th>E2-A10A.02TCGA</th>\n      <th>BH-A18Q.02TCGA</th>\n      <th>C8-A130.02TCGA</th>\n      <th>C8-A138.03TCGA</th>\n      <th>E2-A154.03TCGA</th>\n      <th>BH-A0BZ.03TCGA</th>\n      <th>...</th>\n      <th>C8-A134.32TCGA</th>\n      <th>A2-A0YF.33TCGA</th>\n      <th>BH-A0DD.33TCGA</th>\n      <th>BH-A0E9.33TCGA</th>\n      <th>AR-A0TT.34TCGA</th>\n      <th>AR-A1AQ.34TCGA</th>\n      <th>AO-A12B.34TCGA</th>\n      <th>263d3f-I.CPTAC</th>\n      <th>blcdb9-I.CPTAC</th>\n      <th>c4155b-C.CPTAC</th>\n    </tr>\n    <tr>\n      <th>GID</th>\n      <th></th>\n      <th></th>\n      <th></th>\n      <th></th>\n      <th></th>\n      <th></th>\n      <th></th>\n      <th></th>\n      <th></th>\n      <th></th>\n      <th></th>\n      <th></th>\n      <th></th>\n      <th></th>\n      <th></th>\n      <th></th>\n      <th></th>\n      <th></th>\n      <th></th>\n      <th></th>\n      <th></th>\n    </tr>\n  </thead>\n  <tbody>\n    <tr>\n      <th>NP_055726</th>\n      <td>AAK1</td>\n      <td>0.348837</td>\n      <td>0.731615</td>\n      <td>0.922412</td>\n      <td>-3.234778</td>\n      <td>0.319409</td>\n      <td>0.104248</td>\n      <td>-0.079256</td>\n      <td>-0.690370</td>\n      <td>-4.511075</td>\n      <td>...</td>\n      <td>0.710134</td>\n      <td>-0.230225</td>\n      <td>-0.161544</td>\n      <td>0.708913</td>\n      <td>-0.001759</td>\n      <td>-2.222012</td>\n      <td>0.570832</td>\n      <td>-0.779213</td>\n      <td>-0.692628</td>\n      <td>-0.554810</td>\n    </tr>\n    <tr>\n      <th>NP_001012768</th>\n      <td>ABI1</td>\n      <td>1.037625</td>\n      <td>1.207672</td>\n      <td>1.804367</td>\n      <td>-6.996930</td>\n      <td>0.360444</td>\n      <td>-0.141749</td>\n      <td>0.201926</td>\n      <td>-0.248022</td>\n      <td>-7.461227</td>\n      <td>...</td>\n      <td>-0.268380</td>\n      <td>0.626203</td>\n      <td>0.006788</td>\n      <td>0.282789</td>\n      <td>1.172411</td>\n      <td>-3.706673</td>\n      <td>1.532326</td>\n      <td>-0.317314</td>\n      <td>0.633994</td>\n      <td>-0.055454</td>\n    </tr>\n    <tr>\n      <th>NP_009298</th>\n      <td>ABL2</td>\n      <td>-0.089558</td>\n      <td>0.795113</td>\n      <td>0.032274</td>\n      <td>-3.741504</td>\n      <td>-0.402846</td>\n      <td>0.149830</td>\n      <td>0.405020</td>\n      <td>0.261651</td>\n      <td>-5.200286</td>\n      <td>...</td>\n      <td>-0.123086</td>\n      <td>0.190657</td>\n      <td>-0.772728</td>\n      <td>0.353347</td>\n      <td>-0.163126</td>\n      <td>-3.375357</td>\n      <td>-0.036891</td>\n      <td>-0.524419</td>\n      <td>-0.329602</td>\n      <td>0.057976</td>\n    </tr>\n    <tr>\n      <th>NP_001158287</th>\n      <td>ACIN1</td>\n      <td>-0.289193</td>\n      <td>-0.726778</td>\n      <td>0.385874</td>\n      <td>-4.801382</td>\n      <td>-1.513057</td>\n      <td>-0.213603</td>\n      <td>0.133500</td>\n      <td>-1.180792</td>\n      <td>-5.284991</td>\n      <td>...</td>\n      <td>-0.198527</td>\n      <td>0.270646</td>\n      <td>-1.378614</td>\n      <td>-0.459689</td>\n      <td>0.165854</td>\n      <td>-2.793868</td>\n      <td>0.413877</td>\n      <td>-0.632400</td>\n      <td>-0.606736</td>\n      <td>-0.570325</td>\n    </tr>\n    <tr>\n      <th>NP_001087</th>\n      <td>ACLY</td>\n      <td>0.246291</td>\n      <td>0.181735</td>\n      <td>-0.738049</td>\n      <td>-5.496956</td>\n      <td>-1.688708</td>\n      <td>0.569288</td>\n      <td>0.401847</td>\n      <td>-0.701985</td>\n      <td>-6.783584</td>\n      <td>...</td>\n      <td>-0.548591</td>\n      <td>-0.383597</td>\n      <td>-1.324677</td>\n      <td>-0.872777</td>\n      <td>-0.944913</td>\n      <td>-4.647350</td>\n      <td>-1.173691</td>\n      <td>-0.318336</td>\n      <td>-0.005126</td>\n      <td>0.485074</td>\n    </tr>\n    <tr>\n      <th>...</th>\n      <td>...</td>\n      <td>...</td>\n      <td>...</td>\n      <td>...</td>\n      <td>...</td>\n      <td>...</td>\n      <td>...</td>\n      <td>...</td>\n      <td>...</td>\n      <td>...</td>\n      <td>...</td>\n      <td>...</td>\n      <td>...</td>\n      <td>...</td>\n      <td>...</td>\n      <td>...</td>\n      <td>...</td>\n      <td>...</td>\n      <td>...</td>\n      <td>...</td>\n      <td>...</td>\n    </tr>\n    <tr>\n      <th>NP_001017926</th>\n      <td>ZHX1</td>\n      <td>0.812765</td>\n      <td>1.555533</td>\n      <td>1.378293</td>\n      <td>-5.149923</td>\n      <td>1.491220</td>\n      <td>0.443076</td>\n      <td>2.536722</td>\n      <td>-0.421928</td>\n      <td>-7.098965</td>\n      <td>...</td>\n      <td>1.333852</td>\n      <td>1.669293</td>\n      <td>-2.524881</td>\n      <td>0.628379</td>\n      <td>-1.122685</td>\n      <td>-4.127449</td>\n      <td>1.450454</td>\n      <td>-0.433811</td>\n      <td>-0.777532</td>\n      <td>-0.587880</td>\n    </tr>\n    <tr>\n      <th>NP_057286</th>\n      <td>ZNF580</td>\n      <td>-0.294238</td>\n      <td>-0.284600</td>\n      <td>1.015341</td>\n      <td>-4.154874</td>\n      <td>0.237050</td>\n      <td>0.508056</td>\n      <td>0.725529</td>\n      <td>-0.421928</td>\n      <td>-6.218882</td>\n      <td>...</td>\n      <td>0.205823</td>\n      <td>0.878653</td>\n      <td>-0.756635</td>\n      <td>0.068955</td>\n      <td>0.446611</td>\n      <td>-3.561020</td>\n      <td>0.813827</td>\n      <td>-0.035270</td>\n      <td>1.195546</td>\n      <td>-0.361020</td>\n    </tr>\n    <tr>\n      <th>NP_001014972</th>\n      <td>ZNF638</td>\n      <td>-0.441262</td>\n      <td>-0.755976</td>\n      <td>-0.047213</td>\n      <td>-5.715702</td>\n      <td>-0.068401</td>\n      <td>0.185653</td>\n      <td>0.251906</td>\n      <td>-2.355223</td>\n      <td>-8.187882</td>\n      <td>...</td>\n      <td>-0.653970</td>\n      <td>-0.680434</td>\n      <td>-0.110894</td>\n      <td>-0.363032</td>\n      <td>1.243520</td>\n      <td>-3.323659</td>\n      <td>2.221182</td>\n      <td>1.571155</td>\n      <td>1.748357</td>\n      <td>0.921431</td>\n    </tr>\n    <tr>\n      <th>NP_065883</th>\n      <td>ZNF687</td>\n      <td>0.270345</td>\n      <td>0.525500</td>\n      <td>1.503660</td>\n      <td>-3.677292</td>\n      <td>0.078509</td>\n      <td>0.303118</td>\n      <td>0.434275</td>\n      <td>-0.236165</td>\n      <td>-4.077807</td>\n      <td>...</td>\n      <td>0.174988</td>\n      <td>-0.506008</td>\n      <td>-0.215751</td>\n      <td>-0.809599</td>\n      <td>-0.084559</td>\n      <td>-2.488513</td>\n      <td>1.177841</td>\n      <td>-0.013299</td>\n      <td>-0.784907</td>\n      <td>-0.799403</td>\n    </tr>\n    <tr>\n      <th>NP_056349</th>\n      <td>ZZZ3</td>\n      <td>-0.168835</td>\n      <td>0.847208</td>\n      <td>-0.776623</td>\n      <td>-4.238754</td>\n      <td>-0.671212</td>\n      <td>-0.381677</td>\n      <td>-1.740168</td>\n      <td>-0.421928</td>\n      <td>-5.014893</td>\n      <td>...</td>\n      <td>1.178179</td>\n      <td>0.168464</td>\n      <td>-1.453674</td>\n      <td>-0.164318</td>\n      <td>-1.652322</td>\n      <td>-3.744435</td>\n      <td>-0.476366</td>\n      <td>-1.061257</td>\n      <td>0.629624</td>\n      <td>-1.224476</td>\n    </tr>\n  </tbody>\n</table>\n<p>339 rows × 84 columns</p>\n</div>"
     },
     "execution_count": 251,
     "metadata": {},
     "output_type": "execute_result"
    }
   ],
   "source": [
    "pf = pf.reset_index().dropna(axis=0).set_index(\"GID\")\n",
    "pf"
   ],
   "metadata": {
    "collapsed": false,
    "pycharm": {
     "name": "#%%\n"
    }
   }
  },
  {
   "cell_type": "code",
   "execution_count": 252,
   "outputs": [
    {
     "data": {
      "text/plain": "['NP_055726',\n 'NP_001012768',\n 'NP_001158286',\n 'NP_942127',\n 'NP_004292',\n 'NP_789771',\n 'NP_001610',\n 'NP_008933',\n 'NP_001128119',\n 'NP_114152',\n 'NP_071921',\n 'NP_061877',\n 'NP_115593',\n 'NP_003655',\n 'NP_001645',\n 'NP_001649',\n 'NP_004299',\n 'NP_001006635',\n 'NP_065805',\n 'NP_006006',\n 'NP_036238',\n 'NP_060952',\n 'NP_060649',\n 'NP_056274',\n 'NP_612114',\n 'NP_009176',\n 'NP_542417',\n 'NP_037450',\n 'NP_038476',\n 'NP_005872',\n 'NP_005169',\n 'NP_004318',\n 'NP_001003800',\n 'NP_683692',\n 'NP_004450',\n 'NP_031397',\n 'NP_115728',\n 'NP_001153208',\n 'NP_078772',\n 'NP_061981',\n 'NP_001106207',\n 'NP_001161047',\n 'NP_006358',\n 'NP_001119526',\n 'NP_074036',\n 'NP_733762',\n 'NP_003646',\n 'NP_060191',\n 'NP_060707',\n 'NP_056418',\n 'NP_059995',\n 'NP_057591',\n 'NP_001790',\n 'NP_004335',\n 'NP_001264',\n 'NP_055940',\n 'NP_003644',\n 'NP_001116428',\n 'NP_000779',\n 'NP_689853',\n 'NP_778236',\n 'NP_003463',\n 'NP_065997',\n 'NP_073557',\n 'NP_003578',\n 'NP_004932',\n 'NP_005210',\n 'NP_001354',\n 'NP_005500',\n 'NP_443183',\n 'NP_065863',\n 'NP_001123520',\n 'NP_006259',\n 'NP_057225',\n 'NP_079359',\n 'NP_001952',\n 'NP_077305',\n 'NP_071334',\n 'NP_114414',\n 'NP_003741',\n 'NP_056988',\n 'NP_758961',\n 'NP_001008493',\n 'NP_055779',\n 'NP_006485',\n 'NP_839955',\n 'NP_060773',\n 'NP_055427',\n 'NP_835227',\n 'NP_149079',\n 'NP_112179',\n 'NP_443137',\n 'NP_001020119',\n 'NP_005244',\n 'NP_001032242',\n 'NP_612466',\n 'NP_001013456',\n 'NP_536739',\n 'NP_056390',\n 'NP_057657',\n 'NP_003866',\n 'NP_005265',\n 'NP_005266',\n 'NP_005886',\n 'NP_060510',\n 'NP_001002909',\n 'NP_997657',\n 'NP_004801',\n 'NP_079191',\n 'NP_001511',\n 'NP_001512',\n 'NP_006028',\n 'NP_116020',\n 'NP_003600',\n 'NP_919223',\n 'NP_112553',\n 'NP_004492',\n 'NP_001073027',\n 'NP_112420',\n 'NP_115786',\n 'NP_006635',\n 'NP_002152',\n 'NP_001070865',\n 'NP_002212',\n 'NP_060439',\n 'NP_116165',\n 'NP_003676',\n 'NP_055430',\n 'NP_055462',\n 'NP_056311',\n 'NP_065905',\n 'NP_065953',\n 'NP_904325',\n 'NP_006603',\n 'NP_005543',\n 'NP_036448',\n 'NP_008974',\n 'NP_001072990',\n 'NP_954658',\n 'NP_039269',\n 'NP_005564',\n 'NP_690852',\n 'NP_056393',\n 'NP_003179',\n 'NP_002366',\n 'NP_060537',\n 'NP_062552',\n 'NP_001129476',\n 'NP_061878',\n 'NP_115766',\n 'NP_733751',\n 'NP_055756',\n 'NP_056173',\n 'NP_059990',\n 'NP_004680',\n 'NP_848927',\n 'NP_002452',\n 'NP_001099008',\n 'NP_002464',\n 'NP_510880',\n 'NP_004136',\n 'NP_114430',\n 'NP_057537',\n 'NP_003734',\n 'NP_006531',\n 'NP_071922',\n 'NP_060418',\n 'NP_037524',\n 'NP_073568',\n 'NP_056169',\n 'NP_005076',\n 'NP_612142',\n 'NP_001096123',\n 'NP_005875',\n 'NP_002573',\n 'NP_689929',\n 'NP_002574',\n 'NP_055706',\n 'NP_001093869',\n 'NP_055847',\n 'NP_000457',\n 'NP_004557',\n 'NP_006658',\n 'NP_055475',\n 'NP_055968',\n 'NP_000284',\n 'NP_065952',\n 'NP_060895',\n 'NP_002636',\n 'NP_116201',\n 'NP_002678',\n 'NP_057056',\n 'NP_000928',\n 'NP_055844',\n 'NP_003617',\n 'NP_004783',\n 'NP_002705',\n 'NP_006233',\n 'NP_002726',\n 'NP_002792',\n 'NP_002799',\n 'NP_006805',\n 'NP_722560',\n 'NP_079433',\n 'NP_001020471',\n 'NP_002865',\n 'NP_057951',\n 'NP_065901',\n 'NP_006258',\n 'NP_003615',\n 'NP_733793',\n 'NP_075055',\n 'NP_067062',\n 'NP_071401',\n 'NP_444271',\n 'NP_001158275',\n 'NP_001138610',\n 'NP_114128',\n 'NP_652759',\n 'NP_067038',\n 'NP_075388',\n 'NP_067051',\n 'NP_001011553',\n 'NP_001018077',\n 'NP_003002',\n 'NP_054878',\n 'NP_055861',\n 'NP_005057',\n 'NP_008855',\n 'NP_005079',\n 'NP_003008',\n 'NP_005617',\n 'NP_061830',\n 'NP_055446',\n 'NP_056371',\n 'NP_055888',\n 'NP_036370',\n 'NP_055535',\n 'NP_001013865',\n 'NP_001122317',\n 'NP_003065',\n 'NP_003066',\n 'NP_055907',\n 'NP_078976',\n 'NP_003080',\n 'NP_036377',\n 'NP_055816',\n 'NP_842565',\n 'NP_003128',\n 'NP_872634',\n 'NP_005830',\n 'NP_056992',\n 'NP_003133',\n 'NP_003147',\n 'NP_060389',\n 'NP_003560',\n 'NP_006695',\n 'NP_003555',\n 'NP_056342',\n 'NP_001127853',\n 'NP_005641',\n 'NP_001128716',\n 'NP_003213',\n 'NP_003669',\n 'NP_005110',\n 'NP_060206',\n 'NP_001059',\n 'NP_689476',\n 'NP_037425',\n 'NP_056465',\n 'NP_005073',\n 'NP_148980',\n 'NP_004229',\n 'NP_001129507',\n 'NP_000539',\n 'NP_001138890',\n 'NP_004777',\n 'NP_057256',\n 'NP_055662',\n 'NP_065816',\n 'NP_056121',\n 'NP_079366',\n 'NP_006581',\n 'NP_079330',\n 'NP_056193',\n 'NP_567823',\n 'NP_001159898',\n 'NP_001108585',\n 'NP_443066',\n 'NP_001028691',\n 'NP_064520',\n 'NP_004897',\n 'NP_004550',\n 'NP_055642',\n 'NP_653205',\n 'NP_057562',\n 'NP_056272',\n 'NP_057191',\n 'NP_056161',\n 'NP_001017926',\n 'NP_001014972',\n 'NP_065883']"
     },
     "execution_count": 252,
     "metadata": {},
     "output_type": "execute_result"
    }
   ],
   "source": [
    "genes = gct[\"NAME\"].to_list()\n",
    "gid = gct.index.to_list()\n",
    "gene_dict = dict(zip(genes, gid))\n",
    "gg = list(pf[\"geneName\"][pf[\"geneName\"].isin(genes)])\n",
    "idx = [gene_dict[x] for x in gg]\n",
    "idx"
   ],
   "metadata": {
    "collapsed": false,
    "pycharm": {
     "name": "#%%\n"
    }
   }
  },
  {
   "cell_type": "code",
   "execution_count": 253,
   "outputs": [
    {
     "data": {
      "text/plain": "                 NAME  AO-A12D.01TCGA  C8-A131.01TCGA  AO-A12B.01TCGA  \\\nGID                                                                     \nNP_055726        AAK1        0.348837        0.731615        0.922412   \nNP_001012768     ABI1        1.037625        1.207672        1.804367   \nNP_001158287    ACIN1       -0.289193       -0.726778        0.385874   \nNP_001087        ACLY        0.246291        0.181735       -0.738049   \nNP_004292      ACTL6A       -0.140728       -0.309807        0.945206   \n...               ...             ...             ...             ...   \nNP_057191         ZFR        0.380342        0.123758        1.402841   \nNP_056161     ZFYVE26        0.107916       -0.297204        0.852276   \nNP_001017926     ZHX1        0.812765        1.555533        1.378293   \nNP_001014972   ZNF638       -0.441262       -0.755976       -0.047213   \nNP_065883      ZNF687        0.270345        0.525500        1.503660   \n\n              E2-A10A.02TCGA  BH-A18Q.02TCGA  C8-A130.02TCGA  C8-A138.03TCGA  \\\nGID                                                                            \nNP_055726          -3.234778        0.319409        0.104248       -0.079256   \nNP_001012768       -6.996930        0.360444       -0.141749        0.201926   \nNP_001158287       -4.801382       -1.513057       -0.213603        0.133500   \nNP_001087          -5.496956       -1.688708        0.569288        0.401847   \nNP_004292          -5.794648        2.114260        1.205347       -0.276458   \n...                      ...             ...             ...             ...   \nNP_057191          -4.858809       -0.159429        0.455572       -0.071776   \nNP_056161          -5.720636       -0.843155       -0.226724        1.058732   \nNP_001017926       -5.149923        1.491220        0.443076        2.536722   \nNP_001014972       -5.715702       -0.068401        0.185653        0.251906   \nNP_065883          -3.677292        0.078509        0.303118        0.434275   \n\n              E2-A154.03TCGA  BH-A0BZ.03TCGA  ...  C8-A134.32TCGA  \\\nGID                                           ...                   \nNP_055726          -0.690370       -4.511075  ...        0.710134   \nNP_001012768       -0.248022       -7.461227  ...       -0.268380   \nNP_001158287       -1.180792       -5.284991  ...       -0.198527   \nNP_001087          -0.701985       -6.783584  ...       -0.548591   \nNP_004292          -1.029471       -6.088893  ...        0.416580   \n...                      ...             ...  ...             ...   \nNP_057191          -0.771999       -7.403691  ...        0.349521   \nNP_056161          -0.765224       -8.166573  ...       -0.244431   \nNP_001017926       -0.421928       -7.098965  ...        1.333852   \nNP_001014972       -2.355223       -8.187882  ...       -0.653970   \nNP_065883          -0.236165       -4.077807  ...        0.174988   \n\n              A2-A0YF.33TCGA  BH-A0DD.33TCGA  BH-A0E9.33TCGA  AR-A0TT.34TCGA  \\\nGID                                                                            \nNP_055726          -0.230225       -0.161544        0.708913       -0.001759   \nNP_001012768        0.626203        0.006788        0.282789        1.172411   \nNP_001158287        0.270646       -1.378614       -0.459689        0.165854   \nNP_001087          -0.383597       -1.324677       -0.872777       -0.944913   \nNP_004292           0.332140        0.562005        0.557101       -0.159039   \n...                      ...             ...             ...             ...   \nNP_057191           0.290528       -0.664602       -0.278794       -0.369913   \nNP_056161           0.190657       -0.667619       -0.823098        1.027741   \nNP_001017926        1.669293       -2.524881        0.628379       -1.122685   \nNP_001014972       -0.680434       -0.110894       -0.363032        1.243520   \nNP_065883          -0.506008       -0.215751       -0.809599       -0.084559   \n\n              AR-A1AQ.34TCGA  AO-A12B.34TCGA  263d3f-I.CPTAC  blcdb9-I.CPTAC  \\\nGID                                                                            \nNP_055726          -2.222012        0.570832       -0.779213       -0.692628   \nNP_001012768       -3.706673        1.532326       -0.317314        0.633994   \nNP_001158287       -2.793868        0.413877       -0.632400       -0.606736   \nNP_001087          -4.647350       -1.173691       -0.318336       -0.005126   \nNP_004292          -3.859069        0.902757       -0.732205       -2.064512   \n...                      ...             ...             ...             ...   \nNP_057191          -3.508423        1.343173       -0.121110        0.312796   \nNP_056161          -4.224551        0.571034        1.152176       -0.318677   \nNP_001017926       -4.127449        1.450454       -0.433811       -0.777532   \nNP_001014972       -3.323659        2.221182        1.571155        1.748357   \nNP_065883          -2.488513        1.177841       -0.013299       -0.784907   \n\n              c4155b-C.CPTAC  \nGID                           \nNP_055726          -0.554810  \nNP_001012768       -0.055454  \nNP_001158287       -0.570325  \nNP_001087           0.485074  \nNP_004292          -0.236016  \n...                      ...  \nNP_057191          -0.249905  \nNP_056161           1.641364  \nNP_001017926       -0.587880  \nNP_001014972        0.921431  \nNP_065883          -0.799403  \n\n[302 rows x 84 columns]",
      "text/html": "<div>\n<style scoped>\n    .dataframe tbody tr th:only-of-type {\n        vertical-align: middle;\n    }\n\n    .dataframe tbody tr th {\n        vertical-align: top;\n    }\n\n    .dataframe thead th {\n        text-align: right;\n    }\n</style>\n<table border=\"1\" class=\"dataframe\">\n  <thead>\n    <tr style=\"text-align: right;\">\n      <th></th>\n      <th>NAME</th>\n      <th>AO-A12D.01TCGA</th>\n      <th>C8-A131.01TCGA</th>\n      <th>AO-A12B.01TCGA</th>\n      <th>E2-A10A.02TCGA</th>\n      <th>BH-A18Q.02TCGA</th>\n      <th>C8-A130.02TCGA</th>\n      <th>C8-A138.03TCGA</th>\n      <th>E2-A154.03TCGA</th>\n      <th>BH-A0BZ.03TCGA</th>\n      <th>...</th>\n      <th>C8-A134.32TCGA</th>\n      <th>A2-A0YF.33TCGA</th>\n      <th>BH-A0DD.33TCGA</th>\n      <th>BH-A0E9.33TCGA</th>\n      <th>AR-A0TT.34TCGA</th>\n      <th>AR-A1AQ.34TCGA</th>\n      <th>AO-A12B.34TCGA</th>\n      <th>263d3f-I.CPTAC</th>\n      <th>blcdb9-I.CPTAC</th>\n      <th>c4155b-C.CPTAC</th>\n    </tr>\n    <tr>\n      <th>GID</th>\n      <th></th>\n      <th></th>\n      <th></th>\n      <th></th>\n      <th></th>\n      <th></th>\n      <th></th>\n      <th></th>\n      <th></th>\n      <th></th>\n      <th></th>\n      <th></th>\n      <th></th>\n      <th></th>\n      <th></th>\n      <th></th>\n      <th></th>\n      <th></th>\n      <th></th>\n      <th></th>\n      <th></th>\n    </tr>\n  </thead>\n  <tbody>\n    <tr>\n      <th>NP_055726</th>\n      <td>AAK1</td>\n      <td>0.348837</td>\n      <td>0.731615</td>\n      <td>0.922412</td>\n      <td>-3.234778</td>\n      <td>0.319409</td>\n      <td>0.104248</td>\n      <td>-0.079256</td>\n      <td>-0.690370</td>\n      <td>-4.511075</td>\n      <td>...</td>\n      <td>0.710134</td>\n      <td>-0.230225</td>\n      <td>-0.161544</td>\n      <td>0.708913</td>\n      <td>-0.001759</td>\n      <td>-2.222012</td>\n      <td>0.570832</td>\n      <td>-0.779213</td>\n      <td>-0.692628</td>\n      <td>-0.554810</td>\n    </tr>\n    <tr>\n      <th>NP_001012768</th>\n      <td>ABI1</td>\n      <td>1.037625</td>\n      <td>1.207672</td>\n      <td>1.804367</td>\n      <td>-6.996930</td>\n      <td>0.360444</td>\n      <td>-0.141749</td>\n      <td>0.201926</td>\n      <td>-0.248022</td>\n      <td>-7.461227</td>\n      <td>...</td>\n      <td>-0.268380</td>\n      <td>0.626203</td>\n      <td>0.006788</td>\n      <td>0.282789</td>\n      <td>1.172411</td>\n      <td>-3.706673</td>\n      <td>1.532326</td>\n      <td>-0.317314</td>\n      <td>0.633994</td>\n      <td>-0.055454</td>\n    </tr>\n    <tr>\n      <th>NP_001158287</th>\n      <td>ACIN1</td>\n      <td>-0.289193</td>\n      <td>-0.726778</td>\n      <td>0.385874</td>\n      <td>-4.801382</td>\n      <td>-1.513057</td>\n      <td>-0.213603</td>\n      <td>0.133500</td>\n      <td>-1.180792</td>\n      <td>-5.284991</td>\n      <td>...</td>\n      <td>-0.198527</td>\n      <td>0.270646</td>\n      <td>-1.378614</td>\n      <td>-0.459689</td>\n      <td>0.165854</td>\n      <td>-2.793868</td>\n      <td>0.413877</td>\n      <td>-0.632400</td>\n      <td>-0.606736</td>\n      <td>-0.570325</td>\n    </tr>\n    <tr>\n      <th>NP_001087</th>\n      <td>ACLY</td>\n      <td>0.246291</td>\n      <td>0.181735</td>\n      <td>-0.738049</td>\n      <td>-5.496956</td>\n      <td>-1.688708</td>\n      <td>0.569288</td>\n      <td>0.401847</td>\n      <td>-0.701985</td>\n      <td>-6.783584</td>\n      <td>...</td>\n      <td>-0.548591</td>\n      <td>-0.383597</td>\n      <td>-1.324677</td>\n      <td>-0.872777</td>\n      <td>-0.944913</td>\n      <td>-4.647350</td>\n      <td>-1.173691</td>\n      <td>-0.318336</td>\n      <td>-0.005126</td>\n      <td>0.485074</td>\n    </tr>\n    <tr>\n      <th>NP_004292</th>\n      <td>ACTL6A</td>\n      <td>-0.140728</td>\n      <td>-0.309807</td>\n      <td>0.945206</td>\n      <td>-5.794648</td>\n      <td>2.114260</td>\n      <td>1.205347</td>\n      <td>-0.276458</td>\n      <td>-1.029471</td>\n      <td>-6.088893</td>\n      <td>...</td>\n      <td>0.416580</td>\n      <td>0.332140</td>\n      <td>0.562005</td>\n      <td>0.557101</td>\n      <td>-0.159039</td>\n      <td>-3.859069</td>\n      <td>0.902757</td>\n      <td>-0.732205</td>\n      <td>-2.064512</td>\n      <td>-0.236016</td>\n    </tr>\n    <tr>\n      <th>...</th>\n      <td>...</td>\n      <td>...</td>\n      <td>...</td>\n      <td>...</td>\n      <td>...</td>\n      <td>...</td>\n      <td>...</td>\n      <td>...</td>\n      <td>...</td>\n      <td>...</td>\n      <td>...</td>\n      <td>...</td>\n      <td>...</td>\n      <td>...</td>\n      <td>...</td>\n      <td>...</td>\n      <td>...</td>\n      <td>...</td>\n      <td>...</td>\n      <td>...</td>\n      <td>...</td>\n    </tr>\n    <tr>\n      <th>NP_057191</th>\n      <td>ZFR</td>\n      <td>0.380342</td>\n      <td>0.123758</td>\n      <td>1.402841</td>\n      <td>-4.858809</td>\n      <td>-0.159429</td>\n      <td>0.455572</td>\n      <td>-0.071776</td>\n      <td>-0.771999</td>\n      <td>-7.403691</td>\n      <td>...</td>\n      <td>0.349521</td>\n      <td>0.290528</td>\n      <td>-0.664602</td>\n      <td>-0.278794</td>\n      <td>-0.369913</td>\n      <td>-3.508423</td>\n      <td>1.343173</td>\n      <td>-0.121110</td>\n      <td>0.312796</td>\n      <td>-0.249905</td>\n    </tr>\n    <tr>\n      <th>NP_056161</th>\n      <td>ZFYVE26</td>\n      <td>0.107916</td>\n      <td>-0.297204</td>\n      <td>0.852276</td>\n      <td>-5.720636</td>\n      <td>-0.843155</td>\n      <td>-0.226724</td>\n      <td>1.058732</td>\n      <td>-0.765224</td>\n      <td>-8.166573</td>\n      <td>...</td>\n      <td>-0.244431</td>\n      <td>0.190657</td>\n      <td>-0.667619</td>\n      <td>-0.823098</td>\n      <td>1.027741</td>\n      <td>-4.224551</td>\n      <td>0.571034</td>\n      <td>1.152176</td>\n      <td>-0.318677</td>\n      <td>1.641364</td>\n    </tr>\n    <tr>\n      <th>NP_001017926</th>\n      <td>ZHX1</td>\n      <td>0.812765</td>\n      <td>1.555533</td>\n      <td>1.378293</td>\n      <td>-5.149923</td>\n      <td>1.491220</td>\n      <td>0.443076</td>\n      <td>2.536722</td>\n      <td>-0.421928</td>\n      <td>-7.098965</td>\n      <td>...</td>\n      <td>1.333852</td>\n      <td>1.669293</td>\n      <td>-2.524881</td>\n      <td>0.628379</td>\n      <td>-1.122685</td>\n      <td>-4.127449</td>\n      <td>1.450454</td>\n      <td>-0.433811</td>\n      <td>-0.777532</td>\n      <td>-0.587880</td>\n    </tr>\n    <tr>\n      <th>NP_001014972</th>\n      <td>ZNF638</td>\n      <td>-0.441262</td>\n      <td>-0.755976</td>\n      <td>-0.047213</td>\n      <td>-5.715702</td>\n      <td>-0.068401</td>\n      <td>0.185653</td>\n      <td>0.251906</td>\n      <td>-2.355223</td>\n      <td>-8.187882</td>\n      <td>...</td>\n      <td>-0.653970</td>\n      <td>-0.680434</td>\n      <td>-0.110894</td>\n      <td>-0.363032</td>\n      <td>1.243520</td>\n      <td>-3.323659</td>\n      <td>2.221182</td>\n      <td>1.571155</td>\n      <td>1.748357</td>\n      <td>0.921431</td>\n    </tr>\n    <tr>\n      <th>NP_065883</th>\n      <td>ZNF687</td>\n      <td>0.270345</td>\n      <td>0.525500</td>\n      <td>1.503660</td>\n      <td>-3.677292</td>\n      <td>0.078509</td>\n      <td>0.303118</td>\n      <td>0.434275</td>\n      <td>-0.236165</td>\n      <td>-4.077807</td>\n      <td>...</td>\n      <td>0.174988</td>\n      <td>-0.506008</td>\n      <td>-0.215751</td>\n      <td>-0.809599</td>\n      <td>-0.084559</td>\n      <td>-2.488513</td>\n      <td>1.177841</td>\n      <td>-0.013299</td>\n      <td>-0.784907</td>\n      <td>-0.799403</td>\n    </tr>\n  </tbody>\n</table>\n<p>302 rows × 84 columns</p>\n</div>"
     },
     "execution_count": 253,
     "metadata": {},
     "output_type": "execute_result"
    }
   ],
   "source": [
    "pf = pf[pf[\"geneName\"].isin(genes)]\n",
    "pf.rename(columns={\"geneName\":\"NAME\"})"
   ],
   "metadata": {
    "collapsed": false,
    "pycharm": {
     "name": "#%%\n"
    }
   }
  },
  {
   "cell_type": "code",
   "execution_count": 183,
   "outputs": [],
   "source": [
    "pf.index = idx\n",
    "pf.to_csv(\"phophor_gct.csv\")"
   ],
   "metadata": {
    "collapsed": false,
    "pycharm": {
     "name": "#%%\n"
    }
   }
  },
  {
   "cell_type": "code",
   "execution_count": 192,
   "outputs": [
    {
     "data": {
      "text/plain": "                 NAME  AO-A12D.01TCGA  C8-A131.01TCGA  AO-A12B.01TCGA  \\\nNP_055726        AAK1        0.348837        0.731615        0.922412   \nNP_001012768     ABI1        1.037625        1.207672        1.804367   \nNP_001158286    ACIN1       -0.289193       -0.726778        0.385874   \nNP_942127        ACLY        0.246291        0.181735       -0.738049   \nNP_004292      ACTL6A       -0.140728       -0.309807        0.945206   \n...               ...             ...             ...             ...   \nNP_057191         ZFR        0.380342        0.123758        1.402841   \nNP_056161     ZFYVE26        0.107916       -0.297204        0.852276   \nNP_001017926     ZHX1        0.812765        1.555533        1.378293   \nNP_001014972   ZNF638       -0.441262       -0.755976       -0.047213   \nNP_065883      ZNF687        0.270345        0.525500        1.503660   \n\n              E2-A10A.02TCGA  BH-A18Q.02TCGA  C8-A130.02TCGA  C8-A138.03TCGA  \\\nNP_055726          -3.234778        0.319409        0.104248       -0.079256   \nNP_001012768       -6.996930        0.360444       -0.141749        0.201926   \nNP_001158286       -4.801382       -1.513057       -0.213603        0.133500   \nNP_942127          -5.496956       -1.688708        0.569288        0.401847   \nNP_004292          -5.794648        2.114260        1.205347       -0.276458   \n...                      ...             ...             ...             ...   \nNP_057191          -4.858809       -0.159429        0.455572       -0.071776   \nNP_056161          -5.720636       -0.843155       -0.226724        1.058732   \nNP_001017926       -5.149923        1.491220        0.443076        2.536722   \nNP_001014972       -5.715702       -0.068401        0.185653        0.251906   \nNP_065883          -3.677292        0.078509        0.303118        0.434275   \n\n              E2-A154.03TCGA  BH-A0BZ.03TCGA  ...  C8-A134.32TCGA  \\\nNP_055726          -0.690370       -4.511075  ...        0.710134   \nNP_001012768       -0.248022       -7.461227  ...       -0.268380   \nNP_001158286       -1.180792       -5.284991  ...       -0.198527   \nNP_942127          -0.701985       -6.783584  ...       -0.548591   \nNP_004292          -1.029471       -6.088893  ...        0.416580   \n...                      ...             ...  ...             ...   \nNP_057191          -0.771999       -7.403691  ...        0.349521   \nNP_056161          -0.765224       -8.166573  ...       -0.244431   \nNP_001017926       -0.421928       -7.098965  ...        1.333852   \nNP_001014972       -2.355223       -8.187882  ...       -0.653970   \nNP_065883          -0.236165       -4.077807  ...        0.174988   \n\n              A2-A0YF.33TCGA  BH-A0DD.33TCGA  BH-A0E9.33TCGA  AR-A0TT.34TCGA  \\\nNP_055726          -0.230225       -0.161544        0.708913       -0.001759   \nNP_001012768        0.626203        0.006788        0.282789        1.172411   \nNP_001158286        0.270646       -1.378614       -0.459689        0.165854   \nNP_942127          -0.383597       -1.324677       -0.872777       -0.944913   \nNP_004292           0.332140        0.562005        0.557101       -0.159039   \n...                      ...             ...             ...             ...   \nNP_057191           0.290528       -0.664602       -0.278794       -0.369913   \nNP_056161           0.190657       -0.667619       -0.823098        1.027741   \nNP_001017926        1.669293       -2.524881        0.628379       -1.122685   \nNP_001014972       -0.680434       -0.110894       -0.363032        1.243520   \nNP_065883          -0.506008       -0.215751       -0.809599       -0.084559   \n\n              AR-A1AQ.34TCGA  AO-A12B.34TCGA  263d3f-I.CPTAC  blcdb9-I.CPTAC  \\\nNP_055726          -2.222012        0.570832       -0.779213       -0.692628   \nNP_001012768       -3.706673        1.532326       -0.317314        0.633994   \nNP_001158286       -2.793868        0.413877       -0.632400       -0.606736   \nNP_942127          -4.647350       -1.173691       -0.318336       -0.005126   \nNP_004292          -3.859069        0.902757       -0.732205       -2.064512   \n...                      ...             ...             ...             ...   \nNP_057191          -3.508423        1.343173       -0.121110        0.312796   \nNP_056161          -4.224551        0.571034        1.152176       -0.318677   \nNP_001017926       -4.127449        1.450454       -0.433811       -0.777532   \nNP_001014972       -3.323659        2.221182        1.571155        1.748357   \nNP_065883          -2.488513        1.177841       -0.013299       -0.784907   \n\n              c4155b-C.CPTAC  \nNP_055726          -0.554810  \nNP_001012768       -0.055454  \nNP_001158286       -0.570325  \nNP_942127           0.485074  \nNP_004292          -0.236016  \n...                      ...  \nNP_057191          -0.249905  \nNP_056161           1.641364  \nNP_001017926       -0.587880  \nNP_001014972        0.921431  \nNP_065883          -0.799403  \n\n[301 rows x 84 columns]",
      "text/html": "<div>\n<style scoped>\n    .dataframe tbody tr th:only-of-type {\n        vertical-align: middle;\n    }\n\n    .dataframe tbody tr th {\n        vertical-align: top;\n    }\n\n    .dataframe thead th {\n        text-align: right;\n    }\n</style>\n<table border=\"1\" class=\"dataframe\">\n  <thead>\n    <tr style=\"text-align: right;\">\n      <th></th>\n      <th>NAME</th>\n      <th>AO-A12D.01TCGA</th>\n      <th>C8-A131.01TCGA</th>\n      <th>AO-A12B.01TCGA</th>\n      <th>E2-A10A.02TCGA</th>\n      <th>BH-A18Q.02TCGA</th>\n      <th>C8-A130.02TCGA</th>\n      <th>C8-A138.03TCGA</th>\n      <th>E2-A154.03TCGA</th>\n      <th>BH-A0BZ.03TCGA</th>\n      <th>...</th>\n      <th>C8-A134.32TCGA</th>\n      <th>A2-A0YF.33TCGA</th>\n      <th>BH-A0DD.33TCGA</th>\n      <th>BH-A0E9.33TCGA</th>\n      <th>AR-A0TT.34TCGA</th>\n      <th>AR-A1AQ.34TCGA</th>\n      <th>AO-A12B.34TCGA</th>\n      <th>263d3f-I.CPTAC</th>\n      <th>blcdb9-I.CPTAC</th>\n      <th>c4155b-C.CPTAC</th>\n    </tr>\n  </thead>\n  <tbody>\n    <tr>\n      <th>NP_055726</th>\n      <td>AAK1</td>\n      <td>0.348837</td>\n      <td>0.731615</td>\n      <td>0.922412</td>\n      <td>-3.234778</td>\n      <td>0.319409</td>\n      <td>0.104248</td>\n      <td>-0.079256</td>\n      <td>-0.690370</td>\n      <td>-4.511075</td>\n      <td>...</td>\n      <td>0.710134</td>\n      <td>-0.230225</td>\n      <td>-0.161544</td>\n      <td>0.708913</td>\n      <td>-0.001759</td>\n      <td>-2.222012</td>\n      <td>0.570832</td>\n      <td>-0.779213</td>\n      <td>-0.692628</td>\n      <td>-0.554810</td>\n    </tr>\n    <tr>\n      <th>NP_001012768</th>\n      <td>ABI1</td>\n      <td>1.037625</td>\n      <td>1.207672</td>\n      <td>1.804367</td>\n      <td>-6.996930</td>\n      <td>0.360444</td>\n      <td>-0.141749</td>\n      <td>0.201926</td>\n      <td>-0.248022</td>\n      <td>-7.461227</td>\n      <td>...</td>\n      <td>-0.268380</td>\n      <td>0.626203</td>\n      <td>0.006788</td>\n      <td>0.282789</td>\n      <td>1.172411</td>\n      <td>-3.706673</td>\n      <td>1.532326</td>\n      <td>-0.317314</td>\n      <td>0.633994</td>\n      <td>-0.055454</td>\n    </tr>\n    <tr>\n      <th>NP_001158286</th>\n      <td>ACIN1</td>\n      <td>-0.289193</td>\n      <td>-0.726778</td>\n      <td>0.385874</td>\n      <td>-4.801382</td>\n      <td>-1.513057</td>\n      <td>-0.213603</td>\n      <td>0.133500</td>\n      <td>-1.180792</td>\n      <td>-5.284991</td>\n      <td>...</td>\n      <td>-0.198527</td>\n      <td>0.270646</td>\n      <td>-1.378614</td>\n      <td>-0.459689</td>\n      <td>0.165854</td>\n      <td>-2.793868</td>\n      <td>0.413877</td>\n      <td>-0.632400</td>\n      <td>-0.606736</td>\n      <td>-0.570325</td>\n    </tr>\n    <tr>\n      <th>NP_942127</th>\n      <td>ACLY</td>\n      <td>0.246291</td>\n      <td>0.181735</td>\n      <td>-0.738049</td>\n      <td>-5.496956</td>\n      <td>-1.688708</td>\n      <td>0.569288</td>\n      <td>0.401847</td>\n      <td>-0.701985</td>\n      <td>-6.783584</td>\n      <td>...</td>\n      <td>-0.548591</td>\n      <td>-0.383597</td>\n      <td>-1.324677</td>\n      <td>-0.872777</td>\n      <td>-0.944913</td>\n      <td>-4.647350</td>\n      <td>-1.173691</td>\n      <td>-0.318336</td>\n      <td>-0.005126</td>\n      <td>0.485074</td>\n    </tr>\n    <tr>\n      <th>NP_004292</th>\n      <td>ACTL6A</td>\n      <td>-0.140728</td>\n      <td>-0.309807</td>\n      <td>0.945206</td>\n      <td>-5.794648</td>\n      <td>2.114260</td>\n      <td>1.205347</td>\n      <td>-0.276458</td>\n      <td>-1.029471</td>\n      <td>-6.088893</td>\n      <td>...</td>\n      <td>0.416580</td>\n      <td>0.332140</td>\n      <td>0.562005</td>\n      <td>0.557101</td>\n      <td>-0.159039</td>\n      <td>-3.859069</td>\n      <td>0.902757</td>\n      <td>-0.732205</td>\n      <td>-2.064512</td>\n      <td>-0.236016</td>\n    </tr>\n    <tr>\n      <th>...</th>\n      <td>...</td>\n      <td>...</td>\n      <td>...</td>\n      <td>...</td>\n      <td>...</td>\n      <td>...</td>\n      <td>...</td>\n      <td>...</td>\n      <td>...</td>\n      <td>...</td>\n      <td>...</td>\n      <td>...</td>\n      <td>...</td>\n      <td>...</td>\n      <td>...</td>\n      <td>...</td>\n      <td>...</td>\n      <td>...</td>\n      <td>...</td>\n      <td>...</td>\n      <td>...</td>\n    </tr>\n    <tr>\n      <th>NP_057191</th>\n      <td>ZFR</td>\n      <td>0.380342</td>\n      <td>0.123758</td>\n      <td>1.402841</td>\n      <td>-4.858809</td>\n      <td>-0.159429</td>\n      <td>0.455572</td>\n      <td>-0.071776</td>\n      <td>-0.771999</td>\n      <td>-7.403691</td>\n      <td>...</td>\n      <td>0.349521</td>\n      <td>0.290528</td>\n      <td>-0.664602</td>\n      <td>-0.278794</td>\n      <td>-0.369913</td>\n      <td>-3.508423</td>\n      <td>1.343173</td>\n      <td>-0.121110</td>\n      <td>0.312796</td>\n      <td>-0.249905</td>\n    </tr>\n    <tr>\n      <th>NP_056161</th>\n      <td>ZFYVE26</td>\n      <td>0.107916</td>\n      <td>-0.297204</td>\n      <td>0.852276</td>\n      <td>-5.720636</td>\n      <td>-0.843155</td>\n      <td>-0.226724</td>\n      <td>1.058732</td>\n      <td>-0.765224</td>\n      <td>-8.166573</td>\n      <td>...</td>\n      <td>-0.244431</td>\n      <td>0.190657</td>\n      <td>-0.667619</td>\n      <td>-0.823098</td>\n      <td>1.027741</td>\n      <td>-4.224551</td>\n      <td>0.571034</td>\n      <td>1.152176</td>\n      <td>-0.318677</td>\n      <td>1.641364</td>\n    </tr>\n    <tr>\n      <th>NP_001017926</th>\n      <td>ZHX1</td>\n      <td>0.812765</td>\n      <td>1.555533</td>\n      <td>1.378293</td>\n      <td>-5.149923</td>\n      <td>1.491220</td>\n      <td>0.443076</td>\n      <td>2.536722</td>\n      <td>-0.421928</td>\n      <td>-7.098965</td>\n      <td>...</td>\n      <td>1.333852</td>\n      <td>1.669293</td>\n      <td>-2.524881</td>\n      <td>0.628379</td>\n      <td>-1.122685</td>\n      <td>-4.127449</td>\n      <td>1.450454</td>\n      <td>-0.433811</td>\n      <td>-0.777532</td>\n      <td>-0.587880</td>\n    </tr>\n    <tr>\n      <th>NP_001014972</th>\n      <td>ZNF638</td>\n      <td>-0.441262</td>\n      <td>-0.755976</td>\n      <td>-0.047213</td>\n      <td>-5.715702</td>\n      <td>-0.068401</td>\n      <td>0.185653</td>\n      <td>0.251906</td>\n      <td>-2.355223</td>\n      <td>-8.187882</td>\n      <td>...</td>\n      <td>-0.653970</td>\n      <td>-0.680434</td>\n      <td>-0.110894</td>\n      <td>-0.363032</td>\n      <td>1.243520</td>\n      <td>-3.323659</td>\n      <td>2.221182</td>\n      <td>1.571155</td>\n      <td>1.748357</td>\n      <td>0.921431</td>\n    </tr>\n    <tr>\n      <th>NP_065883</th>\n      <td>ZNF687</td>\n      <td>0.270345</td>\n      <td>0.525500</td>\n      <td>1.503660</td>\n      <td>-3.677292</td>\n      <td>0.078509</td>\n      <td>0.303118</td>\n      <td>0.434275</td>\n      <td>-0.236165</td>\n      <td>-4.077807</td>\n      <td>...</td>\n      <td>0.174988</td>\n      <td>-0.506008</td>\n      <td>-0.215751</td>\n      <td>-0.809599</td>\n      <td>-0.084559</td>\n      <td>-2.488513</td>\n      <td>1.177841</td>\n      <td>-0.013299</td>\n      <td>-0.784907</td>\n      <td>-0.799403</td>\n    </tr>\n  </tbody>\n</table>\n<p>301 rows × 84 columns</p>\n</div>"
     },
     "execution_count": 192,
     "metadata": {},
     "output_type": "execute_result"
    }
   ],
   "source": [
    "pf"
   ],
   "metadata": {
    "collapsed": false,
    "pycharm": {
     "name": "#%%\n"
    }
   }
  },
  {
   "cell_type": "code",
   "execution_count": 254,
   "outputs": [
    {
     "name": "stderr",
     "output_type": "stream",
     "text": [
      "C:\\Users\\Lukasz\\AppData\\Local\\Temp\\ipykernel_34728\\2186045791.py:2: SettingWithCopyWarning: \n",
      "A value is trying to be set on a copy of a slice from a DataFrame.\n",
      "Try using .loc[row_indexer,col_indexer] = value instead\n",
      "\n",
      "See the caveats in the documentation: https://pandas.pydata.org/pandas-docs/stable/user_guide/indexing.html#returning-a-view-versus-a-copy\n",
      "  pf[col] = pd.to_numeric(pf.loc[:,col].copy())\n"
     ]
    }
   ],
   "source": [
    "for col in pf.columns[1:]:\n",
    "    pf[col] = pd.to_numeric(pf.loc[:,col].copy())\n",
    "\n",
    "\n",
    "std = []\n",
    "idx = []\n",
    "for index, row in pf.iterrows():\n",
    "    dev = np.std(row[1:])\n",
    "    if dev > 1.5:\n",
    "        idx.append(index)\n",
    "pf = pf[pf.index.isin(idx)]\n",
    "pf.to_csv(\"phophor_gct.csv\")"
   ],
   "metadata": {
    "collapsed": false,
    "pycharm": {
     "name": "#%%\n"
    }
   }
  },
  {
   "cell_type": "code",
   "execution_count": 218,
   "outputs": [
    {
     "data": {
      "text/plain": "             geneName  AO-A12D.01TCGA  C8-A131.01TCGA  AO-A12B.01TCGA  \\\nGID                                                                     \nNP_055726        AAK1        0.348837        0.731615        0.922412   \nNP_001012768     ABI1        1.037625        1.207672        1.804367   \nNP_001158287    ACIN1       -0.289193       -0.726778        0.385874   \nNP_001087        ACLY        0.246291        0.181735       -0.738049   \nNP_004292      ACTL6A       -0.140728       -0.309807        0.945206   \n...               ...             ...             ...             ...   \nNP_057191         ZFR        0.380342        0.123758        1.402841   \nNP_056161     ZFYVE26        0.107916       -0.297204        0.852276   \nNP_001017926     ZHX1        0.812765        1.555533        1.378293   \nNP_001014972   ZNF638       -0.441262       -0.755976       -0.047213   \nNP_065883      ZNF687        0.270345        0.525500        1.503660   \n\n              E2-A10A.02TCGA  BH-A18Q.02TCGA  C8-A130.02TCGA  C8-A138.03TCGA  \\\nGID                                                                            \nNP_055726          -3.234778        0.319409        0.104248       -0.079256   \nNP_001012768       -6.996930        0.360444       -0.141749        0.201926   \nNP_001158287       -4.801382       -1.513057       -0.213603        0.133500   \nNP_001087          -5.496956       -1.688708        0.569288        0.401847   \nNP_004292          -5.794648        2.114260        1.205347       -0.276458   \n...                      ...             ...             ...             ...   \nNP_057191          -4.858809       -0.159429        0.455572       -0.071776   \nNP_056161          -5.720636       -0.843155       -0.226724        1.058732   \nNP_001017926       -5.149923        1.491220        0.443076        2.536722   \nNP_001014972       -5.715702       -0.068401        0.185653        0.251906   \nNP_065883          -3.677292        0.078509        0.303118        0.434275   \n\n              E2-A154.03TCGA  BH-A0BZ.03TCGA  ...  C8-A134.32TCGA  \\\nGID                                           ...                   \nNP_055726          -0.690370       -4.511075  ...        0.710134   \nNP_001012768       -0.248022       -7.461227  ...       -0.268380   \nNP_001158287       -1.180792       -5.284991  ...       -0.198527   \nNP_001087          -0.701985       -6.783584  ...       -0.548591   \nNP_004292          -1.029471       -6.088893  ...        0.416580   \n...                      ...             ...  ...             ...   \nNP_057191          -0.771999       -7.403691  ...        0.349521   \nNP_056161          -0.765224       -8.166573  ...       -0.244431   \nNP_001017926       -0.421928       -7.098965  ...        1.333852   \nNP_001014972       -2.355223       -8.187882  ...       -0.653970   \nNP_065883          -0.236165       -4.077807  ...        0.174988   \n\n              A2-A0YF.33TCGA  BH-A0DD.33TCGA  BH-A0E9.33TCGA  AR-A0TT.34TCGA  \\\nGID                                                                            \nNP_055726          -0.230225       -0.161544        0.708913       -0.001759   \nNP_001012768        0.626203        0.006788        0.282789        1.172411   \nNP_001158287        0.270646       -1.378614       -0.459689        0.165854   \nNP_001087          -0.383597       -1.324677       -0.872777       -0.944913   \nNP_004292           0.332140        0.562005        0.557101       -0.159039   \n...                      ...             ...             ...             ...   \nNP_057191           0.290528       -0.664602       -0.278794       -0.369913   \nNP_056161           0.190657       -0.667619       -0.823098        1.027741   \nNP_001017926        1.669293       -2.524881        0.628379       -1.122685   \nNP_001014972       -0.680434       -0.110894       -0.363032        1.243520   \nNP_065883          -0.506008       -0.215751       -0.809599       -0.084559   \n\n              AR-A1AQ.34TCGA  AO-A12B.34TCGA  263d3f-I.CPTAC  blcdb9-I.CPTAC  \\\nGID                                                                            \nNP_055726          -2.222012        0.570832       -0.779213       -0.692628   \nNP_001012768       -3.706673        1.532326       -0.317314        0.633994   \nNP_001158287       -2.793868        0.413877       -0.632400       -0.606736   \nNP_001087          -4.647350       -1.173691       -0.318336       -0.005126   \nNP_004292          -3.859069        0.902757       -0.732205       -2.064512   \n...                      ...             ...             ...             ...   \nNP_057191          -3.508423        1.343173       -0.121110        0.312796   \nNP_056161          -4.224551        0.571034        1.152176       -0.318677   \nNP_001017926       -4.127449        1.450454       -0.433811       -0.777532   \nNP_001014972       -3.323659        2.221182        1.571155        1.748357   \nNP_065883          -2.488513        1.177841       -0.013299       -0.784907   \n\n              c4155b-C.CPTAC  \nGID                           \nNP_055726          -0.554810  \nNP_001012768       -0.055454  \nNP_001158287       -0.570325  \nNP_001087           0.485074  \nNP_004292          -0.236016  \n...                      ...  \nNP_057191          -0.249905  \nNP_056161           1.641364  \nNP_001017926       -0.587880  \nNP_001014972        0.921431  \nNP_065883          -0.799403  \n\n[279 rows x 84 columns]",
      "text/html": "<div>\n<style scoped>\n    .dataframe tbody tr th:only-of-type {\n        vertical-align: middle;\n    }\n\n    .dataframe tbody tr th {\n        vertical-align: top;\n    }\n\n    .dataframe thead th {\n        text-align: right;\n    }\n</style>\n<table border=\"1\" class=\"dataframe\">\n  <thead>\n    <tr style=\"text-align: right;\">\n      <th></th>\n      <th>geneName</th>\n      <th>AO-A12D.01TCGA</th>\n      <th>C8-A131.01TCGA</th>\n      <th>AO-A12B.01TCGA</th>\n      <th>E2-A10A.02TCGA</th>\n      <th>BH-A18Q.02TCGA</th>\n      <th>C8-A130.02TCGA</th>\n      <th>C8-A138.03TCGA</th>\n      <th>E2-A154.03TCGA</th>\n      <th>BH-A0BZ.03TCGA</th>\n      <th>...</th>\n      <th>C8-A134.32TCGA</th>\n      <th>A2-A0YF.33TCGA</th>\n      <th>BH-A0DD.33TCGA</th>\n      <th>BH-A0E9.33TCGA</th>\n      <th>AR-A0TT.34TCGA</th>\n      <th>AR-A1AQ.34TCGA</th>\n      <th>AO-A12B.34TCGA</th>\n      <th>263d3f-I.CPTAC</th>\n      <th>blcdb9-I.CPTAC</th>\n      <th>c4155b-C.CPTAC</th>\n    </tr>\n    <tr>\n      <th>GID</th>\n      <th></th>\n      <th></th>\n      <th></th>\n      <th></th>\n      <th></th>\n      <th></th>\n      <th></th>\n      <th></th>\n      <th></th>\n      <th></th>\n      <th></th>\n      <th></th>\n      <th></th>\n      <th></th>\n      <th></th>\n      <th></th>\n      <th></th>\n      <th></th>\n      <th></th>\n      <th></th>\n      <th></th>\n    </tr>\n  </thead>\n  <tbody>\n    <tr>\n      <th>NP_055726</th>\n      <td>AAK1</td>\n      <td>0.348837</td>\n      <td>0.731615</td>\n      <td>0.922412</td>\n      <td>-3.234778</td>\n      <td>0.319409</td>\n      <td>0.104248</td>\n      <td>-0.079256</td>\n      <td>-0.690370</td>\n      <td>-4.511075</td>\n      <td>...</td>\n      <td>0.710134</td>\n      <td>-0.230225</td>\n      <td>-0.161544</td>\n      <td>0.708913</td>\n      <td>-0.001759</td>\n      <td>-2.222012</td>\n      <td>0.570832</td>\n      <td>-0.779213</td>\n      <td>-0.692628</td>\n      <td>-0.554810</td>\n    </tr>\n    <tr>\n      <th>NP_001012768</th>\n      <td>ABI1</td>\n      <td>1.037625</td>\n      <td>1.207672</td>\n      <td>1.804367</td>\n      <td>-6.996930</td>\n      <td>0.360444</td>\n      <td>-0.141749</td>\n      <td>0.201926</td>\n      <td>-0.248022</td>\n      <td>-7.461227</td>\n      <td>...</td>\n      <td>-0.268380</td>\n      <td>0.626203</td>\n      <td>0.006788</td>\n      <td>0.282789</td>\n      <td>1.172411</td>\n      <td>-3.706673</td>\n      <td>1.532326</td>\n      <td>-0.317314</td>\n      <td>0.633994</td>\n      <td>-0.055454</td>\n    </tr>\n    <tr>\n      <th>NP_001158287</th>\n      <td>ACIN1</td>\n      <td>-0.289193</td>\n      <td>-0.726778</td>\n      <td>0.385874</td>\n      <td>-4.801382</td>\n      <td>-1.513057</td>\n      <td>-0.213603</td>\n      <td>0.133500</td>\n      <td>-1.180792</td>\n      <td>-5.284991</td>\n      <td>...</td>\n      <td>-0.198527</td>\n      <td>0.270646</td>\n      <td>-1.378614</td>\n      <td>-0.459689</td>\n      <td>0.165854</td>\n      <td>-2.793868</td>\n      <td>0.413877</td>\n      <td>-0.632400</td>\n      <td>-0.606736</td>\n      <td>-0.570325</td>\n    </tr>\n    <tr>\n      <th>NP_001087</th>\n      <td>ACLY</td>\n      <td>0.246291</td>\n      <td>0.181735</td>\n      <td>-0.738049</td>\n      <td>-5.496956</td>\n      <td>-1.688708</td>\n      <td>0.569288</td>\n      <td>0.401847</td>\n      <td>-0.701985</td>\n      <td>-6.783584</td>\n      <td>...</td>\n      <td>-0.548591</td>\n      <td>-0.383597</td>\n      <td>-1.324677</td>\n      <td>-0.872777</td>\n      <td>-0.944913</td>\n      <td>-4.647350</td>\n      <td>-1.173691</td>\n      <td>-0.318336</td>\n      <td>-0.005126</td>\n      <td>0.485074</td>\n    </tr>\n    <tr>\n      <th>NP_004292</th>\n      <td>ACTL6A</td>\n      <td>-0.140728</td>\n      <td>-0.309807</td>\n      <td>0.945206</td>\n      <td>-5.794648</td>\n      <td>2.114260</td>\n      <td>1.205347</td>\n      <td>-0.276458</td>\n      <td>-1.029471</td>\n      <td>-6.088893</td>\n      <td>...</td>\n      <td>0.416580</td>\n      <td>0.332140</td>\n      <td>0.562005</td>\n      <td>0.557101</td>\n      <td>-0.159039</td>\n      <td>-3.859069</td>\n      <td>0.902757</td>\n      <td>-0.732205</td>\n      <td>-2.064512</td>\n      <td>-0.236016</td>\n    </tr>\n    <tr>\n      <th>...</th>\n      <td>...</td>\n      <td>...</td>\n      <td>...</td>\n      <td>...</td>\n      <td>...</td>\n      <td>...</td>\n      <td>...</td>\n      <td>...</td>\n      <td>...</td>\n      <td>...</td>\n      <td>...</td>\n      <td>...</td>\n      <td>...</td>\n      <td>...</td>\n      <td>...</td>\n      <td>...</td>\n      <td>...</td>\n      <td>...</td>\n      <td>...</td>\n      <td>...</td>\n      <td>...</td>\n    </tr>\n    <tr>\n      <th>NP_057191</th>\n      <td>ZFR</td>\n      <td>0.380342</td>\n      <td>0.123758</td>\n      <td>1.402841</td>\n      <td>-4.858809</td>\n      <td>-0.159429</td>\n      <td>0.455572</td>\n      <td>-0.071776</td>\n      <td>-0.771999</td>\n      <td>-7.403691</td>\n      <td>...</td>\n      <td>0.349521</td>\n      <td>0.290528</td>\n      <td>-0.664602</td>\n      <td>-0.278794</td>\n      <td>-0.369913</td>\n      <td>-3.508423</td>\n      <td>1.343173</td>\n      <td>-0.121110</td>\n      <td>0.312796</td>\n      <td>-0.249905</td>\n    </tr>\n    <tr>\n      <th>NP_056161</th>\n      <td>ZFYVE26</td>\n      <td>0.107916</td>\n      <td>-0.297204</td>\n      <td>0.852276</td>\n      <td>-5.720636</td>\n      <td>-0.843155</td>\n      <td>-0.226724</td>\n      <td>1.058732</td>\n      <td>-0.765224</td>\n      <td>-8.166573</td>\n      <td>...</td>\n      <td>-0.244431</td>\n      <td>0.190657</td>\n      <td>-0.667619</td>\n      <td>-0.823098</td>\n      <td>1.027741</td>\n      <td>-4.224551</td>\n      <td>0.571034</td>\n      <td>1.152176</td>\n      <td>-0.318677</td>\n      <td>1.641364</td>\n    </tr>\n    <tr>\n      <th>NP_001017926</th>\n      <td>ZHX1</td>\n      <td>0.812765</td>\n      <td>1.555533</td>\n      <td>1.378293</td>\n      <td>-5.149923</td>\n      <td>1.491220</td>\n      <td>0.443076</td>\n      <td>2.536722</td>\n      <td>-0.421928</td>\n      <td>-7.098965</td>\n      <td>...</td>\n      <td>1.333852</td>\n      <td>1.669293</td>\n      <td>-2.524881</td>\n      <td>0.628379</td>\n      <td>-1.122685</td>\n      <td>-4.127449</td>\n      <td>1.450454</td>\n      <td>-0.433811</td>\n      <td>-0.777532</td>\n      <td>-0.587880</td>\n    </tr>\n    <tr>\n      <th>NP_001014972</th>\n      <td>ZNF638</td>\n      <td>-0.441262</td>\n      <td>-0.755976</td>\n      <td>-0.047213</td>\n      <td>-5.715702</td>\n      <td>-0.068401</td>\n      <td>0.185653</td>\n      <td>0.251906</td>\n      <td>-2.355223</td>\n      <td>-8.187882</td>\n      <td>...</td>\n      <td>-0.653970</td>\n      <td>-0.680434</td>\n      <td>-0.110894</td>\n      <td>-0.363032</td>\n      <td>1.243520</td>\n      <td>-3.323659</td>\n      <td>2.221182</td>\n      <td>1.571155</td>\n      <td>1.748357</td>\n      <td>0.921431</td>\n    </tr>\n    <tr>\n      <th>NP_065883</th>\n      <td>ZNF687</td>\n      <td>0.270345</td>\n      <td>0.525500</td>\n      <td>1.503660</td>\n      <td>-3.677292</td>\n      <td>0.078509</td>\n      <td>0.303118</td>\n      <td>0.434275</td>\n      <td>-0.236165</td>\n      <td>-4.077807</td>\n      <td>...</td>\n      <td>0.174988</td>\n      <td>-0.506008</td>\n      <td>-0.215751</td>\n      <td>-0.809599</td>\n      <td>-0.084559</td>\n      <td>-2.488513</td>\n      <td>1.177841</td>\n      <td>-0.013299</td>\n      <td>-0.784907</td>\n      <td>-0.799403</td>\n    </tr>\n  </tbody>\n</table>\n<p>279 rows × 84 columns</p>\n</div>"
     },
     "execution_count": 218,
     "metadata": {},
     "output_type": "execute_result"
    }
   ],
   "source": [
    "pf"
   ],
   "metadata": {
    "collapsed": false,
    "pycharm": {
     "name": "#%%\n"
    }
   }
  },
  {
   "cell_type": "code",
   "execution_count": 222,
   "outputs": [
    {
     "data": {
      "text/plain": "array(['AAK1', 'ABI1', 'ACIN1', 'ACLY', 'ACTL6A', 'ADD1', 'ADRBK1',\n       'ADRM1', 'AFAP1', 'AGAP3', 'AKTIP', 'ANKIB1', 'ANKRD17', 'AP3B1',\n       'ARF1', 'ARHGAP1', 'ARHGAP17', 'ARHGAP31', 'ARL2BP', 'ASAP1',\n       'ATF7IP', 'ATL3', 'ATRX', 'BAT2', 'BAZ1A', 'BCKDK', 'BCL3', 'BCR',\n       'BICD2', 'BOD1L', 'BPTF', 'BRD3', 'BRMS1L', 'BUD13', 'C14ORF4',\n       'C19ORF61', 'C3ORF63', 'C9ORF82', 'CAP1', 'CASK', 'CBFB', 'CBLB',\n       'CBX4', 'CC2D1A', 'CCAR1', 'CCDC9', 'CDC42BPG', 'CDK12', 'CDK7',\n       'CETN2', 'CHD4', 'COPS3', 'DBNL', 'DCK', 'DCP1B', 'DDX51', 'DEK',\n       'DENND1A', 'DGCR8', 'DHX16', 'DHX8', 'DIAPH1', 'DKC1', 'DMXL1',\n       'DNTTIP1', 'DOCK6', 'DOCK9', 'DPF2', 'DYNC1LI1', 'EDC3', 'EEF2',\n       'EFHD2', 'EGLN1', 'EIF2A', 'EIF3A', 'EIF5B', 'ELF1', 'ENAH',\n       'EPN2', 'ERF', 'EXOC1', 'EXOC2', 'FAM120A', 'FAM134C', 'FAM40A',\n       'FIP1L1', 'FMNL2', 'FNBP1L', 'FOSL2', 'FOXP4', 'FXR1', 'GAB2',\n       'GMIP', 'GMPS', 'GNG5', 'GNL1', 'GOLGA3', 'GPATCH2', 'GPATCH8',\n       'GPS1', 'GRAP2', 'GRHL2', 'GTF3C1', 'GTF3C2', 'HDAC4', 'HDGFRP2',\n       'HIRIP3', 'HNRNPA3', 'HNRNPK', 'HNRNPUL2', 'HNRPA1L-2', 'HOOK3',\n       'HSPH1', 'IARS', 'IRF2BP2', 'ITPKB', 'IWS1', 'JMJD1C', 'KIAA0182',\n       'KIAA0430', 'KIAA1429', 'KIAA1468', 'KIAA1543', 'KIF1B', 'KIF1C',\n       'KLC1', 'KPNA6', 'KRR1', 'KTN1', 'LIG3', 'LMNB1', 'LRWD1',\n       'MAP7D1', 'MEPCE', 'MICAL3', 'MIOS', 'MKI67IP', 'MLL3', 'MORC2',\n       'MORC3', 'MPHOSPH8', 'MTA1', 'MTDH', 'MVD', 'MYBBP1A', 'MYH9',\n       'MYO18A', 'MYO9B', 'NCALD', 'NCKIPSD', 'NCOA1', 'NCOA2', 'NDRG3',\n       'NOL8', 'NRBP1', 'NUCKS1', 'NUP188', 'NUP214', 'NUP35', 'OTUD4',\n       'PAK4', 'PARN', 'PATL1', 'PAWR', 'PDAP1', 'PDS5A', 'PDS5B', 'PEX1',\n       'PFKFB3', 'PGRMC1', 'PHF14', 'PHF3', 'PHRF1', 'PI4K2A', 'PIK3C2A',\n       'PLXDC2', 'PNN', 'POLR1D', 'POLR2A', 'POP1', 'PPFIA1', 'PPIG',\n       'PPP1R10', 'PPP1R3D', 'PRKAR1B', 'PSMB10', 'PSMD2', 'PSMF1',\n       'PTK2', 'PXN', 'RAB12', 'RAD23B', 'RALY', 'RANBP10', 'RASAL2',\n       'RASAL3', 'RBM25', 'RBM26', 'RBM33', 'RBMX', 'RELA', 'RGS3',\n       'RPRD1B', 'RSRC2', 'SCAF1', 'SEPT7', 'SERBP1', 'SET', 'SETX',\n       'SFPQ', 'SFRS1', 'SFRS17A', 'SFRS3', 'SFRS4', 'SH3BP1', 'SH3PXD2A',\n       'SIPA1L1', 'SIRT1', 'SLTM', 'SMARCA4', 'SMARCC1', 'SMARCC2',\n       'SMG1', 'SNIP1', 'SNRNP70', 'SNW1', 'SPEN', 'SPTBN1', 'SRPK1',\n       'SRPK2', 'SRRM1', 'SRRT', 'SSB', 'STIM1', 'STX17', 'STX7', 'SUGT1',\n       'TAGLN2', 'TBC1D10B', 'TCF20', 'TCOF1', 'TFAP2C', 'THOC5',\n       'THRAP3', 'THUMPD1', 'TPM3', 'TRA2A', 'TRAF3IP1', 'TRIM25',\n       'TRIM33', 'TRIP12', 'TRMT1', 'TSC2', 'TTC28', 'TXNL1', 'UBAC1',\n       'UBAP2L', 'UBR4', 'USP24', 'USP36', 'USP39', 'VCPIP1', 'WAC',\n       'WDR13', 'WDR26', 'WDR7', 'WIPI2', 'WRNIP1', 'WTAP', 'YBX1',\n       'ZC3H11A', 'ZC3H18', 'ZC3HC1', 'ZDHHC5', 'ZFR', 'ZFYVE26', 'ZHX1',\n       'ZNF638', 'ZNF687'], dtype=object)"
     },
     "execution_count": 222,
     "metadata": {},
     "output_type": "execute_result"
    }
   ],
   "source": [
    "np.unique(pf[\"geneName\"])"
   ],
   "metadata": {
    "collapsed": false,
    "pycharm": {
     "name": "#%%\n"
    }
   }
  },
  {
   "cell_type": "code",
   "execution_count": 226,
   "outputs": [
    {
     "data": {
      "text/plain": "              GID geneName  AO-A12D.01TCGA  C8-A131.01TCGA  AO-A12B.01TCGA  \\\n0       NP_055726     AAK1        0.348837        0.731615        0.922412   \n1    NP_001012768     ABI1        1.037625        1.207672        1.804367   \n2    NP_001158287    ACIN1       -0.289193       -0.726778        0.385874   \n3       NP_001087     ACLY        0.246291        0.181735       -0.738049   \n4       NP_004292   ACTL6A       -0.140728       -0.309807        0.945206   \n..            ...      ...             ...             ...             ...   \n274     NP_057191      ZFR        0.380342        0.123758        1.402841   \n275     NP_056161  ZFYVE26        0.107916       -0.297204        0.852276   \n276  NP_001017926     ZHX1        0.812765        1.555533        1.378293   \n277  NP_001014972   ZNF638       -0.441262       -0.755976       -0.047213   \n278     NP_065883   ZNF687        0.270345        0.525500        1.503660   \n\n     E2-A10A.02TCGA  BH-A18Q.02TCGA  C8-A130.02TCGA  C8-A138.03TCGA  \\\n0         -3.234778        0.319409        0.104248       -0.079256   \n1         -6.996930        0.360444       -0.141749        0.201926   \n2         -4.801382       -1.513057       -0.213603        0.133500   \n3         -5.496956       -1.688708        0.569288        0.401847   \n4         -5.794648        2.114260        1.205347       -0.276458   \n..              ...             ...             ...             ...   \n274       -4.858809       -0.159429        0.455572       -0.071776   \n275       -5.720636       -0.843155       -0.226724        1.058732   \n276       -5.149923        1.491220        0.443076        2.536722   \n277       -5.715702       -0.068401        0.185653        0.251906   \n278       -3.677292        0.078509        0.303118        0.434275   \n\n     E2-A154.03TCGA  ...  C8-A134.32TCGA  A2-A0YF.33TCGA  BH-A0DD.33TCGA  \\\n0         -0.690370  ...        0.710134       -0.230225       -0.161544   \n1         -0.248022  ...       -0.268380        0.626203        0.006788   \n2         -1.180792  ...       -0.198527        0.270646       -1.378614   \n3         -0.701985  ...       -0.548591       -0.383597       -1.324677   \n4         -1.029471  ...        0.416580        0.332140        0.562005   \n..              ...  ...             ...             ...             ...   \n274       -0.771999  ...        0.349521        0.290528       -0.664602   \n275       -0.765224  ...       -0.244431        0.190657       -0.667619   \n276       -0.421928  ...        1.333852        1.669293       -2.524881   \n277       -2.355223  ...       -0.653970       -0.680434       -0.110894   \n278       -0.236165  ...        0.174988       -0.506008       -0.215751   \n\n     BH-A0E9.33TCGA  AR-A0TT.34TCGA  AR-A1AQ.34TCGA  AO-A12B.34TCGA  \\\n0          0.708913       -0.001759       -2.222012        0.570832   \n1          0.282789        1.172411       -3.706673        1.532326   \n2         -0.459689        0.165854       -2.793868        0.413877   \n3         -0.872777       -0.944913       -4.647350       -1.173691   \n4          0.557101       -0.159039       -3.859069        0.902757   \n..              ...             ...             ...             ...   \n274       -0.278794       -0.369913       -3.508423        1.343173   \n275       -0.823098        1.027741       -4.224551        0.571034   \n276        0.628379       -1.122685       -4.127449        1.450454   \n277       -0.363032        1.243520       -3.323659        2.221182   \n278       -0.809599       -0.084559       -2.488513        1.177841   \n\n     263d3f-I.CPTAC  blcdb9-I.CPTAC  c4155b-C.CPTAC  \n0         -0.779213       -0.692628       -0.554810  \n1         -0.317314        0.633994       -0.055454  \n2         -0.632400       -0.606736       -0.570325  \n3         -0.318336       -0.005126        0.485074  \n4         -0.732205       -2.064512       -0.236016  \n..              ...             ...             ...  \n274       -0.121110        0.312796       -0.249905  \n275        1.152176       -0.318677        1.641364  \n276       -0.433811       -0.777532       -0.587880  \n277        1.571155        1.748357        0.921431  \n278       -0.013299       -0.784907       -0.799403  \n\n[279 rows x 85 columns]",
      "text/html": "<div>\n<style scoped>\n    .dataframe tbody tr th:only-of-type {\n        vertical-align: middle;\n    }\n\n    .dataframe tbody tr th {\n        vertical-align: top;\n    }\n\n    .dataframe thead th {\n        text-align: right;\n    }\n</style>\n<table border=\"1\" class=\"dataframe\">\n  <thead>\n    <tr style=\"text-align: right;\">\n      <th></th>\n      <th>GID</th>\n      <th>geneName</th>\n      <th>AO-A12D.01TCGA</th>\n      <th>C8-A131.01TCGA</th>\n      <th>AO-A12B.01TCGA</th>\n      <th>E2-A10A.02TCGA</th>\n      <th>BH-A18Q.02TCGA</th>\n      <th>C8-A130.02TCGA</th>\n      <th>C8-A138.03TCGA</th>\n      <th>E2-A154.03TCGA</th>\n      <th>...</th>\n      <th>C8-A134.32TCGA</th>\n      <th>A2-A0YF.33TCGA</th>\n      <th>BH-A0DD.33TCGA</th>\n      <th>BH-A0E9.33TCGA</th>\n      <th>AR-A0TT.34TCGA</th>\n      <th>AR-A1AQ.34TCGA</th>\n      <th>AO-A12B.34TCGA</th>\n      <th>263d3f-I.CPTAC</th>\n      <th>blcdb9-I.CPTAC</th>\n      <th>c4155b-C.CPTAC</th>\n    </tr>\n  </thead>\n  <tbody>\n    <tr>\n      <th>0</th>\n      <td>NP_055726</td>\n      <td>AAK1</td>\n      <td>0.348837</td>\n      <td>0.731615</td>\n      <td>0.922412</td>\n      <td>-3.234778</td>\n      <td>0.319409</td>\n      <td>0.104248</td>\n      <td>-0.079256</td>\n      <td>-0.690370</td>\n      <td>...</td>\n      <td>0.710134</td>\n      <td>-0.230225</td>\n      <td>-0.161544</td>\n      <td>0.708913</td>\n      <td>-0.001759</td>\n      <td>-2.222012</td>\n      <td>0.570832</td>\n      <td>-0.779213</td>\n      <td>-0.692628</td>\n      <td>-0.554810</td>\n    </tr>\n    <tr>\n      <th>1</th>\n      <td>NP_001012768</td>\n      <td>ABI1</td>\n      <td>1.037625</td>\n      <td>1.207672</td>\n      <td>1.804367</td>\n      <td>-6.996930</td>\n      <td>0.360444</td>\n      <td>-0.141749</td>\n      <td>0.201926</td>\n      <td>-0.248022</td>\n      <td>...</td>\n      <td>-0.268380</td>\n      <td>0.626203</td>\n      <td>0.006788</td>\n      <td>0.282789</td>\n      <td>1.172411</td>\n      <td>-3.706673</td>\n      <td>1.532326</td>\n      <td>-0.317314</td>\n      <td>0.633994</td>\n      <td>-0.055454</td>\n    </tr>\n    <tr>\n      <th>2</th>\n      <td>NP_001158287</td>\n      <td>ACIN1</td>\n      <td>-0.289193</td>\n      <td>-0.726778</td>\n      <td>0.385874</td>\n      <td>-4.801382</td>\n      <td>-1.513057</td>\n      <td>-0.213603</td>\n      <td>0.133500</td>\n      <td>-1.180792</td>\n      <td>...</td>\n      <td>-0.198527</td>\n      <td>0.270646</td>\n      <td>-1.378614</td>\n      <td>-0.459689</td>\n      <td>0.165854</td>\n      <td>-2.793868</td>\n      <td>0.413877</td>\n      <td>-0.632400</td>\n      <td>-0.606736</td>\n      <td>-0.570325</td>\n    </tr>\n    <tr>\n      <th>3</th>\n      <td>NP_001087</td>\n      <td>ACLY</td>\n      <td>0.246291</td>\n      <td>0.181735</td>\n      <td>-0.738049</td>\n      <td>-5.496956</td>\n      <td>-1.688708</td>\n      <td>0.569288</td>\n      <td>0.401847</td>\n      <td>-0.701985</td>\n      <td>...</td>\n      <td>-0.548591</td>\n      <td>-0.383597</td>\n      <td>-1.324677</td>\n      <td>-0.872777</td>\n      <td>-0.944913</td>\n      <td>-4.647350</td>\n      <td>-1.173691</td>\n      <td>-0.318336</td>\n      <td>-0.005126</td>\n      <td>0.485074</td>\n    </tr>\n    <tr>\n      <th>4</th>\n      <td>NP_004292</td>\n      <td>ACTL6A</td>\n      <td>-0.140728</td>\n      <td>-0.309807</td>\n      <td>0.945206</td>\n      <td>-5.794648</td>\n      <td>2.114260</td>\n      <td>1.205347</td>\n      <td>-0.276458</td>\n      <td>-1.029471</td>\n      <td>...</td>\n      <td>0.416580</td>\n      <td>0.332140</td>\n      <td>0.562005</td>\n      <td>0.557101</td>\n      <td>-0.159039</td>\n      <td>-3.859069</td>\n      <td>0.902757</td>\n      <td>-0.732205</td>\n      <td>-2.064512</td>\n      <td>-0.236016</td>\n    </tr>\n    <tr>\n      <th>...</th>\n      <td>...</td>\n      <td>...</td>\n      <td>...</td>\n      <td>...</td>\n      <td>...</td>\n      <td>...</td>\n      <td>...</td>\n      <td>...</td>\n      <td>...</td>\n      <td>...</td>\n      <td>...</td>\n      <td>...</td>\n      <td>...</td>\n      <td>...</td>\n      <td>...</td>\n      <td>...</td>\n      <td>...</td>\n      <td>...</td>\n      <td>...</td>\n      <td>...</td>\n      <td>...</td>\n    </tr>\n    <tr>\n      <th>274</th>\n      <td>NP_057191</td>\n      <td>ZFR</td>\n      <td>0.380342</td>\n      <td>0.123758</td>\n      <td>1.402841</td>\n      <td>-4.858809</td>\n      <td>-0.159429</td>\n      <td>0.455572</td>\n      <td>-0.071776</td>\n      <td>-0.771999</td>\n      <td>...</td>\n      <td>0.349521</td>\n      <td>0.290528</td>\n      <td>-0.664602</td>\n      <td>-0.278794</td>\n      <td>-0.369913</td>\n      <td>-3.508423</td>\n      <td>1.343173</td>\n      <td>-0.121110</td>\n      <td>0.312796</td>\n      <td>-0.249905</td>\n    </tr>\n    <tr>\n      <th>275</th>\n      <td>NP_056161</td>\n      <td>ZFYVE26</td>\n      <td>0.107916</td>\n      <td>-0.297204</td>\n      <td>0.852276</td>\n      <td>-5.720636</td>\n      <td>-0.843155</td>\n      <td>-0.226724</td>\n      <td>1.058732</td>\n      <td>-0.765224</td>\n      <td>...</td>\n      <td>-0.244431</td>\n      <td>0.190657</td>\n      <td>-0.667619</td>\n      <td>-0.823098</td>\n      <td>1.027741</td>\n      <td>-4.224551</td>\n      <td>0.571034</td>\n      <td>1.152176</td>\n      <td>-0.318677</td>\n      <td>1.641364</td>\n    </tr>\n    <tr>\n      <th>276</th>\n      <td>NP_001017926</td>\n      <td>ZHX1</td>\n      <td>0.812765</td>\n      <td>1.555533</td>\n      <td>1.378293</td>\n      <td>-5.149923</td>\n      <td>1.491220</td>\n      <td>0.443076</td>\n      <td>2.536722</td>\n      <td>-0.421928</td>\n      <td>...</td>\n      <td>1.333852</td>\n      <td>1.669293</td>\n      <td>-2.524881</td>\n      <td>0.628379</td>\n      <td>-1.122685</td>\n      <td>-4.127449</td>\n      <td>1.450454</td>\n      <td>-0.433811</td>\n      <td>-0.777532</td>\n      <td>-0.587880</td>\n    </tr>\n    <tr>\n      <th>277</th>\n      <td>NP_001014972</td>\n      <td>ZNF638</td>\n      <td>-0.441262</td>\n      <td>-0.755976</td>\n      <td>-0.047213</td>\n      <td>-5.715702</td>\n      <td>-0.068401</td>\n      <td>0.185653</td>\n      <td>0.251906</td>\n      <td>-2.355223</td>\n      <td>...</td>\n      <td>-0.653970</td>\n      <td>-0.680434</td>\n      <td>-0.110894</td>\n      <td>-0.363032</td>\n      <td>1.243520</td>\n      <td>-3.323659</td>\n      <td>2.221182</td>\n      <td>1.571155</td>\n      <td>1.748357</td>\n      <td>0.921431</td>\n    </tr>\n    <tr>\n      <th>278</th>\n      <td>NP_065883</td>\n      <td>ZNF687</td>\n      <td>0.270345</td>\n      <td>0.525500</td>\n      <td>1.503660</td>\n      <td>-3.677292</td>\n      <td>0.078509</td>\n      <td>0.303118</td>\n      <td>0.434275</td>\n      <td>-0.236165</td>\n      <td>...</td>\n      <td>0.174988</td>\n      <td>-0.506008</td>\n      <td>-0.215751</td>\n      <td>-0.809599</td>\n      <td>-0.084559</td>\n      <td>-2.488513</td>\n      <td>1.177841</td>\n      <td>-0.013299</td>\n      <td>-0.784907</td>\n      <td>-0.799403</td>\n    </tr>\n  </tbody>\n</table>\n<p>279 rows × 85 columns</p>\n</div>"
     },
     "execution_count": 226,
     "metadata": {},
     "output_type": "execute_result"
    }
   ],
   "source": [],
   "metadata": {
    "collapsed": false,
    "pycharm": {
     "name": "#%%\n"
    }
   }
  },
  {
   "cell_type": "code",
   "execution_count": 228,
   "outputs": [
    {
     "data": {
      "text/plain": "                 NAME  AO-A12D.01TCGA  C8-A131.01TCGA  AO-A12B.01TCGA  \\\nGID                                                                     \nNP_958782        PLEC        1.096131        2.609943       -0.659828   \nNP_958786        PLEC        1.111370        2.650422       -0.654285   \nNP_958780        PLEC        1.107561        2.646374       -0.654285   \nNP_958783        PLEC        1.111370        2.650422       -0.648742   \nNP_001611       AHNAK        0.482754       -1.045294        1.222003   \n...               ...             ...             ...             ...   \nNP_001094348  C8ORF73       -1.010687       -0.049515       -2.577688   \nNP_443073       TSSK3       -0.119194        1.144610       -1.203037   \nNP_001004456    OR1M1       -2.024094       -0.166903       -3.071010   \nNP_997625       ARL4A        1.637123        1.059605        1.648810   \nNP_003270       TNNC2       -0.252537        2.193011       -2.813263   \n\n              BH-A18Q.02TCGA  C8-A130.02TCGA  C8-A138.03TCGA  E2-A154.03TCGA  \\\nGID                                                                            \nNP_958782           0.195341       -0.494060        2.765081        0.862659   \nNP_958786           0.215413       -0.500619        2.779709        0.870186   \nNP_958780           0.215413       -0.503899        2.779709        0.870186   \nNP_958783           0.215413       -0.500619        2.783366        0.870186   \nNP_001611          -0.517226       -0.405503        0.749997        2.349197   \n...                      ...             ...             ...             ...   \nNP_001094348       -0.329884        2.480781        2.110453       -1.135699   \nNP_443073           1.700762        0.371826       -1.718572        0.873949   \nNP_001004456        2.353112       -1.445222        0.197769        4.618518   \nNP_997625           0.422827        0.493181       -2.354914        0.636856   \nNP_003270           0.389373        2.369266       -0.354459       -0.488396   \n\n              C8-A12L.04TCGA  A2-A0EX.04TCGA  ...  AO-A12B.34TCGA  \\\nGID                                           ...                   \nNP_958782           1.407570        1.185108  ...       -0.963904   \nNP_958786           1.410312        1.188860  ...       -0.943919   \nNP_958780           1.407570        1.188860  ...       -0.938210   \nNP_958783           1.410312        1.188860  ...       -0.943919   \nNP_001611          -0.007077        2.138081  ...        1.325752   \n...                      ...             ...  ...             ...   \nNP_001094348        2.095703        0.108324  ...       -3.599007   \nNP_443073          -0.851479        0.787411  ...       -1.377869   \nNP_001004456        1.914760        3.158587  ...       -2.785351   \nNP_997625           0.763303        2.948483  ...        2.150828   \nNP_003270           0.415124        2.025525  ...       -2.885274   \n\n              A2-A0SW.35TCGA  AO-A0JL.35TCGA  BH-A0BV.35TCGA  A2-A0YM.36TCGA  \\\nGID                                                                            \nNP_958782          -0.487772       -0.106680       -0.065838        0.655850   \nNP_958786          -0.487772       -0.106680       -0.065838        0.655850   \nNP_958780          -0.487772       -0.106680       -0.055893        0.658143   \nNP_958783          -0.487772       -0.106680       -0.062523        0.655850   \nNP_001611           0.731148       -1.177327        0.709931        1.307036   \n...                      ...             ...             ...             ...   \nNP_001094348        0.126512       -2.059591        1.492330        3.145951   \nNP_443073           0.821200        1.494581        3.259359       -0.109983   \nNP_001004456        1.203922       -0.269946        1.233740        1.894022   \nNP_997625          -1.352917       -0.605897        0.849171        1.135068   \nNP_003270           0.332346        0.741047        1.853693        2.325089   \n\n              BH-A0C7.36TCGA  A2-A0SX.36TCGA  263d3f-I.CPTAC  blcdb9-I.CPTAC  \\\nGID                                                                            \nNP_958782          -0.552212       -0.398560        0.598585       -0.191285   \nNP_958786          -0.552212       -0.392601        0.603993       -0.186022   \nNP_958780          -0.547749       -0.392601        0.606697       -0.183918   \nNP_958783          -0.552212       -0.392601        0.603993       -0.186022   \nNP_001611           0.487574        0.694810        2.778263        1.367330   \n...                      ...             ...             ...             ...   \nNP_001094348       -4.088822        4.323489       -0.469620       -3.190644   \nNP_443073          -2.698723       -0.294287        0.420100        0.226521   \nNP_001004456       -1.556297        0.724603        0.847382        0.520142   \nNP_997625          -1.978013       -1.745163       -1.099726       -0.592251   \nNP_003270          -3.999570        1.222131       -0.453395       -4.235684   \n\n              c4155b-C.CPTAC  \nGID                           \nNP_958782           0.566975  \nNP_958786           0.576747  \nNP_958780           0.578702  \nNP_958783           0.576747  \nNP_001611           3.215190  \n...                      ...  \nNP_001094348       -1.158762  \nNP_443073          -0.537262  \nNP_001004456        0.948084  \nNP_997625          -0.595894  \nNP_003270          -2.452576  \n\n[6912 rows x 84 columns]",
      "text/html": "<div>\n<style scoped>\n    .dataframe tbody tr th:only-of-type {\n        vertical-align: middle;\n    }\n\n    .dataframe tbody tr th {\n        vertical-align: top;\n    }\n\n    .dataframe thead th {\n        text-align: right;\n    }\n</style>\n<table border=\"1\" class=\"dataframe\">\n  <thead>\n    <tr style=\"text-align: right;\">\n      <th></th>\n      <th>NAME</th>\n      <th>AO-A12D.01TCGA</th>\n      <th>C8-A131.01TCGA</th>\n      <th>AO-A12B.01TCGA</th>\n      <th>BH-A18Q.02TCGA</th>\n      <th>C8-A130.02TCGA</th>\n      <th>C8-A138.03TCGA</th>\n      <th>E2-A154.03TCGA</th>\n      <th>C8-A12L.04TCGA</th>\n      <th>A2-A0EX.04TCGA</th>\n      <th>...</th>\n      <th>AO-A12B.34TCGA</th>\n      <th>A2-A0SW.35TCGA</th>\n      <th>AO-A0JL.35TCGA</th>\n      <th>BH-A0BV.35TCGA</th>\n      <th>A2-A0YM.36TCGA</th>\n      <th>BH-A0C7.36TCGA</th>\n      <th>A2-A0SX.36TCGA</th>\n      <th>263d3f-I.CPTAC</th>\n      <th>blcdb9-I.CPTAC</th>\n      <th>c4155b-C.CPTAC</th>\n    </tr>\n    <tr>\n      <th>GID</th>\n      <th></th>\n      <th></th>\n      <th></th>\n      <th></th>\n      <th></th>\n      <th></th>\n      <th></th>\n      <th></th>\n      <th></th>\n      <th></th>\n      <th></th>\n      <th></th>\n      <th></th>\n      <th></th>\n      <th></th>\n      <th></th>\n      <th></th>\n      <th></th>\n      <th></th>\n      <th></th>\n      <th></th>\n    </tr>\n  </thead>\n  <tbody>\n    <tr>\n      <th>NP_958782</th>\n      <td>PLEC</td>\n      <td>1.096131</td>\n      <td>2.609943</td>\n      <td>-0.659828</td>\n      <td>0.195341</td>\n      <td>-0.494060</td>\n      <td>2.765081</td>\n      <td>0.862659</td>\n      <td>1.407570</td>\n      <td>1.185108</td>\n      <td>...</td>\n      <td>-0.963904</td>\n      <td>-0.487772</td>\n      <td>-0.106680</td>\n      <td>-0.065838</td>\n      <td>0.655850</td>\n      <td>-0.552212</td>\n      <td>-0.398560</td>\n      <td>0.598585</td>\n      <td>-0.191285</td>\n      <td>0.566975</td>\n    </tr>\n    <tr>\n      <th>NP_958786</th>\n      <td>PLEC</td>\n      <td>1.111370</td>\n      <td>2.650422</td>\n      <td>-0.654285</td>\n      <td>0.215413</td>\n      <td>-0.500619</td>\n      <td>2.779709</td>\n      <td>0.870186</td>\n      <td>1.410312</td>\n      <td>1.188860</td>\n      <td>...</td>\n      <td>-0.943919</td>\n      <td>-0.487772</td>\n      <td>-0.106680</td>\n      <td>-0.065838</td>\n      <td>0.655850</td>\n      <td>-0.552212</td>\n      <td>-0.392601</td>\n      <td>0.603993</td>\n      <td>-0.186022</td>\n      <td>0.576747</td>\n    </tr>\n    <tr>\n      <th>NP_958780</th>\n      <td>PLEC</td>\n      <td>1.107561</td>\n      <td>2.646374</td>\n      <td>-0.654285</td>\n      <td>0.215413</td>\n      <td>-0.503899</td>\n      <td>2.779709</td>\n      <td>0.870186</td>\n      <td>1.407570</td>\n      <td>1.188860</td>\n      <td>...</td>\n      <td>-0.938210</td>\n      <td>-0.487772</td>\n      <td>-0.106680</td>\n      <td>-0.055893</td>\n      <td>0.658143</td>\n      <td>-0.547749</td>\n      <td>-0.392601</td>\n      <td>0.606697</td>\n      <td>-0.183918</td>\n      <td>0.578702</td>\n    </tr>\n    <tr>\n      <th>NP_958783</th>\n      <td>PLEC</td>\n      <td>1.111370</td>\n      <td>2.650422</td>\n      <td>-0.648742</td>\n      <td>0.215413</td>\n      <td>-0.500619</td>\n      <td>2.783366</td>\n      <td>0.870186</td>\n      <td>1.410312</td>\n      <td>1.188860</td>\n      <td>...</td>\n      <td>-0.943919</td>\n      <td>-0.487772</td>\n      <td>-0.106680</td>\n      <td>-0.062523</td>\n      <td>0.655850</td>\n      <td>-0.552212</td>\n      <td>-0.392601</td>\n      <td>0.603993</td>\n      <td>-0.186022</td>\n      <td>0.576747</td>\n    </tr>\n    <tr>\n      <th>NP_001611</th>\n      <td>AHNAK</td>\n      <td>0.482754</td>\n      <td>-1.045294</td>\n      <td>1.222003</td>\n      <td>-0.517226</td>\n      <td>-0.405503</td>\n      <td>0.749997</td>\n      <td>2.349197</td>\n      <td>-0.007077</td>\n      <td>2.138081</td>\n      <td>...</td>\n      <td>1.325752</td>\n      <td>0.731148</td>\n      <td>-1.177327</td>\n      <td>0.709931</td>\n      <td>1.307036</td>\n      <td>0.487574</td>\n      <td>0.694810</td>\n      <td>2.778263</td>\n      <td>1.367330</td>\n      <td>3.215190</td>\n    </tr>\n    <tr>\n      <th>...</th>\n      <td>...</td>\n      <td>...</td>\n      <td>...</td>\n      <td>...</td>\n      <td>...</td>\n      <td>...</td>\n      <td>...</td>\n      <td>...</td>\n      <td>...</td>\n      <td>...</td>\n      <td>...</td>\n      <td>...</td>\n      <td>...</td>\n      <td>...</td>\n      <td>...</td>\n      <td>...</td>\n      <td>...</td>\n      <td>...</td>\n      <td>...</td>\n      <td>...</td>\n      <td>...</td>\n    </tr>\n    <tr>\n      <th>NP_001094348</th>\n      <td>C8ORF73</td>\n      <td>-1.010687</td>\n      <td>-0.049515</td>\n      <td>-2.577688</td>\n      <td>-0.329884</td>\n      <td>2.480781</td>\n      <td>2.110453</td>\n      <td>-1.135699</td>\n      <td>2.095703</td>\n      <td>0.108324</td>\n      <td>...</td>\n      <td>-3.599007</td>\n      <td>0.126512</td>\n      <td>-2.059591</td>\n      <td>1.492330</td>\n      <td>3.145951</td>\n      <td>-4.088822</td>\n      <td>4.323489</td>\n      <td>-0.469620</td>\n      <td>-3.190644</td>\n      <td>-1.158762</td>\n    </tr>\n    <tr>\n      <th>NP_443073</th>\n      <td>TSSK3</td>\n      <td>-0.119194</td>\n      <td>1.144610</td>\n      <td>-1.203037</td>\n      <td>1.700762</td>\n      <td>0.371826</td>\n      <td>-1.718572</td>\n      <td>0.873949</td>\n      <td>-0.851479</td>\n      <td>0.787411</td>\n      <td>...</td>\n      <td>-1.377869</td>\n      <td>0.821200</td>\n      <td>1.494581</td>\n      <td>3.259359</td>\n      <td>-0.109983</td>\n      <td>-2.698723</td>\n      <td>-0.294287</td>\n      <td>0.420100</td>\n      <td>0.226521</td>\n      <td>-0.537262</td>\n    </tr>\n    <tr>\n      <th>NP_001004456</th>\n      <td>OR1M1</td>\n      <td>-2.024094</td>\n      <td>-0.166903</td>\n      <td>-3.071010</td>\n      <td>2.353112</td>\n      <td>-1.445222</td>\n      <td>0.197769</td>\n      <td>4.618518</td>\n      <td>1.914760</td>\n      <td>3.158587</td>\n      <td>...</td>\n      <td>-2.785351</td>\n      <td>1.203922</td>\n      <td>-0.269946</td>\n      <td>1.233740</td>\n      <td>1.894022</td>\n      <td>-1.556297</td>\n      <td>0.724603</td>\n      <td>0.847382</td>\n      <td>0.520142</td>\n      <td>0.948084</td>\n    </tr>\n    <tr>\n      <th>NP_997625</th>\n      <td>ARL4A</td>\n      <td>1.637123</td>\n      <td>1.059605</td>\n      <td>1.648810</td>\n      <td>0.422827</td>\n      <td>0.493181</td>\n      <td>-2.354914</td>\n      <td>0.636856</td>\n      <td>0.763303</td>\n      <td>2.948483</td>\n      <td>...</td>\n      <td>2.150828</td>\n      <td>-1.352917</td>\n      <td>-0.605897</td>\n      <td>0.849171</td>\n      <td>1.135068</td>\n      <td>-1.978013</td>\n      <td>-1.745163</td>\n      <td>-1.099726</td>\n      <td>-0.592251</td>\n      <td>-0.595894</td>\n    </tr>\n    <tr>\n      <th>NP_003270</th>\n      <td>TNNC2</td>\n      <td>-0.252537</td>\n      <td>2.193011</td>\n      <td>-2.813263</td>\n      <td>0.389373</td>\n      <td>2.369266</td>\n      <td>-0.354459</td>\n      <td>-0.488396</td>\n      <td>0.415124</td>\n      <td>2.025525</td>\n      <td>...</td>\n      <td>-2.885274</td>\n      <td>0.332346</td>\n      <td>0.741047</td>\n      <td>1.853693</td>\n      <td>2.325089</td>\n      <td>-3.999570</td>\n      <td>1.222131</td>\n      <td>-0.453395</td>\n      <td>-4.235684</td>\n      <td>-2.452576</td>\n    </tr>\n  </tbody>\n</table>\n<p>6912 rows × 84 columns</p>\n</div>"
     },
     "execution_count": 228,
     "metadata": {},
     "output_type": "execute_result"
    }
   ],
   "source": [
    "gct"
   ],
   "metadata": {
    "collapsed": false,
    "pycharm": {
     "name": "#%%\n"
    }
   }
  },
  {
   "cell_type": "code",
   "execution_count": 255,
   "outputs": [
    {
     "data": {
      "text/plain": "             geneName\nGID                  \nNP_055726        AAK1\nNP_001012768     ABI1\nNP_001158287    ACIN1\nNP_001087        ACLY\nNP_004292      ACTL6A\n...               ...\nNP_057191         ZFR\nNP_056161     ZFYVE26\nNP_001017926     ZHX1\nNP_001014972   ZNF638\nNP_065883      ZNF687\n\n[279 rows x 1 columns]",
      "text/html": "<div>\n<style scoped>\n    .dataframe tbody tr th:only-of-type {\n        vertical-align: middle;\n    }\n\n    .dataframe tbody tr th {\n        vertical-align: top;\n    }\n\n    .dataframe thead th {\n        text-align: right;\n    }\n</style>\n<table border=\"1\" class=\"dataframe\">\n  <thead>\n    <tr style=\"text-align: right;\">\n      <th></th>\n      <th>geneName</th>\n    </tr>\n    <tr>\n      <th>GID</th>\n      <th></th>\n    </tr>\n  </thead>\n  <tbody>\n    <tr>\n      <th>NP_055726</th>\n      <td>AAK1</td>\n    </tr>\n    <tr>\n      <th>NP_001012768</th>\n      <td>ABI1</td>\n    </tr>\n    <tr>\n      <th>NP_001158287</th>\n      <td>ACIN1</td>\n    </tr>\n    <tr>\n      <th>NP_001087</th>\n      <td>ACLY</td>\n    </tr>\n    <tr>\n      <th>NP_004292</th>\n      <td>ACTL6A</td>\n    </tr>\n    <tr>\n      <th>...</th>\n      <td>...</td>\n    </tr>\n    <tr>\n      <th>NP_057191</th>\n      <td>ZFR</td>\n    </tr>\n    <tr>\n      <th>NP_056161</th>\n      <td>ZFYVE26</td>\n    </tr>\n    <tr>\n      <th>NP_001017926</th>\n      <td>ZHX1</td>\n    </tr>\n    <tr>\n      <th>NP_001014972</th>\n      <td>ZNF638</td>\n    </tr>\n    <tr>\n      <th>NP_065883</th>\n      <td>ZNF687</td>\n    </tr>\n  </tbody>\n</table>\n<p>279 rows × 1 columns</p>\n</div>"
     },
     "execution_count": 255,
     "metadata": {},
     "output_type": "execute_result"
    }
   ],
   "source": [
    "pdf = pd.DataFrame(pf[\"geneName\"], index=pf.index)\n",
    "pdf"
   ],
   "metadata": {
    "collapsed": false,
    "pycharm": {
     "name": "#%%\n"
    }
   }
  },
  {
   "cell_type": "code",
   "execution_count": 256,
   "outputs": [
    {
     "name": "stdout",
     "output_type": "stream",
     "text": [
      "['E2-A10A.02TCGA', 'BH-A0BZ.03TCGA', 'A8-A09I.04TCGA', 'A2-A0D0.06TCGA', 'BH-A0HK.06TCGA', 'A2-A0D1.07TCGA', 'A2-A0YI.08TCGA', 'D8-A13Y.15TCGA', 'C8-A12P.16TCGA', 'AN-A0AS.19TCGA', 'A2-A0T2.21TCGA', 'A2-A0YL.22TCGA', 'E2-A159.24TCGA', 'BH-A18R.25TCGA', 'A2-A0T1.26TCGA', 'E2-A150.27TCGA', 'A7-A0CD.28TCGA', 'C8-A12W.28TCGA', 'A8-A08G.30TCGA', 'AR-A1AQ.34TCGA']\n"
     ]
    },
    {
     "ename": "KeyError",
     "evalue": "\"['E2-A10A.02TCGA', 'BH-A0BZ.03TCGA', 'A8-A09I.04TCGA', 'A2-A0D0.06TCGA', 'BH-A0HK.06TCGA', 'A2-A0D1.07TCGA', 'A2-A0YI.08TCGA', 'D8-A13Y.15TCGA', 'C8-A12P.16TCGA', 'AN-A0AS.19TCGA', 'A2-A0T2.21TCGA', 'A2-A0YL.22TCGA', 'E2-A159.24TCGA', 'BH-A18R.25TCGA', 'A2-A0T1.26TCGA', 'E2-A150.27TCGA', 'A7-A0CD.28TCGA', 'C8-A12W.28TCGA', 'A8-A08G.30TCGA', 'AR-A1AQ.34TCGA'] not found in axis\"",
     "output_type": "error",
     "traceback": [
      "\u001B[1;31m---------------------------------------------------------------------------\u001B[0m",
      "\u001B[1;31mKeyError\u001B[0m                                  Traceback (most recent call last)",
      "\u001B[1;32m~\\AppData\\Local\\Temp\\ipykernel_34728\\3887659317.py\u001B[0m in \u001B[0;36m<module>\u001B[1;34m\u001B[0m\n\u001B[0;32m      7\u001B[0m             \u001B[0mexclude\u001B[0m\u001B[1;33m.\u001B[0m\u001B[0mappend\u001B[0m\u001B[1;33m(\u001B[0m\u001B[0mcol\u001B[0m\u001B[1;33m)\u001B[0m\u001B[1;33m\u001B[0m\u001B[1;33m\u001B[0m\u001B[0m\n\u001B[0;32m      8\u001B[0m \u001B[0mprint\u001B[0m\u001B[1;33m(\u001B[0m\u001B[0mexclude\u001B[0m\u001B[1;33m)\u001B[0m\u001B[1;33m\u001B[0m\u001B[1;33m\u001B[0m\u001B[0m\n\u001B[1;32m----> 9\u001B[1;33m \u001B[0mpdf\u001B[0m \u001B[1;33m=\u001B[0m \u001B[0mpdf\u001B[0m\u001B[1;33m.\u001B[0m\u001B[0mdrop\u001B[0m\u001B[1;33m(\u001B[0m\u001B[0mexclude\u001B[0m\u001B[1;33m,\u001B[0m \u001B[0maxis\u001B[0m\u001B[1;33m=\u001B[0m\u001B[1;36m1\u001B[0m\u001B[1;33m)\u001B[0m\u001B[1;33m\u001B[0m\u001B[1;33m\u001B[0m\u001B[0m\n\u001B[0m",
      "\u001B[1;32mC:\\python_work\\lib\\site-packages\\pandas\\util\\_decorators.py\u001B[0m in \u001B[0;36mwrapper\u001B[1;34m(*args, **kwargs)\u001B[0m\n\u001B[0;32m    309\u001B[0m                     \u001B[0mstacklevel\u001B[0m\u001B[1;33m=\u001B[0m\u001B[0mstacklevel\u001B[0m\u001B[1;33m,\u001B[0m\u001B[1;33m\u001B[0m\u001B[1;33m\u001B[0m\u001B[0m\n\u001B[0;32m    310\u001B[0m                 )\n\u001B[1;32m--> 311\u001B[1;33m             \u001B[1;32mreturn\u001B[0m \u001B[0mfunc\u001B[0m\u001B[1;33m(\u001B[0m\u001B[1;33m*\u001B[0m\u001B[0margs\u001B[0m\u001B[1;33m,\u001B[0m \u001B[1;33m**\u001B[0m\u001B[0mkwargs\u001B[0m\u001B[1;33m)\u001B[0m\u001B[1;33m\u001B[0m\u001B[1;33m\u001B[0m\u001B[0m\n\u001B[0m\u001B[0;32m    312\u001B[0m \u001B[1;33m\u001B[0m\u001B[0m\n\u001B[0;32m    313\u001B[0m         \u001B[1;32mreturn\u001B[0m \u001B[0mwrapper\u001B[0m\u001B[1;33m\u001B[0m\u001B[1;33m\u001B[0m\u001B[0m\n",
      "\u001B[1;32mC:\\python_work\\lib\\site-packages\\pandas\\core\\frame.py\u001B[0m in \u001B[0;36mdrop\u001B[1;34m(self, labels, axis, index, columns, level, inplace, errors)\u001B[0m\n\u001B[0;32m   4954\u001B[0m                 \u001B[0mweight\u001B[0m  \u001B[1;36m1.0\u001B[0m     \u001B[1;36m0.8\u001B[0m\u001B[1;33m\u001B[0m\u001B[1;33m\u001B[0m\u001B[0m\n\u001B[0;32m   4955\u001B[0m         \"\"\"\n\u001B[1;32m-> 4956\u001B[1;33m         return super().drop(\n\u001B[0m\u001B[0;32m   4957\u001B[0m             \u001B[0mlabels\u001B[0m\u001B[1;33m=\u001B[0m\u001B[0mlabels\u001B[0m\u001B[1;33m,\u001B[0m\u001B[1;33m\u001B[0m\u001B[1;33m\u001B[0m\u001B[0m\n\u001B[0;32m   4958\u001B[0m             \u001B[0maxis\u001B[0m\u001B[1;33m=\u001B[0m\u001B[0maxis\u001B[0m\u001B[1;33m,\u001B[0m\u001B[1;33m\u001B[0m\u001B[1;33m\u001B[0m\u001B[0m\n",
      "\u001B[1;32mC:\\python_work\\lib\\site-packages\\pandas\\core\\generic.py\u001B[0m in \u001B[0;36mdrop\u001B[1;34m(self, labels, axis, index, columns, level, inplace, errors)\u001B[0m\n\u001B[0;32m   4277\u001B[0m         \u001B[1;32mfor\u001B[0m \u001B[0maxis\u001B[0m\u001B[1;33m,\u001B[0m \u001B[0mlabels\u001B[0m \u001B[1;32min\u001B[0m \u001B[0maxes\u001B[0m\u001B[1;33m.\u001B[0m\u001B[0mitems\u001B[0m\u001B[1;33m(\u001B[0m\u001B[1;33m)\u001B[0m\u001B[1;33m:\u001B[0m\u001B[1;33m\u001B[0m\u001B[1;33m\u001B[0m\u001B[0m\n\u001B[0;32m   4278\u001B[0m             \u001B[1;32mif\u001B[0m \u001B[0mlabels\u001B[0m \u001B[1;32mis\u001B[0m \u001B[1;32mnot\u001B[0m \u001B[1;32mNone\u001B[0m\u001B[1;33m:\u001B[0m\u001B[1;33m\u001B[0m\u001B[1;33m\u001B[0m\u001B[0m\n\u001B[1;32m-> 4279\u001B[1;33m                 \u001B[0mobj\u001B[0m \u001B[1;33m=\u001B[0m \u001B[0mobj\u001B[0m\u001B[1;33m.\u001B[0m\u001B[0m_drop_axis\u001B[0m\u001B[1;33m(\u001B[0m\u001B[0mlabels\u001B[0m\u001B[1;33m,\u001B[0m \u001B[0maxis\u001B[0m\u001B[1;33m,\u001B[0m \u001B[0mlevel\u001B[0m\u001B[1;33m=\u001B[0m\u001B[0mlevel\u001B[0m\u001B[1;33m,\u001B[0m \u001B[0merrors\u001B[0m\u001B[1;33m=\u001B[0m\u001B[0merrors\u001B[0m\u001B[1;33m)\u001B[0m\u001B[1;33m\u001B[0m\u001B[1;33m\u001B[0m\u001B[0m\n\u001B[0m\u001B[0;32m   4280\u001B[0m \u001B[1;33m\u001B[0m\u001B[0m\n\u001B[0;32m   4281\u001B[0m         \u001B[1;32mif\u001B[0m \u001B[0minplace\u001B[0m\u001B[1;33m:\u001B[0m\u001B[1;33m\u001B[0m\u001B[1;33m\u001B[0m\u001B[0m\n",
      "\u001B[1;32mC:\\python_work\\lib\\site-packages\\pandas\\core\\generic.py\u001B[0m in \u001B[0;36m_drop_axis\u001B[1;34m(self, labels, axis, level, errors, consolidate, only_slice)\u001B[0m\n\u001B[0;32m   4321\u001B[0m                 \u001B[0mnew_axis\u001B[0m \u001B[1;33m=\u001B[0m \u001B[0maxis\u001B[0m\u001B[1;33m.\u001B[0m\u001B[0mdrop\u001B[0m\u001B[1;33m(\u001B[0m\u001B[0mlabels\u001B[0m\u001B[1;33m,\u001B[0m \u001B[0mlevel\u001B[0m\u001B[1;33m=\u001B[0m\u001B[0mlevel\u001B[0m\u001B[1;33m,\u001B[0m \u001B[0merrors\u001B[0m\u001B[1;33m=\u001B[0m\u001B[0merrors\u001B[0m\u001B[1;33m)\u001B[0m\u001B[1;33m\u001B[0m\u001B[1;33m\u001B[0m\u001B[0m\n\u001B[0;32m   4322\u001B[0m             \u001B[1;32melse\u001B[0m\u001B[1;33m:\u001B[0m\u001B[1;33m\u001B[0m\u001B[1;33m\u001B[0m\u001B[0m\n\u001B[1;32m-> 4323\u001B[1;33m                 \u001B[0mnew_axis\u001B[0m \u001B[1;33m=\u001B[0m \u001B[0maxis\u001B[0m\u001B[1;33m.\u001B[0m\u001B[0mdrop\u001B[0m\u001B[1;33m(\u001B[0m\u001B[0mlabels\u001B[0m\u001B[1;33m,\u001B[0m \u001B[0merrors\u001B[0m\u001B[1;33m=\u001B[0m\u001B[0merrors\u001B[0m\u001B[1;33m)\u001B[0m\u001B[1;33m\u001B[0m\u001B[1;33m\u001B[0m\u001B[0m\n\u001B[0m\u001B[0;32m   4324\u001B[0m             \u001B[0mindexer\u001B[0m \u001B[1;33m=\u001B[0m \u001B[0maxis\u001B[0m\u001B[1;33m.\u001B[0m\u001B[0mget_indexer\u001B[0m\u001B[1;33m(\u001B[0m\u001B[0mnew_axis\u001B[0m\u001B[1;33m)\u001B[0m\u001B[1;33m\u001B[0m\u001B[1;33m\u001B[0m\u001B[0m\n\u001B[0;32m   4325\u001B[0m \u001B[1;33m\u001B[0m\u001B[0m\n",
      "\u001B[1;32mC:\\python_work\\lib\\site-packages\\pandas\\core\\indexes\\base.py\u001B[0m in \u001B[0;36mdrop\u001B[1;34m(self, labels, errors)\u001B[0m\n\u001B[0;32m   6642\u001B[0m         \u001B[1;32mif\u001B[0m \u001B[0mmask\u001B[0m\u001B[1;33m.\u001B[0m\u001B[0many\u001B[0m\u001B[1;33m(\u001B[0m\u001B[1;33m)\u001B[0m\u001B[1;33m:\u001B[0m\u001B[1;33m\u001B[0m\u001B[1;33m\u001B[0m\u001B[0m\n\u001B[0;32m   6643\u001B[0m             \u001B[1;32mif\u001B[0m \u001B[0merrors\u001B[0m \u001B[1;33m!=\u001B[0m \u001B[1;34m\"ignore\"\u001B[0m\u001B[1;33m:\u001B[0m\u001B[1;33m\u001B[0m\u001B[1;33m\u001B[0m\u001B[0m\n\u001B[1;32m-> 6644\u001B[1;33m                 \u001B[1;32mraise\u001B[0m \u001B[0mKeyError\u001B[0m\u001B[1;33m(\u001B[0m\u001B[1;34mf\"{list(labels[mask])} not found in axis\"\u001B[0m\u001B[1;33m)\u001B[0m\u001B[1;33m\u001B[0m\u001B[1;33m\u001B[0m\u001B[0m\n\u001B[0m\u001B[0;32m   6645\u001B[0m             \u001B[0mindexer\u001B[0m \u001B[1;33m=\u001B[0m \u001B[0mindexer\u001B[0m\u001B[1;33m[\u001B[0m\u001B[1;33m~\u001B[0m\u001B[0mmask\u001B[0m\u001B[1;33m]\u001B[0m\u001B[1;33m\u001B[0m\u001B[1;33m\u001B[0m\u001B[0m\n\u001B[0;32m   6646\u001B[0m         \u001B[1;32mreturn\u001B[0m \u001B[0mself\u001B[0m\u001B[1;33m.\u001B[0m\u001B[0mdelete\u001B[0m\u001B[1;33m(\u001B[0m\u001B[0mindexer\u001B[0m\u001B[1;33m)\u001B[0m\u001B[1;33m\u001B[0m\u001B[1;33m\u001B[0m\u001B[0m\n",
      "\u001B[1;31mKeyError\u001B[0m: \"['E2-A10A.02TCGA', 'BH-A0BZ.03TCGA', 'A8-A09I.04TCGA', 'A2-A0D0.06TCGA', 'BH-A0HK.06TCGA', 'A2-A0D1.07TCGA', 'A2-A0YI.08TCGA', 'D8-A13Y.15TCGA', 'C8-A12P.16TCGA', 'AN-A0AS.19TCGA', 'A2-A0T2.21TCGA', 'A2-A0YL.22TCGA', 'E2-A159.24TCGA', 'BH-A18R.25TCGA', 'A2-A0T1.26TCGA', 'E2-A150.27TCGA', 'A7-A0CD.28TCGA', 'C8-A12W.28TCGA', 'A8-A08G.30TCGA', 'AR-A1AQ.34TCGA'] not found in axis\""
     ]
    }
   ],
   "source": [
    "exclude = []\n",
    "for index, row in pf.iterrows():\n",
    "    for col in pf.columns[1:]:\n",
    "        if col in gct.columns:\n",
    "            pdf.loc[index, col] = pf.loc[index, col]\n",
    "        elif index == \"NP_055726\":\n",
    "            exclude.append(col)\n"
   ],
   "metadata": {
    "collapsed": false,
    "pycharm": {
     "name": "#%%\n"
    }
   }
  },
  {
   "cell_type": "code",
   "execution_count": 238,
   "outputs": [],
   "source": [
    "pf.to_csv(\"phos_df_cleaned.csv\")"
   ],
   "metadata": {
    "collapsed": false,
    "pycharm": {
     "name": "#%%\n"
    }
   }
  },
  {
   "cell_type": "code",
   "execution_count": 258,
   "outputs": [],
   "source": [
    "pdf.to_csv(\"phos_df_unnormed.csv\")"
   ],
   "metadata": {
    "collapsed": false,
    "pycharm": {
     "name": "#%%\n"
    }
   }
  },
  {
   "cell_type": "code",
   "execution_count": 261,
   "outputs": [
    {
     "data": {
      "text/plain": "          geneName  AO-A12D.01TCGA  C8-A131.01TCGA  AO-A12B.01TCGA  \\\nGID                                                                  \nNP_006658   PGRMC1        1.981029        0.120397       -0.188653   \n\n           BH-A18Q.02TCGA  C8-A130.02TCGA  C8-A138.03TCGA  E2-A154.03TCGA  \\\nGID                                                                         \nNP_006658        0.311896        0.956255        1.390348       -0.910522   \n\n           C8-A12L.04TCGA  A2-A0EX.04TCGA  ...  C8-A131.32TCGA  \\\nGID                                        ...                   \nNP_006658       -0.172508        0.061894  ...       -0.425519   \n\n           C8-A134.32TCGA  A2-A0YF.33TCGA  BH-A0DD.33TCGA  BH-A0E9.33TCGA  \\\nGID                                                                         \nNP_006658        0.380656       -0.725746       -0.793851       -0.324873   \n\n           AR-A0TT.34TCGA  AO-A12B.34TCGA  263d3f-I.CPTAC  blcdb9-I.CPTAC  \\\nGID                                                                         \nNP_006658         -1.8869       -0.522007       -2.302524        1.250172   \n\n           c4155b-C.CPTAC  \nGID                        \nNP_006658       -0.802394  \n\n[1 rows x 64 columns]",
      "text/html": "<div>\n<style scoped>\n    .dataframe tbody tr th:only-of-type {\n        vertical-align: middle;\n    }\n\n    .dataframe tbody tr th {\n        vertical-align: top;\n    }\n\n    .dataframe thead th {\n        text-align: right;\n    }\n</style>\n<table border=\"1\" class=\"dataframe\">\n  <thead>\n    <tr style=\"text-align: right;\">\n      <th></th>\n      <th>geneName</th>\n      <th>AO-A12D.01TCGA</th>\n      <th>C8-A131.01TCGA</th>\n      <th>AO-A12B.01TCGA</th>\n      <th>BH-A18Q.02TCGA</th>\n      <th>C8-A130.02TCGA</th>\n      <th>C8-A138.03TCGA</th>\n      <th>E2-A154.03TCGA</th>\n      <th>C8-A12L.04TCGA</th>\n      <th>A2-A0EX.04TCGA</th>\n      <th>...</th>\n      <th>C8-A131.32TCGA</th>\n      <th>C8-A134.32TCGA</th>\n      <th>A2-A0YF.33TCGA</th>\n      <th>BH-A0DD.33TCGA</th>\n      <th>BH-A0E9.33TCGA</th>\n      <th>AR-A0TT.34TCGA</th>\n      <th>AO-A12B.34TCGA</th>\n      <th>263d3f-I.CPTAC</th>\n      <th>blcdb9-I.CPTAC</th>\n      <th>c4155b-C.CPTAC</th>\n    </tr>\n    <tr>\n      <th>GID</th>\n      <th></th>\n      <th></th>\n      <th></th>\n      <th></th>\n      <th></th>\n      <th></th>\n      <th></th>\n      <th></th>\n      <th></th>\n      <th></th>\n      <th></th>\n      <th></th>\n      <th></th>\n      <th></th>\n      <th></th>\n      <th></th>\n      <th></th>\n      <th></th>\n      <th></th>\n      <th></th>\n      <th></th>\n    </tr>\n  </thead>\n  <tbody>\n    <tr>\n      <th>NP_006658</th>\n      <td>PGRMC1</td>\n      <td>1.981029</td>\n      <td>0.120397</td>\n      <td>-0.188653</td>\n      <td>0.311896</td>\n      <td>0.956255</td>\n      <td>1.390348</td>\n      <td>-0.910522</td>\n      <td>-0.172508</td>\n      <td>0.061894</td>\n      <td>...</td>\n      <td>-0.425519</td>\n      <td>0.380656</td>\n      <td>-0.725746</td>\n      <td>-0.793851</td>\n      <td>-0.324873</td>\n      <td>-1.8869</td>\n      <td>-0.522007</td>\n      <td>-2.302524</td>\n      <td>1.250172</td>\n      <td>-0.802394</td>\n    </tr>\n  </tbody>\n</table>\n<p>1 rows × 64 columns</p>\n</div>"
     },
     "execution_count": 261,
     "metadata": {},
     "output_type": "execute_result"
    }
   ],
   "source": [
    "pdf[pdf[\"geneName\"] == \"PGRMC1\"]"
   ],
   "metadata": {
    "collapsed": false,
    "pycharm": {
     "name": "#%%\n"
    }
   }
  },
  {
   "cell_type": "code",
   "execution_count": 260,
   "outputs": [],
   "source": [
    "phos_columns = pdf.columns[1:]"
   ],
   "metadata": {
    "collapsed": false,
    "pycharm": {
     "name": "#%%\n"
    }
   }
  },
  {
   "cell_type": "code",
   "execution_count": 264,
   "outputs": [
    {
     "name": "stdout",
     "output_type": "stream",
     "text": [
      "AO-A12D.01TCGA    1.981029\n",
      "C8-A131.01TCGA    0.120397\n",
      "AO-A12B.01TCGA   -0.188653\n",
      "BH-A18Q.02TCGA    0.311896\n",
      "C8-A130.02TCGA    0.956255\n",
      "                    ...   \n",
      "AR-A0TT.34TCGA   -1.886900\n",
      "AO-A12B.34TCGA   -0.522007\n",
      "263d3f-I.CPTAC   -2.302524\n",
      "blcdb9-I.CPTAC    1.250172\n",
      "c4155b-C.CPTAC   -0.802394\n",
      "Name: NP_006658, Length: 63, dtype: float64\n"
     ]
    },
    {
     "data": {
      "text/plain": "    0\n0   0\n1   0\n2   1\n3   0\n4   0\n.. ..\n58  1\n59  1\n60  1\n61  0\n62  1\n\n[63 rows x 1 columns]",
      "text/html": "<div>\n<style scoped>\n    .dataframe tbody tr th:only-of-type {\n        vertical-align: middle;\n    }\n\n    .dataframe tbody tr th {\n        vertical-align: top;\n    }\n\n    .dataframe thead th {\n        text-align: right;\n    }\n</style>\n<table border=\"1\" class=\"dataframe\">\n  <thead>\n    <tr style=\"text-align: right;\">\n      <th></th>\n      <th>0</th>\n    </tr>\n  </thead>\n  <tbody>\n    <tr>\n      <th>0</th>\n      <td>0</td>\n    </tr>\n    <tr>\n      <th>1</th>\n      <td>0</td>\n    </tr>\n    <tr>\n      <th>2</th>\n      <td>1</td>\n    </tr>\n    <tr>\n      <th>3</th>\n      <td>0</td>\n    </tr>\n    <tr>\n      <th>4</th>\n      <td>0</td>\n    </tr>\n    <tr>\n      <th>...</th>\n      <td>...</td>\n    </tr>\n    <tr>\n      <th>58</th>\n      <td>1</td>\n    </tr>\n    <tr>\n      <th>59</th>\n      <td>1</td>\n    </tr>\n    <tr>\n      <th>60</th>\n      <td>1</td>\n    </tr>\n    <tr>\n      <th>61</th>\n      <td>0</td>\n    </tr>\n    <tr>\n      <th>62</th>\n      <td>1</td>\n    </tr>\n  </tbody>\n</table>\n<p>63 rows × 1 columns</p>\n</div>"
     },
     "execution_count": 264,
     "metadata": {},
     "output_type": "execute_result"
    }
   ],
   "source": [
    "import importlib\n",
    "import helper_functions\n",
    "importlib.reload(helper_functions)\n",
    "import helper_functions as helper\n",
    "\n",
    "helper.get_samples_UpDown_regulating(pdf, \"NP_006658\", save_to_csv=True, drop_col=\"geneName\")"
   ],
   "metadata": {
    "collapsed": false,
    "pycharm": {
     "name": "#%%\n"
    }
   }
  },
  {
   "cell_type": "code",
   "execution_count": 270,
   "outputs": [
    {
     "data": {
      "text/plain": "                subtypes\nsampleID                \nAO-A12D.01TCGA         0\nC8-A131.01TCGA         1\nAO-A12B.01TCGA         2\nE2-A10A.02TCGA         2\nBH-A18Q.02TCGA         1\n...                  ...\nBH-A0C7.36TCGA         2\nA2-A0SX.36TCGA         1\n263d3f-I.CPTAC         3\nblcdb9-I.CPTAC         3\nc4155b-C.CPTAC         3\n\n[111 rows x 1 columns]",
      "text/html": "<div>\n<style scoped>\n    .dataframe tbody tr th:only-of-type {\n        vertical-align: middle;\n    }\n\n    .dataframe tbody tr th {\n        vertical-align: top;\n    }\n\n    .dataframe thead th {\n        text-align: right;\n    }\n</style>\n<table border=\"1\" class=\"dataframe\">\n  <thead>\n    <tr style=\"text-align: right;\">\n      <th></th>\n      <th>subtypes</th>\n    </tr>\n    <tr>\n      <th>sampleID</th>\n      <th></th>\n    </tr>\n  </thead>\n  <tbody>\n    <tr>\n      <th>AO-A12D.01TCGA</th>\n      <td>0</td>\n    </tr>\n    <tr>\n      <th>C8-A131.01TCGA</th>\n      <td>1</td>\n    </tr>\n    <tr>\n      <th>AO-A12B.01TCGA</th>\n      <td>2</td>\n    </tr>\n    <tr>\n      <th>E2-A10A.02TCGA</th>\n      <td>2</td>\n    </tr>\n    <tr>\n      <th>BH-A18Q.02TCGA</th>\n      <td>1</td>\n    </tr>\n    <tr>\n      <th>...</th>\n      <td>...</td>\n    </tr>\n    <tr>\n      <th>BH-A0C7.36TCGA</th>\n      <td>2</td>\n    </tr>\n    <tr>\n      <th>A2-A0SX.36TCGA</th>\n      <td>1</td>\n    </tr>\n    <tr>\n      <th>263d3f-I.CPTAC</th>\n      <td>3</td>\n    </tr>\n    <tr>\n      <th>blcdb9-I.CPTAC</th>\n      <td>3</td>\n    </tr>\n    <tr>\n      <th>c4155b-C.CPTAC</th>\n      <td>3</td>\n    </tr>\n  </tbody>\n</table>\n<p>111 rows × 1 columns</p>\n</div>"
     },
     "execution_count": 270,
     "metadata": {},
     "output_type": "execute_result"
    }
   ],
   "source": [
    "add_col = [\"263d3f-I.CPTAC\",\n",
    "\"blcdb9-I.CPTAC\",\n",
    "\"c4155b-C.CPTAC\"]\n",
    "for col in add_col:\n",
    "    subtypes.loc[col] = 3\n",
    "subtypes"
   ],
   "metadata": {
    "collapsed": false,
    "pycharm": {
     "name": "#%%\n"
    }
   }
  },
  {
   "cell_type": "code",
   "execution_count": 276,
   "outputs": [],
   "source": [
    "def cls_categorical(columns, categoric_series, replace_dict={}):\n",
    "    arr = []\n",
    "    for col in columns:\n",
    "        arr.append(int(categoric_series.loc[col]))\n",
    "    if len(replace_dict) > 0:\n",
    "        for i in range(len(arr)):\n",
    "            is_changed = False\n",
    "            for key, value in replace_dict.items():\n",
    "                if arr[i] == key and not is_changed:\n",
    "                    arr[i] = value\n",
    "                    is_changed = True\n",
    "    return arr\n",
    "\n",
    "def text_to_cls_file(categories: str, cls_numeric_cat: list, num_cat: int=2, num_samples: int=63, filename: str=None):\n",
    "    lines = [f\"{num_samples}\\t{num_cat}\\t1\", categories, cls_numeric_cat]\n",
    "    if filename == None:\n",
    "        filename = f\"{categories}_CLS.cls\"\n",
    "    with open(filename, 'w') as f:\n",
    "        for line in lines:\n",
    "            if isinstance(line, list):\n",
    "                text = \"\\t\".join(map(str,line))\n",
    "                #print(text)\n",
    "            else:\n",
    "                text = line\n",
    "            f.write(text)\n",
    "            f.write(\"\\n\")\n",
    "    return f\"file saved as {filename}\"\n",
    "\n",
    "def cat_to_cls_file(columns, categoric_series, categories, replace_dict={}, filename=None, num_cat=2):\n",
    "    cls_numeric_list = cls_categorical(columns, categoric_series, replace_dict)\n",
    "    num_samples = len(cls_numeric_list)\n",
    "    print(text_to_cls_file(categories, cls_numeric_list, num_cat, num_samples, filename))\n",
    "\n"
   ],
   "metadata": {
    "collapsed": false,
    "pycharm": {
     "name": "#%%\n"
    }
   }
  },
  {
   "cell_type": "code",
   "execution_count": 277,
   "outputs": [],
   "source": [],
   "metadata": {
    "collapsed": false,
    "pycharm": {
     "name": "#%%\n"
    }
   }
  },
  {
   "cell_type": "code",
   "execution_count": 363,
   "outputs": [
    {
     "name": "stdout",
     "output_type": "stream",
     "text": [
      "file saved as Luminal_Rest_cls.cls\n"
     ]
    }
   ],
   "source": [
    "importlib.reload(helper_functions)\n",
    "import helper_functions as helper\n",
    "\n",
    "helper.cat_to_cls_file(phos_columns, subtypes, \"# Luminal Rest\", replace_dict={0:1, 2:0, 3:1}, filename=\"Luminal_Rest_cls.cls\")"
   ],
   "metadata": {
    "collapsed": false,
    "pycharm": {
     "name": "#%%\n"
    }
   }
  },
  {
   "cell_type": "code",
   "execution_count": 265,
   "outputs": [
    {
     "data": {
      "text/plain": "2"
     },
     "execution_count": 265,
     "metadata": {},
     "output_type": "execute_result"
    }
   ],
   "source": [
    "dict = {\"a\":2,\"b\":3}\n",
    "len(dict)"
   ],
   "metadata": {
    "collapsed": false,
    "pycharm": {
     "name": "#%%\n"
    }
   }
  },
  {
   "cell_type": "code",
   "execution_count": 266,
   "outputs": [
    {
     "data": {
      "text/plain": "0"
     },
     "execution_count": 266,
     "metadata": {},
     "output_type": "execute_result"
    }
   ],
   "source": [
    "d = {}\n",
    "len(d)"
   ],
   "metadata": {
    "collapsed": false,
    "pycharm": {
     "name": "#%%\n"
    }
   }
  },
  {
   "cell_type": "code",
   "execution_count": 294,
   "outputs": [],
   "source": [
    "k_cluster = pd.read_csv(\"data/KmeansCluster_Group.csv\", sep=\";\")\n",
    "cluster = k_cluster[\"CLU4\"].to_list()"
   ],
   "metadata": {
    "collapsed": false,
    "pycharm": {
     "name": "#%%\n"
    }
   }
  },
  {
   "cell_type": "code",
   "execution_count": 301,
   "outputs": [
    {
     "data": {
      "text/plain": "[['NP_848927', 'MTDH'],\n ['NP_055475', 'PHF14'],\n ['NP_005244', 'FOSL2'],\n ['NP_003008', 'SFRS3'],\n ['NP_891553', 'KLC1'],\n ['NP_002705', 'PPP1R10'],\n ['NP_056169', 'NUP188'],\n ['NP_612142', 'NUP35'],\n ['NP_061830', 'SH3BP1'],\n ['NP_001122321', 'SMARCA4'],\n ['NP_001746', 'CBFB'],\n ['NP_002792', 'PSMB10'],\n ['NP_060353', 'WDR13'],\n ['NP_055726', 'AAK1'],\n ['NP_001003800', 'BICD2'],\n ['NP_510880', 'MYO18A'],\n ['NP_006658', 'PGRMC1'],\n ['NP_060537', 'MAP7D1'],\n ['NP_003555', 'TAGLN2'],\n ['NP_001074324', 'PXN'],\n ['NP_001020471', 'RAB12'],\n ['NP_002726', 'PRKAR1B'],\n ['NP_115766', 'MKI67IP'],\n ['NP_003213', 'TFAP2C'],\n ['NP_001012768', 'ABI1'],\n ['NP_149079', 'FAM40A'],\n ['NP_055756', 'MORC2'],\n ['NP_057056', 'POLR1D'],\n ['NP_060191', 'CC2D1A'],\n ['NP_005079', 'SFRS17A'],\n ['NP_005073', 'TRIM25'],\n ['NP_000480', 'ATRX'],\n ['NP_060439', 'IWS1'],\n ['NP_005210', 'DIAPH1'],\n ['NP_065883', 'ZNF687'],\n ['NP_056988', 'EIF5B'],\n ['NP_071921', 'AKTIP'],\n ['NP_114414', 'EIF2A'],\n ['NP_003080', 'SNRNP70'],\n ['NP_057591', 'CDK12'],\n ['NP_056992', 'SRRT'],\n ['NP_004777', 'TXNL1'],\n ['NP_116114', 'BUD13'],\n ['NP_892017', 'IRF2BP2'],\n ['NP_056311', 'KIAA1429'],\n ['NP_067051', 'SCAF1'],\n ['NP_005886', 'GOLGA3'],\n ['NP_005076', 'NUP214'],\n ['NP_652759', 'RGS3'],\n ['NP_002464', 'MYH9'],\n ['NP_005641', 'TCF20'],\n ['NP_060389', 'STX17'],\n ['NP_006358', 'CAP1'],\n ['NP_006635', 'HSPH1'],\n ['NP_079366', 'USP36'],\n ['NP_004550', 'YBX1'],\n ['NP_073557', 'DGCR8'],\n ['NP_004292', 'ACTL6A'],\n ['NP_003463', 'DEK'],\n ['NP_005078', 'FXR1'],\n ['NP_001649', 'ARF1'],\n ['NP_003644', 'COPS3'],\n ['NP_002678', 'PNN'],\n ['NP_003128', 'SRPK1'],\n ['NP_001099008', 'MYBBP1A'],\n ['NP_001093869', 'PDS5A'],\n ['NP_114430', 'NCALD'],\n ['NP_037524', 'NRBP1'],\n ['NP_003866', 'GMPS'],\n ['NP_002152', 'IARS'],\n ['NP_055844', 'POP1'],\n ['NP_065901', 'RANBP10'],\n ['NP_001120792', 'UBAP2L'],\n ['NP_115593', 'ANKRD17'],\n ['NP_061878', 'MIOS']]"
     },
     "execution_count": 301,
     "metadata": {},
     "output_type": "execute_result"
    }
   ],
   "source": [
    "gene_cluster = []\n",
    "for cl in cluster:\n",
    "    if cl in gct.index:\n",
    "        gene_cluster.append([cl, gct.loc[cl, \"NAME\"]])\n",
    "gene_cluster"
   ],
   "metadata": {
    "collapsed": false,
    "pycharm": {
     "name": "#%%\n"
    }
   }
  },
  {
   "cell_type": "code",
   "execution_count": 305,
   "outputs": [],
   "source": [
    "indices = np.array(gene_cluster)[:,0]"
   ],
   "metadata": {
    "collapsed": false,
    "pycharm": {
     "name": "#%%\n"
    }
   }
  },
  {
   "cell_type": "code",
   "execution_count": 306,
   "outputs": [
    {
     "data": {
      "text/plain": "75"
     },
     "execution_count": 306,
     "metadata": {},
     "output_type": "execute_result"
    }
   ],
   "source": [
    "len(indices)"
   ],
   "metadata": {
    "collapsed": false,
    "pycharm": {
     "name": "#%%\n"
    }
   }
  },
  {
   "cell_type": "code",
   "execution_count": 312,
   "outputs": [
    {
     "data": {
      "text/plain": "             geneName  AO-A12D.01TCGA  C8-A131.01TCGA  AO-A12B.01TCGA  \\\nGID                                                                     \nNP_055726        AAK1        0.348837        0.731615        0.922412   \nNP_001012768     ABI1        1.037625        1.207672        1.804367   \nNP_004292      ACTL6A       -0.140728       -0.309807        0.945206   \nNP_071921       AKTIP       -0.106134        0.290127        1.280103   \nNP_115593     ANKRD17        2.310571        0.569928       -0.776623   \n...               ...             ...             ...             ...   \nNP_001120792   UBAP2L        1.018166        0.370790       -0.219922   \nNP_079366       USP36        0.864656       -1.749144        0.099195   \nNP_060353       WDR13        1.729503        0.020409        1.746505   \nNP_004550        YBX1        1.472211       -2.218000       -1.011577   \nNP_065883      ZNF687        0.270345        0.525500        1.503660   \n\n              E2-A10A.02TCGA  BH-A18Q.02TCGA  C8-A130.02TCGA  C8-A138.03TCGA  \\\nGID                                                                            \nNP_055726          -3.234778        0.319409        0.104248       -0.079256   \nNP_001012768       -6.996930        0.360444       -0.141749        0.201926   \nNP_004292          -5.794648        2.114260        1.205347       -0.276458   \nNP_071921          -4.266714        0.386742        0.410585       -0.214577   \nNP_115593          -6.735421       -1.755968        1.297195       -1.124934   \n...                      ...             ...             ...             ...   \nNP_001120792       -3.851426       -0.943286        0.265629       -0.020606   \nNP_079366          -3.098972       -0.014795       -0.427914       -0.195537   \nNP_060353          -2.850621        0.291667        1.630220       -0.619180   \nNP_004550          -7.561064       -1.011051        0.328110        0.178126   \nNP_065883          -3.677292        0.078509        0.303118        0.434275   \n\n              E2-A154.03TCGA  BH-A0BZ.03TCGA  ...  C8-A134.32TCGA  \\\nGID                                           ...                   \nNP_055726          -0.690370       -4.511075  ...        0.710134   \nNP_001012768       -0.248022       -7.461227  ...       -0.268380   \nNP_004292          -1.029471       -6.088893  ...        0.416580   \nNP_071921          -1.370508       -9.585787  ...        0.965027   \nNP_115593          -3.425763       -8.284841  ...        1.254219   \n...                      ...             ...  ...             ...   \nNP_001120792       -0.514528       -5.980215  ...        1.129082   \nNP_079366          -0.292063       -4.161446  ...        0.021411   \nNP_060353          -0.476133       -7.265180  ...       -0.651575   \nNP_004550          -1.779300       -8.946501  ...        1.345827   \nNP_065883          -0.236165       -4.077807  ...        0.174988   \n\n              A2-A0YF.33TCGA  BH-A0DD.33TCGA  BH-A0E9.33TCGA  AR-A0TT.34TCGA  \\\nGID                                                                            \nNP_055726          -0.230225       -0.161544        0.708913       -0.001759   \nNP_001012768        0.626203        0.006788        0.282789        1.172411   \nNP_004292           0.332140        0.562005        0.557101       -0.159039   \nNP_071921          -0.955077        1.367674       -0.419190       -1.014796   \nNP_115593          -2.142425       -1.977585       -1.710292       -0.714423   \n...                      ...             ...             ...             ...   \nNP_001120792        0.384850       -1.530620       -0.653543        0.368147   \nNP_079366          -1.066045        0.131260       -1.582316        0.476036   \nNP_060353           0.088013        0.391518        0.857332        0.336270   \nNP_004550          -0.955077       -2.322710       -1.412761        1.167507   \nNP_065883          -0.506008       -0.215751       -0.809599       -0.084559   \n\n              AR-A1AQ.34TCGA  AO-A12B.34TCGA  263d3f-I.CPTAC  blcdb9-I.CPTAC  \\\nGID                                                                            \nNP_055726          -2.222012        0.570832       -0.779213       -0.692628   \nNP_001012768       -3.706673        1.532326       -0.317314        0.633994   \nNP_004292          -3.859069        0.902757       -0.732205       -2.064512   \nNP_071921          -4.737034        0.429875        0.169110        1.798613   \nNP_115593          -4.575872       -1.055471       -1.325418        1.290594   \n...                      ...             ...             ...             ...   \nNP_001120792       -3.310847       -0.071945       -1.072498        0.021095   \nNP_079366          -1.809136       -0.036656        0.055679        0.813166   \nNP_060353          -4.051925        1.237304        0.308088       -0.202870   \nNP_004550          -4.181394       -0.607644       -0.006657        0.609959   \nNP_065883          -2.488513        1.177841       -0.013299       -0.784907   \n\n              c4155b-C.CPTAC  \nGID                           \nNP_055726          -0.554810  \nNP_001012768       -0.055454  \nNP_004292          -0.236016  \nNP_071921           0.569567  \nNP_115593          -0.892289  \n...                      ...  \nNP_001120792       -1.056646  \nNP_079366           0.389006  \nNP_060353          -0.624918  \nNP_004550          -0.094807  \nNP_065883          -0.799403  \n\n[75 rows x 84 columns]",
      "text/html": "<div>\n<style scoped>\n    .dataframe tbody tr th:only-of-type {\n        vertical-align: middle;\n    }\n\n    .dataframe tbody tr th {\n        vertical-align: top;\n    }\n\n    .dataframe thead th {\n        text-align: right;\n    }\n</style>\n<table border=\"1\" class=\"dataframe\">\n  <thead>\n    <tr style=\"text-align: right;\">\n      <th></th>\n      <th>geneName</th>\n      <th>AO-A12D.01TCGA</th>\n      <th>C8-A131.01TCGA</th>\n      <th>AO-A12B.01TCGA</th>\n      <th>E2-A10A.02TCGA</th>\n      <th>BH-A18Q.02TCGA</th>\n      <th>C8-A130.02TCGA</th>\n      <th>C8-A138.03TCGA</th>\n      <th>E2-A154.03TCGA</th>\n      <th>BH-A0BZ.03TCGA</th>\n      <th>...</th>\n      <th>C8-A134.32TCGA</th>\n      <th>A2-A0YF.33TCGA</th>\n      <th>BH-A0DD.33TCGA</th>\n      <th>BH-A0E9.33TCGA</th>\n      <th>AR-A0TT.34TCGA</th>\n      <th>AR-A1AQ.34TCGA</th>\n      <th>AO-A12B.34TCGA</th>\n      <th>263d3f-I.CPTAC</th>\n      <th>blcdb9-I.CPTAC</th>\n      <th>c4155b-C.CPTAC</th>\n    </tr>\n    <tr>\n      <th>GID</th>\n      <th></th>\n      <th></th>\n      <th></th>\n      <th></th>\n      <th></th>\n      <th></th>\n      <th></th>\n      <th></th>\n      <th></th>\n      <th></th>\n      <th></th>\n      <th></th>\n      <th></th>\n      <th></th>\n      <th></th>\n      <th></th>\n      <th></th>\n      <th></th>\n      <th></th>\n      <th></th>\n      <th></th>\n    </tr>\n  </thead>\n  <tbody>\n    <tr>\n      <th>NP_055726</th>\n      <td>AAK1</td>\n      <td>0.348837</td>\n      <td>0.731615</td>\n      <td>0.922412</td>\n      <td>-3.234778</td>\n      <td>0.319409</td>\n      <td>0.104248</td>\n      <td>-0.079256</td>\n      <td>-0.690370</td>\n      <td>-4.511075</td>\n      <td>...</td>\n      <td>0.710134</td>\n      <td>-0.230225</td>\n      <td>-0.161544</td>\n      <td>0.708913</td>\n      <td>-0.001759</td>\n      <td>-2.222012</td>\n      <td>0.570832</td>\n      <td>-0.779213</td>\n      <td>-0.692628</td>\n      <td>-0.554810</td>\n    </tr>\n    <tr>\n      <th>NP_001012768</th>\n      <td>ABI1</td>\n      <td>1.037625</td>\n      <td>1.207672</td>\n      <td>1.804367</td>\n      <td>-6.996930</td>\n      <td>0.360444</td>\n      <td>-0.141749</td>\n      <td>0.201926</td>\n      <td>-0.248022</td>\n      <td>-7.461227</td>\n      <td>...</td>\n      <td>-0.268380</td>\n      <td>0.626203</td>\n      <td>0.006788</td>\n      <td>0.282789</td>\n      <td>1.172411</td>\n      <td>-3.706673</td>\n      <td>1.532326</td>\n      <td>-0.317314</td>\n      <td>0.633994</td>\n      <td>-0.055454</td>\n    </tr>\n    <tr>\n      <th>NP_004292</th>\n      <td>ACTL6A</td>\n      <td>-0.140728</td>\n      <td>-0.309807</td>\n      <td>0.945206</td>\n      <td>-5.794648</td>\n      <td>2.114260</td>\n      <td>1.205347</td>\n      <td>-0.276458</td>\n      <td>-1.029471</td>\n      <td>-6.088893</td>\n      <td>...</td>\n      <td>0.416580</td>\n      <td>0.332140</td>\n      <td>0.562005</td>\n      <td>0.557101</td>\n      <td>-0.159039</td>\n      <td>-3.859069</td>\n      <td>0.902757</td>\n      <td>-0.732205</td>\n      <td>-2.064512</td>\n      <td>-0.236016</td>\n    </tr>\n    <tr>\n      <th>NP_071921</th>\n      <td>AKTIP</td>\n      <td>-0.106134</td>\n      <td>0.290127</td>\n      <td>1.280103</td>\n      <td>-4.266714</td>\n      <td>0.386742</td>\n      <td>0.410585</td>\n      <td>-0.214577</td>\n      <td>-1.370508</td>\n      <td>-9.585787</td>\n      <td>...</td>\n      <td>0.965027</td>\n      <td>-0.955077</td>\n      <td>1.367674</td>\n      <td>-0.419190</td>\n      <td>-1.014796</td>\n      <td>-4.737034</td>\n      <td>0.429875</td>\n      <td>0.169110</td>\n      <td>1.798613</td>\n      <td>0.569567</td>\n    </tr>\n    <tr>\n      <th>NP_115593</th>\n      <td>ANKRD17</td>\n      <td>2.310571</td>\n      <td>0.569928</td>\n      <td>-0.776623</td>\n      <td>-6.735421</td>\n      <td>-1.755968</td>\n      <td>1.297195</td>\n      <td>-1.124934</td>\n      <td>-3.425763</td>\n      <td>-8.284841</td>\n      <td>...</td>\n      <td>1.254219</td>\n      <td>-2.142425</td>\n      <td>-1.977585</td>\n      <td>-1.710292</td>\n      <td>-0.714423</td>\n      <td>-4.575872</td>\n      <td>-1.055471</td>\n      <td>-1.325418</td>\n      <td>1.290594</td>\n      <td>-0.892289</td>\n    </tr>\n    <tr>\n      <th>...</th>\n      <td>...</td>\n      <td>...</td>\n      <td>...</td>\n      <td>...</td>\n      <td>...</td>\n      <td>...</td>\n      <td>...</td>\n      <td>...</td>\n      <td>...</td>\n      <td>...</td>\n      <td>...</td>\n      <td>...</td>\n      <td>...</td>\n      <td>...</td>\n      <td>...</td>\n      <td>...</td>\n      <td>...</td>\n      <td>...</td>\n      <td>...</td>\n      <td>...</td>\n      <td>...</td>\n    </tr>\n    <tr>\n      <th>NP_001120792</th>\n      <td>UBAP2L</td>\n      <td>1.018166</td>\n      <td>0.370790</td>\n      <td>-0.219922</td>\n      <td>-3.851426</td>\n      <td>-0.943286</td>\n      <td>0.265629</td>\n      <td>-0.020606</td>\n      <td>-0.514528</td>\n      <td>-5.980215</td>\n      <td>...</td>\n      <td>1.129082</td>\n      <td>0.384850</td>\n      <td>-1.530620</td>\n      <td>-0.653543</td>\n      <td>0.368147</td>\n      <td>-3.310847</td>\n      <td>-0.071945</td>\n      <td>-1.072498</td>\n      <td>0.021095</td>\n      <td>-1.056646</td>\n    </tr>\n    <tr>\n      <th>NP_079366</th>\n      <td>USP36</td>\n      <td>0.864656</td>\n      <td>-1.749144</td>\n      <td>0.099195</td>\n      <td>-3.098972</td>\n      <td>-0.014795</td>\n      <td>-0.427914</td>\n      <td>-0.195537</td>\n      <td>-0.292063</td>\n      <td>-4.161446</td>\n      <td>...</td>\n      <td>0.021411</td>\n      <td>-1.066045</td>\n      <td>0.131260</td>\n      <td>-1.582316</td>\n      <td>0.476036</td>\n      <td>-1.809136</td>\n      <td>-0.036656</td>\n      <td>0.055679</td>\n      <td>0.813166</td>\n      <td>0.389006</td>\n    </tr>\n    <tr>\n      <th>NP_060353</th>\n      <td>WDR13</td>\n      <td>1.729503</td>\n      <td>0.020409</td>\n      <td>1.746505</td>\n      <td>-2.850621</td>\n      <td>0.291667</td>\n      <td>1.630220</td>\n      <td>-0.619180</td>\n      <td>-0.476133</td>\n      <td>-7.265180</td>\n      <td>...</td>\n      <td>-0.651575</td>\n      <td>0.088013</td>\n      <td>0.391518</td>\n      <td>0.857332</td>\n      <td>0.336270</td>\n      <td>-4.051925</td>\n      <td>1.237304</td>\n      <td>0.308088</td>\n      <td>-0.202870</td>\n      <td>-0.624918</td>\n    </tr>\n    <tr>\n      <th>NP_004550</th>\n      <td>YBX1</td>\n      <td>1.472211</td>\n      <td>-2.218000</td>\n      <td>-1.011577</td>\n      <td>-7.561064</td>\n      <td>-1.011051</td>\n      <td>0.328110</td>\n      <td>0.178126</td>\n      <td>-1.779300</td>\n      <td>-8.946501</td>\n      <td>...</td>\n      <td>1.345827</td>\n      <td>-0.955077</td>\n      <td>-2.322710</td>\n      <td>-1.412761</td>\n      <td>1.167507</td>\n      <td>-4.181394</td>\n      <td>-0.607644</td>\n      <td>-0.006657</td>\n      <td>0.609959</td>\n      <td>-0.094807</td>\n    </tr>\n    <tr>\n      <th>NP_065883</th>\n      <td>ZNF687</td>\n      <td>0.270345</td>\n      <td>0.525500</td>\n      <td>1.503660</td>\n      <td>-3.677292</td>\n      <td>0.078509</td>\n      <td>0.303118</td>\n      <td>0.434275</td>\n      <td>-0.236165</td>\n      <td>-4.077807</td>\n      <td>...</td>\n      <td>0.174988</td>\n      <td>-0.506008</td>\n      <td>-0.215751</td>\n      <td>-0.809599</td>\n      <td>-0.084559</td>\n      <td>-2.488513</td>\n      <td>1.177841</td>\n      <td>-0.013299</td>\n      <td>-0.784907</td>\n      <td>-0.799403</td>\n    </tr>\n  </tbody>\n</table>\n<p>75 rows × 84 columns</p>\n</div>"
     },
     "execution_count": 312,
     "metadata": {},
     "output_type": "execute_result"
    }
   ],
   "source": [
    "df = phos.merge(gid_df, left_on=\"geneName\", right_index=True, how=\"left\").set_index(\"GID\")\n",
    "df[df.index.isin(indices)]\n"
   ],
   "metadata": {
    "collapsed": false,
    "pycharm": {
     "name": "#%%\n"
    }
   }
  },
  {
   "cell_type": "code",
   "execution_count": 317,
   "outputs": [
    {
     "data": {
      "text/plain": "             geneName  AO-A12D.01TCGA  C8-A131.01TCGA  AO-A12B.01TCGA  \\\nGID                                                                     \nNP_056480        AAAS       -1.967715       -0.856806       -0.722268   \nNP_055726        AAK1        0.348837        0.731615        0.922412   \nNP_001020262    ABCF1       -1.672587       -0.549277       -1.016399   \nNP_001012768     ABI1        1.037625        1.207672        1.804367   \nNP_005750        ABI2       -1.297460       -0.179990       -0.870430   \n...               ...             ...             ...             ...   \nNP_667339       ZNRF2        0.004134       -0.065296        0.086045   \nNP_976225      ZRANB2        0.937447       -1.563450        2.983229   \nNP_005080       ZRSR2       -0.638014       -0.922345        1.323938   \nNP_003452         ZYX       -0.363426        1.329748       -0.479298   \nNP_056349        ZZZ3       -0.168835        0.847208       -0.776623   \n\n              E2-A10A.02TCGA  BH-A18Q.02TCGA  C8-A130.02TCGA  C8-A138.03TCGA  \\\nGID                                                                            \nNP_056480           0.915760        4.171504        1.252833       -2.613634   \nNP_055726          -3.234778        0.319409        0.104248       -0.079256   \nNP_001020262       -1.328855       -0.221126        0.311865       -0.043811   \nNP_001012768       -6.996930        0.360444       -0.141749        0.201926   \nNP_005750          -3.796328       -0.755160        0.459321       -0.977373   \n...                      ...             ...             ...             ...   \nNP_667339          -2.955882       -1.648251       -1.568822       -1.647347   \nNP_976225          -2.842397        1.001690       -0.157578       -0.743734   \nNP_005080          -1.345713       -1.425737        0.678005       -0.316918   \nNP_003452          -2.422527       -0.404484       -0.138536       -0.079936   \nNP_056349          -4.238754       -0.671212       -0.381677       -1.740168   \n\n              E2-A154.03TCGA  BH-A0BZ.03TCGA  ...  C8-A134.32TCGA  \\\nGID                                           ...                   \nNP_056480           2.150529       -0.311880  ...        0.711161   \nNP_055726          -0.690370       -4.511075  ...        0.710134   \nNP_001020262       -0.048707       -1.556356  ...        0.441727   \nNP_001012768       -0.248022       -7.461227  ...       -0.268380   \nNP_005750          -0.048143       -5.357977  ...        2.679823   \n...                      ...             ...  ...             ...   \nNP_667339           0.023001       -2.515285  ...       -0.960526   \nNP_976225          -1.603135       -5.627897  ...        0.648892   \nNP_005080           0.741211       -0.787082  ...        0.763850   \nNP_003452           0.124311       -3.316828  ...        1.512448   \nNP_056349          -0.421928       -5.014893  ...        1.178179   \n\n              A2-A0YF.33TCGA  BH-A0DD.33TCGA  BH-A0E9.33TCGA  AR-A0TT.34TCGA  \\\nGID                                                                            \nNP_056480           0.137948        2.419267        2.235371       -0.696033   \nNP_055726          -0.230225       -0.161544        0.708913       -0.001759   \nNP_001020262       -1.236656       -0.176901        0.193691        0.132752   \nNP_001012768        0.626203        0.006788        0.282789        1.172411   \nNP_005750           0.881427        0.045261        1.154323        1.054714   \n...                      ...             ...             ...             ...   \nNP_667339          -0.849659       -1.483849       -1.725951        0.789895   \nNP_976225          -1.020733       -2.181894       -1.905226       -0.574249   \nNP_005080          -1.557074        0.106365       -1.732431        1.228808   \nNP_003452          -0.423228       -0.780344        0.824624        0.684108   \nNP_056349           0.168464       -1.453674       -0.164318       -1.652322   \n\n              AR-A1AQ.34TCGA  AO-A12B.34TCGA  263d3f-I.CPTAC  blcdb9-I.CPTAC  \\\nGID                                                                            \nNP_056480           2.877390       -0.038773        0.816994       -1.144616   \nNP_055726          -2.222012        0.570832       -0.779213       -0.692628   \nNP_001020262       -1.663820       -0.887491       -0.921257       -0.164086   \nNP_001012768       -3.706673        1.532326       -0.317314        0.633994   \nNP_005750          -2.896814       -0.955601       -0.625928       -0.190853   \n...                      ...             ...             ...             ...   \nNP_667339          -2.251490        0.020514       -0.666804       -1.253868   \nNP_976225          -1.851843        2.562787       -1.055807       -1.609298   \nNP_005080           0.097842        1.416576       -0.697461        1.049149   \nNP_003452          -2.045533       -0.718958       -1.889579       -1.463006   \nNP_056349          -3.744435       -0.476366       -1.061257        0.629624   \n\n              c4155b-C.CPTAC  \nGID                           \nNP_056480          -2.337940  \nNP_055726          -0.554810  \nNP_001020262        0.233908  \nNP_001012768       -0.055454  \nNP_005750          -0.733718  \n...                      ...  \nNP_667339          -0.210552  \nNP_976225          -1.069378  \nNP_005080          -0.395744  \nNP_003452          -1.316741  \nNP_056349          -1.224476  \n\n[1836 rows x 84 columns]",
      "text/html": "<div>\n<style scoped>\n    .dataframe tbody tr th:only-of-type {\n        vertical-align: middle;\n    }\n\n    .dataframe tbody tr th {\n        vertical-align: top;\n    }\n\n    .dataframe thead th {\n        text-align: right;\n    }\n</style>\n<table border=\"1\" class=\"dataframe\">\n  <thead>\n    <tr style=\"text-align: right;\">\n      <th></th>\n      <th>geneName</th>\n      <th>AO-A12D.01TCGA</th>\n      <th>C8-A131.01TCGA</th>\n      <th>AO-A12B.01TCGA</th>\n      <th>E2-A10A.02TCGA</th>\n      <th>BH-A18Q.02TCGA</th>\n      <th>C8-A130.02TCGA</th>\n      <th>C8-A138.03TCGA</th>\n      <th>E2-A154.03TCGA</th>\n      <th>BH-A0BZ.03TCGA</th>\n      <th>...</th>\n      <th>C8-A134.32TCGA</th>\n      <th>A2-A0YF.33TCGA</th>\n      <th>BH-A0DD.33TCGA</th>\n      <th>BH-A0E9.33TCGA</th>\n      <th>AR-A0TT.34TCGA</th>\n      <th>AR-A1AQ.34TCGA</th>\n      <th>AO-A12B.34TCGA</th>\n      <th>263d3f-I.CPTAC</th>\n      <th>blcdb9-I.CPTAC</th>\n      <th>c4155b-C.CPTAC</th>\n    </tr>\n    <tr>\n      <th>GID</th>\n      <th></th>\n      <th></th>\n      <th></th>\n      <th></th>\n      <th></th>\n      <th></th>\n      <th></th>\n      <th></th>\n      <th></th>\n      <th></th>\n      <th></th>\n      <th></th>\n      <th></th>\n      <th></th>\n      <th></th>\n      <th></th>\n      <th></th>\n      <th></th>\n      <th></th>\n      <th></th>\n      <th></th>\n    </tr>\n  </thead>\n  <tbody>\n    <tr>\n      <th>NP_056480</th>\n      <td>AAAS</td>\n      <td>-1.967715</td>\n      <td>-0.856806</td>\n      <td>-0.722268</td>\n      <td>0.915760</td>\n      <td>4.171504</td>\n      <td>1.252833</td>\n      <td>-2.613634</td>\n      <td>2.150529</td>\n      <td>-0.311880</td>\n      <td>...</td>\n      <td>0.711161</td>\n      <td>0.137948</td>\n      <td>2.419267</td>\n      <td>2.235371</td>\n      <td>-0.696033</td>\n      <td>2.877390</td>\n      <td>-0.038773</td>\n      <td>0.816994</td>\n      <td>-1.144616</td>\n      <td>-2.337940</td>\n    </tr>\n    <tr>\n      <th>NP_055726</th>\n      <td>AAK1</td>\n      <td>0.348837</td>\n      <td>0.731615</td>\n      <td>0.922412</td>\n      <td>-3.234778</td>\n      <td>0.319409</td>\n      <td>0.104248</td>\n      <td>-0.079256</td>\n      <td>-0.690370</td>\n      <td>-4.511075</td>\n      <td>...</td>\n      <td>0.710134</td>\n      <td>-0.230225</td>\n      <td>-0.161544</td>\n      <td>0.708913</td>\n      <td>-0.001759</td>\n      <td>-2.222012</td>\n      <td>0.570832</td>\n      <td>-0.779213</td>\n      <td>-0.692628</td>\n      <td>-0.554810</td>\n    </tr>\n    <tr>\n      <th>NP_001020262</th>\n      <td>ABCF1</td>\n      <td>-1.672587</td>\n      <td>-0.549277</td>\n      <td>-1.016399</td>\n      <td>-1.328855</td>\n      <td>-0.221126</td>\n      <td>0.311865</td>\n      <td>-0.043811</td>\n      <td>-0.048707</td>\n      <td>-1.556356</td>\n      <td>...</td>\n      <td>0.441727</td>\n      <td>-1.236656</td>\n      <td>-0.176901</td>\n      <td>0.193691</td>\n      <td>0.132752</td>\n      <td>-1.663820</td>\n      <td>-0.887491</td>\n      <td>-0.921257</td>\n      <td>-0.164086</td>\n      <td>0.233908</td>\n    </tr>\n    <tr>\n      <th>NP_001012768</th>\n      <td>ABI1</td>\n      <td>1.037625</td>\n      <td>1.207672</td>\n      <td>1.804367</td>\n      <td>-6.996930</td>\n      <td>0.360444</td>\n      <td>-0.141749</td>\n      <td>0.201926</td>\n      <td>-0.248022</td>\n      <td>-7.461227</td>\n      <td>...</td>\n      <td>-0.268380</td>\n      <td>0.626203</td>\n      <td>0.006788</td>\n      <td>0.282789</td>\n      <td>1.172411</td>\n      <td>-3.706673</td>\n      <td>1.532326</td>\n      <td>-0.317314</td>\n      <td>0.633994</td>\n      <td>-0.055454</td>\n    </tr>\n    <tr>\n      <th>NP_005750</th>\n      <td>ABI2</td>\n      <td>-1.297460</td>\n      <td>-0.179990</td>\n      <td>-0.870430</td>\n      <td>-3.796328</td>\n      <td>-0.755160</td>\n      <td>0.459321</td>\n      <td>-0.977373</td>\n      <td>-0.048143</td>\n      <td>-5.357977</td>\n      <td>...</td>\n      <td>2.679823</td>\n      <td>0.881427</td>\n      <td>0.045261</td>\n      <td>1.154323</td>\n      <td>1.054714</td>\n      <td>-2.896814</td>\n      <td>-0.955601</td>\n      <td>-0.625928</td>\n      <td>-0.190853</td>\n      <td>-0.733718</td>\n    </tr>\n    <tr>\n      <th>...</th>\n      <td>...</td>\n      <td>...</td>\n      <td>...</td>\n      <td>...</td>\n      <td>...</td>\n      <td>...</td>\n      <td>...</td>\n      <td>...</td>\n      <td>...</td>\n      <td>...</td>\n      <td>...</td>\n      <td>...</td>\n      <td>...</td>\n      <td>...</td>\n      <td>...</td>\n      <td>...</td>\n      <td>...</td>\n      <td>...</td>\n      <td>...</td>\n      <td>...</td>\n      <td>...</td>\n    </tr>\n    <tr>\n      <th>NP_667339</th>\n      <td>ZNRF2</td>\n      <td>0.004134</td>\n      <td>-0.065296</td>\n      <td>0.086045</td>\n      <td>-2.955882</td>\n      <td>-1.648251</td>\n      <td>-1.568822</td>\n      <td>-1.647347</td>\n      <td>0.023001</td>\n      <td>-2.515285</td>\n      <td>...</td>\n      <td>-0.960526</td>\n      <td>-0.849659</td>\n      <td>-1.483849</td>\n      <td>-1.725951</td>\n      <td>0.789895</td>\n      <td>-2.251490</td>\n      <td>0.020514</td>\n      <td>-0.666804</td>\n      <td>-1.253868</td>\n      <td>-0.210552</td>\n    </tr>\n    <tr>\n      <th>NP_976225</th>\n      <td>ZRANB2</td>\n      <td>0.937447</td>\n      <td>-1.563450</td>\n      <td>2.983229</td>\n      <td>-2.842397</td>\n      <td>1.001690</td>\n      <td>-0.157578</td>\n      <td>-0.743734</td>\n      <td>-1.603135</td>\n      <td>-5.627897</td>\n      <td>...</td>\n      <td>0.648892</td>\n      <td>-1.020733</td>\n      <td>-2.181894</td>\n      <td>-1.905226</td>\n      <td>-0.574249</td>\n      <td>-1.851843</td>\n      <td>2.562787</td>\n      <td>-1.055807</td>\n      <td>-1.609298</td>\n      <td>-1.069378</td>\n    </tr>\n    <tr>\n      <th>NP_005080</th>\n      <td>ZRSR2</td>\n      <td>-0.638014</td>\n      <td>-0.922345</td>\n      <td>1.323938</td>\n      <td>-1.345713</td>\n      <td>-1.425737</td>\n      <td>0.678005</td>\n      <td>-0.316918</td>\n      <td>0.741211</td>\n      <td>-0.787082</td>\n      <td>...</td>\n      <td>0.763850</td>\n      <td>-1.557074</td>\n      <td>0.106365</td>\n      <td>-1.732431</td>\n      <td>1.228808</td>\n      <td>0.097842</td>\n      <td>1.416576</td>\n      <td>-0.697461</td>\n      <td>1.049149</td>\n      <td>-0.395744</td>\n    </tr>\n    <tr>\n      <th>NP_003452</th>\n      <td>ZYX</td>\n      <td>-0.363426</td>\n      <td>1.329748</td>\n      <td>-0.479298</td>\n      <td>-2.422527</td>\n      <td>-0.404484</td>\n      <td>-0.138536</td>\n      <td>-0.079936</td>\n      <td>0.124311</td>\n      <td>-3.316828</td>\n      <td>...</td>\n      <td>1.512448</td>\n      <td>-0.423228</td>\n      <td>-0.780344</td>\n      <td>0.824624</td>\n      <td>0.684108</td>\n      <td>-2.045533</td>\n      <td>-0.718958</td>\n      <td>-1.889579</td>\n      <td>-1.463006</td>\n      <td>-1.316741</td>\n    </tr>\n    <tr>\n      <th>NP_056349</th>\n      <td>ZZZ3</td>\n      <td>-0.168835</td>\n      <td>0.847208</td>\n      <td>-0.776623</td>\n      <td>-4.238754</td>\n      <td>-0.671212</td>\n      <td>-0.381677</td>\n      <td>-1.740168</td>\n      <td>-0.421928</td>\n      <td>-5.014893</td>\n      <td>...</td>\n      <td>1.178179</td>\n      <td>0.168464</td>\n      <td>-1.453674</td>\n      <td>-0.164318</td>\n      <td>-1.652322</td>\n      <td>-3.744435</td>\n      <td>-0.476366</td>\n      <td>-1.061257</td>\n      <td>0.629624</td>\n      <td>-1.224476</td>\n    </tr>\n  </tbody>\n</table>\n<p>1836 rows × 84 columns</p>\n</div>"
     },
     "execution_count": 317,
     "metadata": {},
     "output_type": "execute_result"
    }
   ],
   "source": [
    "df"
   ],
   "metadata": {
    "collapsed": false,
    "pycharm": {
     "name": "#%%\n"
    }
   }
  },
  {
   "cell_type": "code",
   "execution_count": 322,
   "outputs": [
    {
     "name": "stdout",
     "output_type": "stream",
     "text": [
      "                NAME  AO-A12D.01TCGA  C8-A131.01TCGA  AO-A12B.01TCGA  \\\n",
      "GID                                                                    \n",
      "NP_056480       AAAS       -1.967715       -0.856806       -0.722268   \n",
      "NP_055726       AAK1        0.348837        0.731615        0.922412   \n",
      "NP_001020262   ABCF1       -1.672587       -0.549277       -1.016399   \n",
      "NP_001012768    ABI1        1.037625        1.207672        1.804367   \n",
      "NP_005750       ABI2       -1.297460       -0.179990       -0.870430   \n",
      "...              ...             ...             ...             ...   \n",
      "NP_667339      ZNRF2        0.004134       -0.065296        0.086045   \n",
      "NP_976225     ZRANB2        0.937447       -1.563450        2.983229   \n",
      "NP_005080      ZRSR2       -0.638014       -0.922345        1.323938   \n",
      "NP_003452        ZYX       -0.363426        1.329748       -0.479298   \n",
      "NP_056349       ZZZ3       -0.168835        0.847208       -0.776623   \n",
      "\n",
      "              E2-A10A.02TCGA  BH-A18Q.02TCGA  C8-A130.02TCGA  C8-A138.03TCGA  \\\n",
      "GID                                                                            \n",
      "NP_056480           0.915760        4.171504        1.252833       -2.613634   \n",
      "NP_055726          -3.234778        0.319409        0.104248       -0.079256   \n",
      "NP_001020262       -1.328855       -0.221126        0.311865       -0.043811   \n",
      "NP_001012768       -6.996930        0.360444       -0.141749        0.201926   \n",
      "NP_005750          -3.796328       -0.755160        0.459321       -0.977373   \n",
      "...                      ...             ...             ...             ...   \n",
      "NP_667339          -2.955882       -1.648251       -1.568822       -1.647347   \n",
      "NP_976225          -2.842397        1.001690       -0.157578       -0.743734   \n",
      "NP_005080          -1.345713       -1.425737        0.678005       -0.316918   \n",
      "NP_003452          -2.422527       -0.404484       -0.138536       -0.079936   \n",
      "NP_056349          -4.238754       -0.671212       -0.381677       -1.740168   \n",
      "\n",
      "              E2-A154.03TCGA  BH-A0BZ.03TCGA  ...  C8-A134.32TCGA  \\\n",
      "GID                                           ...                   \n",
      "NP_056480           2.150529       -0.311880  ...        0.711161   \n",
      "NP_055726          -0.690370       -4.511075  ...        0.710134   \n",
      "NP_001020262       -0.048707       -1.556356  ...        0.441727   \n",
      "NP_001012768       -0.248022       -7.461227  ...       -0.268380   \n",
      "NP_005750          -0.048143       -5.357977  ...        2.679823   \n",
      "...                      ...             ...  ...             ...   \n",
      "NP_667339           0.023001       -2.515285  ...       -0.960526   \n",
      "NP_976225          -1.603135       -5.627897  ...        0.648892   \n",
      "NP_005080           0.741211       -0.787082  ...        0.763850   \n",
      "NP_003452           0.124311       -3.316828  ...        1.512448   \n",
      "NP_056349          -0.421928       -5.014893  ...        1.178179   \n",
      "\n",
      "              A2-A0YF.33TCGA  BH-A0DD.33TCGA  BH-A0E9.33TCGA  AR-A0TT.34TCGA  \\\n",
      "GID                                                                            \n",
      "NP_056480           0.137948        2.419267        2.235371       -0.696033   \n",
      "NP_055726          -0.230225       -0.161544        0.708913       -0.001759   \n",
      "NP_001020262       -1.236656       -0.176901        0.193691        0.132752   \n",
      "NP_001012768        0.626203        0.006788        0.282789        1.172411   \n",
      "NP_005750           0.881427        0.045261        1.154323        1.054714   \n",
      "...                      ...             ...             ...             ...   \n",
      "NP_667339          -0.849659       -1.483849       -1.725951        0.789895   \n",
      "NP_976225          -1.020733       -2.181894       -1.905226       -0.574249   \n",
      "NP_005080          -1.557074        0.106365       -1.732431        1.228808   \n",
      "NP_003452          -0.423228       -0.780344        0.824624        0.684108   \n",
      "NP_056349           0.168464       -1.453674       -0.164318       -1.652322   \n",
      "\n",
      "              AR-A1AQ.34TCGA  AO-A12B.34TCGA  263d3f-I.CPTAC  blcdb9-I.CPTAC  \\\n",
      "GID                                                                            \n",
      "NP_056480           2.877390       -0.038773        0.816994       -1.144616   \n",
      "NP_055726          -2.222012        0.570832       -0.779213       -0.692628   \n",
      "NP_001020262       -1.663820       -0.887491       -0.921257       -0.164086   \n",
      "NP_001012768       -3.706673        1.532326       -0.317314        0.633994   \n",
      "NP_005750          -2.896814       -0.955601       -0.625928       -0.190853   \n",
      "...                      ...             ...             ...             ...   \n",
      "NP_667339          -2.251490        0.020514       -0.666804       -1.253868   \n",
      "NP_976225          -1.851843        2.562787       -1.055807       -1.609298   \n",
      "NP_005080           0.097842        1.416576       -0.697461        1.049149   \n",
      "NP_003452          -2.045533       -0.718958       -1.889579       -1.463006   \n",
      "NP_056349          -3.744435       -0.476366       -1.061257        0.629624   \n",
      "\n",
      "              c4155b-C.CPTAC  \n",
      "GID                           \n",
      "NP_056480          -2.337940  \n",
      "NP_055726          -0.554810  \n",
      "NP_001020262        0.233908  \n",
      "NP_001012768       -0.055454  \n",
      "NP_005750          -0.733718  \n",
      "...                      ...  \n",
      "NP_667339          -0.210552  \n",
      "NP_976225          -1.069378  \n",
      "NP_005080          -0.395744  \n",
      "NP_003452          -1.316741  \n",
      "NP_056349          -1.224476  \n",
      "\n",
      "[1836 rows x 84 columns]\n"
     ]
    },
    {
     "data": {
      "text/plain": "                NAME\nGID                 \nNP_056480       AAAS\nNP_055726       AAK1\nNP_001020262   ABCF1\nNP_001012768    ABI1\nNP_005750       ABI2\n...              ...\nNP_667339      ZNRF2\nNP_976225     ZRANB2\nNP_005080      ZRSR2\nNP_003452        ZYX\nNP_056349       ZZZ3\n\n[1836 rows x 1 columns]",
      "text/html": "<div>\n<style scoped>\n    .dataframe tbody tr th:only-of-type {\n        vertical-align: middle;\n    }\n\n    .dataframe tbody tr th {\n        vertical-align: top;\n    }\n\n    .dataframe thead th {\n        text-align: right;\n    }\n</style>\n<table border=\"1\" class=\"dataframe\">\n  <thead>\n    <tr style=\"text-align: right;\">\n      <th></th>\n      <th>NAME</th>\n    </tr>\n    <tr>\n      <th>GID</th>\n      <th></th>\n    </tr>\n  </thead>\n  <tbody>\n    <tr>\n      <th>NP_056480</th>\n      <td>AAAS</td>\n    </tr>\n    <tr>\n      <th>NP_055726</th>\n      <td>AAK1</td>\n    </tr>\n    <tr>\n      <th>NP_001020262</th>\n      <td>ABCF1</td>\n    </tr>\n    <tr>\n      <th>NP_001012768</th>\n      <td>ABI1</td>\n    </tr>\n    <tr>\n      <th>NP_005750</th>\n      <td>ABI2</td>\n    </tr>\n    <tr>\n      <th>...</th>\n      <td>...</td>\n    </tr>\n    <tr>\n      <th>NP_667339</th>\n      <td>ZNRF2</td>\n    </tr>\n    <tr>\n      <th>NP_976225</th>\n      <td>ZRANB2</td>\n    </tr>\n    <tr>\n      <th>NP_005080</th>\n      <td>ZRSR2</td>\n    </tr>\n    <tr>\n      <th>NP_003452</th>\n      <td>ZYX</td>\n    </tr>\n    <tr>\n      <th>NP_056349</th>\n      <td>ZZZ3</td>\n    </tr>\n  </tbody>\n</table>\n<p>1836 rows × 1 columns</p>\n</div>"
     },
     "execution_count": 322,
     "metadata": {},
     "output_type": "execute_result"
    }
   ],
   "source": [
    "df = df.rename(columns={\"geneName\":\"NAME\"})\n",
    "print(df)\n",
    "pdf_ = pd.DataFrame({\"NAME\":df[\"NAME\"]}, index=df.index)\n",
    "pdf_"
   ],
   "metadata": {
    "collapsed": false,
    "pycharm": {
     "name": "#%%\n"
    }
   }
  },
  {
   "cell_type": "code",
   "execution_count": 328,
   "outputs": [],
   "source": [
    "exclude = []\n",
    "for index, row in df.iterrows():\n",
    "    for col in df.columns:\n",
    "        if col in gct.columns and col != \"NAME\":\n",
    "            pdf_.loc[index, col] = float(row[col])\n",
    "        elif index == \"NP_056480\":\n",
    "            exclude.append(col)"
   ],
   "metadata": {
    "collapsed": false,
    "pycharm": {
     "name": "#%%\n"
    }
   }
  },
  {
   "cell_type": "code",
   "execution_count": 330,
   "outputs": [],
   "source": [
    "df = pdf_\n",
    "df = df[df.index.isin(indices)]"
   ],
   "metadata": {
    "collapsed": false,
    "pycharm": {
     "name": "#%%\n"
    }
   }
  },
  {
   "cell_type": "code",
   "execution_count": 335,
   "outputs": [
    {
     "name": "stdout",
     "output_type": "stream",
     "text": [
      "GID\tNAME\tAO-A12D.01TCGA\tC8-A131.01TCGA\tAO-A12B.01TCGA\tBH-A18Q.02TCGA\tC8-A130.02TCGA\tC8-A138.03TCGA\tE2-A154.03TCGA\tC8-A12L.04TCGA\tA2-A0EX.04TCGA\tAO-A12D.05TCGA\tAN-A04A.05TCGA\tBH-A0AV.05TCGA\tC8-A12T.06TCGA\tA8-A06Z.07TCGA\tA2-A0CM.07TCGA\tBH-A18U.08TCGA\tA2-A0EQ.08TCGA\tAR-A1AP.11TCGA\tAN-A0FK.11TCGA\tA8-A076.15TCGA\tAO-A126.15TCGA\tBH-A0C1.16TCGA\tA2-A0EY.16TCGA\tAR-A1AW.17TCGA\tAR-A1AV.17TCGA\tC8-A135.17TCGA\tAN-A0FL.19TCGA\tBH-A0DG.19TCGA\tAR-A0TV.20TCGA\tC8-A12Z.20TCGA\tAO-A0JJ.20TCGA\tAO-A0JE.21TCGA\tAN-A0AJ.21TCGA\tA7-A0CJ.22TCGA\tAO-A12F.22TCGA\tA2-A0T3.24TCGA\tA2-A0YD.24TCGA\tAR-A0TR.25TCGA\tAO-A03O.25TCGA\tAO-A12E.26TCGA\tA8-A06N.26TCGA\tA2-A0YG.27TCGA\tBH-A18N.27TCGA\tAN-A0AL.28TCGA\tA2-A0T6.29TCGA\tE2-A158.29TCGA\tE2-A15A.29TCGA\tAO-A0JM.30TCGA\tC8-A12V.30TCGA\tA2-A0D2.31TCGA\tC8-A12U.31TCGA\tAR-A1AS.31TCGA\tA8-A09G.32TCGA\tC8-A131.32TCGA\tC8-A134.32TCGA\tA2-A0YF.33TCGA\tBH-A0DD.33TCGA\tBH-A0E9.33TCGA\tAR-A0TT.34TCGA\tAO-A12B.34TCGA\t263d3f-I.CPTAC\tblcdb9-I.CPTAC\tc4155b-C.CPTAC\n",
      "AAK1\t0.3488371859651025\t0.7316145469166868\t0.9224117159658476\t0.3194093305510445\t0.1042484963071561\t-0.0792562842711825\t-0.690369784294249\t0.0117058820687452\t-0.2693418781738343\t0.0919391064660687\t0.4149989586625991\t0.2493947624347077\t-0.6467131520178383\t-0.0187129239679101\t-0.3730127158725027\t0.3992132973776393\t0.105454935900831\t0.4522320058553412\t0.3414138094796004\t-0.0438320667786338\t0.0208782298109108\t0.4386084434429458\t0.0640441666453628\t1.2262726351278672\t-0.2250360334128392\t0.3700044424774075\t0.467854538697066\t0.5583364375712682\t0.5107539376513871\t-0.9804580421577684\t0.93981616592364\t0.1762816474334883\t0.2267008040614835\t0.4049237796824083\t-0.1432104214536801\t-0.0414074368608354\t-1.7700625337593134\t-0.2435530760390694\t0.5654882463333422\t0.3433875818198029\t-0.1966770375107113\t0.0577512718226399\t0.3156029795689475\t0.213736455776762\t0.0949967147077208\t0.4289429512131085\t0.1421463495239911\t0.4106462476876815\t0.5270606744995173\t0.2487436570559667\t-0.1032042036306244\t0.191228117288242\t0.0361155540917106\t0.2921696477967087\t0.7101344378267624\t-0.2302248938424664\t-0.1615441892879505\t0.7089132882378937\t-0.0017589948907786\t0.5708319624672032\t-0.7792128033729228\t-0.6926282013407311\t-0.5548100509045018\n",
      "ABI1\t1.03762548303899\t1.20767246741857\t1.80436685898218\t0.360444394929827\t-0.141749300676247\t0.201925716910438\t-0.248022064232401\t0.863849248255505\t0.626781823211951\t0.995837780556281\t0.0228784022086376\t0.564019166163977\t-0.568490413988049\t-1.61741925122078\t0.837438309578995\t0.714062188253114\t0.538876993316376\t0.798450908847139\t0.68358024958043\t0.0561885973432306\t-0.0822047691663567\t0.683610963389435\t-0.0282850070714384\t1.18007826721461\t-1.81071739235974\t-0.218900659045453\t0.718260265404848\t-0.0421996759137976\t0.921980837517664\t-2.07679451634656\t0.751110128675692\t-0.236202637364775\t0.0079192979737398\t0.510870617927538\t0.252005966957495\t-0.382282090027224\t-3.71537241462028\t0.397629573183152\t1.05778914884645\t0.393467063243315\t-0.516149954596953\t0.195573203945143\t-0.294211313215113\t1.67887484601279\t0.04568982691053\t0.720982192096484\t0.066363441257393\t0.582978414784051\t1.13556577438497\t0.852486596362127\t0.53057607463793\t-0.0829740895124249\t-0.111578533022034\t1.15543164456303\t-0.268380337630635\t0.626202924615933\t0.0067883412027763\t0.282788822097027\t1.1724109296966\t1.53232615875848\t-0.317314411860022\t0.633994354232057\t-0.0554542078057175\n",
      "ACTL6A\t-0.14072759020625\t-0.309807167222074\t0.945205785268456\t2.11425992813284\t1.2053474889005\t-0.276457687760107\t-1.02947077173772\t2.66611546814488\t-0.783014268634547\t-0.79261266493666\t0.550256532939111\t-0.540233615727049\t-0.463900460892038\t-0.156724790936755\t2.03793622729433\t1.495821257982\t0.573494239955923\t-0.964785017893126\t0.62609628764349\t-0.392105458397209\t-1.18255585127253\t1.88552906329086\t-0.37188978014409\t-0.393288114547414\t-1.1679039711566\t1.1111789293664\t1.19171095322734\t0.944171077803831\t0.110246222378782\t-1.36672855236522\t1.17484612496589\t-0.103426295861422\t0.567465592322274\t0.605440614481914\t0.734391096859489\t0.552509136754221\t-3.32122193490038\t0.106094864095707\t1.49963976821355\t0.567732079526286\t0.07752527787183\t1.51291602151966\t0.360741194377964\t0.332818821311186\t-0.0626279638354272\t1.53757599303789\t0.915597347490542\t0.916991811578991\t-0.565018088187647\t2.29749290079729\t0.664446380850359\t-0.0014053055504734\t-0.230023872933221\t0.155255382347801\t0.416580005189543\t0.332140249328505\t0.56200549682904\t0.557100661633038\t-0.159038916173515\t0.902757182076146\t-0.732205444944619\t-2.06451199704483\t-0.236015989482497\n",
      "AKTIP\t-0.106133738514646\t0.290126641821901\t1.28010326502217\t0.386741513651441\t0.410585375569507\t-0.214577247354962\t-1.37050763541779\t1.00664585151205\t-0.93707446011468\t-0.157294522272687\t0.934286916726066\t-2.01666048336653\t-1.62977082040345\t0.556267653538515\t-0.23443483123827\t-0.454159698432139\t0.172923243126886\t-0.568607181371735\t0.531886461135728\t-0.749733300617111\t-2.19660488772332\t2.50054563487785\t1.59974713201089\t-1.21616838476344\t-0.196941041227388\t-1.04564533471926\t1.55484303417857\t-0.0998982436800099\t0.20062843792996\t-2.47885173436249\t1.11317562785323\t-1.60360078120528\t-0.378397595658673\t0.341640097777601\t1.62896352059565\t-0.760799342929777\t-4.22338858848149\t0.525091259946965\t0.650432444002429\t0.55760039253309\t0.69727408473958\t1.81142720185675\t1.03661870221363\t1.67036896276033\t-0.117704806587609\t2.44159555398898\t1.40885101357664\t0.857346562151323\t0.657925530758739\t0.536154217983151\t-0.0959369584362355\t0.0750654294138559\t-0.197874423528756\t0.302701514369702\t0.965027272692413\t-0.955077499099482\t1.36767386939541\t-0.419190294825835\t-1.01479581526867\t0.429874654747488\t0.169109557963298\t1.79861288478313\t0.569567344152363\n",
      "ANKRD17\t2.3105711195034573\t0.5699277040230817\t-0.7766231420516952\t-1.7559679483385184\t1.2971949972807335\t-1.1249337263921952\t-3.425762906602305\t0.5988100982717738\t-1.860708909979059\t2.12756045945535\t-0.398316212267378\t-2.980836754962125\t-1.4598121466224387\t1.5151195616259483\t0.5768391522177982\t-1.0807815516399657\t1.7671710839017083\t-2.08912304468763\t-1.6780525199954983\t-0.3568463753614442\t-1.6044769633655318\t0.3233869714599162\t0.1155654038776287\t-0.6913107344057118\t0.3014641201425282\t0.0532645991997809\t-0.0899767502144571\t-0.6906216755721835\t0.2786470485236653\t-2.6516658017552976\t-2.382148998822242\t-0.8876984921293622\t-0.5439619786439944\t-1.037090904620415\t1.4539189165547186\t-0.5333753028571095\t-5.51459636371205\t-0.7051174136324954\t1.2963720576311029\t-0.9494880477048098\t-1.1338931018955527\t0.8147675906950702\t-1.6668913291290406\t1.2115828848308354\t-2.2914042005403723\t0.4015061435504985\t0.4799287202517555\t0.067047007234725\t-0.5823238941161333\t0.4627651061992274\t0.5111648802371279\t0.2152617768484589\t-2.3831909448901474\t0.3291189463569594\t1.2542194454040825\t-2.14242490497702\t-1.9775849303663608\t-1.710291886027808\t-0.7144226916607734\t-1.0554705374363311\t-1.32541787032789\t1.2905944826196707\t-0.8922886190384816\n",
      "ARF1\t2.04733352928766\t0.421204616907139\t1.30289733432478\t0.971346691385779\t0.225640732844685\t0.406607173635149\t-0.925578747040483\t1.59081377392517\t0.0570497943420264\t2.02349972919142\t0.47592807156099\t0.112093490612279\t-1.17142073183564\t-0.108999130353218\t1.32782027150289\t0.689770239758714\t1.40678081977929\t-0.0550433192143761\t1.09874219690277\t0.859591989372446\t-2.69523892928778\t0.469233758436256\t0.500757262580105\t0.118297273387477\t-1.29489333583485\t1.17494986853683\t-0.0769530257921557\t1.93878448405949\t-0.358718103594312\t-0.198176287137641\t-0.95974882348191\t0.449478170995825\t0.573597606506916\t0.207251155305592\t0.786589487781719\t-0.543308766676376\t-3.26574890442129\t0.489835899778251\t1.21547561523768\t0.549495042938533\t-0.754823443325957\t0.23234632036348\t-1.38231132582981\t-1.53847549422975\t-0.117704806587609\t-0.0639895254371737\t1.17153085347861\t1.33898195127974\t-0.0504587919139788\t1.40163960522803\t1.14370207709085\t-0.128856530491023\t0.323285072080465\t-0.0143076694773849\t-0.0863629038742242\t-0.56669283362552\t-0.435273144119222\t-0.635183869263639\t-0.531746791997194\t1.49985959718069\t0.373489377216794\t0.81098141046965\t2.1529552757795\n",
      "ATRX\t0.2225078525555854\t-0.1144505697392671\t1.2093101459381086\t0.0332475523743613\t0.5774104418111548\t0.4860402389629079\t-0.7177946976460047\t-0.3409970917215582\t-0.5722715538739865\t0.0077587412799047\t0.9075198220035898\t-0.3382985005201265\t-0.9491670815066184\t0.982363797460476\t0.997549359988574\t-1.360415004194824\t0.5246591955894195\t-1.0213381812854545\t0.7733989401068975\t-0.8139552018608267\t-0.3057510402042667\t0.3383230881984549\t-0.7540137390869902\t-0.3287366563999693\t-0.0484590075272745\t0.2477090253310513\t-0.3512173400970952\t-0.3087121079767786\t-0.4233072812169711\t-2.2454939630871604\t0.65686368349143\t-0.6028238788292576\t0.4017095838936845\t-1.0834426463526583\t-0.1338571383512361\t-0.4183562481077156\t-3.4989546049222278\t-0.0647580351834466\t0.9243305509892844\t0.4823726166086087\t-0.425895273985144\t0.3583483222086622\t0.1096411914668801\t0.0457452615407022\t-1.047356014875473\t-0.5841262944308909\t0.5482745996917517\t0.6387094447180276\t0.3917045495588537\t0.2707513525231898\t0.8428285638784195\t-0.9971180003985128\t-0.2981299433821532\t-0.2188891776577725\t-0.218684788282667\t-0.0399461310764603\t-1.1402329701147973\t-0.9888733474055428\t-0.8508166100337471\t1.054326619007234\t-2.364944726005983\t-1.4278502253012617\t-1.0852929593885008\n",
      "BICD2\t0.845197183004447\t0.181735239347569\t1.22925495657789\t0.884363914075826\t-0.0417792235276941\t-0.604900025295109\t-0.200593096435836\t1.11698868130119\t0.908741041581251\t0.631376275517074\t1.12541724598409\t0.316584746518024\t-1.10374487983234\t0.165784976036846\t0.397970321843916\t-0.831789079572363\t-0.197975828011111\t0.238421744875543\t0.107143853490565\t0.726111175022764\t-1.3144061988016\t0.671310631957695\t0.964351004027334\t-0.217128995117003\t0.699851109332235\t0.368702994739235\t-0.404844440659514\t-0.0064815149156662\t0.896400965191859\t-1.77348819398367\t0.174192575041152\t0.760610792130548\t0.552135556860671\t-1.27351589600636\t0.352802859772837\t0.397756226727763\t-2.71101859963032\t-0.994957153481061\t-0.538786323364795\t-0.37046213604366\t-1.23217042078396\t0.664971219402731\t-0.647843817314889\t1.15788949679969\t-0.134227859413263\t0.761904888271224\t0.764363912133954\t0.5561380525416\t0.494097234635733\t1.24220808652503\t-0.623385964913204\t-0.156895799977943\t-0.561670824684543\t0.21669127069026\t0.948262509056954\t-0.206049929971128\t0.171241248711642\t0.805493272236512\t0.397570872063163\t1.14837377836028\t-0.642278324473081\t-0.224720622328117\t0.444563033760747\n",
      "BUD13\t0.0744029250009087\t-0.2058270427554188\t1.0127112982031068\t0.381684375435746\t0.4624448530903189\t0.1442103061479467\t-0.8166050472221835\t0.5371479286837225\t0.0061808631929259\t-0.2070843453654745\t0.1759596381421471\t-0.6951357420756528\t-1.2029515265189978\t-0.0811591616794875\t0.6934053562816744\t0.4457465753376922\t-0.2325930746506574\t-0.4328795892301472\t0.7254956384927825\t0.4761494613585023\t-0.7102918792138895\t0.9977087124499304\t0.5082565731035165\t0.3234140562859008\t-0.2011552900552062\t-0.9573909099744649\t0.4845993272400249\t-0.0442603390483051\t0.0279642997307753\t-2.170255185446752\t0.5471996140290015\t-0.2565154358783476\t0.129026578120409\t0.4909611449687212\t0.580495840864636\t-0.1919778358054975\t-2.386209408009285\t0.743742291762548\t0.812635970628828\t-0.4044032874708665\t-0.1175251152281335\t0.0333388668054245\t-0.5264788159078659\t1.014884334617726\t-0.7777089722345842\t0.1113270252205212\t0.2309752189724485\t0.1811185467651387\t0.9348184256145242\t1.6097863102013976\t0.2119647458523503\t0.1681048236204565\t-0.4977949449467242\t-0.746623458519494\t0.5740490350511752\t-0.7470142854527173\t0.0233845061807352\t-0.7167214436139103\t0.4423203374169925\t0.9405172047807472\t-0.1328616249837425\t0.212830711148155\t-1.1116248858830309\n",
      "CAP1\t0.600878105432498\t0.5459807662671254\t0.136016325025839\t0.275484472906151\t-0.3329420732228542\t0.979001247382744\t-0.8883131294860389\t-0.1021914086239719\t-0.0781162227112975\t0.190238442914973\t1.167890652485873\t0.4065608991165524\t0.0129066782221294\t1.111620794874225\t-0.133946724286652\t0.0979300400769597\t-0.0323075762361392\t0.2371989737751683\t0.1598374852660924\t1.36455242856322\t-1.83221847273391\t0.7758634491274845\t-0.4114315992675305\t-0.207476440627666\t0.436320082632697\t0.3242910906741138\t0.9695415366116076\t0.773822925351204\t-0.2222921178566844\t-1.494869595534035\t0.0966071109316794\t-0.121261923824559\t-0.0526343420995948\t-0.996027616642856\t0.9926831346988024\t-0.5485369055286214\t-3.635082502084745\t-0.907496740754828\t-0.353997495562567\t-0.0452349835620698\t-1.410674122438431\t-0.4025307189766209\t-0.7786250688310785\t0.423193830868561\t-0.5867759173603536\t-0.1867576139613949\t-0.594410337839085\t0.6977955199323115\t1.081340915809045\t0.5677874558210504\t-0.510934907694764\t-1.1318976707731423\t0.218376342444843\t0.5484450677395375\t-0.0420560285519394\t-0.9869805251919876\t-2.8175771895916952\t-1.4613592914882392\t-0.645765977693255\t0.0812120151947174\t-1.4117683439624948\t0.4275094552881985\t-0.182773412834215\n",
      "CBFB\t2.1273318113245\t1.14465421016605\t0.371847272810524\t1.25859214203725\t0.243135496345681\t-0.0979564173606502\t0.0320346979949392\t0.874667172744637\t1.44068472159756\t1.34237494928208\t1.43157971785111\t0.930058514235261\t-0.0547691737811719\t-0.317256558354108\t1.43500758558462\t1.68574012802913\t0.610584147069722\t-0.468339951141013\t0.92149998093054\t0.136780787139265\t0.828761268307166\t0.0176358758709549\t-0.219176547667356\t0.214822818280853\t-0.425072377773257\t-0.29405926592489\t0.794870409065446\t-0.185072319906323\t0.326822474737265\t-1.68884456913821\t1.51502854452281\t0.310756620171426\t0.412632234160077\t-0.793199860874918\t0.207007354093503\t1.93482904928786\t-1.1869700780467\t-0.569180880674282\t-0.780243725026372\t0.292150193311355\t-0.772874379448319\t0.716886207287441\t0.47792119573647\t1.61508072161935\t0.660714570976557\t0.931176040630377\t1.55077777598821\t1.10785660974753\t0.494097234635733\t0.844894619281031\t0.758155595199059\t0.855066926050016\t-0.385694891102209\t0.393626629116541\t0.375865579217714\t-0.0950828826928529\t1.18360731236714\t-0.0001627604164961\t0.620705192457602\t-0.11076417500438\t-0.566657791349287\t-0.583064785574602\t-1.15734405496145\n",
      "CC2D1A\t0.404125573936504\t0.103592600354446\t1.4063473411597\t-0.665143235213114\t2.00510810608892\t-2.25663178072475\t-3.00793628553732\t2.4627384877492\t-0.54465699125019\t0.408317868061384\t0.621045543775416\t-1.4604442673029\t-2.78026030445958\t0.34945645767652\t-0.231755148386227\t-1.51196363741557\t-1.07082497542253\t-0.480567662144759\t0.178998805911739\t-0.800103419239632\t-0.542482345995084\t1.00341958061467\t0.852543101678297\t0.0579688078291175\t0.271683428425949\t-2.53287473751539\t1.69580569851407\t-0.547749031579657\t1.22211800614044\t-4.19288513748301\t0.554162412090108\t-1.27463253210742\t-1.76883181202613\t-0.693652496080837\t0.586795646665595\t0.598516758653979\t-4.65841393276493\t-0.46070284938593\t0.295637894622152\t0.859524664930329\t-0.385782082602119\t0.554651870147722\t-0.769208818721913\t1.00691006906855\t-1.66536408792391\t-0.296504844611835\t0.166410175416367\t-0.383274625944168\t0.847135675576859\t0.240067111820429\t-1.22312493674488\t0.0036927434471485\t-0.74441506340466\t-0.0683712512187486\t1.36498663370979\t-0.225469163244826\t-1.78861496095824\t-0.825258214768906\t-1.71852713343575\t1.28529797284052\t-0.65862871001336\t0.8131664358553\t0.169090571971815\n",
      "CDK12\t2.976178447207216\t-0.7675717879043684\t1.2485422459877908\t-0.0764923469062189\t1.393791084325523\t0.8773745241019852\t-1.0452804276699117\t-0.3049193135503033\t-0.3231591310466786\t3.016507960953984\t0.4221284233253985\t-1.3536998317201046\t-1.703599022588876\t0.1203732868755398\t-0.1894161593239451\t1.444145658457547\t-0.588161650848286\t-0.4937735900288055\t0.0349695457252962\t1.425248421503362\t-0.0937117085870748\t-0.1022044960782811\t2.212236275122934\t0.3996692367516666\t-1.3769307130163635\t0.7353858949692148\t0.0391879519973104\t-0.3675096960813948\t1.004177493924585\t0.4601630172159219\t-0.5435724365152007\t0.106241419527455\t0.2719025086225551\t0.0768441074253463\t0.2473261112196396\t-0.5876433841434163\t-4.053465937224466\t-0.0829281054242446\t1.127434004835911\t-0.6995393295826642\t0.5640982893479339\t3.011528671791628\t-0.5193643158253856\t-1.2828737024933656\t-1.0745731546688453\t-0.7176365907009825\t0.7932145982635186\t2.81699123209735\t0.6048543925780467\t-0.4801584472728236\t0.011159286533707\t0.3936934917652278\t-0.7880706315433547\t-1.4283160755674158\t-0.640558090337822\t-0.2260239984812169\t1.1884352876334563\t-0.7483645022690486\t0.064585809320692\t1.2127422656623352\t0.7299277819948906\t0.5854867906706429\t0.6084575740519773\n",
      "COPS3\t-0.75909268919366\t0.496826525610161\t0.508611688626177\t-0.661097524640558\t0.850453715023139\t0.247146038744967\t-1.46762409328695\t0.0157239683075658\t-0.594072524366459\t-0.322596734940742\t0.0352664791049909\t-2.29885841651646\t-1.39905768857402\t-0.16106348735344\t0.735610361201355\t1.37877823341807\t0.820760287381254\t-0.91342863167739\t-1.64611698558609\t-1.70676555444502\t-1.43187287205476\t1.08249313981871\t-0.486424704501641\t-1.10757714675839\t0.178408054370249\t2.66901187195836\t0.254002794821626\t0.356195196757668\t-0.384297975920117\t-1.59714730888896\t-0.844365312755002\t-1.34002983463892\t1.12394587957849\t1.37693269163604\t0.50039830996673\t-0.829810775779414\t-4.55038750498985\t-0.445787120083782\t1.18919453750581\t0.614337839694987\t-1.25423267604463\t-0.351697293339509\t-0.974273821099298\t0.226495280655451\t-2.16656335696876\t1.29948030620304\t-0.0918499988079607\t-0.943939970564246\t1.29247174813658\t2.62900923333846\t0.819735936056776\t-0.559641670790078\t-1.34171799181393\t0.985868592737844\t1.5925084259053\t-0.486241724348771\t-1.78257999187535\t-0.995893138574772\t0.380406693571283\t0.805357497342781\t-0.713811261211804\t0.605589024218616\t-1.22447599943102\n",
      "DEK\t-0.1169443171682714\t-0.116971300029368\t0.0430866578690484\t0.939992434448471\t0.3668484668170153\t0.5577382492400225\t-1.5319919781537186\t1.2035320772142466\t-1.2771695997972374\t-0.6512095673531405\t-0.2346166247084199\t-0.8469704995856664\t-1.463657365486263\t0.664735063955647\t0.5788489143568285\t-0.252094854137809\t-0.165831241845818\t-2.2584768420895207\t-0.403026308699773\t-1.220693909737686\t0.2977639596219417\t-0.632524499806716\t-0.7523093503316676\t0.2461936203712\t-0.6588227127562181\t-0.939740025025507\t1.993819157353799\t-0.5793458663087736\t0.654244840507572\t-3.29237101759939\t0.730221734492374\t-0.4224858627575389\t-0.1906046612540285\t-0.2369789600879925\t1.1348787513490175\t0.493953981609074\t-3.06137458160356\t-0.1176410754365184\t0.7851229673782756\t-0.1972102884600095\t-0.1310633173199045\t0.4172934647027615\t-0.1226263112258725\t1.830917509150495\t-0.6703091288678326\t1.3366827572709885\t-0.0546233070278775\t-0.7881167564344626\t1.2174799224464743\t1.621806940579798\t0.092820173323289\t0.6957528948743295\t-1.76727517735198\t-0.301827626920092\t0.3519159168813429\t-0.2601463655192867\t-1.5140238676865538\t-0.626544126286128\t-0.9289749228092724\t-0.6372871084180796\t-0.905928291310091\t-0.987294481919724\t-1.9119997065849064\n",
      "DGCR8\t-0.0362253298878642\t0.8648531479648675\t0.6558964441199584\t0.46765572510256\t1.5844006980887666\t-1.069003328333696\t-0.7223117421980584\t-0.403290306904809\t-0.1115443774664207\t0.0498311417933108\t-1.2023613936830773\t-0.0978508654509529\t-0.0568199571752113\t-1.3291369782010265\t0.9294407541658104\t1.3670003189965432\t0.7358656110985566\t-0.4748613970096769\t-0.5858572431936481\t0.6052228903287133\t-0.0941911643962714\t-0.162183255059717\t0.2280550617287939\t0.1520812141001588\t-1.3851719107240992\t1.0162816984580214\t0.0747350586558276\t0.2298078578412033\t-0.1159935373027833\t-1.2037112008110007\t-0.7143930822810144\t-0.2877277848138387\t0.7682890568692823\t0.0911125630458313\t1.2467753020041437\t-0.8813950791215678\t-3.3397129450600835\t-0.3969720060040233\t1.374257126534414\t-0.521761995142053\t-0.0341231048109253\t-1.405859963998482\t-1.0265863217057742\t1.6384719005636132\t-0.9487531672260804\t0.9410966942484982\t0.7395461176139001\t0.6605172390400189\t0.6940754364760223\t0.9233450491190156\t0.6778334114716014\t0.7488575719328917\t0.1535134182077639\t0.0086283955037993\t0.081284732480365\t-0.311468624885488\t-0.4403022850216334\t-1.10532988295659\t0.3452609947545763\t0.1851991182192276\t0.386433432436182\t0.0738995137106203\t0.2547416735364409\n",
      "DIAPH1\t0.471151161588985\t0.0330121522316258\t0.908384596395011\t-0.477017693589261\t-0.224224614323803\t0.599388545666563\t-1.11755314050277\t1.67086641514474\t-0.835336597816479\t0.237040876622194\t0.552026258210018\t-0.49115571430967\t-0.556185713623813\t0.514326921510558\t0.590907487191024\t0.535185112976166\t0.205067829292179\t0.353362228310762\t1.14664549851689\t-0.0949217585243334\t0.167112251615871\t0.871630315274599\t1.00525633415503\t0.130362966499149\t0.769526689952156\t-0.0344204421595624\t-0.397183426293454\t0.41114621367787\t0.115362196843943\t-2.36599356790187\t-0.538002198066315\t0.179962015108421\t-0.474976819066776\t0.351594834257009\t0.496798420937611\t0.194904439260649\t-3.59858708729587\t-0.0959454691788477\t1.00029929130798\t0.78252384378204\t-0.0849331472294247\t0.429190649426339\t-2.08539133398084\t0.923977707357074\t-1.50013355966737\t-0.722472909339815\t-1.01786395683753\t1.05566701649832\t0.604854392578047\t0.806934733875554\t1.03928323824516\t0.235653972838948\t-1.03376010804484\t-0.0143076694773849\t1.09675041554245\t0.376527068239815\t-0.373414711019556\t0.0775949263811132\t-0.225243604642195\t0.528685929114671\t-0.4154167251017\t-1.29756808668192\t-0.418892665796157\n",
      "EIF2A\t0.347910564937648\t-0.259392561420059\t1.39582700148157\t-0.436560587863701\t-0.371680478117918\t-1.21656437853058\t0.205940913249014\t1.1667511339512\t-1.07078707913517\t0.0777134427252724\t0.242324335801183\t-0.836745936790381\t-1.10989723001446\t1.21864197315246\t0.0362131368180892\t-0.270865905247118\t-0.791414341831906\t0.0574516220200929\t-0.23137281124919\t-0.414772011777344\t-2.4387300713676\t-0.114153389469114\t1.38976643735538\t-0.709409274073219\t0.426767785289643\t0.0247954299272667\t1.05534489751148\t-1.20716123462208\t0.181869864891036\t-1.82521485361145\t-0.0943724930300994\t-1.79979268879978\t0.447891315721766\t1.29729479980077\t-0.0215855992555761\t-0.842358309024803\t-2.71685786599654\t-0.110861198480996\t0.581444614956264\t0.363072002263727\t0.400436468505188\t0.517878753729386\t-0.725266318212474\t0.690065917914456\t-1.99031746016178\t0.39360062269856\t0.517737079090902\t-0.404150463243852\t-0.897289562014589\t-0.301493919964378\t0.294964335704056\t0.941733759009589\t-1.02022349776928\t-0.400125048268026\t1.01771652983243\t0.0824643929523867\t0.157662568275131\t-0.790699242858858\t-0.122258533690915\t1.04815091435929\t-1.20432282742019\t-1.39807925442179\t-0.039249945347545\n",
      "EIF5B\t0.8780613421114698\t-0.515498758894295\t1.813133808713952\t0.0420469728696708\t-0.175239276521011\t-1.4202938284798292\t-1.8073058436014005\t0.973759361065085\t-1.095204166086742\t0.7548550367871888\t1.07657282850704\t-0.7659919622469922\t-0.5001993269665364\t0.681800603194608\t0.4901514119542011\t-0.3751004478776363\t0.2495757178287382\t-0.3338351300997995\t0.1180019351897646\t-0.9381175442653402\t-0.6657024889586067\t0.9907678111420216\t-0.3844340813832499\t-0.2407777536158806\t0.0561386483791634\t0.2379725694398516\t-0.0864526836060695\t-1.026372388954618\t0.186985839356197\t-1.7875954647912458\t-0.1011363540037458\t-0.7288623164354262\t0.2952041625241913\t-0.1640605153763288\t0.8859464249854134\t-1.4354383804235002\t-3.746904452997876\t-1.1601149561175792\t1.2450418276860409\t-2.070153946022213\t-2.188067771441472\t-0.2725269368153254\t-1.2663868244858594\t0.9124947649662544\t-1.7993844052875516\t0.4784222111334766\t0.635001158198164\t0.2877344301170952\t0.726225778156499\t-0.5211551235107391\t-1.2836343151529026\t-0.0794054552140899\t-0.6249544777228052\t-0.9938414732095492\t0.2177978077976744\t-1.2779916066792616\t-0.8381073304024081\t-0.7837874484768487\t-0.4469067097373299\t1.384956200987997\t0.404963869381831\t1.067940395822006\t0.2718718938493663\n",
      "FAM40A\t1.07221933473059\t0.403559504876434\t1.10827105027943\t0.433267185235834\t0.0107050669752961\t0.977811238913412\t-0.286416942924859\t0.554456607866333\t0.402958526155909\t1.14321565691093\t0.698913455695352\t0.0793748896673595\t-0.0609215239632902\t0.369703707621051\t-0.328223731059781\t0.173014244514197\t0.0913254474765265\t1.04055958672132\t0.325902264195029\t0.131743775277013\t0.04485102027074\t0.841758081797517\t-0.79185116945511\t0.378916244599592\t-0.794802474933803\t0.427918866826065\t0.51600948614087\t-0.487302912967435\t0.0863716748746971\t-1.53836701385739\t0.488513173228247\t0.0432222007243711\t0.225605801528512\t0.461096935530497\t-0.471571727895496\t0.0443340403159862\t-2.07161893252914\t-0.0172988964947928\t0.816331747184873\t0.885867051112639\t0.68122880818637\t0.0030551238726768\t-0.024278810085698\t1.46410129388821\t0.288027935020129\t0.41406197078593\t0.131510151872539\t1.06163154144109\t0.946355629566849\t0.343824131928733\t0.626962695110879\t0.222908850344893\t0.0305558748713896\t-0.0069353628762898\t-0.0169088830987515\t0.323817720782634\t-0.0535613496261653\t0.645658027152537\t0.311749979603763\t0.970513484499356\t-0.321402008245092\t0.0527776016493439\t0.180665045156224\n",
      "FOSL2\t1.67761173933365\t1.40681016033653\t1.11879138995756\t-0.0158066883178794\t1.23533851204507\t-0.619180126927065\t-0.0944425494625694\t1.01746377600118\t0.588993474358334\t1.38618999360374\t-1.11505494698497\t-0.879689100530587\t0.517399393155829\t-1.33395775199734\t1.31710154009472\t-0.959873898906473\t-1.28347377620832\t1.17017332336104\t0.886370893080188\t0.781518305507538\t-0.940430667628255\t0.277700026142023\t-1.05909932628939\t-0.673212194738203\t-1.27016974271165\t-0.631134230111455\t-0.240898733225835\t-1.09725920078168\t-2.02652577923681\t-2.16143814119202\t-0.81054600788677\t-0.404650234794402\t0.0707724433663148\t0.916526129463416\t-0.0521846560030906\t-0.679240376834752\t-2.78400942920807\t-0.843087909677369\t-0.180706639268034\t-0.684544432832735\t-1.43875335640655\t-1.53708951670706\t-0.641566317242112\t0.434889420340692\t-0.429806915516637\t0.242930695873379\t0.748077234480167\t0.326503842245079\t-0.105837370885136\t1.90271009258033\t-0.923255450829044\t2.18310868993054\t-1.28926362699612\t1.17509112883262\t1.07280075320608\t0.162915502229136\t0.46393724923201\t-0.574705668421054\t0.159724398675684\t1.75676891053536\t-0.566657791349287\t0.37616135872544\t-0.129530836185935\n",
      "FXR1\t-0.0564050767079664\t0.143924284996058\t0.541926097606913\t0.700284083024529\t1.62272256099571\t-0.692960652025508\t-2.24907280079227\t2.38268584652962\t-1.27716959979724\t0.0418647700984651\t0.339659225701103\t-1.20892002253884\t-0.476205161256275\t0.765971313678301\t-0.424692313733335\t0.402683575733982\t-0.0100536319678593\t-0.358290552107293\t0.249256981612443\t-0.361883387223696\t-1.69077900902092\t3.75693663111983\t0.380768294205528\t0.171386323078834\t0.423396386227389\t0.0703461007632891\t0.224890940230599\t-0.514778421427536\t-0.195006920709159\t-3.48046796170041\t0.0110641633237994\t-1.26274211346533\t0.400368205790794\t1.43666111051249\t0.741590874917727\t1.28444857606855\t-3.94894306926911\t-0.106793272307683\t2.45561397071041\t1.18171231131396\t-0.544229188565071\t0.398906906493592\t0.272856193359085\t1.07921007671445\t-0.609724601840431\t1.36272447301855\t1.44840437359298\t0.0804671883559495\t-0.465798134197657\t1.54841782879587\t1.18118576283033\t0.337614952791387\t-1.23004095704052\t-0.294455320318997\t3.02469823362022\t-0.300371920157661\t-0.771722670490572\t-0.531506953533493\t-1.78963587290211\t0.400231272437334\t-0.732205444944619\t-1.01788483731881\t1.17143994974163\n",
      "GMPS\t1.01384221000101\t-0.0073195324099859\t1.92184398538793\t1.09878657442129\t1.75768216514626\t-1.39268563199138\t-0.636487895709035\t2.35023207306223\t-1.64633270013642\t0.918165656531532\t0.398060159641055\t-0.820386636317921\t-1.47903824094156\t1.1463303662077\t0.384571907583701\t1.01219064704803\t-0.259792339867444\t-0.781369352836927\t0.867209572434542\t-0.835362502275397\t-0.48255036984551\t1.74495384692812\t0.432581712367278\t-0.166453084047981\t-0.203683839351896\t-0.642521897820461\t0.707534845292364\t-0.902183090714961\t0.516113529948223\t-1.8722390896367\t0.176181945915754\t-1.16167355500755\t0.440226297990964\t-1.24862905480784\t0.764990153607003\t-0.890457186465459\t-4.79563669237112\t-0.291205925497881\t1.6852498796949\t-0.19619711976069\t-0.540217869426769\t1.10408549192757\t-1.02658632170577\t-0.232822414977325\t-0.932842079319896\t0.760044765717827\t-0.880590530898474\t-0.496600599856737\t1.12402857043264\t0.518439604793928\t-1.17225422038416\t-0.348072637388767\t1.57372944628571\t-0.117519961892716\t2.12419092977271\t0.523558405883529\t-0.115419782725831\t-0.384631322915787\t-1.42673609907379\t1.61137517825222\t-0.805782179875878\t-1.74768331612568\t-0.0207307882524908\n",
      "GOLGA3\t1.5522090269515918\t1.3085016790225967\t0.929425275751267\t-0.596366155479663\t-0.604110907488305\t1.0174781878910686\t-1.279413903618038\t0.7073499406460645\t0.4552808553378413\t1.380879079140507\t0.8434410194861406\t-0.2396314695456036\t-0.320345623309279\t-0.2512119573445663\t0.5596445205838537\t-0.3982146049298851\t0.1407786569615909\t-0.5514883859664891\t1.6272752913785198\t-0.5524503360122349\t1.1555903115761743\t0.237284651437735\t0.4416717857289863\t-0.331350889907498\t0.4387549819554359\t-0.8270021147063531\t-1.6801479654629288\t-0.8389894212567289\t-1.0038993278118402\t-3.758694691516497\t-0.9617381943565118\t-0.8617707737014677\t0.0605524197252458\t-1.538145974083955\t0.8411878047233617\t-0.050469544204727\t-2.5309745533385084\t-1.3854780661191264\t-0.8202128640769297\t0.3745545808560133\t-1.1833660379346167\t-0.6393928512006121\t-1.577611328093986\t0.5015188391516191\t-0.8324798325270321\t-1.0740360719319029\t-0.8100149277320664\t0.0958755444580967\t-0.79191643258336\t-0.4170606821988309\t-0.8554278290147477\t-0.22232076211409\t-0.9829978195114802\t0.482094308329682\t0.9179262700975525\t-0.827465394729467\t-1.163995660878693\t-0.962774123827641\t-1.1660040543638055\t0.3414150376949633\t-0.2287498235168367\t-0.909361909831562\t1.1799278967435247\n",
      "HSPH1\t1.71652982248671\t1.04634572885212\t0.0176625036469079\t-1.05757716075104\t-1.46135431903714\t3.2721475677811\t-0.984300326217184\t2.04300301757088\t-0.198748259436307\t1.52161831241612\t1.17673927884041\t-2.17820857553207\t-0.0178550726884621\t-0.385229468882176\t1.13756278900783\t0.108971834847142\t-0.195503167536858\t1.15060898575504\t-0.316001977434128\t-0.727066747236976\t-3.75243898856626\t-0.272300507877196\t1.44157985551713\t-0.624949422291516\t0.386310996542593\t0.762716297470829\t-0.466132555587992\t0.40565111198585\t-0.631570075069567\t-3.09957164989585\t-1.97432796952886\t-1.1596918185672\t-0.0901929289805239\t-2.002700343123\t0.401401361665948\t0.0736116178885595\t-3.96354123518467\t-1.07224775077401\t0.60279799061341\t-0.39680452222597\t-0.0949614450751812\t0.0636226097381719\t1.56602120835117\t1.04518654370461\t-1.74981524681059\t-0.99405080213582\t0.894657333364245\t-0.0432967042064613\t-0.0712257590281627\t-0.881014837154662\t-0.358322758612595\t0.177026409366295\t-1.09467485428488\t0.862996816052926\t1.21410376099066\t-0.430758200709634\t0.030928217534353\t-1.5142777172255\t0.532432274499362\t0.0812120151947171\t1.00911061509517\t-0.237830774642013\t-1.74995708200318\n",
      "IARS\t1.05708452461552\t0.161569397026763\t0.890850696931466\t0.781198294475648\t-0.681587717278432\t-0.595379957540471\t-0.729087309026139\t2.7829490526275\t-1.38472105422676\t1.1033837984367\t2.82966268186814\t-0.456392200805694\t-1.44520031493991\t0.991583527345932\t1.30906249153859\t0.974648544829409\t1.31529238223192\t0.0892436706298342\t0.819306270820426\t-1.08973160131913\t-1.60447696336553\t1.60262144036085\t0.309865721984187\t0.173799461701168\t-0.740860089937735\t1.62134644272985\t-1.41763053985261\t1.99373550097969\t0.475185734226935\t0.255607590506065\t0.379097775125144\t0.564418884536041\t0.400368205790794\t-1.06446642993879\t0.208807298608063\t0.0234214849070054\t-2.91247328926493\t-0.833596081939638\t0.12316832200674\t0.504915620168471\t0.121649788393159\t2.22891022942962\t-0.260731312826969\t0.656042384904621\t-0.356371125180395\t0.401041112912149\t-0.0127432787752838\t1.07952511626939\t-0.0550736734949086\t3.90952270101655\t0.940219211647961\t0.567027157684375\t-0.123423067013153\t-0.0388820248143684\t-0.383338716845211\t-2.85816235992189\t-2.05264485833486\t-1.5337171389249\t-0.958399228795352\t0.521627980945586\t-1.23293600211568\t0.40893673951018\t-0.481394820991965\n",
      "IRF2BP2\t0.1925084967917731\t-0.1947988477362276\t1.6053571000709377\t0.8140696928776656\t0.0622521380050189\t-0.7060507451881347\t-1.065889443438656\t0.3935399810904968\t-0.3426346646866198\t0.4095626136387039\t-0.2093980395979882\t-0.0149467021191658\t0.150180991660643\t-0.4626028883130635\t0.598946535747153\t-0.8030804131698897\t0.2433940666431046\t-0.8648234804374969\t0.929483864532892\t0.1902990381756936\t-0.5706503747853847\t-0.3658708862686445\t-0.319394606480212\t0.0733525665465002\t-1.0479383545247245\t-1.1370313680840296\t1.0137838945756028\t0.7384482082088236\t-0.2114206721182172\t-1.5833339395565436\t-0.4559406494889874\t-1.6102891416914544\t0.4381184181149922\t0.2112952670003515\t1.2356756441643588\t-0.689958061481855\t-2.823059523032176\t0.2225392508067973\t1.4616553980542075\t-0.1440189317457302\t-0.0924543706137413\t-0.5336701414978938\t-1.4377625764726738\t-0.864650055324032\t-0.3967608098653291\t0.1464368384158956\t0.2940860948808717\t-0.1456255852558041\t0.2688333274665987\t0.4396728425775638\t0.5844588728884326\t-0.0877535104476948\t-0.3966933869511046\t-0.4959650340822606\t-0.0971402519255908\t-2.1424249049770223\t-0.5838842577854917\t-0.9821235482043617\t0.5814727844761619\t1.5907306798576517\t-0.234540585062356\t-0.1263944799738979\t0.524426898733168\n",
      "IWS1\t-0.648824786926674\t-3.05236172285167\t1.41160751099876\t1.5579747244064\t1.34780484883719\t-1.90438927380316\t-3.19765215672359\t-0.540317350433813\t-1.15217736897373\t1.11533335597897\t1.30415949834576\t-0.118981628561214\t-2.87869790737347\t-0.185649433714656\t1.07057071770675\t0.683145162896604\t0.773779738370441\t0.341134517307015\t1.16580681916253\t-3.24809118429417\t1.31780619368769\t1.01747710225094\t-0.440065330356918\t2.34562422180212\t1.21455136616971\t-0.524090153646803\t1.83830056572279\t-4.70479346159295\t0.991899155208198\t-3.06195226107564\t1.28625089394359\t1.19857454544758\t0.360510113590625\t0.0006903733578746\t1.39317078918833\t-0.191977835805498\t-4.39272731310189\t-2.52314141925571\t1.67375190818721\t1.0905271283752\t-2.25104548191282\t-0.635066602210218\t0.561621196706831\t1.58318365942263\t-1.40466703223025\t1.89657964584357\t1.29019093352763\t2.08156530665421\t0.964815155890568\t-1.13914205791191\t0.653736756353364\t0.544085937195076\t-2.90688855492604\t-1.74679972073472\t0.612967236347776\t-0.0007608925063193\t-3.36374189159362\t-3.47549937312076\t-0.453281976034314\t1.99956232755187\t-2.60432458930664\t-1.47892519369081\t-0.914280118088858\n",
      "KIAA1429\t0.2484532413242886\t-0.2476291533995893\t0.7464882580149427\t1.3192778006255943\t0.3264438939694753\t0.3931204109827456\t-0.5325958710117966\t1.4170057871331163\t-0.1212336976852969\t0.3246709652655004\t0.8752960743624767\t-0.7883496728926861\t-0.5551603219267928\t-0.5091233554475197\t0.5087305463950343\t0.0390404679693226\t0.8257056083297623\t0.1381545146448206\t0.443531482603025\t0.1485338148178528\t0.0464492063013953\t0.6654533312759138\t0.5725688421376184\t0.7923673285595499\t-0.6895399042123084\t-0.2151047698091175\t0.4889405687141253\t0.4789191345461192\t0.7378057567718681\t-1.6770885101318975\t0.2643773880231047\t0.1264551312190103\t-0.3043024242609223\t0.4021980780273326\t1.0193823116647729\t0.4960452371499726\t-3.0088211843075734\t0.688260298676527\t1.0468386997915025\t0.5319334521503264\t0.7614551909524225\t1.1704213097802567\t0.5567386966502252\t0.481671778229215\t-0.363102739294551\t0.831969504449189\t0.5301459763509303\t0.7892515690547356\t0.754068897028108\t0.6331628140193714\t0.6662313182665253\t-0.4670271139999467\t0.1715622319085164\t0.0160007021048949\t-0.0216988155660253\t-0.1218999191184359\t-0.7113729796616314\t-0.3867912586601643\t0.991778384615387\t0.7451296729665936\t-0.4031539359464897\t-1.1009158019734857\t-0.2391025156650053\n",
      "KLC1\t1.30356571791819\t1.84289650052395\t-0.81695111081785\t-0.681326077503338\t-1.06897176622907\t-0.309777924901339\t-1.18079176423153\t2.19661754531655\t-0.454546313214641\t1.4319966308491\t0.210469280924846\t-0.0310503885217429\t1.12032971100342\t-0.732325182216993\t0.446204613180693\t-0.211240213488136\t-0.702398564758787\t-0.517250795155999\t-0.183469509635074\t-0.200699007631628\t1.13561298619298\t1.31619943702176\t0.945261849967743\t-1.14860050333808\t-1.37805451270378\t0.995024718734543\t1.50274813648937\t0.894715162575649\t-1.17386336837664\t-1.98744846789858\t0.23586307215381\t-1.33012115243718\t-0.0227407729494676\t-1.50496351915259\t1.73516024695467\t0.746995902057743\t-3.16940100937864\t-0.376632375137457\t-0.67347684674064\t-0.151617696990627\t1.30498893419242\t0.0766013567093494\t0.159861192049097\t0.887827703534124\t0.262325408402444\t-0.4583355067574\t-1.46691092643479\t0.673937420161244\t0.0602983660283354\t-0.0003454957475927\t-0.347613134115601\t-1.36513341241435\t-0.791793199369134\t0.875283993721418\t-0.639600103844368\t-0.197727401425257\t-1.38427203240433\t-1.46891906659356\t-1.27961456914339\t-1.08476102233803\t-2.13016340863853\t0.574998668819526\t1.23162721030055\n",
      "MAP7D1\t1.1623074901774773\t1.200530398263283\t-0.7973715897502253\t0.2758216154538636\t1.3494710167896644\t-0.1768936458261878\t-0.2864169429248596\t-0.0563955282866471\t0.573006095997189\t0.800661674032552\t0.1004513599167554\t-0.1367042040730448\t-0.3198329274607687\t0.0920271369531978\t0.4390587922419116\t0.3040435424536896\t0.5982208446984558\t0.4320271691015313\t-0.1760178849395437\t0.3403600165719544\t0.0516433109010249\t1.1504378277273657\t0.3894038638991535\t-0.1994326452198837\t-0.6164929245301359\t0.9255599457096094\t-0.0235812923752726\t1.4085071707795391\t0.1562899925652306\t-1.920830800196131\t-0.1126083927139495\t0.2569194468752903\t-0.3129894443558313\t-0.3887886913989655\t-0.7157642003707583\t-0.1877953247237013\t-2.6239162096675237\t-0.9486279942849952\t0.6014291844815421\t-0.2944744835946901\t0.0681655332157913\t0.1613237327712026\t0.2547211931488395\t0.799933576592049\t0.0573171603804348\t0.733693029544699\t0.7030949819125666\t0.2188938714026621\t-0.253513581474888\t0.5112694042173381\t0.3882273156987142\t0.3320920663772961\t-0.3402908441362535\t0.8842945906783112\t1.029691361000611\t-0.6489933936902413\t-0.7802722100246718\t0.469983253276456\t0.4772617007754622\t-0.7125718888883136\t-0.41575735813379\t-0.3864125008661659\t-1.2549554454832934\n",
      "MIOS\t0.257101704247189\t0.761503206070738\t1.9849660234567\t0.0084675751174564\t0.533048720076484\t-0.39307851775442\t-0.295451032028967\t2.0278579232861\t-2.19862395261237\t1.0675351258099\t0.26002158851026\t-1.08213544387728\t-1.21141100801941\t-0.139370005270014\t-0.34430182817204\t0.420350447366273\t0.936975329671159\t-0.556379470367988\t-0.357518172166363\t0.313076202318089\t-2.42674367613769\t1.42514522970289\t-0.0228309630544121\t-0.595991758823503\t-1.62529044393576\t0.926698712480509\t0.171263839668181\t0.249040713763274\t0.753153680167351\t-1.23270947969324\t-1.01744057884536\t0.0273683092015827\t1.69882220938863\t-0.686186443721281\t1.56236557355694\t-2.00300513422324\t-4.33141501625657\t-0.2356109344626\t1.13827494940031\t0.683233311248719\t-1.3665496119171\t0.9137305363503\t-1.67944632927459\t0.585868848071836\t-1.65985640364869\t0.19456750948505\t0.280416918992872\t-0.375818969765709\t0.0926025370948437\t-0.169899650558724\t-0.543063781185747\t0.31977178129971\t0.362202826622712\t0.504211228132967\t0.435739735058639\t-1.05217366546797\t0.881858858222431\t-0.795019114347614\t-1.16436937069791\t1.72712552822521\t-1.06738834852035\t1.64347608240203\t0.268631041357732\n",
      "MKI67IP\t-0.367749741932397\t1.71685998601892\t-0.652132455860524\t0.433267185235834\t1.02290209810439\t-0.0741562479740558\t-1.639271786265\t2.65746112855357\t-1.93410551063705\t-0.645234788582008\t0.164456423881248\t-1.08827018155445\t-1.36829593766343\t-0.095983041103162\t3.15804365944838\t0.616894394275513\t-0.0669248228756855\t-2.43944696494497\t-1.78343978354655\t0.532186218326057\t-1.12741843321493\t-0.214313231127566\t-1.83357357670712\t-0.39087497592508\t-0.947639232422661\t-0.442098946141962\t-0.279203805056134\t-0.555991684117688\t0.117067521665663\t-3.09957164989585\t-1.53865574799105\t0.457405116757219\t-2.15514870565854\t-0.484603030013268\t1.69556146763436\t-1.21041928422287\t-5.294893966683\t-1.18479370823568\t0.225007498217745\t0.101674477839272\t-1.31640812268832\t1.29011419851445\t-1.68153882929885\t0.462533540911183\t-1.57540524476201\t2.02120785692119\t0.201310198960195\t0.259402936638953\t1.13095089280404\t-0.0433666992071336\t0.958961054517701\t-0.651406552747273\t-1.76304498664086\t1.87546025593665\t0.936287677888769\t-3.13003162575367\t-3.4587926546492\t-2.6849628906784\t-0.791661494874233\t-2.19144729525047\t-1.54154952918846\t-0.622395242516289\t-1.83792307820469\n",
      "MORC2\t0.512231360472764\t-0.173687731556634\t0.641869324549122\t0.101518918286244\t1.0428961135341\t-0.854801803854349\t-0.363206700309775\t-0.146544899029412\t-0.689996794533335\t0.406326275137672\t-0.453177695665515\t-0.560682741317624\t0.148258382228732\t-0.308579165520738\t0.467642075997039\t0.0979300400769598\t0.135833336013086\t-0.0819442834226187\t0.171014922309386\t-0.155365900871359\t0.605814317030751\t-0.776614096578525\t-0.568235364757034\t0.296869531440222\t-1.24319855021361\t0.361870394113832\t0.283114649412653\t0.243545612071253\t0.418910015110164\t-3.1465958859211\t-1.19847332843413\t-0.285746048373489\t-0.0396038119572317\t0.356572202496713\t1.03498183079095\t0.12798426195191\t-2.50372464362948\t0.030160242193861\t0.900102682455216\t0.0631740672651269\t0.193853532882605\t-0.503116008003247\t-0.963811320978003\t0.409371770583315\t-0.409612073174171\t0.942336775950761\t-0.594410337839084\t-0.0045272920784772\t1.25324525469868\t1.01444877409216\t0.0727396273914245\t-0.307288245407791\t-0.999918582355934\t-0.803144475794556\t1.05124605710334\t-1.47662262130737\t-0.518253969009017\t-2.99167376638008\t0.834031410856681\t1.06226681069745\t0.618745160320989\t-0.119839403816951\t-0.0253605775262543\n",
      "MTDH\t0.918709117849103\t1.0425646334169687\t-0.2584964129039315\t-0.0562637940434392\t-0.6578448239556495\t0.2007357084411085\t-1.7736538616886\t-0.2460698043294255\t0.4044119241887408\t1.1810559224614503\t1.232485624874003\t-0.1844188304510525\t-1.742051211227115\t0.1101050386893854\t-0.542598359223234\t-0.8163305668941081\t0.7700707476590609\t-0.394973685118533\t-0.146743645064251\t-0.9587692929005748\t0.593827921800839\t-0.4278118409784771\t0.496666729567337\t0.6733191565243855\t0.1767223548391218\t0.2764628862962915\t-0.257752964831167\t-1.3019517388094348\t0.5868845100496201\t-2.43888113374102\t0.1682244624173465\t0.011514417678795\t-1.7113441790451116\t-0.635168419264315\t0.233106549554618\t-0.471160450515392\t-4.4613386929049845\t-1.065467873818489\t-0.8853680359538599\t0.7663131445929265\t-1.001519570331565\t0.921301472083489\t-0.0619438105223599\t0.2913526404554495\t-0.5454682852962189\t-0.0649195867138723\t-0.6514137096273389\t-0.2490728147319154\t0.7571454847487271\t-0.2243088196399079\t1.377975112962603\t-0.02562103828918\t-0.799407542649137\t1.180005999900012\t0.277671963638598\t-0.7206596117241265\t-3.3033922007646748\t-1.0153325602741736\t1.6137755194878\t-0.5194193739943681\t-0.847680042822845\t-2.7768302727664964\t-1.3911484132865062\n",
      "MYBBP1A\t1.0051937470781136\t-0.45853025433802\t-1.2325045281038756\t-0.5936690150979567\t1.438611002247124\t0.1003783275276356\t-2.3251097174185102\t1.9557384266918831\t-1.77423172702559\t0.9394093143844544\t1.5212457982437622\t-0.662246731750812\t-1.529282434095523\t-0.697133533503879\t1.1000472290792256\t-1.0747085645163654\t-0.6430547133767056\t-2.5535722676466057\t-1.3948907815653897\t0.1485338148178533\t0.6641481071496714\t1.0848360600914224\t-0.6091406948847308\t-0.5597946794884866\t-0.7535964863951387\t-1.3538715407096753\t-0.7480578842589901\t0.1455496318968931\t-0.484343698794377\t-3.982059812636453\t-2.37618088619844\t-0.8564861431938736\t-1.2414785921469595\t-0.7409374943580257\t2.537935500448287\t-0.059531651548618\t-5.544035998308416\t-0.5614970201246913\t0.0673210318265106\t-0.7162903854114168\t-1.4227080798533376\t0.0679488587285645\t-2.236051335727495\t0.318642349223755\t-2.1904299888280434\t1.565477831338853\t0.456468148869517\t-0.2664693458149856\t1.576286965363762\t0.1658344470274966\t-1.226694811577216\t-1.4560486195386064\t-1.5103615948303333\t-0.1175199618927167\t-0.40888502333734\t-1.6837611095601537\t-1.3636525547044431\t-2.2378561915921438\t1.2778480261467209\t-1.4169551161629397\t1.2243906913755165\t-0.2429291672085279\t-1.165832001963346\n",
      "MYH9\t2.187871051784805\t1.1055828906694884\t0.4139286315230325\t-0.231240776306485\t-0.3004517981495744\t0.623188715053157\t-0.5438884823919306\t-0.0805555596457079\t0.8767662848589595\t1.47780326809447\t1.6917293326745302\t0.0067804938208194\t-0.7130706432678305\t0.0414090120918695\t-0.2491730869245078\t0.0813673479216869\t-0.3797163728687294\t-0.2298995865679532\t0.4999509267263176\t0.7172964042638235\t-0.492139486029442\t-0.4647128352736965\t-0.414158621276044\t-0.2219552723616722\t0.090751678751639\t-0.1881539562311375\t0.83011107514932\t1.091165048065369\t0.5988217838016601\t-2.195530712310327\t0.144352011922124\t-0.5750795686643785\t-0.851329189649146\t0.0753508969534351\t0.1026105722490416\t0.4500376152502152\t-2.92707145518048\t-1.748879470935105\t0.6997094647496885\t-0.64300451616063\t-0.1049897429209374\t-0.376573225034266\t-0.216788812317529\t2.11692783351442\t0.1558435124148931\t0.073659543514226\t0.688747194455661\t0.8245416749661061\t0.059144645633103\t0.0135731289010821\t-0.0397114298270156\t0.317222756800899\t-0.4770670104622669\t0.550902503273236\t0.321978838960882\t-0.8496588041851205\t-1.66188061021746\t0.4188647739928435\t-0.6359578756978935\t-0.134055403962358\t-0.576876782311962\t-0.8212325526103774\t1.352001731418405\n",
      "MYO18A\t3.305252461423592\t0.2795395746034776\t0.5899689821370273\t0.7443823282653902\t0.0356975862624343\t-0.659164411496544\t-1.0732861038926438\t0.0044733268388686\t-0.3557152469821034\t3.244744510011324\t0.6171521481794183\t0.0544269564468588\t1.7490998996159122\t-0.2238299621814856\t-0.1358225022830819\t0.1261970346886256\t0.7584492434300704\t0.1900000093007066\t-0.592563705419626\t-0.8101774429641366\t-1.743519148032546\t2.1800341415708\t0.1849681139942871\t0.9392470327056384\t-0.6871424648791525\t1.0428529231123664\t-0.412199014450931\t-0.561486785809708\t0.2081318671455295\t-1.6197189421810858\t1.311714841138498\t2.158527677152418\t0.0554424079047108\t-0.4756437671818013\t0.770749976053593\t-1.0891264628507762\t-2.3484001582880087\t-1.1698779789335292\t0.3728385604595272\t0.4858680486212622\t0.01494869931431\t-0.0826046061370949\t0.1941781924469441\t-0.7278648202704269\t-0.3905187676867482\t-0.6272346346058736\t0.9681800496299076\t-0.1333610308422402\t1.954707255\t0.5396971406209964\t-0.3358325471689074\t-2.445919799910204\t-0.7579516736802244\t0.2560102392294338\t-0.1510269921824226\t0.0325292216771631\t0.1344279373059884\t-0.1876451830285097\t1.5127520689355922\t0.418581937676954\t-2.547915759192676\t-1.1022268172048744\t-0.578157416813624\n",
      "NCALD\t1.12843434372945\t1.3211053304731\t0.946959175214811\t3.30774454703686\t0.0656886094070002\t0.670789053826346\t-2.78660110248668\t-0.194143766781593\t-1.59982396308582\t1.53356786995839\t0.256482137968444\t-0.106712153206869\t-2.64490860045297\t-2.49528215953009\t-1.01422254118283\t1.07623305671508\t1.31776504270617\t-0.424320191527525\t-0.164308188989427\t-3.23046164277629\t-1.85858854223973\t0.0088499248482834\t0.168060577541506\t0.2461936203712\t-1.10609498834861\t-1.36905509765502\t5.06205541096073\t1.00736474726206\t-1.14828349605083\t-4.18348029027796\t0.589971087832942\t-0.715782855929125\t-1.92673117728065\t-2.0649174461193\t1.6577626328286\t-0.986654941346771\t-5.07884111113283\t-2.00651479524494\t0.407332474982609\t2.05506373012745\t-0.207278380947654\t-0.686981590094929\t-0.273286312972523\t1.24294832932428\t-1.34408250520285\t0.159225180970501\t2.40233835045762\t-0.7187791539748\t3.61837206492518\t5.13689232912698\t-0.0477436481997612\t-0.664151675241328\t-3.03379427625945\t1.37168597152848\t2.38284728300551\t2.30735369088179\t-0.0082990815044591\t1.0430862041181\t-1.93675740283251\t1.48292052157489\t-1.046950366595\t2.07611110876059\t-1.8494975513891\n",
      "NRBP1\t0.4012427529622019\t0.4892643347398587\t0.2222246640549369\t-0.3468806701720421\t0.1581609307694114\t0.6065285964825414\t0.105060251586477\t0.1916955399974443\t0.0357332898604986\t0.5756116736531497\t0.5467170823972957\t0.1700326797855732\t-0.442367235254624\t-0.5539565517532673\t0.1809160108284201\t-0.0640162832190424\t-0.0487919793978286\t-0.9003857399400593\t-0.4421473383513024\t0.4037424158386283\t-0.4489884632017486\t-0.0233652289015113\t0.2062388856606896\t0.3974169740374886\t-0.878712851594353\t0.1067866374321073\t0.8495189782100051\t0.5622615102084257\t0.2074497372168412\t-1.8346197008165\t0.0236635121962779\t-0.6015027212023587\t0.3165640119340263\t0.6527256127591009\t0.5297974037045383\t0.5441441145906291\t-2.29448426550657\t0.1788655434183093\t0.6531700562661648\t0.6535136960686784\t0.6491382550799482\t0.5640254096269054\t-0.6136663169186584\t0.670927680596423\t0.1130059680520852\t-0.0106660122397846\t0.288948035859139\t0.4512618222979511\t0.94020245412561\t0.3514161090098286\t1.0089393021703408\t-0.7372237108739084\t0.0683455785573396\t1.4421324568278393\t1.5118778960395265\t0.7196001894084797\t-0.0450118100920651\t-0.3234331434917423\t0.576568733478482\t0.3470613962302309\t-0.72811784855955\t-0.3827707918900829\t0.4028949302968757\n",
      "NUP188\t0.719794470622385\t0.625383770405298\t0.121112510481825\t0.716466925314753\t-0.789055550213126\t0.0305644973269591\t-0.697467997161763\t0.662635852757652\t-1.16961814536771\t1.14321565691093\t0.353817027868364\t-0.384820261238683\t-1.38060063802766\t-0.242052487131564\t1.05449262059449\t-0.860497745974836\t0.692181942720082\t-0.382745974114786\t0.733080327915016\t-0.379512928741579\t0.67773268841024\t0.63616682786701\t0.838907991635731\t-0.434311471127099\t-0.0070188940537333\t1.02463265477796\t0.0440910011915885\t-0.443342099431273\t-0.491733439688499\t-1.84402454802155\t-0.0844256386570901\t0.306793147290729\t-0.172975120473184\t0.401368516654049\t1.02058227467448\t0.381026182400578\t-3.05553531523734\t-0.749525607691166\t-0.282545815479039\t0.68120697385008\t-0.917281868427212\t-1.77070696218825\t1.78991871094688\t0.507189427986592\t-0.400432599382141\t0.44196380908689\t-0.0360099611378359\t0.105816419362708\t0.0372239581236865\t0.766444189443045\t0.013836692657956\t0.312124707803277\t0.0711657056980821\t0.445232775324207\t0.972212171393324\t-0.275404334520049\t-0.270820236610356\t0.0149567897941503\t-0.941235050303472\t-0.0500658207502535\t-0.885490309384741\t-0.729461486413105\t-0.439726717528093\n",
      "NUP214\t0.6246613784704758\t0.5882029986263138\t1.0254233753141766\t-0.2120236510868442\t-0.6603440758843655\t0.415532237155122\t-0.7528017929244222\t1.3663418407756835\t-0.7314186384690292\t0.8021553687253375\t0.3148830719083962\t-0.0801282899391219\t-1.4152076078020783\t-1.011809543058468\t0.3242790434127294\t-1.0051452574642186\t-0.0613613368086152\t0.047669453217095\t0.8739958734965412\t0.1707806172094667\t0.5303000270822882\t1.0868861153300464\t1.03320830974229\t-1.0647439362119595\t-0.777945479622532\t-0.1107178158098999\t-0.6105426763882175\t-0.3334400655908697\t-0.1029193803362622\t-3.3828926719480075\t-0.1137688590574675\t0.3672361087213597\t-0.2611228243774047\t0.0274437276462835\t0.5120979493113669\t0.2335926667672622\t-4.086895737171083\t0.0298212483460832\t-0.0086477084921829\t0.4005592441385522\t-1.5681183986168092\t-0.6988787748185079\t-0.3993594394341295\t0.0547827624964381\t-0.7960679198186451\t1.08091590617886\t0.0529850988989262\t0.4018059696475095\t-0.6855818694894378\t0.0945542177661\t0.715317097211082\t0.2592324494529489\t-1.4313980348895416\t0.5840778829781632\t0.1435538545549267\t-0.6915307618135791\t-1.6607490535144191\t-1.1940672431214554\t-0.421405644549394\t0.7136041711446826\t-1.1297241933926687\t0.2887603432994682\t-0.504543767360784\n",
      "NUP35\t1.424644198838803\t0.6934434882380183\t0.1421531898380796\t0.4676557251025597\t-0.6249380068942504\t0.0964116326298699\t-0.5280788264597417\t0.7369189342496915\t-0.9690492168369704\t0.695771113383747\t0.4841867894918912\t-0.1646513423801633\t-0.0834801412977238\t0.0635845715549276\t-0.0441773487432055\t0.1273748261307783\t0.1127551715867216\t-0.8571811610601549\t0.4972896321922\t-1.144299229826862\t1.12043021890176\t0.3761026775959421\t0.5734778494737873\t0.3033045677664474\t0.4308883841435094\t0.0953989697231013\t1.0808816120650102\t0.1592873861269435\t0.1358260947045869\t-1.660630027523057\t-0.4252711818388756\t0.7573078980633005\t0.1131855414767516\t-0.1660514626722104\t0.7781897467137733\t0.5295053258043435\t-2.162127561205567\t-0.6704270432100747\t-0.1505929043669306\t0.7656376987933807\t0.1510661287407109\t-0.0856329804303697\t-0.137971311403775\t-0.43412831861885\t-0.0326416827814616\t0.6571179844298417\t-0.1849167282581697\t0.298669392512168\t-0.106606517815291\t0.910691753983858\t0.3351254275677843\t0.1931702311920976\t-0.7613358262491127\t0.6016895043030019\t1.3130956986476547\t-0.0987817842687953\t0.5107082596244413\t0.3065481152851853\t-0.3364020939229413\t0.0703898280021209\t-0.4120103947808087\t0.5910221883142877\t-0.4204359288874112\n",
      "PDS5A\t-0.2909946334916514\t0.4842228741596585\t-0.781883311890761\t1.1989179110920554\t0.9891621970667556\t-0.4049786024477165\t-1.92384559304439\t0.9471472668218224\t-1.358559889635797\t-0.6153608947263353\t0.5467170823972956\t0.8155434109280429\t-0.6899993300848855\t0.3031770292318774\t1.230011847403318\t0.083575706875723\t2.61962078240054\t-1.2178986356706796\t0.2835876811025595\t-1.2723232813257694\t1.22670958994034\t0.210926798369722\t-0.457790973412256\t-0.5923720508899994\t-0.7172602965019557\t-0.461457981247272\t0.2103350129350855\t-0.0339570233757675\t0.545104051917469\t-3.3088295002082297\t0.528300590720284\t-0.918910841064852\t0.5007799380642971\t0.066640502533953\t0.9926831346988014\t0.8714256067411785\t-3.95040288586067\t-0.428159439999423\t2.16323698094333\t-0.191131276264092\t-0.4650056355835945\t1.7075972260873264\t0.3314461940383373\t0.3253761734652849\t-0.5647451802594825\t1.714287635610638\t0.4246703496406945\t0.11625433801255\t-0.1219894564183899\t0.8448946192810305\t1.169137435271215\t-0.0307190872867994\t-1.331565534107255\t-0.075743557819844\t0.277671963638598\t-0.0271155662349095\t-1.6731961772478852\t0.0268364363882294\t-0.2460858213823344\t-1.019827899182457\t0.954949962992987\t-0.772069481433266\t-2.34604245100024\n",
      "PGRMC1\t1.9810286468787568\t0.1203974689551178\t-0.1886530467074756\t0.3118958680591546\t0.9562553800053566\t1.3903475082810466\t-0.9105219318669712\t-0.172507917803329\t0.0618944544514643\t1.7705674278800576\t0.2883371928447808\t-0.706553170530389\t-0.7786957118770941\t-1.0292848480701149\t-0.0548960801513784\t-0.279699341063264\t0.3723845213833183\t1.8451429707678504\t-0.0126144005447256\t-1.1140771586533476\t-0.3522982083471029\t-0.8574448459870992\t0.9898032094401258\t-0.2219552723616719\t-0.6532037143191259\t0.3937558636990459\t0.6855732707763263\t0.023741544390446\t-0.7475321629465507\t-2.4937427424371497\t0.295544198391867\t0.5214812616618237\t-0.3334294916379698\t-0.4107720677909918\t1.7051611717120068\t-1.1379224254717324\t-3.11295476783851\t0.0667715777536796\t0.7900506694530014\t-0.5649905263130229\t-0.2186437851728443\t0.7608697386897633\t0.1752061922269963\t-0.1633577017489106\t-0.542408460698875\t1.5326156662288366\t-0.2097345227782243\t-0.5845773427625477\t0.0179952848698126\t0.490602355496577\t0.219104495517013\t1.2841527166831996\t0.6391393118436277\t-0.4255185487829089\t0.3806555116849897\t-0.7257456013910463\t-0.7938508904611851\t-0.3248731006546613\t-1.886899551022761\t-0.5220072883230319\t-2.3025237228756468\t1.2501715129851594\t-0.8023935439729071\n",
      "PHF14\t0.1792655379410818\t-1.0521622376567397\t0.9925473138200284\t-0.1017780379846949\t0.4018379938190095\t0.8207301209618922\t0.203682390972986\t-0.6809503687925296\t0.01780804745558\t0.0577975134881572\t0.3688596926710775\t-0.6649732818295565\t-0.4300625348903875\t-0.326657067256926\t0.3993101632699379\t-0.7556006956581065\t0.156850950044239\t-1.7559179198355317\t-0.2665018990995418\t-1.2307679334621895\t0.8071857568933195\t-1.398659428983649\t-1.0727344363319595\t-1.3766421031486804\t0.162674858746396\t0.5714034799595364\t0.5481857464783212\t-1.2112825608911\t-0.617074814084943\t-3.074883925982585\t0.1891128566006684\t0.3751630544827559\t-1.1832244573928667\t-1.070688140238416\t0.389701722321311\t-0.6729666102120555\t-2.6292688705032248\t-0.19899959890278\t-0.8878318869912216\t-0.450502463289908\t-1.750633419409575\t2.008271530919605\t0.5312799463550755\t1.67249543357345\t-0.799739709335457\t-1.6376532056112798\t-0.7805437967395006\t-1.6656474886390251\t-0.251206140684423\t-1.1378767283983922\t1.210637230197068\t0.54281142494567\t-2.173373485618905\t-1.1004941753720534\t0.7410979298473546\t0.1934314402306615\t-1.775790651657092\t0.0397960508544973\t-0.3907553258138945\t1.038975581739475\t-0.8936655021548818\t-1.2615151678187075\t-0.778858781831274\n",
      "PNN\t-0.642878968667179\t0.3084019364251302\t0.4897627467028658\t0.0635903816685326\t1.2259663173123911\t-1.8877291552325424\t-2.5951913395933977\t0.4576361836886027\t-1.7742317270255907\t-0.776182023316041\t-0.4664506351973203\t-1.157285980422636\t-1.8989361408711305\t-0.3552201520001026\t0.2090526807748737\t-0.1753543804850448\t-0.1411046371032849\t-1.9326083438396728\t-0.8792649655801119\t-1.7961725149999894\t-1.0345238701830848\t-0.2705433176726621\t-0.4312025088292481\t-1.3307924693243245\t-0.649270415413165\t-0.9556827598181132\t0.5975992891394077\t-0.3080252202652755\t-0.606416533949192\t-2.3589399324980858\t0.5660986373377201\t0.1849163562092925\t-0.5087028970823055\t-1.5864679240777484\t0.3582026933165159\t0.2231363890627735\t-3.31246303535105\t-0.8986829007126493\t0.378998188052935\t-0.2519213982232667\t-2.492727459995554\t0.6990404302020715\t-0.3025813133121489\t0.364184265804627\t-0.6184451019428592\t0.4535895750456217\t0.1704818448298135\t-0.5495357587237912\t-0.1641002508443742\t0.1154321547391116\t0.9843964126980624\t1.069184983950138\t-0.6340070858445888\t0.3057733087868252\t1.2811628155324963\t-1.786636809641053\t-1.817281064101988\t-0.3284729935619584\t-0.5881433784705136\t0.2894214861827082\t-0.4419861016046542\t-0.5093201788089378\t-1.2019057767214187\n",
      "POLR1D\t0.404125573936504\t-0.370304694184492\t-0.0840341132416552\t-1.12837709577077\t-0.119256033317822\t0.999231391361347\t-2.50428581798331\t0.762160758057666\t0.18204202516553\t0.280855920943847\t0.904201587120636\t-1.499297605925\t-1.5436379178538\t-0.616626611105388\t1.84231937909518\t-1.24916892188524\t-0.655418015747974\t-0.370518263111039\t-1.41618113783833\t-0.752251806548237\t-1.54933954530793\t-0.476134571603169\t0.699829869201563\t0.417526462556942\t-0.852116258992125\t-3.21157973297212\t0.83011107514932\t0.16661418838297\t0.34899169741963\t-4.22815331450195\t-0.0923831221554975\t-0.725691538130868\t-1.59100340067152\t0.16743220938796\t1.37517134404273\t-0.233802946623459\t-5.96640959879838\t0.0410080453226962\t0.343272348011171\t0.0307526688868998\t0.151734681930428\t0.102558850651705\t-0.829891319425425\t1.41093952356034\t-1.77184598391146\t1.50967415473694\t1.05985077813836\t-0.320647114045117\t1.44476284030726\t0.510847627712833\t0.527898668513682\t-0.0829740895124249\t-2.45002795812575\t-0.72204910318251\t0.105234394816735\t-0.519531838532254\t1.15192372468195\t0.799013465003378\t0.902688124824201\t0.453871678522375\t-1.01424959551444\t-2.39008077950657\t-2.90277461117031\n",
      "POP1\t0.283047093015892\t1.10180179523434\t-0.313728196214099\t0.0954503524274101\t1.2953205583342\t-1.98530984971758\t-0.399343056726206\t1.06073547395771\t0.243084742544451\t0.0717386639541379\t0.691834554611721\t-1.22732423557035\t-1.53133321748956\t-0.2608535049372\t1.69225713938076\t0.117805270663287\t-0.0421982181331524\t-0.796042606041423\t-0.61619600088259\t0.950258202892984\t-1.64762798619323\t1.65357995629234\t0.781640529456956\t0.533357116428993\t-0.0047712946788971\t2.56424532903551\t-0.547339307868225\t0.383670705217769\t0.886169016261537\t-2.28840357846021\t-1.16863276531511\t-1.1596918185672\t-1.68145060989499\t0.0131337939571347\t0.581395813121916\t-1.03684507432832\t-4.36937024763701\t-0.722406099869078\t1.13663238204207\t-1.83347773786116\t-0.151119913011418\t0.738517452239403\t-1.90962133194309\t-0.217937119285522\t-1.22107755638965\t0.490326995475219\t-0.0243766199565599\t-0.0432967042064613\t0.258738274008315\t-0.554559822667559\t1.55602262022513\t-0.312386294405413\t-1.05914125231153\t1.17754856436632\t0.33994108571316\t-3.16054756375519\t-2.52488118907133\t-2.14497895458389\t-0.323324624595795\t-0.820793760814274\t-1.56198751111381\t-0.773161994126091\t-0.495284188813256\n",
      "PPP1R10\t1.55004691122087\t0.799314160422249\t1.09249054076224\t0.12579318172158\t-0.339190203044639\t0.423267292205765\t-0.550664049220011\t0.123903213198885\t-0.97776960503396\t1.40610592284085\t0.360895928951995\t0.0241622505728084\t-1.16219220656246\t-1.31081803777502\t0.850836723839211\t1.0166073649561\t0.167977922178379\t-0.661537785000209\t-0.0669048090407241\t0.650555997088982\t0.641773502720496\t0.358530775550599\t2.5378427029394\t-0.624949422291516\t-0.620613523384002\t1.5188574333488\t-0.170417401058085\t-0.231780684288495\t0.575799898708435\t-0.219337193349005\t-0.0327019959174417\t1.0321086844583\t-0.137716038911495\t-0.367634876380223\t1.37517134404273\t0.688440746912597\t-2.30226995399486\t-1.17123395432463\t-0.550284294872489\t-0.449489294590589\t-1.49491182434278\t2.40844956253091\t-1.15422882318558\t0.545465902622656\t-0.74007312968726\t1.1190484185235\t1.15757084406108\t1.80570602805124\t-0.22120941040838\t-0.210390194991233\t-0.160194705418201\t1.14055766991685\t-0.636122181200146\t0.570561987542823\t0.675236358422338\t-0.100631235056767\t0.723440919796459\t-0.218316270598678\t-0.791661494874233\t0.530097518748487\t-0.924322475042905\t-0.628950318673237\t-1.11104616222381\n",
      "PRKAR1B\t0.2808849772851668\t0.776627587811342\t0.2420964167802879\t0.0600503849175455\t2.000109602231495\t-1.1011335570056\t-0.3801456173799775\t1.3593101898577469\t0.780842014692084\t0.0986251684242435\t-0.3664611573910405\t1.2102115348261346\t0.5573896693395985\t-0.3975224420627845\t-0.9445507870297072\t-0.248782315706754\t-0.5775292108089946\t-0.390082600717034\t-1.19742272713387\t0.568704554327385\t-0.6407707868803836\t-0.0280510694469355\t-0.933656313897789\t0.914633018757827\t-0.311006709500324\t-0.2849491317576851\t1.9294666366788995\t0.0979254172327175\t-0.4687115545952739\t-0.425068225959494\t-0.0336966813547426\t0.2086971934934753\t0.3413475692636198\t-0.8056432814741781\t0.7631902090924415\t-0.3624151623886915\t-1.79425378013366\t0.7000120853994295\t1.0167249648904009\t0.4583098599997689\t-0.485062231275108\t0.6649712194027311\t-0.398836314428065\t0.3306923504980715\t-0.0534484900433969\t1.536645931761195\t1.74970791018803\t0.805156968902116\t1.635126705520615\t0.1730046476040861\t-0.5457411873099955\t-0.8247402186664206\t0.5855568961695206\t0.69097632869404\t0.3698781636336215\t0.5513001677030975\t-0.66007574245703\t1.2687994894056\t-0.9951796112779514\t-0.167227760357055\t-1.6692869162219002\t0.2767427036783972\t-1.72449324099748\n",
      "PSMB10\t1.47437286064548\t0.143924284996058\t0.0492235226812895\t2.70088796115346\t-2.02868450685518\t0.575588376279969\t-1.75219790006634\t-0.241742634533773\t-0.736505531583941\t1.30453468373157\t0.0051811494995612\t-0.309158496553557\t1.3479666677418\t-1.16040989532993\t1.70565555364098\t0.431392242136455\t0.798506343112974\t1.25087621598577\t0.876790232757365\t-0.691807664201211\t-2.62332055790829\t2.3546988479015\t-0.587324518816626\t1.44552351567139\t-1.15217077553275\t-0.394270741764139\t-0.397183426293454\t0.639192933896709\t-0.372360702168075\t-3.36996100704106\t0.954025957885083\t1.12128682427398\t0.518409478845143\t-0.404965138178004\t-0.6677656799825\t-0.499392400317516\t-3.19275807484353\t-1.56717876852712\t-0.905078844252765\t0.729839071417421\t-1.8318626319602\t0.504900006758208\t-1.2651313244713\t0.717710038484947\t-0.587693864739558\t-0.506698693145729\t0.680603855628766\t-0.210303402603931\t0.994811886166611\t0.108472842414775\t2.20930971454178\t-0.144150677483888\t-0.236792178071003\t0.0790748808031524\t0.51477362076866\t-0.436306553073548\t-2.10695958008091\t-0.663263033940554\t0.777634824383361\t0.815238624779499\t-4.33746545657629\t-4.68435743443833\t-2.70137877776159\n",
      "PXN\t-1.04449196564939\t0.32289613559321\t-0.515368040044871\t1.10283228499385\t1.06289012896381\t0.330446631598047\t-1.12884575188291\t0.775142267444624\t0.0541429982763635\t-0.890200718198524\t0.688295104069906\t1.70099054899992\t0.0652016547701348\t-0.0048704163527725\t-1.11605048956047\t1.22860982454359\t-0.665308657644987\t-1.0577156215216\t-0.140356538182369\t1.84180930251161\t-0.540085066949101\t0.43760433475464\t0.391676382239581\t-0.719061828562557\t-0.513852553079285\t1.18406000270404\t0.535928123492626\t0.455107027214032\t0.979961881456156\t-1.28913856292355\t0.40694896736957\t0.106637766815525\t0.697770893745906\t-0.297951721024367\t0.045012347783132\t0.468858915118298\t-2.70225970008098\t-0.65189537953165\t-0.164280965685614\t-0.0908275750314517\t-0.413861316570237\t1.6059303748131\t-0.0765913106921738\t1.50237776852427\t0.19439730234142\t0.259671798853955\t0.757383907425188\t0.263876330346028\t-0.21659452882745\t0.7310149630646\t0.83044556055377\t0.0470261599269351\t-0.170801202977628\t0.211776399622863\t1.02490142853334\t0.359882011148073\t-0.0339477001067594\t2.21161144182661\t-1.04422012125475\t-0.971833851632681\t1.07451215725628\t-0.355822145467075\t-0.740663020322724\n",
      "RAB12\t0.308992481784594\t0.935433596087689\t-0.173457000505736\t1.7602602530342\t0.653012812654748\t0.40422715669649\t-0.449030546798799\t0.779469437240277\t-0.105730785335095\t-0.213059124136609\t0.268870214864798\t-0.284619545844867\t-1.41443856402931\t0.407305743232323\t0.23182998501724\t0.462309267492965\t-0.0891787671439653\t0.480530422749727\t-1.18145495992916\t-0.837881008206523\t-2.47468925705735\t1.5850495383155\t-0.720948597233769\t-0.675625333360538\t-0.293587814345342\t1.12484413061721\t0.756565337235147\t1.34531350132131\t0.342170398132748\t-1.81816121820766\t1.52895414064502\t1.08363383190736\t-0.430519716228126\t-0.185960935631026\t0.791989321325398\t0.249277083323999\t-3.24531147213951\t0.131858396526691\t0.520669622701309\t0.182727973784839\t0.815607999319506\t1.06731237550923\t1.50115370759914\t-0.80484306370518\t0.117289722488366\t1.98028516074645\t0.592190462651069\t-0.475724762557053\t0.563320458349679\t1.15110436155188\t0.51183423176819\t0.793890338078552\t-0.26048124605324\t1.36677110046109\t1.03208632723425\t-0.450177433983332\t-0.113911040455107\t0.220150685510064\t0.92230432881492\t0.004986174968605\t0.888526521735603\t-1.07906554811699\t-1.36568457228081\n",
      "RANBP10\t1.1673524268825\t1.09928106494424\t0.68745746315434\t0.495975699110452\t0.360600336995231\t-0.490659212239456\t-0.643263462537116\t0.792450946627235\t-1.29461037619121\t1.31648424127383\t1.41034301460022\t-0.603625905057831\t0.434342665697232\t0.803573349289573\t-0.392536119508817\t0.797979828506497\t0.432552592923484\t0.240867287076293\t-0.656115418894354\t0.600185878466461\t-0.537687787903118\t1.52881945177041\t-0.426430220314353\t-0.605644313312841\t0.380691998105502\t1.01780005415255\t0.83777208951538\t0.850754349039487\t0.209155062038562\t-1.2797337157185\t-0.104319347403109\t0.237432371878529\t0.156620641951296\t-0.559263553608829\t1.925954365498\t-0.116692636333166\t-2.79860759512363\t0.217284846166268\t0.233220335008955\t0.490731258377996\t1.16459276435183\t1.36149730685593\t-0.963811320978003\t0.011721728530866\t-0.804329446231472\t0.449404299300479\t0.273436914284106\t0.700777782403695\t-0.331966568350694\t-0.104102515855897\t0.873284058541747\t0.490556422720046\t-0.0726607784797872\t1.10136806282167\t0.462084363628646\t-1.21030170783951\t-0.207453061239967\t-0.505587724600957\t-0.769593265384673\t-0.554003320022882\t-0.0597958396006177\t1.91004917945125\t0.426043876665693\n",
      "RGS3\t0.946816622348532\t0.774106857521242\t0.666416783798086\t0.235027367180591\t0.0331983343337205\t0.0043843110017053\t-2.29876029086486\t1.2900754731273\t-0.0592220482844889\t0.754855036787188\t0.470618895748267\t-0.558637828758566\t-0.857650872547609\t-0.14949363024228\t0.673977655604362\t0.85098044340337\t0.988901199630479\t-0.456112240137266\t0.560628442104198\t-0.452549600744235\t-0.775018413455431\t0.237284651437736\t-0.0337390510884646\t1.00874542502887\t0.464976974661858\t0.373258061822838\t0.0869926816415232\t1.06781086587429\t1.0754600714725\t-2.42477386293344\t0.237852443028412\t1.69599039197507\t0.388104177421511\t-0.215825145069251\t0.189007908947906\t0.0046001850389226\t-3.36209679946393\t-0.133912780129771\t-0.482939033184566\t0.535310681148058\t-0.86714037919843\t0.0506438627669943\t-1.73803632995385\t1.0005306566292\t-0.532617021987376\t-0.581103595281621\t-0.208183410620721\t0.384657960437055\t1.66627715619189\t0.447581152037037\t0.918799962653973\t1.48467597725633\t0.641395413556223\t1.68869515537557\t0.512378654535023\t-0.181082344333516\t-0.219522999405755\t0.0149567897941503\t0.99341306828128\t0.115090166406322\t-2.58388660738129\t1.64129105701638\t0.145941625602997\n",
      "SCAF1\t0.1003483137696124\t-0.95805497349298\t1.5223633092768238\t-0.1189723079180566\t0.3593507110308738\t-0.1515067984804873\t-0.8077591683077446\t0.3997602876717471\t-0.4879744679697643\t-0.1144752744128883\t0.5650042435300072\t-0.680991763542171\t-0.5854093769888755\t-0.0593451602511529\t0.7338239059666579\t0.1660211078264143\t0.3538395678264207\t-0.0680862109517058\t0.1188535494406818\t-0.1801312091940988\t-0.8353499361126691\t0.2648139646421051\t0.0362545137967052\t0.9335359379661146\t-0.2836609171064817\t-0.4508294913855332\t0.7864432932627801\t-0.0811233128989401\t1.4656952348428332\t-1.8118913200709563\t-0.3970884277820153\t-0.9879413270703268\t-0.332918490455915\t-0.2556440909868837\t-0.0422849611730118\t-0.8974280382684522\t-3.1655081651344967\t0.4010195116609127\t0.905030384529942\t-0.0654983575484623\t0.2473377880599736\t0.1483449858000251\t-1.1782925734645542\t-0.3830930191040968\t-1.2721766271652812\t0.7448537648650828\t0.2947647064497781\t-0.6591339045471319\t1.2597830036049955\t0.5998424701634515\t-0.6992458051002478\t-0.7066354168881769\t-1.325643267111697\t-1.3380462769628971\t0.0018516857314054\t-0.8043472598798259\t0.2280705409088958\t-0.901215955112865\t0.3522084003346226\t1.2660062478450251\t0.0120777301701951\t-0.0892490484178605\t-0.1530655983275659\n",
      "SFRS17A\t1.05492240888479\t0.128799903255454\t2.06211518109629\t-2.73047848250294\t3.27972658973297\t0.168605479769206\t-3.25863225817631\t0.0070696287162602\t-1.41378901488339\t0.633367868440785\t1.41565219041294\t-1.91032503029554\t-2.57723274844967\t-0.314364094076318\t-0.277309756870961\t-1.12329246150517\t-0.929883328390092\t-1.5981804478872\t0.0145308037032733\t-1.65387692989137\t-0.499331323167391\t-0.309201502172415\t-0.0228309630544121\t1.1583600196136\t0.34697800748296\t-1.57858818350072\t-0.79402397045535\t0.41389376452388\t0.197217788286519\t-5.23682317724366\t0.800844400540739\t-0.303581676336626\t-1.54194728719439\t-0.949986960425595\t-0.0143858211973374\t0.0464252958568843\t-6.8160228550835\t-1.80176251118818\t1.36330667747947\t-0.0543535018559462\t-0.411855657001086\t-1.30779832021625\t-2.56038883948764\t-1.35559900430189\t-2.2087889364121\t1.89843976839697\t0.371156980206825\t0.45026773480749\t2.81076778826247\t0.0958195472796159\t1.78360214078626\t3.6844841197302\t-2.36880829647236\t-0.0020204918088931\t1.36498663370979\t-1.99261939115135\t3.00164174858901\t1.45347399554992\t-0.725456806405553\t1.30788340698159\t-2.11994441767586\t-0.506588897076876\t-1.35179520445951\n",
      "SFRS3\t-0.119106432898997\t1.38160285743552\t0.692717632993404\t0.8499753742091\t0.910435761312271\t-0.412118653263695\t-0.638746417985062\t0.77730585234245\t0.373890565499281\t-0.0855971770190719\t0.309573896095673\t0.889160263054112\t-0.968393175825738\t-1.06351234202396\t1.33049995435494\t1.14248382533617\t0.709490566039855\t-0.47812211994401\t1.04764534184771\t-1.11743516656152\t0.159920414477922\t0.446390285777311\t-0.431884264331379\t-0.234020965473344\t-0.709393698690029\t0.810544501848652\t0.321419721242952\t0.713376806738982\t-0.392824600028719\t-3.01492802505039\t0.896334202521629\t0.120509921897965\t0.326784035575096\t-0.661299602522761\t0.255605855986614\t-1.07239641852359\t-1.86724460971142\t-0.222051180551556\t0.658645280793639\t0.523152656756223\t0.430521362042458\t0.184757581469162\t-0.7545613185521\t0.955874769553794\t-0.380237757039674\t0.434523318873301\t0.585210457942303\t0.647097057918794\t0.528708846492706\t0.46529576522626\t0.881316276914493\t0.0852615274090998\t-0.446609637342248\t1.13822959582714\t1.15662457138337\t1.0978128755486\t-0.860738464463261\t1.01068716795243\t-0.274284114618995\t0.482103471198713\t-0.533957020268728\t-0.524069100162071\t-0.398058614064221\n",
      "SH3BP1\t0.4430436570895574\t0.5869426334812622\t-0.1817856027509205\t0.7169726391363223\t0.0381968381911482\t-0.072371235270061\t-1.0187427909265934\t0.964996842228887\t-0.3440880627194512\t0.4610950805397392\t-0.1496698117048562\t-0.127672506937209\t-0.1739709585597137\t0.0121228112792447\t0.2787244349279945\t0.8598138792195152\t0.7577074452877951\t-0.0073552462997642\t-0.5774741654111796\t-0.0892551201792997\t-1.0429143468440265\t0.7279800160539253\t-0.0432836281182604\t1.2186884851719602\t-0.2581881241916725\t-0.994400830028734\t0.850412763219379\t0.1027336312132356\t1.0200370147665845\t-1.7670223615301957\t0.2846026585815563\t0.4152932173998117\t0.5770468644857772\t-0.1772505412115445\t0.765890125864283\t-0.371302998437509\t-2.735105573390975\t-0.767831275471076\t0.3560022450375462\t-0.4596209815837843\t-0.4299065931234472\t-0.2300215404847197\t-1.4848438270185038\t0.7953262231636348\t-0.7125347083111705\t0.096911075431692\t0.495052063787414\t0.366018819990909\t1.965090738557095\t0.8240166823080203\t0.5854629001850247\t-0.5290533768043455\t-0.1488042112798357\t0.2836563889835402\t0.7045746947843905\t-0.3086944487035317\t0.3390888263296367\t-0.3840913389796924\t1.42067851145415\t-0.1199395076241894\t-0.994322563137227\t-1.7351194201581932\t-0.9356928934800152\n",
      "SMARCA4\t-0.2192844617559319\t-0.0484914604816313\t0.2251469806321943\t0.6975869426428231\t1.8401574787938104\t-0.0297292651190797\t0.1780858051780156\t1.2417554104091806\t-0.0059307870806697\t-0.3378656140225296\t0.5880106720518067\t-1.082817081396961\t0.694792156740241\t-0.9931290445977377\t0.6587927861094497\t0.1818476803303425\t1.3218861434965925\t0.8008964510478881\t-0.5305023168840043\t0.5162356807622587\t-0.8421422267429516\t0.2800429464147354\t0.1671515702053346\t0.4698111327075208\t-0.376748991214281\t0.2290142708421003\t0.118147473396833\t-0.3618314243329733\t-0.4473949943237706\t-1.89496747038224\t0.2113274980337196\t-0.2883883636272856\t0.0595304173611373\t1.9874898623730664\t0.7265913372963978\t-0.1940690913463957\t-2.29448426550657\t0.7528951256525028\t0.7243479751233187\t-1.023618224205024\t-1.296351526996804\t0.4414483548991176\t-0.4079038145331872\t-0.1222459326953595\t-0.424299231241419\t-0.3417678267445025\t-0.1500167047143413\t0.8046599251568823\t-0.2350540551511692\t0.8077782868845661\t-0.3654625082772573\t-0.2648045037609423\t-1.0117631163470535\t0.0299261701291853\t-0.7441802960465176\t0.1647649530171069\t1.5623016223187476\t0.2345502571392515\t0.5283455653346296\t0.3992902126814556\t-0.6123026176492328\t-1.329615125671446\t-1.5439314593207032\n",
      "SNRNP70\t1.26248551903441\t-3.93461732438693\t1.16613291850913\t-0.30709784954191\t0.73298887437359\t1.41573435562675\t-0.900735002004187\t-1.56152942220786\t-0.0505016600875003\t1.38419840068003\t0.822794224658886\t-2.39087948167405\t-0.20550175324307\t-0.607949218272017\t1.0303754749261\t-0.515993749145158\t0.524041030470856\t0.0647882486223409\t0.915112874048658\t-0.898325150553548\t1.41849191361897\t0.69415410461664\t-0.933656313897791\t0.581619888875681\t-0.301454412157269\t-0.612913961777046\t0.537460326365838\t-0.11088844706405\t0.840125246075088\t-2.87620652877589\t-1.07712170508342\t-0.0558646212930566\t-0.0717968864265994\t0.62535008744073\t1.7603594701585\t-1.36098968316753\t-4.56790530408851\t0.77052280573686\t1.07257225507063\t-4.05636986416835\t-2.3673737369236\t0.574119990604488\t-1.58737632820719\t1.9106601646423\t-1.31654408382676\t1.1934533206594\t0.171063511888877\t0.342906285837688\t0.461793063569224\t0.898038458848699\t-0.197678391157681\t0.834674730059528\t-0.534597604133415\t-0.798229604727159\t0.351915916881344\t-1.52100944021868\t0.234608424082031\t-0.473188688435287\t0.99341306828128\t1.13708106128975\t0.173197154348368\t-0.458518338592592\t-0.597139552836054\n",
      "SRPK1\t1.32951110668689\t0.340541247623915\t1.08021681113776\t0.180410274451086\t0.45807116221507\t-0.371658365306485\t-1.90351889256015\t-0.092455276583753\t-1.37309386996411\t1.75264309156666\t1.07232548785686\t-0.820386636317921\t-1.38367681311872\t-0.830668967661858\t0.858875772395341\t-0.244365597798681\t0.229794434034712\t-0.959893933491627\t0.533483237856199\t0.265224589626694\t-1.61166880050348\t0.634409637662476\t-0.628229848944323\t0.115884134765143\t-0.28909261559567\t1.49380456438899\t-0.784830753216078\t-0.545001480733647\t0.933918111269707\t-2.03447270392383\t-0.999536240973947\t-1.52433132359134\t0.484683400829614\t0.0927716857923991\t1.58576485224622\t-0.695970421161937\t-3.87303260650824\t0.0328721929760698\t0.64386217456946\t0.121937851825663\t-0.85310076221437\t0.351318167599274\t-1.81545883085143\t0.798515929383306\t-1.59376419234607\t0.88839322190224\t-0.0429899658466015\t-0.316173720338042\t0.201052254246693\t0.589298057550819\t-0.320839072873115\t-1.06179949705584\t-0.380618662248872\t0.133138462544516\t1.00095176619697\t-1.55707373058412\t-3.91594156267844\t-2.29401452094597\t-1.17908152369095\t0.751717091257739\t-0.719942655789409\t0.378346384111089\t-0.622603393841754\n",
      "SRRT\t0.5645545611563136\t-0.6218735771365453\t1.626923796411099\t0.6501172719248356\t0.5035575473176616\t0.1305252087506552\t-0.5587947294137077\t0.3480506086136973\t-0.3324608784567998\t0.4509379566288098\t0.3651432696021728\t-0.9937952213259916\t0.2411588699787183\t-0.2912243798539968\t0.1112442566752978\t0.9485899091717792\t0.3712306131620014\t0.2115207806673003\t1.069042149902017\t-0.3079873602975983\t0.107180275466297\t0.3128438302327073\t-0.352255221682796\t0.0579688078291175\t-0.807164271495403\t-0.5760179183998684\t0.2607444874637588\t0.7809665575508294\t-0.1029193803362609\t-1.189917424910257\t0.6142414125030842\t-0.0332728258730836\t1.399886517887356\t0.0111428466612532\t0.4777190090832783\t-0.4186699364388497\t-2.551606627832491\t0.1334855669960156\t0.7953068849993745\t0.7890081234576863\t-0.4920820397671384\t-0.1150514735650398\t0.0510511907876266\t0.8861265268836327\t-0.2370379658840022\t0.212796710508344\t0.661059842444222\t0.1260958041681162\t0.3514973937850031\t0.3969679714964012\t0.1220039000775984\t-0.161484044075803\t0.2407117493995215\t-0.7589106361879834\t-0.0394215656949386\t-0.0756636494191541\t-1.3420272488240723\t-1.1276492189818312\t0.7182958073114334\t1.500706550960981\t-0.2044967516320925\t-0.4204988968822948\t-0.1864772442532256\n",
      "STX17\t0.525204054857116\t0.378352201975427\t-0.376850234282863\t0.133884602866692\t0.653012812654748\t2.23922021640291\t-2.3439307363854\t-0.449446784725105\t-0.844056986013467\t1.01177052394597\t0.0936674130449427\t-0.155790054624248\t-0.506966912166866\t0.656057671122275\t-1.03030063829509\t0.47776778017122\t1.05319037196107\t-2.21934816687753\t0.163031038707034\t-1.61106232906223\t1.42328647171094\t1.68169499956489\t0.451670866426869\t-0.224368410984006\t0.452615178100259\t1.45964156126197\t1.47976509339119\t0.41114621367787\t-0.172837698026795\t-2.96790378902513\t0.243820555652217\t0.0253865727612341\t-0.264955333242806\t-1.09930800761672\t1.01158255210168\t0.0338777626114958\t-3.87011297332513\t-1.57667059626485\t-0.591348478828539\t1.41271477475883\t-0.857112081352673\t1.29444044750484\t0.578361196900903\t1.92979840196033\t0.484468674169576\t1.71242751305724\t-0.673517057871761\t0.140112437783617\t0.466407945150154\t1.29282126706566\t1.48641006099467\t-0.419445323355474\t0.108391383955884\t-0.166668672566683\t1.40330609344798\t0.22117320205023\t-0.577094917567235\t0.202871199555039\t-1.16436937069791\t-0.628817570615177\t-0.17629233657511\t1.31572227455464\t-0.0971223112695896\n",
      "TAGLN2\t0.6116886840861244\t-0.007319532409986\t-1.371022333865886\t0.602175601640046\t0.226890358809042\t0.7564696636180854\t-0.8487889896555676\t1.8266445277882448\t-0.0127133112338828\t-0.121445849645879\t0.0662366713458744\t0.390201598644093\t-0.2193445411528359\t0.959766420290242\t1.49396060832957\t0.949252416857988\t1.040827069589801\t0.2518722269796647\t0.0863857561244479\t-1.4183966253310825\t-1.1873504093644969\t1.97426716861984\t0.1257917364095525\t0.089339609919465\t0.4891386679413485\t1.25580230927077\t0.6860840050673975\t0.641940484742719\t-0.3902666127961385\t-1.7205859284552552\t0.5322793324694856\t1.43539205006923\t-0.801506574398935\t-0.5580192115489014\t-0.732563682506649\t-0.4471110117950639\t-2.2351183907833247\t-0.897326925321545\t-0.2694052766131035\t-0.3339880628681545\t-0.2504000616844065\t0.5135525047389922\t2.036833713809448\t-0.655990106787153\t0.7800477302729485\t0.296874249921901\t0.9272306886718168\t-0.289333358095591\t-0.483103940126144\t1.33963845906575\t0.9763641943253184\t1.7230097678951548\t-0.9948423535025954\t0.107335389440683\t1.635617818110765\t-0.343371650977993\t0.340974754168041\t1.734265642319068\t-1.6952328911967665\t-1.041001743689708\t-1.50067356533776\t0.597941435368844\t0.2107586754356874\n",
      "TCF20\t1.9656055546662523\t0.5180006600470058\t0.6955230569075714\t0.5465470812674026\t-0.1667418199633858\t-0.6201321337025285\t-0.8831185282511766\t0.3013171748206491\t0.5355084267501374\t2.178047340071436\t0.1736589952899662\t-0.4514844106639553\t-1.0692917188124784\t-0.610552436122029\t1.2886969018630636\t-1.0097828112676972\t0.7015780525222458\t-0.84495345005641\t-0.558712038945652\t-0.5331417905402691\t0.3876619238463032\t-0.851821837332591\t-0.0670087195923249\t0.1530464695490926\t-1.6927184251808438\t-1.1116938074314908\t0.8690290281289039\t-1.6627051648905584\t0.6542448405075718\t-3.5970880670430403\t-0.6116089204265834\t-0.3142830531145074\t-0.7582758743972133\t-0.1013456755560578\t1.008702640878385\t-0.8076434670458934\t-4.276525912414098\t-0.3465297214549397\t0.045310629226069\t-1.3564779142214936\t-1.1720006337094264\t0.3854955346233736\t-1.7740273303711\t2.173917251305898\t-2.7107225633603163\t-3.690484455540536\t-0.714001085182602\t-0.9770430839966024\t1.1595631586058055\t-0.237215180677771\t-1.02392592110079\t-0.3822295656728345\t-1.3163368475472452\t0.2727208008585823\t0.0458392322225375\t-1.0327544321942752\t-1.5496301852756296\t-0.957014295175966\t-0.0030900944472914\t0.2542729043006678\t-1.5055786809998457\t-0.7666069179691422\t-0.9878937675416972\n",
      "TFAP2C\t0.0517007098282942\t-1.7567063537399\t-1.70241303372689\t2.43791677393732\t-1.73127352733824\t1.770356879487\t-2.24681427851624\t0.327280193594564\t-1.18996571782735\t-0.0298325751551495\t-0.373540058474671\t-0.50751501478213\t3.03986296782433\t-0.709185467994672\t0.791883701094262\t0.212764705686852\t-3.23440289039418\t-1.03570574171486\t-1.3203745346101\t2.9902480071051\t-1.57570961481374\t-1.17373908280327\t-0.590051540825139\t-1.42852458352887\t-1.15104697584533\t-1.735737997885\t2.53545287303422\t-0.127373752140111\t-2.74617285400279\t-4.32690421015499\t-0.35100133585374\t-1.38957324564763\t0.46782036182185\t0.938924286542084\t3.56750376277642\t-0.980381174724076\t-3.80588104329671\t-0.933938260881364\t1.91028160777406\t1.15942259992893\t-2.52582084288655\t0.282098183752994\t-1.03704882182707\t-1.62353432675434\t-1.087057239026\t4.0766432784252\t-0.0732366529179191\t-0.295297883038358\t-2.32328797052188\t3.31481782966408\t-1.06248056928997\t-1.05925047255703\t-2.05239003128105\t-1.98025609643607\t3.18276600504026\t-1.70965342059175\t-1.42651681598459\t-0.0260819893490327\t-0.946139101301152\t-1.14687096622598\t-2.96607686938533\t-2.35730539872183\t2.20851274706466\n",
      "TRIM25\t-0.162348747513502\t-1.0861920965731\t0.494584569055341\t0.429221474663278\t0.987912571102399\t0.492287783426889\t-0.638746417985062\t0.212610194009766\t-0.486521069936933\t-0.336537885406723\t0.283028017032059\t-0.544323440845164\t-0.291634655792726\t-1.41350051963657\t0.81600084676265\t0.219389782548962\t-0.126268674257765\t-0.243350068672074\t0.557434888663257\t0.318113214180341\t-0.875704133386715\t0.0369649681208314\t-0.137365887411963\t0.58644616612035\t-1.50729147675686\t1.87187513232797\t0.364321401692887\t0.979889238801962\t0.364339620815113\t-2.16143814119202\t0.373129662501338\t0.0808751930909936\t0.239402833443955\t-0.0814362025972418\t0.458999586131858\t-1.6077578369935\t-3.34165936718216\t0.0667715777536796\t1.31238708937396\t0.251623445338572\t-0.917281868427212\t0.104721975146901\t-1.21700382391335\t0.373221766760366\t-1.05217523861629\t-0.94568761574749\t1.10871081109972\t1.60440331123286\t0.93251098482406\t0.556399490199405\t1.81037620202875\t-0.317484343403035\t0.38927604717384\t-1.41013105261805\t0.519563553235934\t-0.14224387778612\t0.10636533107053\t0.144552934456832\t0.426995178049242\t0.582326335199712\t-1.05308176117261\t-0.733831537184404\t-0.0253605775262543\n",
      "TXNL1\t0.248453241324288\t0.078385297453439\t1.73773804102071\t0.326055855063101\t0.128169907624846\t-0.488279195300797\t-0.835237855999406\t1.15593320946207\t-0.0737560286128033\t-0.0796223982479374\t0.153838072255802\t-0.360281310529993\t0.212858059140974\t0.485402278732657\t-0.617629479080443\t0.0957216811229234\t0.669927998451802\t-0.524587421758247\t0.681983472859959\t0.411297933632006\t0.135947624018092\t0.486805660481599\t0.879813321763428\t-0.294349431031704\t0.478462570910875\t-0.66074216615487\t0.350531575833979\t0.565009061054436\t0.244966883294689\t-1.84167333622029\t-0.0804468969078863\t-0.438339754280328\t0.530673507214425\t1.67059741777858\t0.255605855986614\t-0.760799342929777\t-2.70809896644721\t0.504751629080399\t0.410617609699093\t-0.54472715232663\t0.215915788143269\t0.14582134055563\t0.306336193747229\t-0.186040057088801\t0.0089719317424089\t0.903274202329418\t0.122203478927518\t0.305628004945396\t0.0626058068188002\t1.25992269971425\t0.709962284962584\t-0.233366534942273\t-0.238484254355449\t-0.2895404492516\t0.121999158452194\t-0.181082344333516\t-0.80491500044649\t-0.741020720738163\t-0.203175375152635\t0.657140585792007\t-0.0618396377931526\t-0.242200825413311\t-2.68054472602966\n",
      "UBAP2L\t1.01816644146246\t0.3707900111051265\t-0.2199218340841315\t-0.9432858370763386\t0.2656287637041055\t-0.0206058668542185\t-0.51452769280358\t1.24139481292621\t-0.9690492168369726\t1.029694860259375\t-0.484147887906398\t-0.12818373507697\t-1.738975036136054\t0.0479170567168975\t-0.0026422645365364\t0.0427210662260499\t-1.2105302922178445\t-0.3986419984196565\t-1.0864467450611657\t0.0473738265842892\t-0.1373421872239649\t0.3620451559596695\t0.7925486174910095\t-0.48498738219612\t-0.2801022180963275\t0.2753241195253895\t-0.4691969613344155\t0.073197459618627\t-0.2495773150042103\t-2.311915696472835\t-0.8364078292565955\t-0.3471798780242945\t0.076137955777878\t0.3204862827588585\t0.6119948698694305\t0.0474709236273334\t-3.529975707492775\t0.0945690732713194\t0.7079223015409015\t0.2090703599671499\t0.0033158738132324\t1.892544370426605\t-1.4262538263392506\t-0.0563253374888045\t-0.7189603399655895\t-0.1346741824662706\t-0.0511333046734945\t-0.0224208669067775\t-0.4588758118262623\t0.0958195472796159\t-0.0223082900193997\t1.4336954872801064\t-0.886549471298082\t0.1749148666173849\t1.1290824596965474\t0.3848495967856855\t-1.530620032664515\t-0.6535433230908525\t0.3681465660770825\t-0.071945460074415\t-1.0724978440016917\t0.0210947335574309\t-1.056646138257089\n",
      "USP36\t0.864656224580974\t-1.7491441628695934\t0.0991951361523937\t-0.0147952606747404\t-0.427913646513979\t-0.1955371118456869\t-0.2920632486149265\t1.229495095988162\t-0.5998861164977835\t0.6104645498181029\t-0.3390304156919744\t-0.5371662468884625\t-0.2085779283341275\t-1.2847858592749088\t2.548415810608555\t-0.8472475922506175\t0.510441397862463\t-0.5258101928586216\t0.1382809995397404\t-0.808918189998573\t1.3993136812511096\t0.3989461502548865\t-0.4155221322803014\t-0.615296867802178\t-0.350339698559955\t1.163562200827827\t-0.2278750088035329\t1.5417633868110274\t0.0940456365724385\t-2.7727532095203253\t-1.39741041589432\t-0.130179737806125\t-0.258823319058164\t0.148767078489068\t1.94035392161447\t-0.227529180000765\t-2.81612539422229\t-0.485110406425809\t-0.273511695008708\t-1.88008349802986\t-1.022578995807656\t0.342665669618489\t-1.5204163274309044\t1.124929199196412\t-1.736046036122545\t1.69196616496987\t0.195493528369557\t-1.0632304694195815\t-0.361963298626738\t0.000919833765923\t-0.6287407771617005\t0.038104574181095\t-0.9186989207025474\t-1.8893309816892256\t0.0214105766394403\t-1.0660445463777566\t0.1312595785374704\t-1.5823156931734104\t0.476035688026042\t-0.036655719228993\t0.0556787582776075\t0.8131664358552979\t0.3890055624755845\n",
      "WDR13\t1.72950251687106\t0.0204085007811221\t1.74650499075248\t0.291667315196375\t1.63022031678185\t-0.619180126927065\t-0.476132814111122\t-0.0102390504663508\t0.798282791086062\t1.67895415338933\t0.176844500777601\t-0.29893393375827\t1.06803473445542\t-2.77151249805904\t-0.221036416978054\t0.879689109805844\t1.12242486524016\t0.783777655642643\t0.147063271502328\t-1.666469459547\t-2.20619400390725\t0.940160733251435\t1.20978298479351\t1.32004030731\t-2.3861028323178\t-0.13235438445701\t1.7632226249354\t1.35355615385934\t0.316590525806943\t-1.34556764615385\t1.38373006679909\t1.03805389377935\t-1.35492085456283\t0.0877943175526951\t0.478798975792014\t-0.744069298602593\t-2.54751914137613\t-0.411887735306172\t-0.627484960709864\t0.446151835607934\t-2.66822267229629\t-0.444711646632948\t-0.384188814258252\t-0.936684254118292\t0.198069091858232\t-1.40141764132983\t-1.25983745340807\t0.597889727140968\t-0.31119960123651\t0.475418401334387\t1.78360214078626\t0.516046667708155\t-1.18266282107605\t-0.284625578184203\t-0.651574935012553\t0.0880127453163004\t0.39151762023728\t0.857331730101585\t0.336270234592163\t1.23730392529075\t0.308087835055675\t-0.202870368471624\t-0.624918288478636\n",
      "YBX1\t1.47221074491476\t-2.21799999682833\t-1.0115773948632\t-1.01105148916665\t0.328110061921951\t0.178125547523844\t-1.77930016737867\t-1.30838998916218\t-0.213282239764622\t1.49771919733158\t1.41742191568385\t-1.58927375852352\t-0.626937740718173\t0.828159295650789\t-0.0093414716666444\t0.466725985401038\t0.768834417421934\t-1.93077418718911\t-0.252130908615307\t-0.336698327912436\t0.874309570180842\t0.476262519254393\t-0.276444009846131\t0.349958581131579\t0.840326070259494\t-0.0184777073669546\t0.90825342168313\t0.482582535674133\t0.90151693965702\t-3.57686764555218\t-0.935876372986688\t0.22356021679609\t-0.0702638828804391\t0.102726422271807\t1.02238221918904\t-0.194069091346396\t-5.13139450842882\t-0.197643623511677\t1.54398908688609\t-3.91857892106088\t-0.999513910762415\t1.74653346700086\t-0.951256320832449\t1.78519838666853\t-1.91504577506713\t1.14881037937786\t0.161756838943856\t0.509912984235158\t1.13787321517543\t0.472887742307355\t-0.342258321867104\t-0.837485341160475\t-0.917006844418103\t-1.81315048014458\t1.34582690384069\t-0.955077499099482\t-2.32270972479437\t-1.41276073723973\t1.16750687869892\t-0.607643726107924\t-0.0066570865947087\t0.609959074989915\t-0.0948074166327078\n",
      "ZNF687\t0.2703446630978806\t0.5254998326600562\t1.5036604831823763\t0.0785089394048317\t0.3031175426348129\t0.4342748705470649\t-0.2361648222832596\t1.5740459909670126\t-0.9210870817535328\t0.4058283769067445\t0.4263757639755766\t-0.9819347284834604\t-0.414681659435091\t-0.1397315633047381\t0.2924578095447177\t-0.4836964994423754\t-0.5599115049299399\t0.069373640248746\t0.4348822753671432\t-0.4657717568826461\t0.0011006776815519\t0.2418972757246384\t0.242712805024553\t-0.0759603857104418\t0.2511740841305686\t-1.0493463267246868\t0.6150280968221914\t0.3623771861611906\t-0.3401726961581031\t-1.560115723019076\t-0.0769654978773332\t-0.831466720634473\t0.4488494429381154\t-0.1800503108463777\t0.6788178099724587\t-0.5106328988498438\t-2.528176571538028\t-0.0959454691788479\t1.2041829646497697\t-0.4401174841218824\t-0.3642212422337428\t0.932928266245168\t-0.9094063203472682\t0.3272368354267603\t-0.9516600005935568\t0.8186386261498404\t-0.3812293606922015\t-0.2091850541771625\t-0.5122353801057632\t-1.219806814398545\t-0.4165563418150017\t0.7926158258291476\t-0.7632394120691164\t0.4246517527294832\t0.1749877863714117\t-0.506007729645214\t-0.2157511437289459\t-0.8095986806221657\t-0.0845586416462505\t1.1778407119662109\t-0.0132994307204471\t-0.7849065055739555\t-0.7994034717335989\n"
     ]
    }
   ],
   "source": [
    "_df = df.reset_index()\n",
    "print(\"\\t\".join(map(str, list(_df.columns))))\n",
    "for index, row in df.iterrows():\n",
    "    print(\"\\t\".join(map(str, list(row))))\n"
   ],
   "metadata": {
    "collapsed": false,
    "pycharm": {
     "name": "#%%\n"
    }
   }
  },
  {
   "cell_type": "code",
   "execution_count": 337,
   "outputs": [
    {
     "data": {
      "text/plain": "                 NAME  AO-A12D.01TCGA  C8-A131.01TCGA  AO-A12B.01TCGA  \\\nGID                                                                     \nNP_055726        AAK1        0.348837        0.731615        0.922412   \nNP_001012768     ABI1        1.037625        1.207672        1.804367   \nNP_004292      ACTL6A       -0.140728       -0.309807        0.945206   \nNP_071921       AKTIP       -0.106134        0.290127        1.280103   \nNP_115593     ANKRD17        2.310571        0.569928       -0.776623   \n...               ...             ...             ...             ...   \nNP_001120792   UBAP2L        1.018166        0.370790       -0.219922   \nNP_079366       USP36        0.864656       -1.749144        0.099195   \nNP_060353       WDR13        1.729503        0.020409        1.746505   \nNP_004550        YBX1        1.472211       -2.218000       -1.011577   \nNP_065883      ZNF687        0.270345        0.525500        1.503660   \n\n              BH-A18Q.02TCGA  C8-A130.02TCGA  C8-A138.03TCGA  E2-A154.03TCGA  \\\nGID                                                                            \nNP_055726           0.319409        0.104248       -0.079256       -0.690370   \nNP_001012768        0.360444       -0.141749        0.201926       -0.248022   \nNP_004292           2.114260        1.205347       -0.276458       -1.029471   \nNP_071921           0.386742        0.410585       -0.214577       -1.370508   \nNP_115593          -1.755968        1.297195       -1.124934       -3.425763   \n...                      ...             ...             ...             ...   \nNP_001120792       -0.943286        0.265629       -0.020606       -0.514528   \nNP_079366          -0.014795       -0.427914       -0.195537       -0.292063   \nNP_060353           0.291667        1.630220       -0.619180       -0.476133   \nNP_004550          -1.011051        0.328110        0.178126       -1.779300   \nNP_065883           0.078509        0.303118        0.434275       -0.236165   \n\n              C8-A12L.04TCGA  A2-A0EX.04TCGA  ...  C8-A131.32TCGA  \\\nGID                                           ...                   \nNP_055726           0.011706       -0.269342  ...        0.292170   \nNP_001012768        0.863849        0.626782  ...        1.155432   \nNP_004292           2.666115       -0.783014  ...        0.155255   \nNP_071921           1.006646       -0.937074  ...        0.302702   \nNP_115593           0.598810       -1.860709  ...        0.329119   \n...                      ...             ...  ...             ...   \nNP_001120792        1.241395       -0.969049  ...        0.174915   \nNP_079366           1.229495       -0.599886  ...       -1.889331   \nNP_060353          -0.010239        0.798283  ...       -0.284626   \nNP_004550          -1.308390       -0.213282  ...       -1.813150   \nNP_065883           1.574046       -0.921087  ...        0.424652   \n\n              C8-A134.32TCGA  A2-A0YF.33TCGA  BH-A0DD.33TCGA  BH-A0E9.33TCGA  \\\nGID                                                                            \nNP_055726           0.710134       -0.230225       -0.161544        0.708913   \nNP_001012768       -0.268380        0.626203        0.006788        0.282789   \nNP_004292           0.416580        0.332140        0.562005        0.557101   \nNP_071921           0.965027       -0.955077        1.367674       -0.419190   \nNP_115593           1.254219       -2.142425       -1.977585       -1.710292   \n...                      ...             ...             ...             ...   \nNP_001120792        1.129082        0.384850       -1.530620       -0.653543   \nNP_079366           0.021411       -1.066045        0.131260       -1.582316   \nNP_060353          -0.651575        0.088013        0.391518        0.857332   \nNP_004550           1.345827       -0.955077       -2.322710       -1.412761   \nNP_065883           0.174988       -0.506008       -0.215751       -0.809599   \n\n              AR-A0TT.34TCGA  AO-A12B.34TCGA  263d3f-I.CPTAC  blcdb9-I.CPTAC  \\\nGID                                                                            \nNP_055726          -0.001759        0.570832       -0.779213       -0.692628   \nNP_001012768        1.172411        1.532326       -0.317314        0.633994   \nNP_004292          -0.159039        0.902757       -0.732205       -2.064512   \nNP_071921          -1.014796        0.429875        0.169110        1.798613   \nNP_115593          -0.714423       -1.055471       -1.325418        1.290594   \n...                      ...             ...             ...             ...   \nNP_001120792        0.368147       -0.071945       -1.072498        0.021095   \nNP_079366           0.476036       -0.036656        0.055679        0.813166   \nNP_060353           0.336270        1.237304        0.308088       -0.202870   \nNP_004550           1.167507       -0.607644       -0.006657        0.609959   \nNP_065883          -0.084559        1.177841       -0.013299       -0.784907   \n\n              c4155b-C.CPTAC  \nGID                           \nNP_055726          -0.554810  \nNP_001012768       -0.055454  \nNP_004292          -0.236016  \nNP_071921           0.569567  \nNP_115593          -0.892289  \n...                      ...  \nNP_001120792       -1.056646  \nNP_079366           0.389006  \nNP_060353          -0.624918  \nNP_004550          -0.094807  \nNP_065883          -0.799403  \n\n[75 rows x 64 columns]",
      "text/html": "<div>\n<style scoped>\n    .dataframe tbody tr th:only-of-type {\n        vertical-align: middle;\n    }\n\n    .dataframe tbody tr th {\n        vertical-align: top;\n    }\n\n    .dataframe thead th {\n        text-align: right;\n    }\n</style>\n<table border=\"1\" class=\"dataframe\">\n  <thead>\n    <tr style=\"text-align: right;\">\n      <th></th>\n      <th>NAME</th>\n      <th>AO-A12D.01TCGA</th>\n      <th>C8-A131.01TCGA</th>\n      <th>AO-A12B.01TCGA</th>\n      <th>BH-A18Q.02TCGA</th>\n      <th>C8-A130.02TCGA</th>\n      <th>C8-A138.03TCGA</th>\n      <th>E2-A154.03TCGA</th>\n      <th>C8-A12L.04TCGA</th>\n      <th>A2-A0EX.04TCGA</th>\n      <th>...</th>\n      <th>C8-A131.32TCGA</th>\n      <th>C8-A134.32TCGA</th>\n      <th>A2-A0YF.33TCGA</th>\n      <th>BH-A0DD.33TCGA</th>\n      <th>BH-A0E9.33TCGA</th>\n      <th>AR-A0TT.34TCGA</th>\n      <th>AO-A12B.34TCGA</th>\n      <th>263d3f-I.CPTAC</th>\n      <th>blcdb9-I.CPTAC</th>\n      <th>c4155b-C.CPTAC</th>\n    </tr>\n    <tr>\n      <th>GID</th>\n      <th></th>\n      <th></th>\n      <th></th>\n      <th></th>\n      <th></th>\n      <th></th>\n      <th></th>\n      <th></th>\n      <th></th>\n      <th></th>\n      <th></th>\n      <th></th>\n      <th></th>\n      <th></th>\n      <th></th>\n      <th></th>\n      <th></th>\n      <th></th>\n      <th></th>\n      <th></th>\n      <th></th>\n    </tr>\n  </thead>\n  <tbody>\n    <tr>\n      <th>NP_055726</th>\n      <td>AAK1</td>\n      <td>0.348837</td>\n      <td>0.731615</td>\n      <td>0.922412</td>\n      <td>0.319409</td>\n      <td>0.104248</td>\n      <td>-0.079256</td>\n      <td>-0.690370</td>\n      <td>0.011706</td>\n      <td>-0.269342</td>\n      <td>...</td>\n      <td>0.292170</td>\n      <td>0.710134</td>\n      <td>-0.230225</td>\n      <td>-0.161544</td>\n      <td>0.708913</td>\n      <td>-0.001759</td>\n      <td>0.570832</td>\n      <td>-0.779213</td>\n      <td>-0.692628</td>\n      <td>-0.554810</td>\n    </tr>\n    <tr>\n      <th>NP_001012768</th>\n      <td>ABI1</td>\n      <td>1.037625</td>\n      <td>1.207672</td>\n      <td>1.804367</td>\n      <td>0.360444</td>\n      <td>-0.141749</td>\n      <td>0.201926</td>\n      <td>-0.248022</td>\n      <td>0.863849</td>\n      <td>0.626782</td>\n      <td>...</td>\n      <td>1.155432</td>\n      <td>-0.268380</td>\n      <td>0.626203</td>\n      <td>0.006788</td>\n      <td>0.282789</td>\n      <td>1.172411</td>\n      <td>1.532326</td>\n      <td>-0.317314</td>\n      <td>0.633994</td>\n      <td>-0.055454</td>\n    </tr>\n    <tr>\n      <th>NP_004292</th>\n      <td>ACTL6A</td>\n      <td>-0.140728</td>\n      <td>-0.309807</td>\n      <td>0.945206</td>\n      <td>2.114260</td>\n      <td>1.205347</td>\n      <td>-0.276458</td>\n      <td>-1.029471</td>\n      <td>2.666115</td>\n      <td>-0.783014</td>\n      <td>...</td>\n      <td>0.155255</td>\n      <td>0.416580</td>\n      <td>0.332140</td>\n      <td>0.562005</td>\n      <td>0.557101</td>\n      <td>-0.159039</td>\n      <td>0.902757</td>\n      <td>-0.732205</td>\n      <td>-2.064512</td>\n      <td>-0.236016</td>\n    </tr>\n    <tr>\n      <th>NP_071921</th>\n      <td>AKTIP</td>\n      <td>-0.106134</td>\n      <td>0.290127</td>\n      <td>1.280103</td>\n      <td>0.386742</td>\n      <td>0.410585</td>\n      <td>-0.214577</td>\n      <td>-1.370508</td>\n      <td>1.006646</td>\n      <td>-0.937074</td>\n      <td>...</td>\n      <td>0.302702</td>\n      <td>0.965027</td>\n      <td>-0.955077</td>\n      <td>1.367674</td>\n      <td>-0.419190</td>\n      <td>-1.014796</td>\n      <td>0.429875</td>\n      <td>0.169110</td>\n      <td>1.798613</td>\n      <td>0.569567</td>\n    </tr>\n    <tr>\n      <th>NP_115593</th>\n      <td>ANKRD17</td>\n      <td>2.310571</td>\n      <td>0.569928</td>\n      <td>-0.776623</td>\n      <td>-1.755968</td>\n      <td>1.297195</td>\n      <td>-1.124934</td>\n      <td>-3.425763</td>\n      <td>0.598810</td>\n      <td>-1.860709</td>\n      <td>...</td>\n      <td>0.329119</td>\n      <td>1.254219</td>\n      <td>-2.142425</td>\n      <td>-1.977585</td>\n      <td>-1.710292</td>\n      <td>-0.714423</td>\n      <td>-1.055471</td>\n      <td>-1.325418</td>\n      <td>1.290594</td>\n      <td>-0.892289</td>\n    </tr>\n    <tr>\n      <th>...</th>\n      <td>...</td>\n      <td>...</td>\n      <td>...</td>\n      <td>...</td>\n      <td>...</td>\n      <td>...</td>\n      <td>...</td>\n      <td>...</td>\n      <td>...</td>\n      <td>...</td>\n      <td>...</td>\n      <td>...</td>\n      <td>...</td>\n      <td>...</td>\n      <td>...</td>\n      <td>...</td>\n      <td>...</td>\n      <td>...</td>\n      <td>...</td>\n      <td>...</td>\n      <td>...</td>\n    </tr>\n    <tr>\n      <th>NP_001120792</th>\n      <td>UBAP2L</td>\n      <td>1.018166</td>\n      <td>0.370790</td>\n      <td>-0.219922</td>\n      <td>-0.943286</td>\n      <td>0.265629</td>\n      <td>-0.020606</td>\n      <td>-0.514528</td>\n      <td>1.241395</td>\n      <td>-0.969049</td>\n      <td>...</td>\n      <td>0.174915</td>\n      <td>1.129082</td>\n      <td>0.384850</td>\n      <td>-1.530620</td>\n      <td>-0.653543</td>\n      <td>0.368147</td>\n      <td>-0.071945</td>\n      <td>-1.072498</td>\n      <td>0.021095</td>\n      <td>-1.056646</td>\n    </tr>\n    <tr>\n      <th>NP_079366</th>\n      <td>USP36</td>\n      <td>0.864656</td>\n      <td>-1.749144</td>\n      <td>0.099195</td>\n      <td>-0.014795</td>\n      <td>-0.427914</td>\n      <td>-0.195537</td>\n      <td>-0.292063</td>\n      <td>1.229495</td>\n      <td>-0.599886</td>\n      <td>...</td>\n      <td>-1.889331</td>\n      <td>0.021411</td>\n      <td>-1.066045</td>\n      <td>0.131260</td>\n      <td>-1.582316</td>\n      <td>0.476036</td>\n      <td>-0.036656</td>\n      <td>0.055679</td>\n      <td>0.813166</td>\n      <td>0.389006</td>\n    </tr>\n    <tr>\n      <th>NP_060353</th>\n      <td>WDR13</td>\n      <td>1.729503</td>\n      <td>0.020409</td>\n      <td>1.746505</td>\n      <td>0.291667</td>\n      <td>1.630220</td>\n      <td>-0.619180</td>\n      <td>-0.476133</td>\n      <td>-0.010239</td>\n      <td>0.798283</td>\n      <td>...</td>\n      <td>-0.284626</td>\n      <td>-0.651575</td>\n      <td>0.088013</td>\n      <td>0.391518</td>\n      <td>0.857332</td>\n      <td>0.336270</td>\n      <td>1.237304</td>\n      <td>0.308088</td>\n      <td>-0.202870</td>\n      <td>-0.624918</td>\n    </tr>\n    <tr>\n      <th>NP_004550</th>\n      <td>YBX1</td>\n      <td>1.472211</td>\n      <td>-2.218000</td>\n      <td>-1.011577</td>\n      <td>-1.011051</td>\n      <td>0.328110</td>\n      <td>0.178126</td>\n      <td>-1.779300</td>\n      <td>-1.308390</td>\n      <td>-0.213282</td>\n      <td>...</td>\n      <td>-1.813150</td>\n      <td>1.345827</td>\n      <td>-0.955077</td>\n      <td>-2.322710</td>\n      <td>-1.412761</td>\n      <td>1.167507</td>\n      <td>-0.607644</td>\n      <td>-0.006657</td>\n      <td>0.609959</td>\n      <td>-0.094807</td>\n    </tr>\n    <tr>\n      <th>NP_065883</th>\n      <td>ZNF687</td>\n      <td>0.270345</td>\n      <td>0.525500</td>\n      <td>1.503660</td>\n      <td>0.078509</td>\n      <td>0.303118</td>\n      <td>0.434275</td>\n      <td>-0.236165</td>\n      <td>1.574046</td>\n      <td>-0.921087</td>\n      <td>...</td>\n      <td>0.424652</td>\n      <td>0.174988</td>\n      <td>-0.506008</td>\n      <td>-0.215751</td>\n      <td>-0.809599</td>\n      <td>-0.084559</td>\n      <td>1.177841</td>\n      <td>-0.013299</td>\n      <td>-0.784907</td>\n      <td>-0.799403</td>\n    </tr>\n  </tbody>\n</table>\n<p>75 rows × 64 columns</p>\n</div>"
     },
     "execution_count": 337,
     "metadata": {},
     "output_type": "execute_result"
    }
   ],
   "source": [
    "df"
   ],
   "metadata": {
    "collapsed": false,
    "pycharm": {
     "name": "#%%\n"
    }
   }
  },
  {
   "cell_type": "code",
   "execution_count": 352,
   "outputs": [],
   "source": [
    "def text_to_gct_file(df, num_samples: int, num_features: int, filename: str=\"GCT_FILE.gct\"):\n",
    "    df = df.reset_index()\n",
    "    array = [\"\\t\".join(map(str, list(df.columns)))]\n",
    "    for index, row in df.iterrows():\n",
    "        array.append(\"\\t\".join(map(str, list(row))))\n",
    "    lines = [\"#1.2\", f\"{num_features}\\t{num_samples}\\t1\", array]\n",
    "    with open(filename, 'w') as f:\n",
    "        for line in lines:\n",
    "            if isinstance(line, str):\n",
    "                f.write(line)\n",
    "                f.write(\"\\n\")\n",
    "            elif isinstance(line, list):\n",
    "                for i in range(len(line)):\n",
    "                    f.write(line[i])\n",
    "                    f.write(\"\\n\")\n",
    "    return f\"file saved as {filename}\""
   ],
   "metadata": {
    "collapsed": false,
    "pycharm": {
     "name": "#%%\n"
    }
   }
  },
  {
   "cell_type": "code",
   "execution_count": 353,
   "outputs": [
    {
     "name": "stdout",
     "output_type": "stream",
     "text": [
      "file saved as GCT_CLUSTER.gct\n"
     ]
    }
   ],
   "source": [
    "print(text_to_gct_file(df, 63, 75,\"GCT_CLUSTER.gct\"))"
   ],
   "metadata": {
    "collapsed": false,
    "pycharm": {
     "name": "#%%\n"
    }
   }
  },
  {
   "cell_type": "code",
   "execution_count": 355,
   "outputs": [
    {
     "name": "stdout",
     "output_type": "stream",
     "text": [
      "AO-A12D.01TCGA    1.981029\n",
      "C8-A131.01TCGA    0.120397\n",
      "AO-A12B.01TCGA   -0.188653\n",
      "BH-A18Q.02TCGA    0.311896\n",
      "C8-A130.02TCGA    0.956255\n",
      "                    ...   \n",
      "AR-A0TT.34TCGA   -1.886900\n",
      "AO-A12B.34TCGA   -0.522007\n",
      "263d3f-I.CPTAC   -2.302524\n",
      "blcdb9-I.CPTAC    1.250172\n",
      "c4155b-C.CPTAC   -0.802394\n",
      "Name: NP_006658, Length: 63, dtype: float64\n"
     ]
    }
   ],
   "source": [
    "cls_dict = helper.get_samples_UpDown_regulating(df, target_index=\"NP_006658\", save_to_csv=False, return_dict=True, drop_col=\"NAME\")"
   ],
   "metadata": {
    "collapsed": false,
    "pycharm": {
     "name": "#%%\n"
    }
   }
  },
  {
   "cell_type": "code",
   "execution_count": 359,
   "outputs": [
    {
     "data": {
      "text/plain": "'file saved as PGRMC1_UP_DOWN.cls'"
     },
     "execution_count": 359,
     "metadata": {},
     "output_type": "execute_result"
    }
   ],
   "source": [
    "helper.text_to_cls_file(\"# PGRMC1_UP PGRMC1_DOWN\", list(cls_dict.values()), num_cat=2, num_samples=63, filename=\"PGRMC1_UP_DOWN.cls\")"
   ],
   "metadata": {
    "collapsed": false,
    "pycharm": {
     "name": "#%%\n"
    }
   }
  },
  {
   "cell_type": "code",
   "execution_count": 361,
   "outputs": [
    {
     "data": {
      "text/plain": "'file saved as PGRMC1_UP_DOWN.cls'"
     },
     "execution_count": 361,
     "metadata": {},
     "output_type": "execute_result"
    }
   ],
   "source": [
    "importlib.reload(helper_functions)\n",
    "import helper_functions as helper\n",
    "\n",
    "helper.text_to_cls_file(\"# PGRMC1_UP PGRMC1_DOWN\", list(cls_dict.values()), num_cat=2, num_samples=63, filename=\"PGRMC1_UP_DOWN.cls\")"
   ],
   "metadata": {
    "collapsed": false,
    "pycharm": {
     "name": "#%%\n"
    }
   }
  },
  {
   "cell_type": "code",
   "execution_count": null,
   "outputs": [],
   "source": [],
   "metadata": {
    "collapsed": false,
    "pycharm": {
     "name": "#%%\n"
    }
   }
  }
 ],
 "metadata": {
  "kernelspec": {
   "display_name": "Python 3",
   "language": "python",
   "name": "python3"
  },
  "language_info": {
   "codemirror_mode": {
    "name": "ipython",
    "version": 2
   },
   "file_extension": ".py",
   "mimetype": "text/x-python",
   "name": "python",
   "nbconvert_exporter": "python",
   "pygments_lexer": "ipython2",
   "version": "2.7.6"
  }
 },
 "nbformat": 4,
 "nbformat_minor": 0
}