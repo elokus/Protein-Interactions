{
 "cells": [
  {
   "cell_type": "code",
   "execution_count": 3,
   "metadata": {
    "collapsed": true,
    "pycharm": {
     "name": "#%%\n"
    }
   },
   "outputs": [
    {
     "data": {
      "text/plain": "     timepoint   substance   dose expression  rep  viability\n0           24  exemestane  200.0     PGRMC1    1   0.567975\n1           24  exemestane  200.0     PGRMC1    1   0.537834\n2           24  exemestane  200.0     PGRMC1    1   0.500785\n3           24  exemestane  200.0     PGRMC1    2   0.274050\n4           24  exemestane  200.0     PGRMC1    2   0.449304\n..         ...         ...    ...        ...  ...        ...\n535         72   tamoxifen   12.5        EVC    2   1.145365\n536         72   tamoxifen   12.5        EVC    2   0.934100\n537         72   tamoxifen   12.5        EVC    3   0.608347\n538         72   tamoxifen   12.5        EVC    3   0.817324\n539         72   tamoxifen   12.5        EVC    3   0.732488\n\n[540 rows x 6 columns]",
      "text/html": "<div>\n<style scoped>\n    .dataframe tbody tr th:only-of-type {\n        vertical-align: middle;\n    }\n\n    .dataframe tbody tr th {\n        vertical-align: top;\n    }\n\n    .dataframe thead th {\n        text-align: right;\n    }\n</style>\n<table border=\"1\" class=\"dataframe\">\n  <thead>\n    <tr style=\"text-align: right;\">\n      <th></th>\n      <th>timepoint</th>\n      <th>substance</th>\n      <th>dose</th>\n      <th>expression</th>\n      <th>rep</th>\n      <th>viability</th>\n    </tr>\n  </thead>\n  <tbody>\n    <tr>\n      <th>0</th>\n      <td>24</td>\n      <td>exemestane</td>\n      <td>200.0</td>\n      <td>PGRMC1</td>\n      <td>1</td>\n      <td>0.567975</td>\n    </tr>\n    <tr>\n      <th>1</th>\n      <td>24</td>\n      <td>exemestane</td>\n      <td>200.0</td>\n      <td>PGRMC1</td>\n      <td>1</td>\n      <td>0.537834</td>\n    </tr>\n    <tr>\n      <th>2</th>\n      <td>24</td>\n      <td>exemestane</td>\n      <td>200.0</td>\n      <td>PGRMC1</td>\n      <td>1</td>\n      <td>0.500785</td>\n    </tr>\n    <tr>\n      <th>3</th>\n      <td>24</td>\n      <td>exemestane</td>\n      <td>200.0</td>\n      <td>PGRMC1</td>\n      <td>2</td>\n      <td>0.274050</td>\n    </tr>\n    <tr>\n      <th>4</th>\n      <td>24</td>\n      <td>exemestane</td>\n      <td>200.0</td>\n      <td>PGRMC1</td>\n      <td>2</td>\n      <td>0.449304</td>\n    </tr>\n    <tr>\n      <th>...</th>\n      <td>...</td>\n      <td>...</td>\n      <td>...</td>\n      <td>...</td>\n      <td>...</td>\n      <td>...</td>\n    </tr>\n    <tr>\n      <th>535</th>\n      <td>72</td>\n      <td>tamoxifen</td>\n      <td>12.5</td>\n      <td>EVC</td>\n      <td>2</td>\n      <td>1.145365</td>\n    </tr>\n    <tr>\n      <th>536</th>\n      <td>72</td>\n      <td>tamoxifen</td>\n      <td>12.5</td>\n      <td>EVC</td>\n      <td>2</td>\n      <td>0.934100</td>\n    </tr>\n    <tr>\n      <th>537</th>\n      <td>72</td>\n      <td>tamoxifen</td>\n      <td>12.5</td>\n      <td>EVC</td>\n      <td>3</td>\n      <td>0.608347</td>\n    </tr>\n    <tr>\n      <th>538</th>\n      <td>72</td>\n      <td>tamoxifen</td>\n      <td>12.5</td>\n      <td>EVC</td>\n      <td>3</td>\n      <td>0.817324</td>\n    </tr>\n    <tr>\n      <th>539</th>\n      <td>72</td>\n      <td>tamoxifen</td>\n      <td>12.5</td>\n      <td>EVC</td>\n      <td>3</td>\n      <td>0.732488</td>\n    </tr>\n  </tbody>\n</table>\n<p>540 rows × 6 columns</p>\n</div>"
     },
     "execution_count": 3,
     "metadata": {},
     "output_type": "execute_result"
    }
   ],
   "source": [
    "import pandas as pd\n",
    "import numpy as np\n",
    "import csv\n",
    "import matplotlib.pyplot as plt\n",
    "from scipy import stats\n",
    "import seaborn as sns\n",
    "import sklearn\n",
    "import math\n",
    "from scipy.stats import kstest\n",
    "\n",
    "data_ha_path = '/Users/hannahasperger/PycharmProjects/pythonProject2/diss_stat_2.csv'\n",
    "from scipy.stats import shapiro\n",
    "df_orig = pd.read_excel('data/diss_stats/diss_stat_2.xlsx')\n",
    "\n",
    "df = df_orig.copy()\n",
    "df"
   ]
  },
  {
   "cell_type": "code",
   "execution_count": 41,
   "outputs": [],
   "source": [
    "drug_data = ShapiroAggregator('data/diss_stats/diss_stat_2.xlsx')"
   ],
   "metadata": {
    "collapsed": false,
    "pycharm": {
     "name": "#%%\n"
    }
   }
  },
  {
   "cell_type": "code",
   "execution_count": 34,
   "outputs": [
    {
     "data": {
      "text/plain": "                            shapiro_stat  shapiro_pval  kstest_stat  \\\nPGRMC1 exemestane 200.0 24      0.984089      0.981972     0.607977   \n                  100.0 24      0.912268      0.332072     0.671274   \n                  50.0  24      0.830834      0.045627     0.745182   \n                  25.0  24      0.788773      0.015191     0.781335   \n                  12.5  24      0.959188      0.789779     0.812030   \n                  200.0 48      0.902140      0.264665     0.566576   \n                  100.0 48      0.872676      0.131327     0.701622   \n                  50.0  48      0.859237      0.094068     0.760328   \n                  25.0  48      0.871216      0.126696     0.790064   \n                  12.5  48      0.873642      0.134478     0.809401   \n                  200.0 72      0.776201      0.010890     0.531320   \n                  100.0 72      0.733456      0.003483     0.685605   \n                  50.0  72      0.899376      0.248406     0.752677   \n                  25.0  72      0.844107      0.064149     0.808096   \n                  12.5  72      0.784260      0.013482     0.837041   \nEVC    exemestane 200.0 24      0.848743      0.072182     0.724085   \n                  100.0 24      0.908995      0.308907     0.768601   \n                  50.0  24      0.761016      0.007273     0.806370   \n                  25.0  24      0.718498      0.002333     0.817061   \n                  12.5  24      0.826435      0.040722     0.823419   \n                  200.0 48      0.716954      0.002238     0.570715   \n                  100.0 48      0.754346      0.006088     0.731886   \n                  50.0  48      0.838327      0.055331     0.774826   \n                  25.0  48      0.809641      0.026297     0.754873   \n                  12.5  48      0.808497      0.025522     0.826298   \n                  200.0 72      0.676482      0.000754     0.531290   \n                  100.0 72      0.860431      0.096925     0.721450   \n                  50.0  72      0.844010      0.063990     0.757572   \n                  25.0  72      0.870054      0.123119     0.796906   \n                  12.5  72      0.957129      0.767841     0.815759   \nPGRMC1 tamoxifen  200.0 24      0.728184      0.003025     0.530574   \n                  100.0 24      0.806681      0.024336     0.573973   \n                  50.0  24      0.793332      0.017133     0.726062   \n                  25.0  24      0.757413      0.006607     0.771069   \n                  12.5  24      0.931817      0.498835     0.791309   \n                  200.0 48      0.692764      0.001168     0.530902   \n                  100.0 48      0.839901      0.057609     0.531056   \n                  50.0  48      0.701953      0.001496     0.578294   \n                  25.0  48      0.875094      0.139347     0.740401   \n                  12.5  48      0.743618      0.004572     0.796790   \n                  200.0 72      0.703152      0.001545     0.522160   \n                  100.0 72      0.697513      0.001327     0.524116   \n                  50.0  72      0.829998      0.044653     0.532803   \n                  25.0  72      0.804315      0.022872     0.579160   \n                  12.5  72      0.794392      0.017618     0.751587   \nEVC    tamoxifen  200.0 24      0.733023      0.003443     0.548513   \n                  100.0 24      0.769532      0.009123     0.571699   \n                  50.0  24      0.922944      0.417169     0.747371   \n                  25.0  24      0.889951      0.199298     0.787915   \n                  12.5  24      0.897587      0.238344     0.776118   \n                  200.0 48      0.907085      0.296005     0.532397   \n                  100.0 48      0.875478      0.140660     0.538285   \n                  50.0  48      0.919883      0.391276     0.693253   \n                  25.0  48      0.742666      0.004457     0.728264   \n                  12.5  48      0.967483      0.872386     0.768936   \n                  200.0 72      0.905112      0.283145     0.523158   \n                  100.0 72      0.774434      0.010391     0.523778   \n                  50.0  72      0.808448      0.025489     0.545351   \n                  25.0  72      0.843610      0.063339     0.731300   \n                  12.5  72      0.888379      0.192000     0.728521   \n\n                             kstest_pval  \nPGRMC1 exemestane 200.0 24  1.013305e-03  \n                  100.0 24  1.571303e-04  \n                  50.0  24  1.150118e-05  \n                  25.0  24  2.537679e-06  \n                  12.5  24  6.037149e-07  \n                  200.0 48  2.948025e-03  \n                  100.0 48  5.728631e-05  \n                  50.0  48  6.240172e-06  \n                  25.0  48  1.713555e-06  \n                  12.5  48  6.871452e-07  \n                  200.0 72  6.741466e-03  \n                  100.0 72  9.854251e-05  \n                  50.0  72  8.530649e-06  \n                  25.0  72  7.323800e-07  \n                  12.5  72  1.628681e-07  \nEVC    exemestane 200.0 24  2.569175e-05  \n                  100.0 24  4.410747e-06  \n                  50.0  24  7.964148e-07  \n                  25.0  24  4.693870e-07  \n                  12.5  24  3.388335e-07  \n                  200.0 48  2.662092e-03  \n                  100.0 48  1.920379e-05  \n                  50.0  48  3.376091e-06  \n                  25.0  48  7.804887e-06  \n                  12.5  48  2.914317e-07  \n                  200.0 72  6.746045e-03  \n                  100.0 72  2.830171e-05  \n                  50.0  72  6.990322e-06  \n                  25.0  72  1.249215e-06  \n                  12.5  72  5.012254e-07  \nPGRMC1 tamoxifen  200.0 24  6.854942e-03  \n                  100.0 24  2.454864e-03  \n                  50.0  24  2.388084e-05  \n                  25.0  24  3.969685e-06  \n                  12.5  24  1.618723e-06  \n                  200.0 48  6.804888e-03  \n                  100.0 48  6.781397e-03  \n                  50.0  48  2.202515e-03  \n                  25.0  48  1.386418e-05  \n                  12.5  48  1.256012e-06  \n                  200.0 72  8.257661e-03  \n                  100.0 72  7.910678e-03  \n                  50.0  72  6.520711e-03  \n                  25.0  72  2.154869e-03  \n                  12.5  72  8.913548e-06  \nEVC    tamoxifen  200.0 24  4.546157e-03  \n                  100.0 24  2.597920e-03  \n                  50.0  24  1.054799e-05  \n                  25.0  24  1.889577e-06  \n                  12.5  24  3.191592e-06  \n                  200.0 48  6.580460e-03  \n                  100.0 48  5.759127e-03  \n                  50.0  48  7.627500e-05  \n                  25.0  48  2.200124e-05  \n                  12.5  48  4.348384e-06  \n                  200.0 72  8.078992e-03  \n                  100.0 72  7.969740e-03  \n                  50.0  72  4.894252e-03  \n                  25.0  72  1.963330e-05  \n                  12.5  72  2.179107e-05  ",
      "text/html": "<div>\n<style scoped>\n    .dataframe tbody tr th:only-of-type {\n        vertical-align: middle;\n    }\n\n    .dataframe tbody tr th {\n        vertical-align: top;\n    }\n\n    .dataframe thead th {\n        text-align: right;\n    }\n</style>\n<table border=\"1\" class=\"dataframe\">\n  <thead>\n    <tr style=\"text-align: right;\">\n      <th></th>\n      <th></th>\n      <th></th>\n      <th></th>\n      <th>shapiro_stat</th>\n      <th>shapiro_pval</th>\n      <th>kstest_stat</th>\n      <th>kstest_pval</th>\n    </tr>\n  </thead>\n  <tbody>\n    <tr>\n      <th rowspan=\"15\" valign=\"top\">PGRMC1</th>\n      <th rowspan=\"15\" valign=\"top\">exemestane</th>\n      <th>200.0</th>\n      <th>24</th>\n      <td>0.984089</td>\n      <td>0.981972</td>\n      <td>0.607977</td>\n      <td>1.013305e-03</td>\n    </tr>\n    <tr>\n      <th>100.0</th>\n      <th>24</th>\n      <td>0.912268</td>\n      <td>0.332072</td>\n      <td>0.671274</td>\n      <td>1.571303e-04</td>\n    </tr>\n    <tr>\n      <th>50.0</th>\n      <th>24</th>\n      <td>0.830834</td>\n      <td>0.045627</td>\n      <td>0.745182</td>\n      <td>1.150118e-05</td>\n    </tr>\n    <tr>\n      <th>25.0</th>\n      <th>24</th>\n      <td>0.788773</td>\n      <td>0.015191</td>\n      <td>0.781335</td>\n      <td>2.537679e-06</td>\n    </tr>\n    <tr>\n      <th>12.5</th>\n      <th>24</th>\n      <td>0.959188</td>\n      <td>0.789779</td>\n      <td>0.812030</td>\n      <td>6.037149e-07</td>\n    </tr>\n    <tr>\n      <th>200.0</th>\n      <th>48</th>\n      <td>0.902140</td>\n      <td>0.264665</td>\n      <td>0.566576</td>\n      <td>2.948025e-03</td>\n    </tr>\n    <tr>\n      <th>100.0</th>\n      <th>48</th>\n      <td>0.872676</td>\n      <td>0.131327</td>\n      <td>0.701622</td>\n      <td>5.728631e-05</td>\n    </tr>\n    <tr>\n      <th>50.0</th>\n      <th>48</th>\n      <td>0.859237</td>\n      <td>0.094068</td>\n      <td>0.760328</td>\n      <td>6.240172e-06</td>\n    </tr>\n    <tr>\n      <th>25.0</th>\n      <th>48</th>\n      <td>0.871216</td>\n      <td>0.126696</td>\n      <td>0.790064</td>\n      <td>1.713555e-06</td>\n    </tr>\n    <tr>\n      <th>12.5</th>\n      <th>48</th>\n      <td>0.873642</td>\n      <td>0.134478</td>\n      <td>0.809401</td>\n      <td>6.871452e-07</td>\n    </tr>\n    <tr>\n      <th>200.0</th>\n      <th>72</th>\n      <td>0.776201</td>\n      <td>0.010890</td>\n      <td>0.531320</td>\n      <td>6.741466e-03</td>\n    </tr>\n    <tr>\n      <th>100.0</th>\n      <th>72</th>\n      <td>0.733456</td>\n      <td>0.003483</td>\n      <td>0.685605</td>\n      <td>9.854251e-05</td>\n    </tr>\n    <tr>\n      <th>50.0</th>\n      <th>72</th>\n      <td>0.899376</td>\n      <td>0.248406</td>\n      <td>0.752677</td>\n      <td>8.530649e-06</td>\n    </tr>\n    <tr>\n      <th>25.0</th>\n      <th>72</th>\n      <td>0.844107</td>\n      <td>0.064149</td>\n      <td>0.808096</td>\n      <td>7.323800e-07</td>\n    </tr>\n    <tr>\n      <th>12.5</th>\n      <th>72</th>\n      <td>0.784260</td>\n      <td>0.013482</td>\n      <td>0.837041</td>\n      <td>1.628681e-07</td>\n    </tr>\n    <tr>\n      <th rowspan=\"15\" valign=\"top\">EVC</th>\n      <th rowspan=\"15\" valign=\"top\">exemestane</th>\n      <th>200.0</th>\n      <th>24</th>\n      <td>0.848743</td>\n      <td>0.072182</td>\n      <td>0.724085</td>\n      <td>2.569175e-05</td>\n    </tr>\n    <tr>\n      <th>100.0</th>\n      <th>24</th>\n      <td>0.908995</td>\n      <td>0.308907</td>\n      <td>0.768601</td>\n      <td>4.410747e-06</td>\n    </tr>\n    <tr>\n      <th>50.0</th>\n      <th>24</th>\n      <td>0.761016</td>\n      <td>0.007273</td>\n      <td>0.806370</td>\n      <td>7.964148e-07</td>\n    </tr>\n    <tr>\n      <th>25.0</th>\n      <th>24</th>\n      <td>0.718498</td>\n      <td>0.002333</td>\n      <td>0.817061</td>\n      <td>4.693870e-07</td>\n    </tr>\n    <tr>\n      <th>12.5</th>\n      <th>24</th>\n      <td>0.826435</td>\n      <td>0.040722</td>\n      <td>0.823419</td>\n      <td>3.388335e-07</td>\n    </tr>\n    <tr>\n      <th>200.0</th>\n      <th>48</th>\n      <td>0.716954</td>\n      <td>0.002238</td>\n      <td>0.570715</td>\n      <td>2.662092e-03</td>\n    </tr>\n    <tr>\n      <th>100.0</th>\n      <th>48</th>\n      <td>0.754346</td>\n      <td>0.006088</td>\n      <td>0.731886</td>\n      <td>1.920379e-05</td>\n    </tr>\n    <tr>\n      <th>50.0</th>\n      <th>48</th>\n      <td>0.838327</td>\n      <td>0.055331</td>\n      <td>0.774826</td>\n      <td>3.376091e-06</td>\n    </tr>\n    <tr>\n      <th>25.0</th>\n      <th>48</th>\n      <td>0.809641</td>\n      <td>0.026297</td>\n      <td>0.754873</td>\n      <td>7.804887e-06</td>\n    </tr>\n    <tr>\n      <th>12.5</th>\n      <th>48</th>\n      <td>0.808497</td>\n      <td>0.025522</td>\n      <td>0.826298</td>\n      <td>2.914317e-07</td>\n    </tr>\n    <tr>\n      <th>200.0</th>\n      <th>72</th>\n      <td>0.676482</td>\n      <td>0.000754</td>\n      <td>0.531290</td>\n      <td>6.746045e-03</td>\n    </tr>\n    <tr>\n      <th>100.0</th>\n      <th>72</th>\n      <td>0.860431</td>\n      <td>0.096925</td>\n      <td>0.721450</td>\n      <td>2.830171e-05</td>\n    </tr>\n    <tr>\n      <th>50.0</th>\n      <th>72</th>\n      <td>0.844010</td>\n      <td>0.063990</td>\n      <td>0.757572</td>\n      <td>6.990322e-06</td>\n    </tr>\n    <tr>\n      <th>25.0</th>\n      <th>72</th>\n      <td>0.870054</td>\n      <td>0.123119</td>\n      <td>0.796906</td>\n      <td>1.249215e-06</td>\n    </tr>\n    <tr>\n      <th>12.5</th>\n      <th>72</th>\n      <td>0.957129</td>\n      <td>0.767841</td>\n      <td>0.815759</td>\n      <td>5.012254e-07</td>\n    </tr>\n    <tr>\n      <th rowspan=\"15\" valign=\"top\">PGRMC1</th>\n      <th rowspan=\"15\" valign=\"top\">tamoxifen</th>\n      <th>200.0</th>\n      <th>24</th>\n      <td>0.728184</td>\n      <td>0.003025</td>\n      <td>0.530574</td>\n      <td>6.854942e-03</td>\n    </tr>\n    <tr>\n      <th>100.0</th>\n      <th>24</th>\n      <td>0.806681</td>\n      <td>0.024336</td>\n      <td>0.573973</td>\n      <td>2.454864e-03</td>\n    </tr>\n    <tr>\n      <th>50.0</th>\n      <th>24</th>\n      <td>0.793332</td>\n      <td>0.017133</td>\n      <td>0.726062</td>\n      <td>2.388084e-05</td>\n    </tr>\n    <tr>\n      <th>25.0</th>\n      <th>24</th>\n      <td>0.757413</td>\n      <td>0.006607</td>\n      <td>0.771069</td>\n      <td>3.969685e-06</td>\n    </tr>\n    <tr>\n      <th>12.5</th>\n      <th>24</th>\n      <td>0.931817</td>\n      <td>0.498835</td>\n      <td>0.791309</td>\n      <td>1.618723e-06</td>\n    </tr>\n    <tr>\n      <th>200.0</th>\n      <th>48</th>\n      <td>0.692764</td>\n      <td>0.001168</td>\n      <td>0.530902</td>\n      <td>6.804888e-03</td>\n    </tr>\n    <tr>\n      <th>100.0</th>\n      <th>48</th>\n      <td>0.839901</td>\n      <td>0.057609</td>\n      <td>0.531056</td>\n      <td>6.781397e-03</td>\n    </tr>\n    <tr>\n      <th>50.0</th>\n      <th>48</th>\n      <td>0.701953</td>\n      <td>0.001496</td>\n      <td>0.578294</td>\n      <td>2.202515e-03</td>\n    </tr>\n    <tr>\n      <th>25.0</th>\n      <th>48</th>\n      <td>0.875094</td>\n      <td>0.139347</td>\n      <td>0.740401</td>\n      <td>1.386418e-05</td>\n    </tr>\n    <tr>\n      <th>12.5</th>\n      <th>48</th>\n      <td>0.743618</td>\n      <td>0.004572</td>\n      <td>0.796790</td>\n      <td>1.256012e-06</td>\n    </tr>\n    <tr>\n      <th>200.0</th>\n      <th>72</th>\n      <td>0.703152</td>\n      <td>0.001545</td>\n      <td>0.522160</td>\n      <td>8.257661e-03</td>\n    </tr>\n    <tr>\n      <th>100.0</th>\n      <th>72</th>\n      <td>0.697513</td>\n      <td>0.001327</td>\n      <td>0.524116</td>\n      <td>7.910678e-03</td>\n    </tr>\n    <tr>\n      <th>50.0</th>\n      <th>72</th>\n      <td>0.829998</td>\n      <td>0.044653</td>\n      <td>0.532803</td>\n      <td>6.520711e-03</td>\n    </tr>\n    <tr>\n      <th>25.0</th>\n      <th>72</th>\n      <td>0.804315</td>\n      <td>0.022872</td>\n      <td>0.579160</td>\n      <td>2.154869e-03</td>\n    </tr>\n    <tr>\n      <th>12.5</th>\n      <th>72</th>\n      <td>0.794392</td>\n      <td>0.017618</td>\n      <td>0.751587</td>\n      <td>8.913548e-06</td>\n    </tr>\n    <tr>\n      <th rowspan=\"15\" valign=\"top\">EVC</th>\n      <th rowspan=\"15\" valign=\"top\">tamoxifen</th>\n      <th>200.0</th>\n      <th>24</th>\n      <td>0.733023</td>\n      <td>0.003443</td>\n      <td>0.548513</td>\n      <td>4.546157e-03</td>\n    </tr>\n    <tr>\n      <th>100.0</th>\n      <th>24</th>\n      <td>0.769532</td>\n      <td>0.009123</td>\n      <td>0.571699</td>\n      <td>2.597920e-03</td>\n    </tr>\n    <tr>\n      <th>50.0</th>\n      <th>24</th>\n      <td>0.922944</td>\n      <td>0.417169</td>\n      <td>0.747371</td>\n      <td>1.054799e-05</td>\n    </tr>\n    <tr>\n      <th>25.0</th>\n      <th>24</th>\n      <td>0.889951</td>\n      <td>0.199298</td>\n      <td>0.787915</td>\n      <td>1.889577e-06</td>\n    </tr>\n    <tr>\n      <th>12.5</th>\n      <th>24</th>\n      <td>0.897587</td>\n      <td>0.238344</td>\n      <td>0.776118</td>\n      <td>3.191592e-06</td>\n    </tr>\n    <tr>\n      <th>200.0</th>\n      <th>48</th>\n      <td>0.907085</td>\n      <td>0.296005</td>\n      <td>0.532397</td>\n      <td>6.580460e-03</td>\n    </tr>\n    <tr>\n      <th>100.0</th>\n      <th>48</th>\n      <td>0.875478</td>\n      <td>0.140660</td>\n      <td>0.538285</td>\n      <td>5.759127e-03</td>\n    </tr>\n    <tr>\n      <th>50.0</th>\n      <th>48</th>\n      <td>0.919883</td>\n      <td>0.391276</td>\n      <td>0.693253</td>\n      <td>7.627500e-05</td>\n    </tr>\n    <tr>\n      <th>25.0</th>\n      <th>48</th>\n      <td>0.742666</td>\n      <td>0.004457</td>\n      <td>0.728264</td>\n      <td>2.200124e-05</td>\n    </tr>\n    <tr>\n      <th>12.5</th>\n      <th>48</th>\n      <td>0.967483</td>\n      <td>0.872386</td>\n      <td>0.768936</td>\n      <td>4.348384e-06</td>\n    </tr>\n    <tr>\n      <th>200.0</th>\n      <th>72</th>\n      <td>0.905112</td>\n      <td>0.283145</td>\n      <td>0.523158</td>\n      <td>8.078992e-03</td>\n    </tr>\n    <tr>\n      <th>100.0</th>\n      <th>72</th>\n      <td>0.774434</td>\n      <td>0.010391</td>\n      <td>0.523778</td>\n      <td>7.969740e-03</td>\n    </tr>\n    <tr>\n      <th>50.0</th>\n      <th>72</th>\n      <td>0.808448</td>\n      <td>0.025489</td>\n      <td>0.545351</td>\n      <td>4.894252e-03</td>\n    </tr>\n    <tr>\n      <th>25.0</th>\n      <th>72</th>\n      <td>0.843610</td>\n      <td>0.063339</td>\n      <td>0.731300</td>\n      <td>1.963330e-05</td>\n    </tr>\n    <tr>\n      <th>12.5</th>\n      <th>72</th>\n      <td>0.888379</td>\n      <td>0.192000</td>\n      <td>0.728521</td>\n      <td>2.179107e-05</td>\n    </tr>\n  </tbody>\n</table>\n</div>"
     },
     "execution_count": 34,
     "metadata": {},
     "output_type": "execute_result"
    }
   ],
   "source": [
    "drug_data.tested_df"
   ],
   "metadata": {
    "collapsed": false,
    "pycharm": {
     "name": "#%%\n"
    }
   }
  },
  {
   "cell_type": "code",
   "execution_count": 42,
   "outputs": [
    {
     "name": "stderr",
     "output_type": "stream",
     "text": [
      "C:\\Users\\Lukasz\\AppData\\Local\\Temp\\ipykernel_16268\\2303042763.py:24: PerformanceWarning: indexing past lexsort depth may impact performance.\n",
      "  x = self.df_classified.loc[sample][x_col].to_numpy()\n"
     ]
    },
    {
     "name": "stdout",
     "output_type": "stream",
     "text": [
      "Shapiro and KStest was performed for all sample classes\n",
      "Results are accessible as dict (var.tested_dict) and dataframe (var.tested_df\n",
      "ShapiroAggregator saved results to outputs/res_shapiro_kstested_drug_viability.csv successfully\n",
      "The following samples are not significiant according to shapiro_pval:\n",
      "[('PGRMC1', 'exemestane', 200.0, 24), ('PGRMC1', 'exemestane', 100.0, 24), ('PGRMC1', 'exemestane', 12.5, 24), ('PGRMC1', 'exemestane', 200.0, 48), ('PGRMC1', 'exemestane', 100.0, 48), ('PGRMC1', 'exemestane', 50.0, 48), ('PGRMC1', 'exemestane', 25.0, 48), ('PGRMC1', 'exemestane', 12.5, 48), ('PGRMC1', 'exemestane', 50.0, 72), ('PGRMC1', 'exemestane', 25.0, 72), ('EVC', 'exemestane', 200.0, 24), ('EVC', 'exemestane', 100.0, 24), ('EVC', 'exemestane', 50.0, 48), ('EVC', 'exemestane', 100.0, 72), ('EVC', 'exemestane', 50.0, 72), ('EVC', 'exemestane', 25.0, 72), ('EVC', 'exemestane', 12.5, 72), ('PGRMC1', 'tamoxifen', 12.5, 24), ('PGRMC1', 'tamoxifen', 100.0, 48), ('PGRMC1', 'tamoxifen', 25.0, 48), ('EVC', 'tamoxifen', 50.0, 24), ('EVC', 'tamoxifen', 25.0, 24), ('EVC', 'tamoxifen', 12.5, 24), ('EVC', 'tamoxifen', 200.0, 48), ('EVC', 'tamoxifen', 100.0, 48), ('EVC', 'tamoxifen', 50.0, 48), ('EVC', 'tamoxifen', 12.5, 48), ('EVC', 'tamoxifen', 200.0, 72), ('EVC', 'tamoxifen', 25.0, 72), ('EVC', 'tamoxifen', 12.5, 72)]\n",
      "--------------------------------\n",
      "\n",
      "\n",
      "\n",
      "The following samples are significiant according to shapiro_pval:\n",
      "[('PGRMC1', 'exemestane', 50.0, 24), ('PGRMC1', 'exemestane', 25.0, 24), ('PGRMC1', 'exemestane', 200.0, 72), ('PGRMC1', 'exemestane', 100.0, 72), ('PGRMC1', 'exemestane', 12.5, 72), ('EVC', 'exemestane', 50.0, 24), ('EVC', 'exemestane', 25.0, 24), ('EVC', 'exemestane', 12.5, 24), ('EVC', 'exemestane', 200.0, 48), ('EVC', 'exemestane', 100.0, 48), ('EVC', 'exemestane', 25.0, 48), ('EVC', 'exemestane', 12.5, 48), ('EVC', 'exemestane', 200.0, 72), ('PGRMC1', 'tamoxifen', 200.0, 24), ('PGRMC1', 'tamoxifen', 100.0, 24), ('PGRMC1', 'tamoxifen', 50.0, 24), ('PGRMC1', 'tamoxifen', 25.0, 24), ('PGRMC1', 'tamoxifen', 200.0, 48), ('PGRMC1', 'tamoxifen', 50.0, 48), ('PGRMC1', 'tamoxifen', 12.5, 48), ('PGRMC1', 'tamoxifen', 200.0, 72), ('PGRMC1', 'tamoxifen', 100.0, 72), ('PGRMC1', 'tamoxifen', 50.0, 72), ('PGRMC1', 'tamoxifen', 25.0, 72), ('PGRMC1', 'tamoxifen', 12.5, 72), ('EVC', 'tamoxifen', 200.0, 24), ('EVC', 'tamoxifen', 100.0, 24), ('EVC', 'tamoxifen', 25.0, 48), ('EVC', 'tamoxifen', 100.0, 72), ('EVC', 'tamoxifen', 50.0, 72)]\n",
      "--------------------------------\n",
      "\n",
      "\n",
      "\n",
      "returning list of significant samples\n",
      "The following samples are not significiant according to kstest_pval:\n",
      "[]\n",
      "--------------------------------\n",
      "\n",
      "\n",
      "\n",
      "The following samples are significiant according to kstest_pval:\n",
      "[('PGRMC1', 'exemestane', 200.0, 24), ('PGRMC1', 'exemestane', 100.0, 24), ('PGRMC1', 'exemestane', 50.0, 24), ('PGRMC1', 'exemestane', 25.0, 24), ('PGRMC1', 'exemestane', 12.5, 24), ('PGRMC1', 'exemestane', 200.0, 48), ('PGRMC1', 'exemestane', 100.0, 48), ('PGRMC1', 'exemestane', 50.0, 48), ('PGRMC1', 'exemestane', 25.0, 48), ('PGRMC1', 'exemestane', 12.5, 48), ('PGRMC1', 'exemestane', 200.0, 72), ('PGRMC1', 'exemestane', 100.0, 72), ('PGRMC1', 'exemestane', 50.0, 72), ('PGRMC1', 'exemestane', 25.0, 72), ('PGRMC1', 'exemestane', 12.5, 72), ('EVC', 'exemestane', 200.0, 24), ('EVC', 'exemestane', 100.0, 24), ('EVC', 'exemestane', 50.0, 24), ('EVC', 'exemestane', 25.0, 24), ('EVC', 'exemestane', 12.5, 24), ('EVC', 'exemestane', 200.0, 48), ('EVC', 'exemestane', 100.0, 48), ('EVC', 'exemestane', 50.0, 48), ('EVC', 'exemestane', 25.0, 48), ('EVC', 'exemestane', 12.5, 48), ('EVC', 'exemestane', 200.0, 72), ('EVC', 'exemestane', 100.0, 72), ('EVC', 'exemestane', 50.0, 72), ('EVC', 'exemestane', 25.0, 72), ('EVC', 'exemestane', 12.5, 72), ('PGRMC1', 'tamoxifen', 200.0, 24), ('PGRMC1', 'tamoxifen', 100.0, 24), ('PGRMC1', 'tamoxifen', 50.0, 24), ('PGRMC1', 'tamoxifen', 25.0, 24), ('PGRMC1', 'tamoxifen', 12.5, 24), ('PGRMC1', 'tamoxifen', 200.0, 48), ('PGRMC1', 'tamoxifen', 100.0, 48), ('PGRMC1', 'tamoxifen', 50.0, 48), ('PGRMC1', 'tamoxifen', 25.0, 48), ('PGRMC1', 'tamoxifen', 12.5, 48), ('PGRMC1', 'tamoxifen', 200.0, 72), ('PGRMC1', 'tamoxifen', 100.0, 72), ('PGRMC1', 'tamoxifen', 50.0, 72), ('PGRMC1', 'tamoxifen', 25.0, 72), ('PGRMC1', 'tamoxifen', 12.5, 72), ('EVC', 'tamoxifen', 200.0, 24), ('EVC', 'tamoxifen', 100.0, 24), ('EVC', 'tamoxifen', 50.0, 24), ('EVC', 'tamoxifen', 25.0, 24), ('EVC', 'tamoxifen', 12.5, 24), ('EVC', 'tamoxifen', 200.0, 48), ('EVC', 'tamoxifen', 100.0, 48), ('EVC', 'tamoxifen', 50.0, 48), ('EVC', 'tamoxifen', 25.0, 48), ('EVC', 'tamoxifen', 12.5, 48), ('EVC', 'tamoxifen', 200.0, 72), ('EVC', 'tamoxifen', 100.0, 72), ('EVC', 'tamoxifen', 50.0, 72), ('EVC', 'tamoxifen', 25.0, 72), ('EVC', 'tamoxifen', 12.5, 72)]\n",
      "--------------------------------\n",
      "\n",
      "\n",
      "\n",
      "returning list of significant samples\n",
      "significant in both test are following samples:\n",
      "[('PGRMC1', 'exemestane', 50.0, 24), ('PGRMC1', 'exemestane', 25.0, 24), ('PGRMC1', 'exemestane', 200.0, 72), ('PGRMC1', 'exemestane', 100.0, 72), ('PGRMC1', 'exemestane', 12.5, 72), ('EVC', 'exemestane', 50.0, 24), ('EVC', 'exemestane', 25.0, 24), ('EVC', 'exemestane', 12.5, 24), ('EVC', 'exemestane', 200.0, 48), ('EVC', 'exemestane', 100.0, 48), ('EVC', 'exemestane', 25.0, 48), ('EVC', 'exemestane', 12.5, 48), ('EVC', 'exemestane', 200.0, 72), ('PGRMC1', 'tamoxifen', 200.0, 24), ('PGRMC1', 'tamoxifen', 100.0, 24), ('PGRMC1', 'tamoxifen', 50.0, 24), ('PGRMC1', 'tamoxifen', 25.0, 24), ('PGRMC1', 'tamoxifen', 200.0, 48), ('PGRMC1', 'tamoxifen', 50.0, 48), ('PGRMC1', 'tamoxifen', 12.5, 48), ('PGRMC1', 'tamoxifen', 200.0, 72), ('PGRMC1', 'tamoxifen', 100.0, 72), ('PGRMC1', 'tamoxifen', 50.0, 72), ('PGRMC1', 'tamoxifen', 25.0, 72), ('PGRMC1', 'tamoxifen', 12.5, 72), ('EVC', 'tamoxifen', 200.0, 24), ('EVC', 'tamoxifen', 100.0, 24), ('EVC', 'tamoxifen', 25.0, 48), ('EVC', 'tamoxifen', 100.0, 72), ('EVC', 'tamoxifen', 50.0, 72)]\n"
     ]
    }
   ],
   "source": [
    "drug_data = ShapiroAggregator('data/diss_stats/diss_stat_2.xlsx')\n",
    "drug_data.test_all_classes()\n",
    "sign_idx = drug_data.get_significant_samples()\n"
   ],
   "metadata": {
    "collapsed": false,
    "pycharm": {
     "name": "#%%\n"
    }
   }
  },
  {
   "cell_type": "code",
   "execution_count": 45,
   "outputs": [
    {
     "data": {
      "text/plain": "                                      rep  viability\nexpression substance  dose timepoint                \nPGRMC1     exemestane 50.0 24           1   1.667504\n                           24           1   1.473469\n                           24           1   1.540031\n                           24           2   0.659405\n                           24           2   0.863507\n...                                   ...        ...\nEVC        tamoxifen  50.0 72           2   0.851412\n                           72           2   0.792679\n                           72           3   0.113925\n                           72           3   0.126281\n                           72           3   0.139220\n\n[270 rows x 2 columns]",
      "text/html": "<div>\n<style scoped>\n    .dataframe tbody tr th:only-of-type {\n        vertical-align: middle;\n    }\n\n    .dataframe tbody tr th {\n        vertical-align: top;\n    }\n\n    .dataframe thead th {\n        text-align: right;\n    }\n</style>\n<table border=\"1\" class=\"dataframe\">\n  <thead>\n    <tr style=\"text-align: right;\">\n      <th></th>\n      <th></th>\n      <th></th>\n      <th></th>\n      <th>rep</th>\n      <th>viability</th>\n    </tr>\n    <tr>\n      <th>expression</th>\n      <th>substance</th>\n      <th>dose</th>\n      <th>timepoint</th>\n      <th></th>\n      <th></th>\n    </tr>\n  </thead>\n  <tbody>\n    <tr>\n      <th rowspan=\"5\" valign=\"top\">PGRMC1</th>\n      <th rowspan=\"5\" valign=\"top\">exemestane</th>\n      <th rowspan=\"5\" valign=\"top\">50.0</th>\n      <th>24</th>\n      <td>1</td>\n      <td>1.667504</td>\n    </tr>\n    <tr>\n      <th>24</th>\n      <td>1</td>\n      <td>1.473469</td>\n    </tr>\n    <tr>\n      <th>24</th>\n      <td>1</td>\n      <td>1.540031</td>\n    </tr>\n    <tr>\n      <th>24</th>\n      <td>2</td>\n      <td>0.659405</td>\n    </tr>\n    <tr>\n      <th>24</th>\n      <td>2</td>\n      <td>0.863507</td>\n    </tr>\n    <tr>\n      <th>...</th>\n      <th>...</th>\n      <th>...</th>\n      <th>...</th>\n      <td>...</td>\n      <td>...</td>\n    </tr>\n    <tr>\n      <th rowspan=\"5\" valign=\"top\">EVC</th>\n      <th rowspan=\"5\" valign=\"top\">tamoxifen</th>\n      <th rowspan=\"5\" valign=\"top\">50.0</th>\n      <th>72</th>\n      <td>2</td>\n      <td>0.851412</td>\n    </tr>\n    <tr>\n      <th>72</th>\n      <td>2</td>\n      <td>0.792679</td>\n    </tr>\n    <tr>\n      <th>72</th>\n      <td>3</td>\n      <td>0.113925</td>\n    </tr>\n    <tr>\n      <th>72</th>\n      <td>3</td>\n      <td>0.126281</td>\n    </tr>\n    <tr>\n      <th>72</th>\n      <td>3</td>\n      <td>0.139220</td>\n    </tr>\n  </tbody>\n</table>\n<p>270 rows × 2 columns</p>\n</div>"
     },
     "execution_count": 45,
     "metadata": {},
     "output_type": "execute_result"
    }
   ],
   "source": [
    "df = drug_data.df_classified\n",
    "df.loc[sign_idx]"
   ],
   "metadata": {
    "collapsed": false,
    "pycharm": {
     "name": "#%%\n"
    }
   }
  },
  {
   "cell_type": "code",
   "execution_count": 98,
   "outputs": [
    {
     "data": {
      "text/plain": "                            rep  viability\nsubstance  dose  timepoint                \nexemestane 200.0 24           1   0.567975\n                 24           1   0.537834\n                 24           1   0.500785\n                 24           2   0.274050\n                 24           2   0.449304\n...                         ...        ...\ntamoxifen  12.5  72           2   0.707747\n                 72           2   0.679492\n                 72           3   0.901037\n                 72           3   0.823540\n                 72           3   0.790340\n\n[270 rows x 2 columns]",
      "text/html": "<div>\n<style scoped>\n    .dataframe tbody tr th:only-of-type {\n        vertical-align: middle;\n    }\n\n    .dataframe tbody tr th {\n        vertical-align: top;\n    }\n\n    .dataframe thead th {\n        text-align: right;\n    }\n</style>\n<table border=\"1\" class=\"dataframe\">\n  <thead>\n    <tr style=\"text-align: right;\">\n      <th></th>\n      <th></th>\n      <th></th>\n      <th>rep</th>\n      <th>viability</th>\n    </tr>\n    <tr>\n      <th>substance</th>\n      <th>dose</th>\n      <th>timepoint</th>\n      <th></th>\n      <th></th>\n    </tr>\n  </thead>\n  <tbody>\n    <tr>\n      <th rowspan=\"5\" valign=\"top\">exemestane</th>\n      <th rowspan=\"5\" valign=\"top\">200.0</th>\n      <th>24</th>\n      <td>1</td>\n      <td>0.567975</td>\n    </tr>\n    <tr>\n      <th>24</th>\n      <td>1</td>\n      <td>0.537834</td>\n    </tr>\n    <tr>\n      <th>24</th>\n      <td>1</td>\n      <td>0.500785</td>\n    </tr>\n    <tr>\n      <th>24</th>\n      <td>2</td>\n      <td>0.274050</td>\n    </tr>\n    <tr>\n      <th>24</th>\n      <td>2</td>\n      <td>0.449304</td>\n    </tr>\n    <tr>\n      <th>...</th>\n      <th>...</th>\n      <th>...</th>\n      <td>...</td>\n      <td>...</td>\n    </tr>\n    <tr>\n      <th rowspan=\"5\" valign=\"top\">tamoxifen</th>\n      <th rowspan=\"5\" valign=\"top\">12.5</th>\n      <th>72</th>\n      <td>2</td>\n      <td>0.707747</td>\n    </tr>\n    <tr>\n      <th>72</th>\n      <td>2</td>\n      <td>0.679492</td>\n    </tr>\n    <tr>\n      <th>72</th>\n      <td>3</td>\n      <td>0.901037</td>\n    </tr>\n    <tr>\n      <th>72</th>\n      <td>3</td>\n      <td>0.823540</td>\n    </tr>\n    <tr>\n      <th>72</th>\n      <td>3</td>\n      <td>0.790340</td>\n    </tr>\n  </tbody>\n</table>\n<p>270 rows × 2 columns</p>\n</div>"
     },
     "execution_count": 98,
     "metadata": {},
     "output_type": "execute_result"
    }
   ],
   "source": [
    "df.xs(\"PGRMC1\", level=\"expression\")"
   ],
   "metadata": {
    "collapsed": false,
    "pycharm": {
     "name": "#%%\n"
    }
   }
  },
  {
   "cell_type": "code",
   "execution_count": 111,
   "outputs": [],
   "source": [
    "import pandas as pd\n",
    "import scipy.stats\n",
    "\n",
    "\n",
    "class StatsTestAggregator:\n",
    "    def __init__(self, path, name=\"drug_viability\"):\n",
    "        self.name = name\n",
    "        self.df = self.read_file(path)\n",
    "        self.df_orig = self.df.copy()\n",
    "        self.df_classified = self.df.set_index([\"expression\", \"substance\", \"dose\", \"timepoint\"])\n",
    "        self.sample_classes = self.df_classified.index.unique()\n",
    "        self.pgrmc1_classified = self.df_classified.xs(\"PGRMC1\", level=\"expression\")\n",
    "        self.evc_classified = self.df_classified.xs(\"EVC\", level=\"expression\")\n",
    "        self.tested_dict = None\n",
    "        self.tested_df = None\n",
    "        self.sign_df = None\n",
    "        self.ttest_dict = None\n",
    "        self.ttest_results = None\n",
    "\n",
    "    def read_file(self, path):\n",
    "        if path.endswith(\".csv\"):\n",
    "            return pd.read_csv(path, sep=\";\")\n",
    "        if path.endswith(\".xlsx\"):\n",
    "            return pd.read_excel(path)\n",
    "\n",
    "    def test_all_classes(self, x_col=\"viability\", kstest_for='norm' , save_results=True, return_df=False):\n",
    "        res_dict = {}\n",
    "        for sample in self.sample_classes:\n",
    "            x = self.df_classified.loc[sample][x_col].to_numpy()\n",
    "            shapiro = self.test_shapiro(x)\n",
    "            kstest = self.test_ks(x, kstest_for)\n",
    "            res_dict[sample] = {\"shapiro_stat\":shapiro[0], \"shapiro_pval\":shapiro[1],\n",
    "                                \"kstest_stat\":kstest[0], \"kstest_pval\":kstest[1]}\n",
    "        self.tested_dict = res_dict\n",
    "        self.tested_df = pd.DataFrame(res_dict).T\n",
    "        print(\"Shapiro and KStest was performed for all sample classes\")\n",
    "        print(\"Results are accessible as dict (var.tested_dict) and dataframe (var.tested_df\")\n",
    "        if save_results:\n",
    "            self.save_to_csv(self.tested_df, f\"shapiro_kstested_{self.name}\")\n",
    "        if return_df:\n",
    "            return self.tested_df\n",
    "        return self.tested_dict\n",
    "\n",
    "    def ttest_all_classes(self, col=\"viability\"):\n",
    "        classes = self.pgrmc1_classified.index.unique()\n",
    "        res_dict = {}\n",
    "        for cl in classes:\n",
    "            x = self.pgrmc1_classified.loc[cl][col]\n",
    "            y = self.evc_classified.loc[cl][col]\n",
    "            res = self.ttest(x, y)\n",
    "            res_dict[cl] = {\"ttest_stat\":res[0], \"ttest_pval\":res[1]}\n",
    "        self.ttest_results = pd.DataFrame(res_dict).T\n",
    "        self.ttest_results.to_csv(\"outputs/ttest_results.csv\")\n",
    "        self.ttest_dict = res_dict\n",
    "        return self.ttest_results\n",
    "\n",
    "\n",
    "    def ttest(self, x, y):\n",
    "        from scipy.stats import ttest_rel\n",
    "        return ttest_rel(x, y)\n",
    "\n",
    "    def test_shapiro(self, x):\n",
    "        from scipy.stats import shapiro\n",
    "        res = shapiro(x)\n",
    "        return res\n",
    "\n",
    "    def test_ks(self, x, cdf):\n",
    "        from scipy.stats import kstest\n",
    "        res = kstest(x, cdf)\n",
    "        return res\n",
    "\n",
    "    def significant_samples(self, target_attr=\"shapiro_pval\", target_pval=0.05):\n",
    "        sign = []\n",
    "        not_sign = []\n",
    "        for key, values in self.tested_dict.items():\n",
    "            if values[target_attr] <= target_pval:\n",
    "                sign.append(key)\n",
    "            else:\n",
    "                not_sign.append(key)\n",
    "        print(f\"The following samples are not significiant according to {target_attr}:\")\n",
    "        print(not_sign)\n",
    "        print(\"--------------------------------\\n\\n\\n\")\n",
    "        print(f\"The following samples are significiant according to {target_attr}:\")\n",
    "        print(sign)\n",
    "        print(\"--------------------------------\\n\\n\\n\")\n",
    "        print(\"returning list of significant samples\")\n",
    "        return sign\n",
    "\n",
    "    def get_significant_samples(self):\n",
    "        sign_shapiro = self.significant_samples(\"shapiro_pval\")\n",
    "        sign_kstest = self.significant_samples(\"kstest_pval\")\n",
    "        sign = []\n",
    "        for s in sign_shapiro:\n",
    "            if s in sign_kstest:\n",
    "                sign.append(s)\n",
    "        print(\"significant in both test are following samples:\")\n",
    "        print(sign)\n",
    "        self.sign_df = self.df_classified.loc[sign]\n",
    "        self.tested_df.index = self.tested_df.index.set_names(self.sign_df.index.names)\n",
    "        self.all_significant = self.sign_df.merge(self.tested_df, how=\"inner\", left_index=True, right_index=True)\n",
    "        return self.sign_df\n",
    "\n",
    "\n",
    "\n",
    "    def save_to_csv(self, df, name=None, path=\"outputs\"):\n",
    "        import os\n",
    "        if not os.path.exists(path):\n",
    "            os.mkdir(path)\n",
    "        if name is None:\n",
    "            name = self.name\n",
    "        filename = f\"{path}/res_{name}.csv\"\n",
    "        df.to_csv(filename)\n",
    "        print(f\"ShapiroAggregator saved results to {filename} successfully\")\n",
    "\n"
   ],
   "metadata": {
    "collapsed": false,
    "pycharm": {
     "name": "#%%\n"
    }
   }
  },
  {
   "cell_type": "code",
   "execution_count": 94,
   "outputs": [
    {
     "data": {
      "text/plain": "MultiIndex([('PGRMC1', 'exemestane', 200.0, 24),\n            ('PGRMC1', 'exemestane', 100.0, 24),\n            ('PGRMC1', 'exemestane',  50.0, 24),\n            ('PGRMC1', 'exemestane',  25.0, 24),\n            ('PGRMC1', 'exemestane',  12.5, 24),\n            ('PGRMC1', 'exemestane', 200.0, 48),\n            ('PGRMC1', 'exemestane', 100.0, 48),\n            ('PGRMC1', 'exemestane',  50.0, 48),\n            ('PGRMC1', 'exemestane',  25.0, 48),\n            ('PGRMC1', 'exemestane',  12.5, 48),\n            ('PGRMC1', 'exemestane', 200.0, 72),\n            ('PGRMC1', 'exemestane', 100.0, 72),\n            ('PGRMC1', 'exemestane',  50.0, 72),\n            ('PGRMC1', 'exemestane',  25.0, 72),\n            ('PGRMC1', 'exemestane',  12.5, 72),\n            (   'EVC', 'exemestane', 200.0, 24),\n            (   'EVC', 'exemestane', 100.0, 24),\n            (   'EVC', 'exemestane',  50.0, 24),\n            (   'EVC', 'exemestane',  25.0, 24),\n            (   'EVC', 'exemestane',  12.5, 24),\n            (   'EVC', 'exemestane', 200.0, 48),\n            (   'EVC', 'exemestane', 100.0, 48),\n            (   'EVC', 'exemestane',  50.0, 48),\n            (   'EVC', 'exemestane',  25.0, 48),\n            (   'EVC', 'exemestane',  12.5, 48),\n            (   'EVC', 'exemestane', 200.0, 72),\n            (   'EVC', 'exemestane', 100.0, 72),\n            (   'EVC', 'exemestane',  50.0, 72),\n            (   'EVC', 'exemestane',  25.0, 72),\n            (   'EVC', 'exemestane',  12.5, 72),\n            ('PGRMC1',  'tamoxifen', 200.0, 24),\n            ('PGRMC1',  'tamoxifen', 100.0, 24),\n            ('PGRMC1',  'tamoxifen',  50.0, 24),\n            ('PGRMC1',  'tamoxifen',  25.0, 24),\n            ('PGRMC1',  'tamoxifen',  12.5, 24),\n            ('PGRMC1',  'tamoxifen', 200.0, 48),\n            ('PGRMC1',  'tamoxifen', 100.0, 48),\n            ('PGRMC1',  'tamoxifen',  50.0, 48),\n            ('PGRMC1',  'tamoxifen',  25.0, 48),\n            ('PGRMC1',  'tamoxifen',  12.5, 48),\n            ('PGRMC1',  'tamoxifen', 200.0, 72),\n            ('PGRMC1',  'tamoxifen', 100.0, 72),\n            ('PGRMC1',  'tamoxifen',  50.0, 72),\n            ('PGRMC1',  'tamoxifen',  25.0, 72),\n            ('PGRMC1',  'tamoxifen',  12.5, 72),\n            (   'EVC',  'tamoxifen', 200.0, 24),\n            (   'EVC',  'tamoxifen', 100.0, 24),\n            (   'EVC',  'tamoxifen',  50.0, 24),\n            (   'EVC',  'tamoxifen',  25.0, 24),\n            (   'EVC',  'tamoxifen',  12.5, 24),\n            (   'EVC',  'tamoxifen', 200.0, 48),\n            (   'EVC',  'tamoxifen', 100.0, 48),\n            (   'EVC',  'tamoxifen',  50.0, 48),\n            (   'EVC',  'tamoxifen',  25.0, 48),\n            (   'EVC',  'tamoxifen',  12.5, 48),\n            (   'EVC',  'tamoxifen', 200.0, 72),\n            (   'EVC',  'tamoxifen', 100.0, 72),\n            (   'EVC',  'tamoxifen',  50.0, 72),\n            (   'EVC',  'tamoxifen',  25.0, 72),\n            (   'EVC',  'tamoxifen',  12.5, 72)],\n           names=['expression', 'substance', 'dose', 'timepoint'])"
     },
     "execution_count": 94,
     "metadata": {},
     "output_type": "execute_result"
    }
   ],
   "source": [
    "drug_data.tested_df.index"
   ],
   "metadata": {
    "collapsed": false,
    "pycharm": {
     "name": "#%%\n"
    }
   }
  },
  {
   "cell_type": "code",
   "execution_count": 112,
   "outputs": [
    {
     "name": "stderr",
     "output_type": "stream",
     "text": [
      "C:\\Users\\Lukasz\\AppData\\Local\\Temp\\ipykernel_16268\\3641422128.py:29: PerformanceWarning: indexing past lexsort depth may impact performance.\n",
      "  x = self.df_classified.loc[sample][x_col].to_numpy()\n"
     ]
    },
    {
     "name": "stdout",
     "output_type": "stream",
     "text": [
      "Shapiro and KStest was performed for all sample classes\n",
      "Results are accessible as dict (var.tested_dict) and dataframe (var.tested_df\n",
      "ShapiroAggregator saved results to outputs/res_shapiro_kstested_drug_viability.csv successfully\n",
      "The following samples are not significiant according to shapiro_pval:\n",
      "[('PGRMC1', 'exemestane', 200.0, 24), ('PGRMC1', 'exemestane', 100.0, 24), ('PGRMC1', 'exemestane', 12.5, 24), ('PGRMC1', 'exemestane', 200.0, 48), ('PGRMC1', 'exemestane', 100.0, 48), ('PGRMC1', 'exemestane', 50.0, 48), ('PGRMC1', 'exemestane', 25.0, 48), ('PGRMC1', 'exemestane', 12.5, 48), ('PGRMC1', 'exemestane', 50.0, 72), ('PGRMC1', 'exemestane', 25.0, 72), ('EVC', 'exemestane', 200.0, 24), ('EVC', 'exemestane', 100.0, 24), ('EVC', 'exemestane', 50.0, 48), ('EVC', 'exemestane', 100.0, 72), ('EVC', 'exemestane', 50.0, 72), ('EVC', 'exemestane', 25.0, 72), ('EVC', 'exemestane', 12.5, 72), ('PGRMC1', 'tamoxifen', 12.5, 24), ('PGRMC1', 'tamoxifen', 100.0, 48), ('PGRMC1', 'tamoxifen', 25.0, 48), ('EVC', 'tamoxifen', 50.0, 24), ('EVC', 'tamoxifen', 25.0, 24), ('EVC', 'tamoxifen', 12.5, 24), ('EVC', 'tamoxifen', 200.0, 48), ('EVC', 'tamoxifen', 100.0, 48), ('EVC', 'tamoxifen', 50.0, 48), ('EVC', 'tamoxifen', 12.5, 48), ('EVC', 'tamoxifen', 200.0, 72), ('EVC', 'tamoxifen', 25.0, 72), ('EVC', 'tamoxifen', 12.5, 72)]\n",
      "--------------------------------\n",
      "\n",
      "\n",
      "\n",
      "The following samples are significiant according to shapiro_pval:\n",
      "[('PGRMC1', 'exemestane', 50.0, 24), ('PGRMC1', 'exemestane', 25.0, 24), ('PGRMC1', 'exemestane', 200.0, 72), ('PGRMC1', 'exemestane', 100.0, 72), ('PGRMC1', 'exemestane', 12.5, 72), ('EVC', 'exemestane', 50.0, 24), ('EVC', 'exemestane', 25.0, 24), ('EVC', 'exemestane', 12.5, 24), ('EVC', 'exemestane', 200.0, 48), ('EVC', 'exemestane', 100.0, 48), ('EVC', 'exemestane', 25.0, 48), ('EVC', 'exemestane', 12.5, 48), ('EVC', 'exemestane', 200.0, 72), ('PGRMC1', 'tamoxifen', 200.0, 24), ('PGRMC1', 'tamoxifen', 100.0, 24), ('PGRMC1', 'tamoxifen', 50.0, 24), ('PGRMC1', 'tamoxifen', 25.0, 24), ('PGRMC1', 'tamoxifen', 200.0, 48), ('PGRMC1', 'tamoxifen', 50.0, 48), ('PGRMC1', 'tamoxifen', 12.5, 48), ('PGRMC1', 'tamoxifen', 200.0, 72), ('PGRMC1', 'tamoxifen', 100.0, 72), ('PGRMC1', 'tamoxifen', 50.0, 72), ('PGRMC1', 'tamoxifen', 25.0, 72), ('PGRMC1', 'tamoxifen', 12.5, 72), ('EVC', 'tamoxifen', 200.0, 24), ('EVC', 'tamoxifen', 100.0, 24), ('EVC', 'tamoxifen', 25.0, 48), ('EVC', 'tamoxifen', 100.0, 72), ('EVC', 'tamoxifen', 50.0, 72)]\n",
      "--------------------------------\n",
      "\n",
      "\n",
      "\n",
      "returning list of significant samples\n",
      "The following samples are not significiant according to kstest_pval:\n",
      "[]\n",
      "--------------------------------\n",
      "\n",
      "\n",
      "\n",
      "The following samples are significiant according to kstest_pval:\n",
      "[('PGRMC1', 'exemestane', 200.0, 24), ('PGRMC1', 'exemestane', 100.0, 24), ('PGRMC1', 'exemestane', 50.0, 24), ('PGRMC1', 'exemestane', 25.0, 24), ('PGRMC1', 'exemestane', 12.5, 24), ('PGRMC1', 'exemestane', 200.0, 48), ('PGRMC1', 'exemestane', 100.0, 48), ('PGRMC1', 'exemestane', 50.0, 48), ('PGRMC1', 'exemestane', 25.0, 48), ('PGRMC1', 'exemestane', 12.5, 48), ('PGRMC1', 'exemestane', 200.0, 72), ('PGRMC1', 'exemestane', 100.0, 72), ('PGRMC1', 'exemestane', 50.0, 72), ('PGRMC1', 'exemestane', 25.0, 72), ('PGRMC1', 'exemestane', 12.5, 72), ('EVC', 'exemestane', 200.0, 24), ('EVC', 'exemestane', 100.0, 24), ('EVC', 'exemestane', 50.0, 24), ('EVC', 'exemestane', 25.0, 24), ('EVC', 'exemestane', 12.5, 24), ('EVC', 'exemestane', 200.0, 48), ('EVC', 'exemestane', 100.0, 48), ('EVC', 'exemestane', 50.0, 48), ('EVC', 'exemestane', 25.0, 48), ('EVC', 'exemestane', 12.5, 48), ('EVC', 'exemestane', 200.0, 72), ('EVC', 'exemestane', 100.0, 72), ('EVC', 'exemestane', 50.0, 72), ('EVC', 'exemestane', 25.0, 72), ('EVC', 'exemestane', 12.5, 72), ('PGRMC1', 'tamoxifen', 200.0, 24), ('PGRMC1', 'tamoxifen', 100.0, 24), ('PGRMC1', 'tamoxifen', 50.0, 24), ('PGRMC1', 'tamoxifen', 25.0, 24), ('PGRMC1', 'tamoxifen', 12.5, 24), ('PGRMC1', 'tamoxifen', 200.0, 48), ('PGRMC1', 'tamoxifen', 100.0, 48), ('PGRMC1', 'tamoxifen', 50.0, 48), ('PGRMC1', 'tamoxifen', 25.0, 48), ('PGRMC1', 'tamoxifen', 12.5, 48), ('PGRMC1', 'tamoxifen', 200.0, 72), ('PGRMC1', 'tamoxifen', 100.0, 72), ('PGRMC1', 'tamoxifen', 50.0, 72), ('PGRMC1', 'tamoxifen', 25.0, 72), ('PGRMC1', 'tamoxifen', 12.5, 72), ('EVC', 'tamoxifen', 200.0, 24), ('EVC', 'tamoxifen', 100.0, 24), ('EVC', 'tamoxifen', 50.0, 24), ('EVC', 'tamoxifen', 25.0, 24), ('EVC', 'tamoxifen', 12.5, 24), ('EVC', 'tamoxifen', 200.0, 48), ('EVC', 'tamoxifen', 100.0, 48), ('EVC', 'tamoxifen', 50.0, 48), ('EVC', 'tamoxifen', 25.0, 48), ('EVC', 'tamoxifen', 12.5, 48), ('EVC', 'tamoxifen', 200.0, 72), ('EVC', 'tamoxifen', 100.0, 72), ('EVC', 'tamoxifen', 50.0, 72), ('EVC', 'tamoxifen', 25.0, 72), ('EVC', 'tamoxifen', 12.5, 72)]\n",
      "--------------------------------\n",
      "\n",
      "\n",
      "\n",
      "returning list of significant samples\n",
      "significant in both test are following samples:\n",
      "[('PGRMC1', 'exemestane', 50.0, 24), ('PGRMC1', 'exemestane', 25.0, 24), ('PGRMC1', 'exemestane', 200.0, 72), ('PGRMC1', 'exemestane', 100.0, 72), ('PGRMC1', 'exemestane', 12.5, 72), ('EVC', 'exemestane', 50.0, 24), ('EVC', 'exemestane', 25.0, 24), ('EVC', 'exemestane', 12.5, 24), ('EVC', 'exemestane', 200.0, 48), ('EVC', 'exemestane', 100.0, 48), ('EVC', 'exemestane', 25.0, 48), ('EVC', 'exemestane', 12.5, 48), ('EVC', 'exemestane', 200.0, 72), ('PGRMC1', 'tamoxifen', 200.0, 24), ('PGRMC1', 'tamoxifen', 100.0, 24), ('PGRMC1', 'tamoxifen', 50.0, 24), ('PGRMC1', 'tamoxifen', 25.0, 24), ('PGRMC1', 'tamoxifen', 200.0, 48), ('PGRMC1', 'tamoxifen', 50.0, 48), ('PGRMC1', 'tamoxifen', 12.5, 48), ('PGRMC1', 'tamoxifen', 200.0, 72), ('PGRMC1', 'tamoxifen', 100.0, 72), ('PGRMC1', 'tamoxifen', 50.0, 72), ('PGRMC1', 'tamoxifen', 25.0, 72), ('PGRMC1', 'tamoxifen', 12.5, 72), ('EVC', 'tamoxifen', 200.0, 24), ('EVC', 'tamoxifen', 100.0, 24), ('EVC', 'tamoxifen', 25.0, 48), ('EVC', 'tamoxifen', 100.0, 72), ('EVC', 'tamoxifen', 50.0, 72)]\n"
     ]
    }
   ],
   "source": [
    "drug_data = StatsTestAggregator('data/diss_stats/diss_stat_2.xlsx')\n",
    "drug_data.test_all_classes()\n",
    "sign_df = drug_data.get_significant_samples()\n"
   ],
   "metadata": {
    "collapsed": false,
    "pycharm": {
     "name": "#%%\n"
    }
   }
  },
  {
   "cell_type": "code",
   "execution_count": 113,
   "outputs": [
    {
     "name": "stderr",
     "output_type": "stream",
     "text": [
      "C:\\Users\\Lukasz\\AppData\\Local\\Temp\\ipykernel_16268\\3641422128.py:48: PerformanceWarning: indexing past lexsort depth may impact performance.\n",
      "  x = self.pgrmc1_classified.loc[cl][col]\n",
      "C:\\Users\\Lukasz\\AppData\\Local\\Temp\\ipykernel_16268\\3641422128.py:49: PerformanceWarning: indexing past lexsort depth may impact performance.\n",
      "  y = self.evc_classified.loc[cl][col]\n"
     ]
    },
    {
     "data": {
      "text/plain": "                       ttest_stat    ttest_pval\nexemestane 200.0 24 -2.796805e+00  2.331239e-02\n           100.0 24 -2.615236e+00  3.087811e-02\n           50.0  24  9.450185e-01  3.723124e-01\n           25.0  24  4.831603e-01  6.419274e-01\n           12.5  24 -6.100439e-09  1.000000e+00\n           200.0 48 -2.082824e+00  7.080368e-02\n           100.0 48 -3.236770e+00  1.193526e-02\n           50.0  48 -2.661702e+00  2.872954e-02\n           25.0  48  7.097633e-01  4.980134e-01\n           12.5  48 -8.519652e-16  1.000000e+00\n           200.0 72 -2.021905e+00  7.782840e-02\n           100.0 72 -5.898454e+00  3.623763e-04\n           50.0  72 -1.927716e+00  9.003748e-02\n           25.0  72 -3.145725e-01  7.611339e-01\n           12.5  72 -3.969003e-09  1.000000e+00\ntamoxifen  200.0 24 -3.351978e-01  7.460963e-01\n           100.0 24 -2.204562e+00  5.857565e-02\n           50.0  24  1.649246e+00  1.377073e-01\n           25.0  24  1.936879e+00  8.877304e-02\n           12.5  24  4.900823e-01  6.372325e-01\n           200.0 48  2.850608e+00  2.145899e-02\n           100.0 48 -5.326009e+00  7.059109e-04\n           50.0  48 -1.787317e+01  9.838412e-08\n           25.0  48 -1.039160e-01  9.197940e-01\n           12.5  48  1.328364e+00  2.207008e-01\n           200.0 72  1.550421e+00  1.596372e-01\n           100.0 72 -1.938008e+00  8.861843e-02\n           50.0  72 -2.857690e+00  2.122664e-02\n           25.0  72 -9.715797e+00  1.052249e-05\n           12.5  72 -1.350075e+00  2.139435e-01",
      "text/html": "<div>\n<style scoped>\n    .dataframe tbody tr th:only-of-type {\n        vertical-align: middle;\n    }\n\n    .dataframe tbody tr th {\n        vertical-align: top;\n    }\n\n    .dataframe thead th {\n        text-align: right;\n    }\n</style>\n<table border=\"1\" class=\"dataframe\">\n  <thead>\n    <tr style=\"text-align: right;\">\n      <th></th>\n      <th></th>\n      <th></th>\n      <th>ttest_stat</th>\n      <th>ttest_pval</th>\n    </tr>\n  </thead>\n  <tbody>\n    <tr>\n      <th rowspan=\"15\" valign=\"top\">exemestane</th>\n      <th>200.0</th>\n      <th>24</th>\n      <td>-2.796805e+00</td>\n      <td>2.331239e-02</td>\n    </tr>\n    <tr>\n      <th>100.0</th>\n      <th>24</th>\n      <td>-2.615236e+00</td>\n      <td>3.087811e-02</td>\n    </tr>\n    <tr>\n      <th>50.0</th>\n      <th>24</th>\n      <td>9.450185e-01</td>\n      <td>3.723124e-01</td>\n    </tr>\n    <tr>\n      <th>25.0</th>\n      <th>24</th>\n      <td>4.831603e-01</td>\n      <td>6.419274e-01</td>\n    </tr>\n    <tr>\n      <th>12.5</th>\n      <th>24</th>\n      <td>-6.100439e-09</td>\n      <td>1.000000e+00</td>\n    </tr>\n    <tr>\n      <th>200.0</th>\n      <th>48</th>\n      <td>-2.082824e+00</td>\n      <td>7.080368e-02</td>\n    </tr>\n    <tr>\n      <th>100.0</th>\n      <th>48</th>\n      <td>-3.236770e+00</td>\n      <td>1.193526e-02</td>\n    </tr>\n    <tr>\n      <th>50.0</th>\n      <th>48</th>\n      <td>-2.661702e+00</td>\n      <td>2.872954e-02</td>\n    </tr>\n    <tr>\n      <th>25.0</th>\n      <th>48</th>\n      <td>7.097633e-01</td>\n      <td>4.980134e-01</td>\n    </tr>\n    <tr>\n      <th>12.5</th>\n      <th>48</th>\n      <td>-8.519652e-16</td>\n      <td>1.000000e+00</td>\n    </tr>\n    <tr>\n      <th>200.0</th>\n      <th>72</th>\n      <td>-2.021905e+00</td>\n      <td>7.782840e-02</td>\n    </tr>\n    <tr>\n      <th>100.0</th>\n      <th>72</th>\n      <td>-5.898454e+00</td>\n      <td>3.623763e-04</td>\n    </tr>\n    <tr>\n      <th>50.0</th>\n      <th>72</th>\n      <td>-1.927716e+00</td>\n      <td>9.003748e-02</td>\n    </tr>\n    <tr>\n      <th>25.0</th>\n      <th>72</th>\n      <td>-3.145725e-01</td>\n      <td>7.611339e-01</td>\n    </tr>\n    <tr>\n      <th>12.5</th>\n      <th>72</th>\n      <td>-3.969003e-09</td>\n      <td>1.000000e+00</td>\n    </tr>\n    <tr>\n      <th rowspan=\"15\" valign=\"top\">tamoxifen</th>\n      <th>200.0</th>\n      <th>24</th>\n      <td>-3.351978e-01</td>\n      <td>7.460963e-01</td>\n    </tr>\n    <tr>\n      <th>100.0</th>\n      <th>24</th>\n      <td>-2.204562e+00</td>\n      <td>5.857565e-02</td>\n    </tr>\n    <tr>\n      <th>50.0</th>\n      <th>24</th>\n      <td>1.649246e+00</td>\n      <td>1.377073e-01</td>\n    </tr>\n    <tr>\n      <th>25.0</th>\n      <th>24</th>\n      <td>1.936879e+00</td>\n      <td>8.877304e-02</td>\n    </tr>\n    <tr>\n      <th>12.5</th>\n      <th>24</th>\n      <td>4.900823e-01</td>\n      <td>6.372325e-01</td>\n    </tr>\n    <tr>\n      <th>200.0</th>\n      <th>48</th>\n      <td>2.850608e+00</td>\n      <td>2.145899e-02</td>\n    </tr>\n    <tr>\n      <th>100.0</th>\n      <th>48</th>\n      <td>-5.326009e+00</td>\n      <td>7.059109e-04</td>\n    </tr>\n    <tr>\n      <th>50.0</th>\n      <th>48</th>\n      <td>-1.787317e+01</td>\n      <td>9.838412e-08</td>\n    </tr>\n    <tr>\n      <th>25.0</th>\n      <th>48</th>\n      <td>-1.039160e-01</td>\n      <td>9.197940e-01</td>\n    </tr>\n    <tr>\n      <th>12.5</th>\n      <th>48</th>\n      <td>1.328364e+00</td>\n      <td>2.207008e-01</td>\n    </tr>\n    <tr>\n      <th>200.0</th>\n      <th>72</th>\n      <td>1.550421e+00</td>\n      <td>1.596372e-01</td>\n    </tr>\n    <tr>\n      <th>100.0</th>\n      <th>72</th>\n      <td>-1.938008e+00</td>\n      <td>8.861843e-02</td>\n    </tr>\n    <tr>\n      <th>50.0</th>\n      <th>72</th>\n      <td>-2.857690e+00</td>\n      <td>2.122664e-02</td>\n    </tr>\n    <tr>\n      <th>25.0</th>\n      <th>72</th>\n      <td>-9.715797e+00</td>\n      <td>1.052249e-05</td>\n    </tr>\n    <tr>\n      <th>12.5</th>\n      <th>72</th>\n      <td>-1.350075e+00</td>\n      <td>2.139435e-01</td>\n    </tr>\n  </tbody>\n</table>\n</div>"
     },
     "execution_count": 113,
     "metadata": {},
     "output_type": "execute_result"
    }
   ],
   "source": [
    "drug_data.ttest_all_classes()"
   ],
   "metadata": {
    "collapsed": false,
    "pycharm": {
     "name": "#%%\n"
    }
   }
  },
  {
   "cell_type": "code",
   "execution_count": 110,
   "outputs": [
    {
     "data": {
      "text/plain": "                       ttest_stat    ttest_pval\nexemestane 200.0 24 -2.796805e+00  2.331239e-02\n           100.0 24 -2.615236e+00  3.087811e-02\n           50.0  24  9.450185e-01  3.723124e-01\n           25.0  24  4.831603e-01  6.419274e-01\n           12.5  24 -6.100439e-09  1.000000e+00\n           200.0 48 -2.082824e+00  7.080368e-02\n           100.0 48 -3.236770e+00  1.193526e-02\n           50.0  48 -2.661702e+00  2.872954e-02\n           25.0  48  7.097633e-01  4.980134e-01\n           12.5  48 -8.519652e-16  1.000000e+00\n           200.0 72 -2.021905e+00  7.782840e-02\n           100.0 72 -5.898454e+00  3.623763e-04\n           50.0  72 -1.927716e+00  9.003748e-02\n           25.0  72 -3.145725e-01  7.611339e-01\n           12.5  72 -3.969003e-09  1.000000e+00\ntamoxifen  200.0 24 -3.351978e-01  7.460963e-01\n           100.0 24 -2.204562e+00  5.857565e-02\n           50.0  24  1.649246e+00  1.377073e-01\n           25.0  24  1.936879e+00  8.877304e-02\n           12.5  24  4.900823e-01  6.372325e-01\n           200.0 48  2.850608e+00  2.145899e-02\n           100.0 48 -5.326009e+00  7.059109e-04\n           50.0  48 -1.787317e+01  9.838412e-08\n           25.0  48 -1.039160e-01  9.197940e-01\n           12.5  48  1.328364e+00  2.207008e-01\n           200.0 72  1.550421e+00  1.596372e-01\n           100.0 72 -1.938008e+00  8.861843e-02\n           50.0  72 -2.857690e+00  2.122664e-02\n           25.0  72 -9.715797e+00  1.052249e-05\n           12.5  72 -1.350075e+00  2.139435e-01",
      "text/html": "<div>\n<style scoped>\n    .dataframe tbody tr th:only-of-type {\n        vertical-align: middle;\n    }\n\n    .dataframe tbody tr th {\n        vertical-align: top;\n    }\n\n    .dataframe thead th {\n        text-align: right;\n    }\n</style>\n<table border=\"1\" class=\"dataframe\">\n  <thead>\n    <tr style=\"text-align: right;\">\n      <th></th>\n      <th></th>\n      <th></th>\n      <th>ttest_stat</th>\n      <th>ttest_pval</th>\n    </tr>\n  </thead>\n  <tbody>\n    <tr>\n      <th rowspan=\"15\" valign=\"top\">exemestane</th>\n      <th>200.0</th>\n      <th>24</th>\n      <td>-2.796805e+00</td>\n      <td>2.331239e-02</td>\n    </tr>\n    <tr>\n      <th>100.0</th>\n      <th>24</th>\n      <td>-2.615236e+00</td>\n      <td>3.087811e-02</td>\n    </tr>\n    <tr>\n      <th>50.0</th>\n      <th>24</th>\n      <td>9.450185e-01</td>\n      <td>3.723124e-01</td>\n    </tr>\n    <tr>\n      <th>25.0</th>\n      <th>24</th>\n      <td>4.831603e-01</td>\n      <td>6.419274e-01</td>\n    </tr>\n    <tr>\n      <th>12.5</th>\n      <th>24</th>\n      <td>-6.100439e-09</td>\n      <td>1.000000e+00</td>\n    </tr>\n    <tr>\n      <th>200.0</th>\n      <th>48</th>\n      <td>-2.082824e+00</td>\n      <td>7.080368e-02</td>\n    </tr>\n    <tr>\n      <th>100.0</th>\n      <th>48</th>\n      <td>-3.236770e+00</td>\n      <td>1.193526e-02</td>\n    </tr>\n    <tr>\n      <th>50.0</th>\n      <th>48</th>\n      <td>-2.661702e+00</td>\n      <td>2.872954e-02</td>\n    </tr>\n    <tr>\n      <th>25.0</th>\n      <th>48</th>\n      <td>7.097633e-01</td>\n      <td>4.980134e-01</td>\n    </tr>\n    <tr>\n      <th>12.5</th>\n      <th>48</th>\n      <td>-8.519652e-16</td>\n      <td>1.000000e+00</td>\n    </tr>\n    <tr>\n      <th>200.0</th>\n      <th>72</th>\n      <td>-2.021905e+00</td>\n      <td>7.782840e-02</td>\n    </tr>\n    <tr>\n      <th>100.0</th>\n      <th>72</th>\n      <td>-5.898454e+00</td>\n      <td>3.623763e-04</td>\n    </tr>\n    <tr>\n      <th>50.0</th>\n      <th>72</th>\n      <td>-1.927716e+00</td>\n      <td>9.003748e-02</td>\n    </tr>\n    <tr>\n      <th>25.0</th>\n      <th>72</th>\n      <td>-3.145725e-01</td>\n      <td>7.611339e-01</td>\n    </tr>\n    <tr>\n      <th>12.5</th>\n      <th>72</th>\n      <td>-3.969003e-09</td>\n      <td>1.000000e+00</td>\n    </tr>\n    <tr>\n      <th rowspan=\"15\" valign=\"top\">tamoxifen</th>\n      <th>200.0</th>\n      <th>24</th>\n      <td>-3.351978e-01</td>\n      <td>7.460963e-01</td>\n    </tr>\n    <tr>\n      <th>100.0</th>\n      <th>24</th>\n      <td>-2.204562e+00</td>\n      <td>5.857565e-02</td>\n    </tr>\n    <tr>\n      <th>50.0</th>\n      <th>24</th>\n      <td>1.649246e+00</td>\n      <td>1.377073e-01</td>\n    </tr>\n    <tr>\n      <th>25.0</th>\n      <th>24</th>\n      <td>1.936879e+00</td>\n      <td>8.877304e-02</td>\n    </tr>\n    <tr>\n      <th>12.5</th>\n      <th>24</th>\n      <td>4.900823e-01</td>\n      <td>6.372325e-01</td>\n    </tr>\n    <tr>\n      <th>200.0</th>\n      <th>48</th>\n      <td>2.850608e+00</td>\n      <td>2.145899e-02</td>\n    </tr>\n    <tr>\n      <th>100.0</th>\n      <th>48</th>\n      <td>-5.326009e+00</td>\n      <td>7.059109e-04</td>\n    </tr>\n    <tr>\n      <th>50.0</th>\n      <th>48</th>\n      <td>-1.787317e+01</td>\n      <td>9.838412e-08</td>\n    </tr>\n    <tr>\n      <th>25.0</th>\n      <th>48</th>\n      <td>-1.039160e-01</td>\n      <td>9.197940e-01</td>\n    </tr>\n    <tr>\n      <th>12.5</th>\n      <th>48</th>\n      <td>1.328364e+00</td>\n      <td>2.207008e-01</td>\n    </tr>\n    <tr>\n      <th>200.0</th>\n      <th>72</th>\n      <td>1.550421e+00</td>\n      <td>1.596372e-01</td>\n    </tr>\n    <tr>\n      <th>100.0</th>\n      <th>72</th>\n      <td>-1.938008e+00</td>\n      <td>8.861843e-02</td>\n    </tr>\n    <tr>\n      <th>50.0</th>\n      <th>72</th>\n      <td>-2.857690e+00</td>\n      <td>2.122664e-02</td>\n    </tr>\n    <tr>\n      <th>25.0</th>\n      <th>72</th>\n      <td>-9.715797e+00</td>\n      <td>1.052249e-05</td>\n    </tr>\n    <tr>\n      <th>12.5</th>\n      <th>72</th>\n      <td>-1.350075e+00</td>\n      <td>2.139435e-01</td>\n    </tr>\n  </tbody>\n</table>\n</div>"
     },
     "execution_count": 110,
     "metadata": {},
     "output_type": "execute_result"
    }
   ],
   "source": [
    "pd.DataFrame(drug_data.ttest_dict).T"
   ],
   "metadata": {
    "collapsed": false,
    "pycharm": {
     "name": "#%%\n"
    }
   }
  },
  {
   "cell_type": "code",
   "execution_count": 83,
   "outputs": [
    {
     "data": {
      "text/plain": "                                       shapiro_stat  shapiro_pval  \\\nexpression substance  dose  timepoint                               \nEVC        exemestane 12.5  24             0.826435      0.040722   \n                            24             0.826435      0.040722   \n                            24             0.826435      0.040722   \n                            24             0.826435      0.040722   \n                            24             0.826435      0.040722   \n...                                             ...           ...   \nPGRMC1     tamoxifen  200.0 72             0.703152      0.001545   \n                            72             0.703152      0.001545   \n                            72             0.703152      0.001545   \n                            72             0.703152      0.001545   \n                            72             0.703152      0.001545   \n\n                                       kstest_stat   kstest_pval  rep  \\\nexpression substance  dose  timepoint                                   \nEVC        exemestane 12.5  24            0.823419  3.388335e-07    1   \n                            24            0.823419  3.388335e-07    1   \n                            24            0.823419  3.388335e-07    1   \n                            24            0.823419  3.388335e-07    2   \n                            24            0.823419  3.388335e-07    2   \n...                                            ...           ...  ...   \nPGRMC1     tamoxifen  200.0 72            0.522160  8.257661e-03    2   \n                            72            0.522160  8.257661e-03    2   \n                            72            0.522160  8.257661e-03    3   \n                            72            0.522160  8.257661e-03    3   \n                            72            0.522160  8.257661e-03    3   \n\n                                       viability  \nexpression substance  dose  timepoint             \nEVC        exemestane 12.5  24          1.032624  \n                            24          1.038903  \n                            24          0.928473  \n                            24          1.032624  \n                            24          1.038903  \n...                                          ...  \nPGRMC1     tamoxifen  200.0 72          0.092173  \n                            72          0.092517  \n                            72          0.062943  \n                            72          0.055576  \n                            72          0.056576  \n\n[540 rows x 6 columns]",
      "text/html": "<div>\n<style scoped>\n    .dataframe tbody tr th:only-of-type {\n        vertical-align: middle;\n    }\n\n    .dataframe tbody tr th {\n        vertical-align: top;\n    }\n\n    .dataframe thead th {\n        text-align: right;\n    }\n</style>\n<table border=\"1\" class=\"dataframe\">\n  <thead>\n    <tr style=\"text-align: right;\">\n      <th></th>\n      <th></th>\n      <th></th>\n      <th></th>\n      <th>shapiro_stat</th>\n      <th>shapiro_pval</th>\n      <th>kstest_stat</th>\n      <th>kstest_pval</th>\n      <th>rep</th>\n      <th>viability</th>\n    </tr>\n    <tr>\n      <th>expression</th>\n      <th>substance</th>\n      <th>dose</th>\n      <th>timepoint</th>\n      <th></th>\n      <th></th>\n      <th></th>\n      <th></th>\n      <th></th>\n      <th></th>\n    </tr>\n  </thead>\n  <tbody>\n    <tr>\n      <th rowspan=\"5\" valign=\"top\">EVC</th>\n      <th rowspan=\"5\" valign=\"top\">exemestane</th>\n      <th rowspan=\"5\" valign=\"top\">12.5</th>\n      <th>24</th>\n      <td>0.826435</td>\n      <td>0.040722</td>\n      <td>0.823419</td>\n      <td>3.388335e-07</td>\n      <td>1</td>\n      <td>1.032624</td>\n    </tr>\n    <tr>\n      <th>24</th>\n      <td>0.826435</td>\n      <td>0.040722</td>\n      <td>0.823419</td>\n      <td>3.388335e-07</td>\n      <td>1</td>\n      <td>1.038903</td>\n    </tr>\n    <tr>\n      <th>24</th>\n      <td>0.826435</td>\n      <td>0.040722</td>\n      <td>0.823419</td>\n      <td>3.388335e-07</td>\n      <td>1</td>\n      <td>0.928473</td>\n    </tr>\n    <tr>\n      <th>24</th>\n      <td>0.826435</td>\n      <td>0.040722</td>\n      <td>0.823419</td>\n      <td>3.388335e-07</td>\n      <td>2</td>\n      <td>1.032624</td>\n    </tr>\n    <tr>\n      <th>24</th>\n      <td>0.826435</td>\n      <td>0.040722</td>\n      <td>0.823419</td>\n      <td>3.388335e-07</td>\n      <td>2</td>\n      <td>1.038903</td>\n    </tr>\n    <tr>\n      <th>...</th>\n      <th>...</th>\n      <th>...</th>\n      <th>...</th>\n      <td>...</td>\n      <td>...</td>\n      <td>...</td>\n      <td>...</td>\n      <td>...</td>\n      <td>...</td>\n    </tr>\n    <tr>\n      <th rowspan=\"5\" valign=\"top\">PGRMC1</th>\n      <th rowspan=\"5\" valign=\"top\">tamoxifen</th>\n      <th rowspan=\"5\" valign=\"top\">200.0</th>\n      <th>72</th>\n      <td>0.703152</td>\n      <td>0.001545</td>\n      <td>0.522160</td>\n      <td>8.257661e-03</td>\n      <td>2</td>\n      <td>0.092173</td>\n    </tr>\n    <tr>\n      <th>72</th>\n      <td>0.703152</td>\n      <td>0.001545</td>\n      <td>0.522160</td>\n      <td>8.257661e-03</td>\n      <td>2</td>\n      <td>0.092517</td>\n    </tr>\n    <tr>\n      <th>72</th>\n      <td>0.703152</td>\n      <td>0.001545</td>\n      <td>0.522160</td>\n      <td>8.257661e-03</td>\n      <td>3</td>\n      <td>0.062943</td>\n    </tr>\n    <tr>\n      <th>72</th>\n      <td>0.703152</td>\n      <td>0.001545</td>\n      <td>0.522160</td>\n      <td>8.257661e-03</td>\n      <td>3</td>\n      <td>0.055576</td>\n    </tr>\n    <tr>\n      <th>72</th>\n      <td>0.703152</td>\n      <td>0.001545</td>\n      <td>0.522160</td>\n      <td>8.257661e-03</td>\n      <td>3</td>\n      <td>0.056576</td>\n    </tr>\n  </tbody>\n</table>\n<p>540 rows × 6 columns</p>\n</div>"
     },
     "execution_count": 83,
     "metadata": {},
     "output_type": "execute_result"
    }
   ],
   "source": [
    "self.tested_df.index = self.tested_df.index.set_names(self.sign_df.index.names)\n",
    "self.all_significant = self.tested_df.merge(self.df_classified, how=\"inner\", left_index=True, right_index=True)"
   ],
   "metadata": {
    "collapsed": false,
    "pycharm": {
     "name": "#%%\n"
    }
   }
  },
  {
   "cell_type": "code",
   "execution_count": 73,
   "outputs": [
    {
     "name": "stdout",
     "output_type": "stream",
     "text": [
      "60\n"
     ]
    },
    {
     "ename": "ValueError",
     "evalue": "cannot join with no overlapping index names",
     "output_type": "error",
     "traceback": [
      "\u001B[1;31m---------------------------------------------------------------------------\u001B[0m",
      "\u001B[1;31mValueError\u001B[0m                                Traceback (most recent call last)",
      "\u001B[1;32m~\\AppData\\Local\\Temp\\ipykernel_16268\\1351787099.py\u001B[0m in \u001B[0;36m<module>\u001B[1;34m\u001B[0m\n\u001B[0;32m      1\u001B[0m \u001B[0mtest\u001B[0m \u001B[1;33m=\u001B[0m \u001B[0mdrug_data\u001B[0m\u001B[1;33m.\u001B[0m\u001B[0mtested_df\u001B[0m\u001B[1;33m\u001B[0m\u001B[1;33m\u001B[0m\u001B[0m\n\u001B[0;32m      2\u001B[0m \u001B[0mprint\u001B[0m\u001B[1;33m(\u001B[0m\u001B[0mlen\u001B[0m\u001B[1;33m(\u001B[0m\u001B[0mtest\u001B[0m\u001B[1;33m)\u001B[0m\u001B[1;33m)\u001B[0m\u001B[1;33m\u001B[0m\u001B[1;33m\u001B[0m\u001B[0m\n\u001B[1;32m----> 3\u001B[1;33m \u001B[0mtest\u001B[0m\u001B[1;33m.\u001B[0m\u001B[0mmerge\u001B[0m\u001B[1;33m(\u001B[0m\u001B[0mclass_df\u001B[0m\u001B[1;33m,\u001B[0m \u001B[0mleft_index\u001B[0m\u001B[1;33m=\u001B[0m\u001B[1;32mTrue\u001B[0m\u001B[1;33m,\u001B[0m \u001B[0mright_index\u001B[0m\u001B[1;33m=\u001B[0m\u001B[1;32mTrue\u001B[0m\u001B[1;33m)\u001B[0m\u001B[1;33m\u001B[0m\u001B[1;33m\u001B[0m\u001B[0m\n\u001B[0m",
      "\u001B[1;32mC:\\python_work\\lib\\site-packages\\pandas\\core\\frame.py\u001B[0m in \u001B[0;36mmerge\u001B[1;34m(self, right, how, on, left_on, right_on, left_index, right_index, sort, suffixes, copy, indicator, validate)\u001B[0m\n\u001B[0;32m   9327\u001B[0m         \u001B[1;32mfrom\u001B[0m \u001B[0mpandas\u001B[0m\u001B[1;33m.\u001B[0m\u001B[0mcore\u001B[0m\u001B[1;33m.\u001B[0m\u001B[0mreshape\u001B[0m\u001B[1;33m.\u001B[0m\u001B[0mmerge\u001B[0m \u001B[1;32mimport\u001B[0m \u001B[0mmerge\u001B[0m\u001B[1;33m\u001B[0m\u001B[1;33m\u001B[0m\u001B[0m\n\u001B[0;32m   9328\u001B[0m \u001B[1;33m\u001B[0m\u001B[0m\n\u001B[1;32m-> 9329\u001B[1;33m         return merge(\n\u001B[0m\u001B[0;32m   9330\u001B[0m             \u001B[0mself\u001B[0m\u001B[1;33m,\u001B[0m\u001B[1;33m\u001B[0m\u001B[1;33m\u001B[0m\u001B[0m\n\u001B[0;32m   9331\u001B[0m             \u001B[0mright\u001B[0m\u001B[1;33m,\u001B[0m\u001B[1;33m\u001B[0m\u001B[1;33m\u001B[0m\u001B[0m\n",
      "\u001B[1;32mC:\\python_work\\lib\\site-packages\\pandas\\core\\reshape\\merge.py\u001B[0m in \u001B[0;36mmerge\u001B[1;34m(left, right, how, on, left_on, right_on, left_index, right_index, sort, suffixes, copy, indicator, validate)\u001B[0m\n\u001B[0;32m    120\u001B[0m         \u001B[0mvalidate\u001B[0m\u001B[1;33m=\u001B[0m\u001B[0mvalidate\u001B[0m\u001B[1;33m,\u001B[0m\u001B[1;33m\u001B[0m\u001B[1;33m\u001B[0m\u001B[0m\n\u001B[0;32m    121\u001B[0m     )\n\u001B[1;32m--> 122\u001B[1;33m     \u001B[1;32mreturn\u001B[0m \u001B[0mop\u001B[0m\u001B[1;33m.\u001B[0m\u001B[0mget_result\u001B[0m\u001B[1;33m(\u001B[0m\u001B[1;33m)\u001B[0m\u001B[1;33m\u001B[0m\u001B[1;33m\u001B[0m\u001B[0m\n\u001B[0m\u001B[0;32m    123\u001B[0m \u001B[1;33m\u001B[0m\u001B[0m\n\u001B[0;32m    124\u001B[0m \u001B[1;33m\u001B[0m\u001B[0m\n",
      "\u001B[1;32mC:\\python_work\\lib\\site-packages\\pandas\\core\\reshape\\merge.py\u001B[0m in \u001B[0;36mget_result\u001B[1;34m(self)\u001B[0m\n\u001B[0;32m    714\u001B[0m             \u001B[0mself\u001B[0m\u001B[1;33m.\u001B[0m\u001B[0mleft\u001B[0m\u001B[1;33m,\u001B[0m \u001B[0mself\u001B[0m\u001B[1;33m.\u001B[0m\u001B[0mright\u001B[0m \u001B[1;33m=\u001B[0m \u001B[0mself\u001B[0m\u001B[1;33m.\u001B[0m\u001B[0m_indicator_pre_merge\u001B[0m\u001B[1;33m(\u001B[0m\u001B[0mself\u001B[0m\u001B[1;33m.\u001B[0m\u001B[0mleft\u001B[0m\u001B[1;33m,\u001B[0m \u001B[0mself\u001B[0m\u001B[1;33m.\u001B[0m\u001B[0mright\u001B[0m\u001B[1;33m)\u001B[0m\u001B[1;33m\u001B[0m\u001B[1;33m\u001B[0m\u001B[0m\n\u001B[0;32m    715\u001B[0m \u001B[1;33m\u001B[0m\u001B[0m\n\u001B[1;32m--> 716\u001B[1;33m         \u001B[0mjoin_index\u001B[0m\u001B[1;33m,\u001B[0m \u001B[0mleft_indexer\u001B[0m\u001B[1;33m,\u001B[0m \u001B[0mright_indexer\u001B[0m \u001B[1;33m=\u001B[0m \u001B[0mself\u001B[0m\u001B[1;33m.\u001B[0m\u001B[0m_get_join_info\u001B[0m\u001B[1;33m(\u001B[0m\u001B[1;33m)\u001B[0m\u001B[1;33m\u001B[0m\u001B[1;33m\u001B[0m\u001B[0m\n\u001B[0m\u001B[0;32m    717\u001B[0m \u001B[1;33m\u001B[0m\u001B[0m\n\u001B[0;32m    718\u001B[0m         llabels, rlabels = _items_overlap_with_suffix(\n",
      "\u001B[1;32mC:\\python_work\\lib\\site-packages\\pandas\\core\\reshape\\merge.py\u001B[0m in \u001B[0;36m_get_join_info\u001B[1;34m(self)\u001B[0m\n\u001B[0;32m    951\u001B[0m \u001B[1;33m\u001B[0m\u001B[0m\n\u001B[0;32m    952\u001B[0m         \u001B[1;32mif\u001B[0m \u001B[0mself\u001B[0m\u001B[1;33m.\u001B[0m\u001B[0mleft_index\u001B[0m \u001B[1;32mand\u001B[0m \u001B[0mself\u001B[0m\u001B[1;33m.\u001B[0m\u001B[0mright_index\u001B[0m \u001B[1;32mand\u001B[0m \u001B[0mself\u001B[0m\u001B[1;33m.\u001B[0m\u001B[0mhow\u001B[0m \u001B[1;33m!=\u001B[0m \u001B[1;34m\"asof\"\u001B[0m\u001B[1;33m:\u001B[0m\u001B[1;33m\u001B[0m\u001B[1;33m\u001B[0m\u001B[0m\n\u001B[1;32m--> 953\u001B[1;33m             join_index, left_indexer, right_indexer = left_ax.join(\n\u001B[0m\u001B[0;32m    954\u001B[0m                 \u001B[0mright_ax\u001B[0m\u001B[1;33m,\u001B[0m \u001B[0mhow\u001B[0m\u001B[1;33m=\u001B[0m\u001B[0mself\u001B[0m\u001B[1;33m.\u001B[0m\u001B[0mhow\u001B[0m\u001B[1;33m,\u001B[0m \u001B[0mreturn_indexers\u001B[0m\u001B[1;33m=\u001B[0m\u001B[1;32mTrue\u001B[0m\u001B[1;33m,\u001B[0m \u001B[0msort\u001B[0m\u001B[1;33m=\u001B[0m\u001B[0mself\u001B[0m\u001B[1;33m.\u001B[0m\u001B[0msort\u001B[0m\u001B[1;33m\u001B[0m\u001B[1;33m\u001B[0m\u001B[0m\n\u001B[0;32m    955\u001B[0m             )\n",
      "\u001B[1;32mC:\\python_work\\lib\\site-packages\\pandas\\core\\indexes\\base.py\u001B[0m in \u001B[0;36mjoin\u001B[1;34m(self, other, how, level, return_indexers, sort)\u001B[0m\n\u001B[0;32m    214\u001B[0m         \u001B[0msort\u001B[0m\u001B[1;33m:\u001B[0m \u001B[0mbool\u001B[0m \u001B[1;33m=\u001B[0m \u001B[1;32mFalse\u001B[0m\u001B[1;33m,\u001B[0m\u001B[1;33m\u001B[0m\u001B[1;33m\u001B[0m\u001B[0m\n\u001B[0;32m    215\u001B[0m     ):\n\u001B[1;32m--> 216\u001B[1;33m         \u001B[0mjoin_index\u001B[0m\u001B[1;33m,\u001B[0m \u001B[0mlidx\u001B[0m\u001B[1;33m,\u001B[0m \u001B[0mridx\u001B[0m \u001B[1;33m=\u001B[0m \u001B[0mmeth\u001B[0m\u001B[1;33m(\u001B[0m\u001B[0mself\u001B[0m\u001B[1;33m,\u001B[0m \u001B[0mother\u001B[0m\u001B[1;33m,\u001B[0m \u001B[0mhow\u001B[0m\u001B[1;33m=\u001B[0m\u001B[0mhow\u001B[0m\u001B[1;33m,\u001B[0m \u001B[0mlevel\u001B[0m\u001B[1;33m=\u001B[0m\u001B[0mlevel\u001B[0m\u001B[1;33m,\u001B[0m \u001B[0msort\u001B[0m\u001B[1;33m=\u001B[0m\u001B[0msort\u001B[0m\u001B[1;33m)\u001B[0m\u001B[1;33m\u001B[0m\u001B[1;33m\u001B[0m\u001B[0m\n\u001B[0m\u001B[0;32m    217\u001B[0m         \u001B[1;32mif\u001B[0m \u001B[1;32mnot\u001B[0m \u001B[0mreturn_indexers\u001B[0m\u001B[1;33m:\u001B[0m\u001B[1;33m\u001B[0m\u001B[1;33m\u001B[0m\u001B[0m\n\u001B[0;32m    218\u001B[0m             \u001B[1;32mreturn\u001B[0m \u001B[0mjoin_index\u001B[0m\u001B[1;33m\u001B[0m\u001B[1;33m\u001B[0m\u001B[0m\n",
      "\u001B[1;32mC:\\python_work\\lib\\site-packages\\pandas\\core\\indexes\\base.py\u001B[0m in \u001B[0;36mjoin\u001B[1;34m(self, other, how, level, return_indexers, sort)\u001B[0m\n\u001B[0;32m   4366\u001B[0m                 \u001B[1;32mpass\u001B[0m\u001B[1;33m\u001B[0m\u001B[1;33m\u001B[0m\u001B[0m\n\u001B[0;32m   4367\u001B[0m             \u001B[1;32melse\u001B[0m\u001B[1;33m:\u001B[0m\u001B[1;33m\u001B[0m\u001B[1;33m\u001B[0m\u001B[0m\n\u001B[1;32m-> 4368\u001B[1;33m                 \u001B[1;32mreturn\u001B[0m \u001B[0mself\u001B[0m\u001B[1;33m.\u001B[0m\u001B[0m_join_multi\u001B[0m\u001B[1;33m(\u001B[0m\u001B[0mother\u001B[0m\u001B[1;33m,\u001B[0m \u001B[0mhow\u001B[0m\u001B[1;33m=\u001B[0m\u001B[0mhow\u001B[0m\u001B[1;33m)\u001B[0m\u001B[1;33m\u001B[0m\u001B[1;33m\u001B[0m\u001B[0m\n\u001B[0m\u001B[0;32m   4369\u001B[0m \u001B[1;33m\u001B[0m\u001B[0m\n\u001B[0;32m   4370\u001B[0m         \u001B[1;31m# join on the level\u001B[0m\u001B[1;33m\u001B[0m\u001B[1;33m\u001B[0m\u001B[1;33m\u001B[0m\u001B[0m\n",
      "\u001B[1;32mC:\\python_work\\lib\\site-packages\\pandas\\core\\indexes\\base.py\u001B[0m in \u001B[0;36m_join_multi\u001B[1;34m(self, other, how)\u001B[0m\n\u001B[0;32m   4477\u001B[0m         \u001B[1;31m# need at least 1 in common\u001B[0m\u001B[1;33m\u001B[0m\u001B[1;33m\u001B[0m\u001B[1;33m\u001B[0m\u001B[0m\n\u001B[0;32m   4478\u001B[0m         \u001B[1;32mif\u001B[0m \u001B[1;32mnot\u001B[0m \u001B[0moverlap\u001B[0m\u001B[1;33m:\u001B[0m\u001B[1;33m\u001B[0m\u001B[1;33m\u001B[0m\u001B[0m\n\u001B[1;32m-> 4479\u001B[1;33m             \u001B[1;32mraise\u001B[0m \u001B[0mValueError\u001B[0m\u001B[1;33m(\u001B[0m\u001B[1;34m\"cannot join with no overlapping index names\"\u001B[0m\u001B[1;33m)\u001B[0m\u001B[1;33m\u001B[0m\u001B[1;33m\u001B[0m\u001B[0m\n\u001B[0m\u001B[0;32m   4480\u001B[0m \u001B[1;33m\u001B[0m\u001B[0m\n\u001B[0;32m   4481\u001B[0m         \u001B[1;32mif\u001B[0m \u001B[0misinstance\u001B[0m\u001B[1;33m(\u001B[0m\u001B[0mself\u001B[0m\u001B[1;33m,\u001B[0m \u001B[0mMultiIndex\u001B[0m\u001B[1;33m)\u001B[0m \u001B[1;32mand\u001B[0m \u001B[0misinstance\u001B[0m\u001B[1;33m(\u001B[0m\u001B[0mother\u001B[0m\u001B[1;33m,\u001B[0m \u001B[0mMultiIndex\u001B[0m\u001B[1;33m)\u001B[0m\u001B[1;33m:\u001B[0m\u001B[1;33m\u001B[0m\u001B[1;33m\u001B[0m\u001B[0m\n",
      "\u001B[1;31mValueError\u001B[0m: cannot join with no overlapping index names"
     ]
    }
   ],
   "source": [
    "test = drug_data.tested_df\n",
    "print(len(test))\n",
    "test.merge(class_df, left_index=True, right_index=True)"
   ],
   "metadata": {
    "collapsed": false,
    "pycharm": {
     "name": "#%%\n"
    }
   }
  },
  {
   "cell_type": "code",
   "execution_count": 84,
   "outputs": [
    {
     "ename": "MergeError",
     "evalue": "No common columns to perform merge on. Merge options: left_on=None, right_on=None, left_index=False, right_index=False",
     "output_type": "error",
     "traceback": [
      "\u001B[1;31m---------------------------------------------------------------------------\u001B[0m",
      "\u001B[1;31mMergeError\u001B[0m                                Traceback (most recent call last)",
      "\u001B[1;32m~\\AppData\\Local\\Temp\\ipykernel_16268\\1848945215.py\u001B[0m in \u001B[0;36m<module>\u001B[1;34m\u001B[0m\n\u001B[1;32m----> 1\u001B[1;33m \u001B[0mres\u001B[0m \u001B[1;33m=\u001B[0m \u001B[0msign_df\u001B[0m\u001B[1;33m.\u001B[0m\u001B[0mmerge\u001B[0m\u001B[1;33m(\u001B[0m\u001B[0mdrug_data\u001B[0m\u001B[1;33m.\u001B[0m\u001B[0mtested_df\u001B[0m\u001B[1;33m,\u001B[0m \u001B[0mhow\u001B[0m\u001B[1;33m=\u001B[0m\u001B[1;34m\"left\"\u001B[0m\u001B[1;33m)\u001B[0m\u001B[1;33m\u001B[0m\u001B[1;33m\u001B[0m\u001B[0m\n\u001B[0m",
      "\u001B[1;32mC:\\python_work\\lib\\site-packages\\pandas\\core\\frame.py\u001B[0m in \u001B[0;36mmerge\u001B[1;34m(self, right, how, on, left_on, right_on, left_index, right_index, sort, suffixes, copy, indicator, validate)\u001B[0m\n\u001B[0;32m   9327\u001B[0m         \u001B[1;32mfrom\u001B[0m \u001B[0mpandas\u001B[0m\u001B[1;33m.\u001B[0m\u001B[0mcore\u001B[0m\u001B[1;33m.\u001B[0m\u001B[0mreshape\u001B[0m\u001B[1;33m.\u001B[0m\u001B[0mmerge\u001B[0m \u001B[1;32mimport\u001B[0m \u001B[0mmerge\u001B[0m\u001B[1;33m\u001B[0m\u001B[1;33m\u001B[0m\u001B[0m\n\u001B[0;32m   9328\u001B[0m \u001B[1;33m\u001B[0m\u001B[0m\n\u001B[1;32m-> 9329\u001B[1;33m         return merge(\n\u001B[0m\u001B[0;32m   9330\u001B[0m             \u001B[0mself\u001B[0m\u001B[1;33m,\u001B[0m\u001B[1;33m\u001B[0m\u001B[1;33m\u001B[0m\u001B[0m\n\u001B[0;32m   9331\u001B[0m             \u001B[0mright\u001B[0m\u001B[1;33m,\u001B[0m\u001B[1;33m\u001B[0m\u001B[1;33m\u001B[0m\u001B[0m\n",
      "\u001B[1;32mC:\\python_work\\lib\\site-packages\\pandas\\core\\reshape\\merge.py\u001B[0m in \u001B[0;36mmerge\u001B[1;34m(left, right, how, on, left_on, right_on, left_index, right_index, sort, suffixes, copy, indicator, validate)\u001B[0m\n\u001B[0;32m    105\u001B[0m     \u001B[0mvalidate\u001B[0m\u001B[1;33m:\u001B[0m \u001B[0mstr\u001B[0m \u001B[1;33m|\u001B[0m \u001B[1;32mNone\u001B[0m \u001B[1;33m=\u001B[0m \u001B[1;32mNone\u001B[0m\u001B[1;33m,\u001B[0m\u001B[1;33m\u001B[0m\u001B[1;33m\u001B[0m\u001B[0m\n\u001B[0;32m    106\u001B[0m ) -> DataFrame:\n\u001B[1;32m--> 107\u001B[1;33m     op = _MergeOperation(\n\u001B[0m\u001B[0;32m    108\u001B[0m         \u001B[0mleft\u001B[0m\u001B[1;33m,\u001B[0m\u001B[1;33m\u001B[0m\u001B[1;33m\u001B[0m\u001B[0m\n\u001B[0;32m    109\u001B[0m         \u001B[0mright\u001B[0m\u001B[1;33m,\u001B[0m\u001B[1;33m\u001B[0m\u001B[1;33m\u001B[0m\u001B[0m\n",
      "\u001B[1;32mC:\\python_work\\lib\\site-packages\\pandas\\core\\reshape\\merge.py\u001B[0m in \u001B[0;36m__init__\u001B[1;34m(self, left, right, how, on, left_on, right_on, axis, left_index, right_index, sort, suffixes, copy, indicator, validate)\u001B[0m\n\u001B[0;32m    680\u001B[0m             \u001B[0mwarnings\u001B[0m\u001B[1;33m.\u001B[0m\u001B[0mwarn\u001B[0m\u001B[1;33m(\u001B[0m\u001B[0mmsg\u001B[0m\u001B[1;33m,\u001B[0m \u001B[0mFutureWarning\u001B[0m\u001B[1;33m,\u001B[0m \u001B[0mstacklevel\u001B[0m\u001B[1;33m=\u001B[0m\u001B[0mfind_stack_level\u001B[0m\u001B[1;33m(\u001B[0m\u001B[1;33m)\u001B[0m\u001B[1;33m)\u001B[0m\u001B[1;33m\u001B[0m\u001B[1;33m\u001B[0m\u001B[0m\n\u001B[0;32m    681\u001B[0m \u001B[1;33m\u001B[0m\u001B[0m\n\u001B[1;32m--> 682\u001B[1;33m         \u001B[0mself\u001B[0m\u001B[1;33m.\u001B[0m\u001B[0m_validate_specification\u001B[0m\u001B[1;33m(\u001B[0m\u001B[1;33m)\u001B[0m\u001B[1;33m\u001B[0m\u001B[1;33m\u001B[0m\u001B[0m\n\u001B[0m\u001B[0;32m    683\u001B[0m \u001B[1;33m\u001B[0m\u001B[0m\n\u001B[0;32m    684\u001B[0m         \u001B[0mcross_col\u001B[0m \u001B[1;33m=\u001B[0m \u001B[1;32mNone\u001B[0m\u001B[1;33m\u001B[0m\u001B[1;33m\u001B[0m\u001B[0m\n",
      "\u001B[1;32mC:\\python_work\\lib\\site-packages\\pandas\\core\\reshape\\merge.py\u001B[0m in \u001B[0;36m_validate_specification\u001B[1;34m(self)\u001B[0m\n\u001B[0;32m   1347\u001B[0m                 \u001B[0mcommon_cols\u001B[0m \u001B[1;33m=\u001B[0m \u001B[0mleft_cols\u001B[0m\u001B[1;33m.\u001B[0m\u001B[0mintersection\u001B[0m\u001B[1;33m(\u001B[0m\u001B[0mright_cols\u001B[0m\u001B[1;33m)\u001B[0m\u001B[1;33m\u001B[0m\u001B[1;33m\u001B[0m\u001B[0m\n\u001B[0;32m   1348\u001B[0m                 \u001B[1;32mif\u001B[0m \u001B[0mlen\u001B[0m\u001B[1;33m(\u001B[0m\u001B[0mcommon_cols\u001B[0m\u001B[1;33m)\u001B[0m \u001B[1;33m==\u001B[0m \u001B[1;36m0\u001B[0m\u001B[1;33m:\u001B[0m\u001B[1;33m\u001B[0m\u001B[1;33m\u001B[0m\u001B[0m\n\u001B[1;32m-> 1349\u001B[1;33m                     raise MergeError(\n\u001B[0m\u001B[0;32m   1350\u001B[0m                         \u001B[1;34m\"No common columns to perform merge on. \"\u001B[0m\u001B[1;33m\u001B[0m\u001B[1;33m\u001B[0m\u001B[0m\n\u001B[0;32m   1351\u001B[0m                         \u001B[1;34mf\"Merge options: left_on={self.left_on}, \"\u001B[0m\u001B[1;33m\u001B[0m\u001B[1;33m\u001B[0m\u001B[0m\n",
      "\u001B[1;31mMergeError\u001B[0m: No common columns to perform merge on. Merge options: left_on=None, right_on=None, left_index=False, right_index=False"
     ]
    }
   ],
   "source": [
    "res = sign_df.merge(drug_data.tested_df, how=\"left\")"
   ],
   "metadata": {
    "collapsed": false,
    "pycharm": {
     "name": "#%%\n"
    }
   }
  },
  {
   "cell_type": "code",
   "execution_count": null,
   "outputs": [],
   "source": [
    "res"
   ],
   "metadata": {
    "collapsed": false,
    "pycharm": {
     "name": "#%%\n"
    }
   }
  },
  {
   "cell_type": "code",
   "execution_count": 68,
   "outputs": [],
   "source": [
    "res.index = sign_df.index"
   ],
   "metadata": {
    "collapsed": false,
    "pycharm": {
     "name": "#%%\n"
    }
   }
  },
  {
   "cell_type": "code",
   "execution_count": 69,
   "outputs": [
    {
     "data": {
      "text/plain": "                                      rep  viability\nexpression substance  dose timepoint                \nPGRMC1     exemestane 50.0 24           1   1.667504\n                           24           1   1.473469\n                           24           1   1.540031\n                           24           2   0.659405\n                           24           2   0.863507\n...                                   ...        ...\nEVC        tamoxifen  50.0 72           2   0.851412\n                           72           2   0.792679\n                           72           3   0.113925\n                           72           3   0.126281\n                           72           3   0.139220\n\n[270 rows x 2 columns]",
      "text/html": "<div>\n<style scoped>\n    .dataframe tbody tr th:only-of-type {\n        vertical-align: middle;\n    }\n\n    .dataframe tbody tr th {\n        vertical-align: top;\n    }\n\n    .dataframe thead th {\n        text-align: right;\n    }\n</style>\n<table border=\"1\" class=\"dataframe\">\n  <thead>\n    <tr style=\"text-align: right;\">\n      <th></th>\n      <th></th>\n      <th></th>\n      <th></th>\n      <th>rep</th>\n      <th>viability</th>\n    </tr>\n    <tr>\n      <th>expression</th>\n      <th>substance</th>\n      <th>dose</th>\n      <th>timepoint</th>\n      <th></th>\n      <th></th>\n    </tr>\n  </thead>\n  <tbody>\n    <tr>\n      <th rowspan=\"5\" valign=\"top\">PGRMC1</th>\n      <th rowspan=\"5\" valign=\"top\">exemestane</th>\n      <th rowspan=\"5\" valign=\"top\">50.0</th>\n      <th>24</th>\n      <td>1</td>\n      <td>1.667504</td>\n    </tr>\n    <tr>\n      <th>24</th>\n      <td>1</td>\n      <td>1.473469</td>\n    </tr>\n    <tr>\n      <th>24</th>\n      <td>1</td>\n      <td>1.540031</td>\n    </tr>\n    <tr>\n      <th>24</th>\n      <td>2</td>\n      <td>0.659405</td>\n    </tr>\n    <tr>\n      <th>24</th>\n      <td>2</td>\n      <td>0.863507</td>\n    </tr>\n    <tr>\n      <th>...</th>\n      <th>...</th>\n      <th>...</th>\n      <th>...</th>\n      <td>...</td>\n      <td>...</td>\n    </tr>\n    <tr>\n      <th rowspan=\"5\" valign=\"top\">EVC</th>\n      <th rowspan=\"5\" valign=\"top\">tamoxifen</th>\n      <th rowspan=\"5\" valign=\"top\">50.0</th>\n      <th>72</th>\n      <td>2</td>\n      <td>0.851412</td>\n    </tr>\n    <tr>\n      <th>72</th>\n      <td>2</td>\n      <td>0.792679</td>\n    </tr>\n    <tr>\n      <th>72</th>\n      <td>3</td>\n      <td>0.113925</td>\n    </tr>\n    <tr>\n      <th>72</th>\n      <td>3</td>\n      <td>0.126281</td>\n    </tr>\n    <tr>\n      <th>72</th>\n      <td>3</td>\n      <td>0.139220</td>\n    </tr>\n  </tbody>\n</table>\n<p>270 rows × 2 columns</p>\n</div>"
     },
     "execution_count": 69,
     "metadata": {},
     "output_type": "execute_result"
    }
   ],
   "source": [
    "res"
   ],
   "metadata": {
    "collapsed": false,
    "pycharm": {
     "name": "#%%\n"
    }
   }
  },
  {
   "cell_type": "code",
   "execution_count": 4,
   "outputs": [
    {
     "name": "stdout",
     "output_type": "stream",
     "text": [
      "    timepoint   substance   dose expression  rep  viability\n",
      "0          24  exemestane  200.0     PGRMC1    1   0.567975\n",
      "1          24  exemestane  200.0     PGRMC1    1   0.537834\n",
      "2          24  exemestane  200.0     PGRMC1    1   0.500785\n",
      "3          24  exemestane  200.0     PGRMC1    2   0.274050\n",
      "4          24  exemestane  200.0     PGRMC1    2   0.449304\n",
      "5          24  exemestane  200.0     PGRMC1    2   0.384589\n",
      "6          24  exemestane  200.0     PGRMC1    3   0.729043\n",
      "7          24  exemestane  200.0     PGRMC1    3   0.671574\n",
      "8          24  exemestane  200.0     PGRMC1    3   0.630017\n",
      "9          24  exemestane  100.0     PGRMC1    1   0.798430\n",
      "10         24  exemestane  100.0     PGRMC1    1   0.755102\n",
      "11         24  exemestane  100.0     PGRMC1    1   0.744427\n",
      "12         24  exemestane  100.0     PGRMC1    2   0.443433\n",
      "13         24  exemestane  100.0     PGRMC1    2   0.576565\n",
      "14         24  exemestane  100.0     PGRMC1    2   0.579883\n",
      "15         24  exemestane  100.0     PGRMC1    3   0.865828\n",
      "16         24  exemestane  100.0     PGRMC1    3   0.767039\n",
      "17         24  exemestane  100.0     PGRMC1    3   0.724294\n",
      "18         24  exemestane   50.0     PGRMC1    1   1.667504\n",
      "19         24  exemestane   50.0     PGRMC1    1   1.473469\n",
      "20         24  exemestane   50.0     PGRMC1    1   1.540031\n",
      "21         24  exemestane   50.0     PGRMC1    2   0.659405\n",
      "22         24  exemestane   50.0     PGRMC1    2   0.863507\n",
      "23         24  exemestane   50.0     PGRMC1    2   0.778369\n",
      "24         24  exemestane   50.0     PGRMC1    3   0.961767\n",
      "25         24  exemestane   50.0     PGRMC1    3   0.862265\n",
      "26         24  exemestane   50.0     PGRMC1    3   0.816671\n",
      "27         24  exemestane   25.0     PGRMC1    1   1.727786\n",
      "28         24  exemestane   25.0     PGRMC1    1   1.226060\n",
      "29         24  exemestane   25.0     PGRMC1    1   1.080063\n",
      "30         24  exemestane   25.0     PGRMC1    2   0.776709\n",
      "31         24  exemestane   25.0     PGRMC1    2   0.964217\n",
      "32         24  exemestane   25.0     PGRMC1    2   0.932051\n",
      "33         24  exemestane   25.0     PGRMC1    3   0.975303\n",
      "34         24  exemestane   25.0     PGRMC1    3   0.873427\n",
      "35         24  exemestane   25.0     PGRMC1    3   0.896937\n",
      "36         24  exemestane   12.5     PGRMC1    1   0.977708\n",
      "37         24  exemestane   12.5     PGRMC1    1   0.885400\n",
      "38         24  exemestane   12.5     PGRMC1    1   1.136892\n",
      "39         24  exemestane   12.5     PGRMC1    2   0.931924\n",
      "40         24  exemestane   12.5     PGRMC1    2   1.066587\n",
      "41         24  exemestane   12.5     PGRMC1    2   1.001489\n",
      "42         24  exemestane   12.5     PGRMC1    3   1.006887\n",
      "43         24  exemestane   12.5     PGRMC1    3   1.010211\n",
      "44         24  exemestane   12.5     PGRMC1    3   0.982902\n",
      "   viability\n",
      "0   0.567975\n",
      "1   0.537834\n",
      "2   0.500785\n",
      "3   0.274050\n",
      "4   0.449304\n",
      "5   0.384589\n",
      "6   0.729043\n",
      "7   0.671574\n",
      "8   0.630017\n",
      "ShapiroResult(statistic=0.9840888381004333, pvalue=0.9819717407226562)\n",
      "KstestResult(statistic=0.6079769465985814, pvalue=0.0010133052643184334)\n"
     ]
    }
   ],
   "source": [
    "def df_select_col(df, col, criteria):\n",
    "    return df[df[col] == criteria]\n",
    "\n",
    "def df_from_dict(df, dict):\n",
    "    for key, value in dict.items():\n",
    "        df = df_select_col(df, key, value)\n",
    "    return df\n",
    "\n",
    "dict_group = {\"substance\":\"exemestane\", \"timepoint\":24, \"expression\":\"PGRMC1\"}\n",
    "df_exe_PGRMC1_24= df_from_dict(df, dict_group)\n",
    "print(df_exe_PGRMC1_24)\n",
    "df_exe_P100 = df_select_col(df_exe_PGRMC1_24,\"dose\", 200)\n",
    "print(df_exe_P100.drop([\"timepoint\",\"substance\",\"dose\", \"expression\",\"rep\"], axis=1))\n",
    "\n",
    "#--> Test auf Normalverteilung\n",
    "x = df_exe_P100[\"viability\"].to_numpy()\n",
    "shapiro_test = stats.shapiro(x)\n",
    "print(shapiro_test)\n",
    "ks_test = kstest(x, 'norm')\n",
    "print(ks_test)\n",
    "#df_exe = df_select_col(df,\"substance\", \"exemestane\")\n",
    "#df_exe_24 = df_select_col(df_exe,\"timepoint\", 24)\n",
    "#print(df_exe_24[\"viability\"].where(df_exe_24[\"viability\"] >0.5, np.nan))"
   ],
   "metadata": {
    "collapsed": false,
    "pycharm": {
     "name": "#%%\n"
    }
   }
  }
 ],
 "metadata": {
  "kernelspec": {
   "display_name": "Python 3",
   "language": "python",
   "name": "python3"
  },
  "language_info": {
   "codemirror_mode": {
    "name": "ipython",
    "version": 2
   },
   "file_extension": ".py",
   "mimetype": "text/x-python",
   "name": "python",
   "nbconvert_exporter": "python",
   "pygments_lexer": "ipython2",
   "version": "2.7.6"
  }
 },
 "nbformat": 4,
 "nbformat_minor": 0
}