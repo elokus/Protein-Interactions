{
 "cells": [
  {
   "cell_type": "markdown",
   "source": [
    "# Evaluating PGRMC1 ssGSEA differential Expression"
   ],
   "metadata": {
    "collapsed": false,
    "pycharm": {
     "name": "#%% md\n"
    }
   }
  },
  {
   "cell_type": "markdown",
   "source": [
    "Data: TCGA Breast Cancer 83 Samples\n",
    "Proteomics Expression, Phosphorylation TRAQi\n",
    "\n",
    "## Gene cluster for single sample GSEA analysis\n",
    "#### Method: Differantial Expression Correlation\n",
    "Cluster PGRMC1 correlations based on Pearson and BH adjusted p-values > 0.05\n",
    "\n",
    "1. PGRMC1 - Proteomics\n",
    "2. PGRMC1 - Phosphorylation data averaged per Gene\n",
    "\n",
    "Cluster correlated on PGRMC1 Phosphorylation Sites S181s, S57t\n",
    "\n",
    "3. PGRMC1 S181s - Phosphorylation data averaged per Gene (compare results: Corr per Phosphorylation Sites per Gene)\n",
    "4. PGRMC1 S57t - Phosphorylation data averaged per Gene (compare results: Corr per Phosphorylation Sites per Gene)"
   ],
   "metadata": {
    "collapsed": false,
    "pycharm": {
     "name": "#%% md\n"
    }
   }
  },
  {
   "cell_type": "code",
   "execution_count": 2,
   "metadata": {
    "collapsed": true,
    "pycharm": {
     "name": "#%%\n"
    }
   },
   "outputs": [],
   "source": [
    "import pandas as pd\n",
    "import numpy as np\n",
    "import helper_functions as helper"
   ]
  },
  {
   "cell_type": "code",
   "execution_count": 22,
   "outputs": [],
   "source": [
    "# PGRMC1 - Protein Genes\n",
    "cor_prot_genes = pd.read_csv(\"output/PGRMC1_Protein_correlating_Genes.csv\")\n",
    "# PGRMC1 - Phosphorylation data averaged per Gene\n",
    "cor_agg_phos_genes = pd.read_csv(\"output/Pearson_above_0_8_agg_Phosphor.csv\")\n",
    "# PGRMC1_Psides - All Psides\n",
    "cor_p_sides = pd.read_csv(\"output/PGRMC1_Phosphosite_correlating_Genes.csv\")"
   ],
   "metadata": {
    "collapsed": false,
    "pycharm": {
     "name": "#%%\n"
    }
   }
  },
  {
   "cell_type": "code",
   "execution_count": 28,
   "outputs": [],
   "source": [
    "def filter_correlating_genes(df: pd.DataFrame, columns: dict, pearson: float=0.8, p_value:float=0.05):\n",
    "    target_col = columns[\"target\"]\n",
    "    pears_col = columns[\"pearson\"]\n",
    "    pval_col = columns[\"pval\"]\n",
    "    out = []\n",
    "    for index, row in df.iterrows():\n",
    "        if abs(row[pears_col]) >= pearson and row[pval_col] <= p_value:\n",
    "            out.append(row[target_col])\n",
    "    return np.unique(out)\n",
    "\n"
   ],
   "metadata": {
    "collapsed": false,
    "pycharm": {
     "name": "#%%\n"
    }
   }
  },
  {
   "cell_type": "code",
   "execution_count": 32,
   "outputs": [
    {
     "name": "stdout",
     "output_type": "stream",
     "text": [
      "251 343 305 226\n"
     ]
    }
   ],
   "source": [
    "prot_genes = filter_correlating_genes(cor_prot_genes, {\"target\":\"geneName\", \"pearson\":\"Pears_PGRMC1\", \"pval\":\"pValue\"}, pearson=0.5)\n",
    "phos_genes = filter_correlating_genes(cor_agg_phos_genes, {\"target\":\"geneName\", \"pearson\":\"Pearson\", \"pval\":\"Pval\"}, pearson=0.8)\n",
    "S181_genes = filter_correlating_genes(cor_p_sides, {\"target\":\"geneName\", \"pearson\":\"Pears_PGRMC1_S181\", \"pval\":\"pValue_PGRMC1_S181\"}, pearson=0.8)\n",
    "S57_genes = filter_correlating_genes(cor_p_sides, {\"target\":\"geneName\", \"pearson\":\"Pears_PGRMC1_S57\", \"pval\":\"pValue_PGRMC1_S57\"}, pearson=0.72)\n",
    "\n",
    "print(len(prot_genes), len(phos_genes), len(S181_genes), len(S57_genes))\n",
    "\n",
    "gene_cluster = {\"prot\":prot_genes,\n",
    "                \"phos\":phos_genes,\n",
    "                \"S181\":S181_genes,\n",
    "                \"S57\":S57_genes}\n",
    "\n",
    "\n"
   ],
   "metadata": {
    "collapsed": false,
    "pycharm": {
     "name": "#%%\n"
    }
   }
  },
  {
   "cell_type": "code",
   "execution_count": 36,
   "outputs": [
    {
     "name": "stdout",
     "output_type": "stream",
     "text": [
      "Intersections Prot-Phos ['ATL3' 'EIF3A' 'MTDH' 'PAK4' 'RAB12' 'SETX' 'SMARCA4' 'SMG1' 'STIM1'\n",
      " 'TCOF1' 'TOP2B' 'UBR4']\n",
      "Intersections Phos-S181 224\n",
      "Intersections Phos-S57 132\n",
      "Intersections S57-S181 122\n",
      "Intersections Prot-S181 ['ATL3' 'HUWE1' 'MTDH' 'RAB12' 'SETX' 'SF3B1' 'SMARCA4' 'SMG1' 'TOP2B'\n",
      " 'UBR4']\n",
      "Intersections Prot-S57 ['BAT2L2' 'HUWE1' 'MTDH' 'RAB12' 'SF3B1']\n"
     ]
    }
   ],
   "source": [
    "# find intersections\n",
    "inter_phos_prot = np.intersect1d(gene_cluster[\"phos\"], gene_cluster[\"prot\"], assume_unique=True)\n",
    "print(\"Intersections Prot-Phos\", inter_phos_prot)\n",
    "\n",
    "inter_phos_prot = np.intersect1d(gene_cluster[\"phos\"], gene_cluster[\"S181\"], assume_unique=True)\n",
    "print(\"Intersections Phos-S181\", len(inter_phos_prot))\n",
    "\n",
    "inter_phos_prot = np.intersect1d(gene_cluster[\"phos\"], gene_cluster[\"S57\"], assume_unique=True)\n",
    "print(\"Intersections Phos-S57\", len(inter_phos_prot))\n",
    "\n",
    "inter_phos_prot = np.intersect1d(gene_cluster[\"S181\"], gene_cluster[\"S57\"], assume_unique=True)\n",
    "print(\"Intersections S57-S181\", len(inter_phos_prot))\n",
    "\n",
    "inter_phos_prot = np.intersect1d(gene_cluster[\"prot\"], gene_cluster[\"S181\"], assume_unique=True)\n",
    "print(\"Intersections Prot-S181\", inter_phos_prot)\n",
    "\n",
    "inter_phos_prot = np.intersect1d(gene_cluster[\"prot\"], gene_cluster[\"S57\"], assume_unique=True)\n",
    "print(\"Intersections Prot-S57\", inter_phos_prot)\n"
   ],
   "metadata": {
    "collapsed": false,
    "pycharm": {
     "name": "#%%\n"
    }
   }
  },
  {
   "cell_type": "code",
   "execution_count": null,
   "outputs": [],
   "source": [],
   "metadata": {
    "collapsed": false,
    "pycharm": {
     "name": "#%%\n"
    }
   }
  }
 ],
 "metadata": {
  "kernelspec": {
   "display_name": "Python 3",
   "language": "python",
   "name": "python3"
  },
  "language_info": {
   "codemirror_mode": {
    "name": "ipython",
    "version": 2
   },
   "file_extension": ".py",
   "mimetype": "text/x-python",
   "name": "python",
   "nbconvert_exporter": "python",
   "pygments_lexer": "ipython2",
   "version": "2.7.6"
  }
 },
 "nbformat": 4,
 "nbformat_minor": 0
}